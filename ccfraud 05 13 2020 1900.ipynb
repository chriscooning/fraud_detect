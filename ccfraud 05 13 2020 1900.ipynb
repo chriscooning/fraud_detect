{
 "cells": [
  {
   "cell_type": "code",
   "execution_count": 1,
   "metadata": {},
   "outputs": [
    {
     "name": "stderr",
     "output_type": "stream",
     "text": [
      "/Users/jessicapmouras/opt/anaconda3/lib/python3.7/site-packages/sklearn/ensemble/weight_boosting.py:29: DeprecationWarning: numpy.core.umath_tests is an internal NumPy module and should not be imported. It will be removed in a future NumPy release.\n",
      "  from numpy.core.umath_tests import inner1d\n"
     ]
    }
   ],
   "source": [
    "import pandas as pd\n",
    "import numpy as np\n",
    "import seaborn as sns\n",
    "import scipy as stats\n",
    "from scipy.stats import norm\n",
    "import matplotlib.pyplot as plt\n",
    "\n",
    "#scaling and train-test split\n",
    "from sklearn.preprocessing import StandardScaler, RobustScaler\n",
    "from sklearn.model_selection import train_test_split, StratifiedShuffleSplit, cross_val_score, cross_val_predict, learning_curve\n",
    "\n",
    "#models to review\n",
    "from sklearn.neighbors import KNeighborsClassifier\n",
    "from sklearn.linear_model import LogisticRegression\n",
    "from sklearn.tree import DecisionTreeClassifier\n",
    "from sklearn.ensemble import RandomForestClassifier\n",
    "from sklearn.ensemble import GradientBoostingClassifier\n",
    "from sklearn.ensemble import IsolationForest\n",
    "\n",
    "#crossvalidation methods\n",
    "\n",
    "from sklearn.model_selection import KFold, StratifiedKFold, GridSearchCV\n",
    "\n",
    "#metrics to review\n",
    "from sklearn.metrics import (make_scorer, recall_score, precision_score,\n",
    "f1_score, roc_auc_score, accuracy_score, precision_recall_curve, average_precision_score,\n",
    "                             auc, roc_curve, classification_report, confusion_matrix)\n",
    "\n",
    "#dealing with SMOTE techniques\n",
    "import imblearn\n",
    "from imblearn.pipeline import make_pipeline\n",
    "from imblearn.over_sampling import SMOTE\n",
    "from imblearn.combine import SMOTEENN\n",
    "from imblearn.under_sampling import NearMiss\n",
    "from imblearn.metrics import classification_report_imbalanced\n",
    "\n",
    "from sklearn.model_selection import train_test_split, RandomizedSearchCV\n",
    "\n",
    "#import helper file py\n",
    "import nbimporter\n",
    "from dataclean import *\n",
    "\n",
    "#autoreload python file\n",
    "%load_ext autoreload\n",
    "%autoreload 2\n",
    "%reload_ext autoreload\n",
    "#neatness\n",
    "%matplotlib inline\n",
    "\n",
    "import datetime\n",
    "import itertools"
   ]
  },
  {
   "cell_type": "code",
   "execution_count": 2,
   "metadata": {
    "scrolled": true
   },
   "outputs": [
    {
     "data": {
      "text/html": [
       "<div>\n",
       "<style scoped>\n",
       "    .dataframe tbody tr th:only-of-type {\n",
       "        vertical-align: middle;\n",
       "    }\n",
       "\n",
       "    .dataframe tbody tr th {\n",
       "        vertical-align: top;\n",
       "    }\n",
       "\n",
       "    .dataframe thead th {\n",
       "        text-align: right;\n",
       "    }\n",
       "</style>\n",
       "<table border=\"1\" class=\"dataframe\">\n",
       "  <thead>\n",
       "    <tr style=\"text-align: right;\">\n",
       "      <th></th>\n",
       "      <th>Time</th>\n",
       "      <th>V1</th>\n",
       "      <th>V2</th>\n",
       "      <th>V3</th>\n",
       "      <th>V4</th>\n",
       "      <th>V5</th>\n",
       "      <th>V6</th>\n",
       "      <th>V7</th>\n",
       "      <th>V8</th>\n",
       "      <th>V9</th>\n",
       "      <th>...</th>\n",
       "      <th>V21</th>\n",
       "      <th>V22</th>\n",
       "      <th>V23</th>\n",
       "      <th>V24</th>\n",
       "      <th>V25</th>\n",
       "      <th>V26</th>\n",
       "      <th>V27</th>\n",
       "      <th>V28</th>\n",
       "      <th>Amount</th>\n",
       "      <th>Class</th>\n",
       "    </tr>\n",
       "  </thead>\n",
       "  <tbody>\n",
       "    <tr>\n",
       "      <th>0</th>\n",
       "      <td>0.0</td>\n",
       "      <td>-1.359807</td>\n",
       "      <td>-0.072781</td>\n",
       "      <td>2.536347</td>\n",
       "      <td>1.378155</td>\n",
       "      <td>-0.338321</td>\n",
       "      <td>0.462388</td>\n",
       "      <td>0.239599</td>\n",
       "      <td>0.098698</td>\n",
       "      <td>0.363787</td>\n",
       "      <td>...</td>\n",
       "      <td>-0.018307</td>\n",
       "      <td>0.277838</td>\n",
       "      <td>-0.110474</td>\n",
       "      <td>0.066928</td>\n",
       "      <td>0.128539</td>\n",
       "      <td>-0.189115</td>\n",
       "      <td>0.133558</td>\n",
       "      <td>-0.021053</td>\n",
       "      <td>149.62</td>\n",
       "      <td>0</td>\n",
       "    </tr>\n",
       "    <tr>\n",
       "      <th>1</th>\n",
       "      <td>0.0</td>\n",
       "      <td>1.191857</td>\n",
       "      <td>0.266151</td>\n",
       "      <td>0.166480</td>\n",
       "      <td>0.448154</td>\n",
       "      <td>0.060018</td>\n",
       "      <td>-0.082361</td>\n",
       "      <td>-0.078803</td>\n",
       "      <td>0.085102</td>\n",
       "      <td>-0.255425</td>\n",
       "      <td>...</td>\n",
       "      <td>-0.225775</td>\n",
       "      <td>-0.638672</td>\n",
       "      <td>0.101288</td>\n",
       "      <td>-0.339846</td>\n",
       "      <td>0.167170</td>\n",
       "      <td>0.125895</td>\n",
       "      <td>-0.008983</td>\n",
       "      <td>0.014724</td>\n",
       "      <td>2.69</td>\n",
       "      <td>0</td>\n",
       "    </tr>\n",
       "    <tr>\n",
       "      <th>2</th>\n",
       "      <td>1.0</td>\n",
       "      <td>-1.358354</td>\n",
       "      <td>-1.340163</td>\n",
       "      <td>1.773209</td>\n",
       "      <td>0.379780</td>\n",
       "      <td>-0.503198</td>\n",
       "      <td>1.800499</td>\n",
       "      <td>0.791461</td>\n",
       "      <td>0.247676</td>\n",
       "      <td>-1.514654</td>\n",
       "      <td>...</td>\n",
       "      <td>0.247998</td>\n",
       "      <td>0.771679</td>\n",
       "      <td>0.909412</td>\n",
       "      <td>-0.689281</td>\n",
       "      <td>-0.327642</td>\n",
       "      <td>-0.139097</td>\n",
       "      <td>-0.055353</td>\n",
       "      <td>-0.059752</td>\n",
       "      <td>378.66</td>\n",
       "      <td>0</td>\n",
       "    </tr>\n",
       "    <tr>\n",
       "      <th>3</th>\n",
       "      <td>1.0</td>\n",
       "      <td>-0.966272</td>\n",
       "      <td>-0.185226</td>\n",
       "      <td>1.792993</td>\n",
       "      <td>-0.863291</td>\n",
       "      <td>-0.010309</td>\n",
       "      <td>1.247203</td>\n",
       "      <td>0.237609</td>\n",
       "      <td>0.377436</td>\n",
       "      <td>-1.387024</td>\n",
       "      <td>...</td>\n",
       "      <td>-0.108300</td>\n",
       "      <td>0.005274</td>\n",
       "      <td>-0.190321</td>\n",
       "      <td>-1.175575</td>\n",
       "      <td>0.647376</td>\n",
       "      <td>-0.221929</td>\n",
       "      <td>0.062723</td>\n",
       "      <td>0.061458</td>\n",
       "      <td>123.50</td>\n",
       "      <td>0</td>\n",
       "    </tr>\n",
       "    <tr>\n",
       "      <th>4</th>\n",
       "      <td>2.0</td>\n",
       "      <td>-1.158233</td>\n",
       "      <td>0.877737</td>\n",
       "      <td>1.548718</td>\n",
       "      <td>0.403034</td>\n",
       "      <td>-0.407193</td>\n",
       "      <td>0.095921</td>\n",
       "      <td>0.592941</td>\n",
       "      <td>-0.270533</td>\n",
       "      <td>0.817739</td>\n",
       "      <td>...</td>\n",
       "      <td>-0.009431</td>\n",
       "      <td>0.798278</td>\n",
       "      <td>-0.137458</td>\n",
       "      <td>0.141267</td>\n",
       "      <td>-0.206010</td>\n",
       "      <td>0.502292</td>\n",
       "      <td>0.219422</td>\n",
       "      <td>0.215153</td>\n",
       "      <td>69.99</td>\n",
       "      <td>0</td>\n",
       "    </tr>\n",
       "  </tbody>\n",
       "</table>\n",
       "<p>5 rows × 31 columns</p>\n",
       "</div>"
      ],
      "text/plain": [
       "   Time        V1        V2        V3        V4        V5        V6        V7  \\\n",
       "0   0.0 -1.359807 -0.072781  2.536347  1.378155 -0.338321  0.462388  0.239599   \n",
       "1   0.0  1.191857  0.266151  0.166480  0.448154  0.060018 -0.082361 -0.078803   \n",
       "2   1.0 -1.358354 -1.340163  1.773209  0.379780 -0.503198  1.800499  0.791461   \n",
       "3   1.0 -0.966272 -0.185226  1.792993 -0.863291 -0.010309  1.247203  0.237609   \n",
       "4   2.0 -1.158233  0.877737  1.548718  0.403034 -0.407193  0.095921  0.592941   \n",
       "\n",
       "         V8        V9  ...       V21       V22       V23       V24       V25  \\\n",
       "0  0.098698  0.363787  ... -0.018307  0.277838 -0.110474  0.066928  0.128539   \n",
       "1  0.085102 -0.255425  ... -0.225775 -0.638672  0.101288 -0.339846  0.167170   \n",
       "2  0.247676 -1.514654  ...  0.247998  0.771679  0.909412 -0.689281 -0.327642   \n",
       "3  0.377436 -1.387024  ... -0.108300  0.005274 -0.190321 -1.175575  0.647376   \n",
       "4 -0.270533  0.817739  ... -0.009431  0.798278 -0.137458  0.141267 -0.206010   \n",
       "\n",
       "        V26       V27       V28  Amount  Class  \n",
       "0 -0.189115  0.133558 -0.021053  149.62      0  \n",
       "1  0.125895 -0.008983  0.014724    2.69      0  \n",
       "2 -0.139097 -0.055353 -0.059752  378.66      0  \n",
       "3 -0.221929  0.062723  0.061458  123.50      0  \n",
       "4  0.502292  0.219422  0.215153   69.99      0  \n",
       "\n",
       "[5 rows x 31 columns]"
      ]
     },
     "execution_count": 2,
     "metadata": {},
     "output_type": "execute_result"
    }
   ],
   "source": [
    "#import csv data \n",
    "df = pd.read_csv('creditcard.csv')\n",
    "df.head()"
   ]
  },
  {
   "cell_type": "markdown",
   "metadata": {},
   "source": [
    "## Data cleaning and inital EDA"
   ]
  },
  {
   "cell_type": "code",
   "execution_count": 4,
   "metadata": {},
   "outputs": [
    {
     "data": {
      "text/html": [
       "<div>\n",
       "<style scoped>\n",
       "    .dataframe tbody tr th:only-of-type {\n",
       "        vertical-align: middle;\n",
       "    }\n",
       "\n",
       "    .dataframe tbody tr th {\n",
       "        vertical-align: top;\n",
       "    }\n",
       "\n",
       "    .dataframe thead th {\n",
       "        text-align: right;\n",
       "    }\n",
       "</style>\n",
       "<table border=\"1\" class=\"dataframe\">\n",
       "  <thead>\n",
       "    <tr style=\"text-align: right;\">\n",
       "      <th></th>\n",
       "      <th>Time</th>\n",
       "      <th>V1</th>\n",
       "      <th>V2</th>\n",
       "      <th>V3</th>\n",
       "      <th>V4</th>\n",
       "      <th>V5</th>\n",
       "      <th>V6</th>\n",
       "      <th>V7</th>\n",
       "      <th>V8</th>\n",
       "      <th>V9</th>\n",
       "      <th>...</th>\n",
       "      <th>V21</th>\n",
       "      <th>V22</th>\n",
       "      <th>V23</th>\n",
       "      <th>V24</th>\n",
       "      <th>V25</th>\n",
       "      <th>V26</th>\n",
       "      <th>V27</th>\n",
       "      <th>V28</th>\n",
       "      <th>Amount</th>\n",
       "      <th>Class</th>\n",
       "    </tr>\n",
       "  </thead>\n",
       "  <tbody>\n",
       "    <tr>\n",
       "      <th>count</th>\n",
       "      <td>284807.000000</td>\n",
       "      <td>2.848070e+05</td>\n",
       "      <td>2.848070e+05</td>\n",
       "      <td>2.848070e+05</td>\n",
       "      <td>2.848070e+05</td>\n",
       "      <td>2.848070e+05</td>\n",
       "      <td>2.848070e+05</td>\n",
       "      <td>2.848070e+05</td>\n",
       "      <td>2.848070e+05</td>\n",
       "      <td>2.848070e+05</td>\n",
       "      <td>...</td>\n",
       "      <td>2.848070e+05</td>\n",
       "      <td>2.848070e+05</td>\n",
       "      <td>2.848070e+05</td>\n",
       "      <td>2.848070e+05</td>\n",
       "      <td>2.848070e+05</td>\n",
       "      <td>2.848070e+05</td>\n",
       "      <td>2.848070e+05</td>\n",
       "      <td>2.848070e+05</td>\n",
       "      <td>284807.000000</td>\n",
       "      <td>284807.000000</td>\n",
       "    </tr>\n",
       "    <tr>\n",
       "      <th>mean</th>\n",
       "      <td>94813.859575</td>\n",
       "      <td>3.919560e-15</td>\n",
       "      <td>5.688174e-16</td>\n",
       "      <td>-8.769071e-15</td>\n",
       "      <td>2.782312e-15</td>\n",
       "      <td>-1.552563e-15</td>\n",
       "      <td>2.010663e-15</td>\n",
       "      <td>-1.694249e-15</td>\n",
       "      <td>-1.927028e-16</td>\n",
       "      <td>-3.137024e-15</td>\n",
       "      <td>...</td>\n",
       "      <td>1.537294e-16</td>\n",
       "      <td>7.959909e-16</td>\n",
       "      <td>5.367590e-16</td>\n",
       "      <td>4.458112e-15</td>\n",
       "      <td>1.453003e-15</td>\n",
       "      <td>1.699104e-15</td>\n",
       "      <td>-3.660161e-16</td>\n",
       "      <td>-1.206049e-16</td>\n",
       "      <td>88.349619</td>\n",
       "      <td>0.001727</td>\n",
       "    </tr>\n",
       "    <tr>\n",
       "      <th>std</th>\n",
       "      <td>47488.145955</td>\n",
       "      <td>1.958696e+00</td>\n",
       "      <td>1.651309e+00</td>\n",
       "      <td>1.516255e+00</td>\n",
       "      <td>1.415869e+00</td>\n",
       "      <td>1.380247e+00</td>\n",
       "      <td>1.332271e+00</td>\n",
       "      <td>1.237094e+00</td>\n",
       "      <td>1.194353e+00</td>\n",
       "      <td>1.098632e+00</td>\n",
       "      <td>...</td>\n",
       "      <td>7.345240e-01</td>\n",
       "      <td>7.257016e-01</td>\n",
       "      <td>6.244603e-01</td>\n",
       "      <td>6.056471e-01</td>\n",
       "      <td>5.212781e-01</td>\n",
       "      <td>4.822270e-01</td>\n",
       "      <td>4.036325e-01</td>\n",
       "      <td>3.300833e-01</td>\n",
       "      <td>250.120109</td>\n",
       "      <td>0.041527</td>\n",
       "    </tr>\n",
       "    <tr>\n",
       "      <th>min</th>\n",
       "      <td>0.000000</td>\n",
       "      <td>-5.640751e+01</td>\n",
       "      <td>-7.271573e+01</td>\n",
       "      <td>-4.832559e+01</td>\n",
       "      <td>-5.683171e+00</td>\n",
       "      <td>-1.137433e+02</td>\n",
       "      <td>-2.616051e+01</td>\n",
       "      <td>-4.355724e+01</td>\n",
       "      <td>-7.321672e+01</td>\n",
       "      <td>-1.343407e+01</td>\n",
       "      <td>...</td>\n",
       "      <td>-3.483038e+01</td>\n",
       "      <td>-1.093314e+01</td>\n",
       "      <td>-4.480774e+01</td>\n",
       "      <td>-2.836627e+00</td>\n",
       "      <td>-1.029540e+01</td>\n",
       "      <td>-2.604551e+00</td>\n",
       "      <td>-2.256568e+01</td>\n",
       "      <td>-1.543008e+01</td>\n",
       "      <td>0.000000</td>\n",
       "      <td>0.000000</td>\n",
       "    </tr>\n",
       "    <tr>\n",
       "      <th>25%</th>\n",
       "      <td>54201.500000</td>\n",
       "      <td>-9.203734e-01</td>\n",
       "      <td>-5.985499e-01</td>\n",
       "      <td>-8.903648e-01</td>\n",
       "      <td>-8.486401e-01</td>\n",
       "      <td>-6.915971e-01</td>\n",
       "      <td>-7.682956e-01</td>\n",
       "      <td>-5.540759e-01</td>\n",
       "      <td>-2.086297e-01</td>\n",
       "      <td>-6.430976e-01</td>\n",
       "      <td>...</td>\n",
       "      <td>-2.283949e-01</td>\n",
       "      <td>-5.423504e-01</td>\n",
       "      <td>-1.618463e-01</td>\n",
       "      <td>-3.545861e-01</td>\n",
       "      <td>-3.171451e-01</td>\n",
       "      <td>-3.269839e-01</td>\n",
       "      <td>-7.083953e-02</td>\n",
       "      <td>-5.295979e-02</td>\n",
       "      <td>5.600000</td>\n",
       "      <td>0.000000</td>\n",
       "    </tr>\n",
       "    <tr>\n",
       "      <th>50%</th>\n",
       "      <td>84692.000000</td>\n",
       "      <td>1.810880e-02</td>\n",
       "      <td>6.548556e-02</td>\n",
       "      <td>1.798463e-01</td>\n",
       "      <td>-1.984653e-02</td>\n",
       "      <td>-5.433583e-02</td>\n",
       "      <td>-2.741871e-01</td>\n",
       "      <td>4.010308e-02</td>\n",
       "      <td>2.235804e-02</td>\n",
       "      <td>-5.142873e-02</td>\n",
       "      <td>...</td>\n",
       "      <td>-2.945017e-02</td>\n",
       "      <td>6.781943e-03</td>\n",
       "      <td>-1.119293e-02</td>\n",
       "      <td>4.097606e-02</td>\n",
       "      <td>1.659350e-02</td>\n",
       "      <td>-5.213911e-02</td>\n",
       "      <td>1.342146e-03</td>\n",
       "      <td>1.124383e-02</td>\n",
       "      <td>22.000000</td>\n",
       "      <td>0.000000</td>\n",
       "    </tr>\n",
       "    <tr>\n",
       "      <th>75%</th>\n",
       "      <td>139320.500000</td>\n",
       "      <td>1.315642e+00</td>\n",
       "      <td>8.037239e-01</td>\n",
       "      <td>1.027196e+00</td>\n",
       "      <td>7.433413e-01</td>\n",
       "      <td>6.119264e-01</td>\n",
       "      <td>3.985649e-01</td>\n",
       "      <td>5.704361e-01</td>\n",
       "      <td>3.273459e-01</td>\n",
       "      <td>5.971390e-01</td>\n",
       "      <td>...</td>\n",
       "      <td>1.863772e-01</td>\n",
       "      <td>5.285536e-01</td>\n",
       "      <td>1.476421e-01</td>\n",
       "      <td>4.395266e-01</td>\n",
       "      <td>3.507156e-01</td>\n",
       "      <td>2.409522e-01</td>\n",
       "      <td>9.104512e-02</td>\n",
       "      <td>7.827995e-02</td>\n",
       "      <td>77.165000</td>\n",
       "      <td>0.000000</td>\n",
       "    </tr>\n",
       "    <tr>\n",
       "      <th>max</th>\n",
       "      <td>172792.000000</td>\n",
       "      <td>2.454930e+00</td>\n",
       "      <td>2.205773e+01</td>\n",
       "      <td>9.382558e+00</td>\n",
       "      <td>1.687534e+01</td>\n",
       "      <td>3.480167e+01</td>\n",
       "      <td>7.330163e+01</td>\n",
       "      <td>1.205895e+02</td>\n",
       "      <td>2.000721e+01</td>\n",
       "      <td>1.559499e+01</td>\n",
       "      <td>...</td>\n",
       "      <td>2.720284e+01</td>\n",
       "      <td>1.050309e+01</td>\n",
       "      <td>2.252841e+01</td>\n",
       "      <td>4.584549e+00</td>\n",
       "      <td>7.519589e+00</td>\n",
       "      <td>3.517346e+00</td>\n",
       "      <td>3.161220e+01</td>\n",
       "      <td>3.384781e+01</td>\n",
       "      <td>25691.160000</td>\n",
       "      <td>1.000000</td>\n",
       "    </tr>\n",
       "  </tbody>\n",
       "</table>\n",
       "<p>8 rows × 31 columns</p>\n",
       "</div>"
      ],
      "text/plain": [
       "                Time            V1            V2            V3            V4  \\\n",
       "count  284807.000000  2.848070e+05  2.848070e+05  2.848070e+05  2.848070e+05   \n",
       "mean    94813.859575  3.919560e-15  5.688174e-16 -8.769071e-15  2.782312e-15   \n",
       "std     47488.145955  1.958696e+00  1.651309e+00  1.516255e+00  1.415869e+00   \n",
       "min         0.000000 -5.640751e+01 -7.271573e+01 -4.832559e+01 -5.683171e+00   \n",
       "25%     54201.500000 -9.203734e-01 -5.985499e-01 -8.903648e-01 -8.486401e-01   \n",
       "50%     84692.000000  1.810880e-02  6.548556e-02  1.798463e-01 -1.984653e-02   \n",
       "75%    139320.500000  1.315642e+00  8.037239e-01  1.027196e+00  7.433413e-01   \n",
       "max    172792.000000  2.454930e+00  2.205773e+01  9.382558e+00  1.687534e+01   \n",
       "\n",
       "                 V5            V6            V7            V8            V9  \\\n",
       "count  2.848070e+05  2.848070e+05  2.848070e+05  2.848070e+05  2.848070e+05   \n",
       "mean  -1.552563e-15  2.010663e-15 -1.694249e-15 -1.927028e-16 -3.137024e-15   \n",
       "std    1.380247e+00  1.332271e+00  1.237094e+00  1.194353e+00  1.098632e+00   \n",
       "min   -1.137433e+02 -2.616051e+01 -4.355724e+01 -7.321672e+01 -1.343407e+01   \n",
       "25%   -6.915971e-01 -7.682956e-01 -5.540759e-01 -2.086297e-01 -6.430976e-01   \n",
       "50%   -5.433583e-02 -2.741871e-01  4.010308e-02  2.235804e-02 -5.142873e-02   \n",
       "75%    6.119264e-01  3.985649e-01  5.704361e-01  3.273459e-01  5.971390e-01   \n",
       "max    3.480167e+01  7.330163e+01  1.205895e+02  2.000721e+01  1.559499e+01   \n",
       "\n",
       "       ...           V21           V22           V23           V24  \\\n",
       "count  ...  2.848070e+05  2.848070e+05  2.848070e+05  2.848070e+05   \n",
       "mean   ...  1.537294e-16  7.959909e-16  5.367590e-16  4.458112e-15   \n",
       "std    ...  7.345240e-01  7.257016e-01  6.244603e-01  6.056471e-01   \n",
       "min    ... -3.483038e+01 -1.093314e+01 -4.480774e+01 -2.836627e+00   \n",
       "25%    ... -2.283949e-01 -5.423504e-01 -1.618463e-01 -3.545861e-01   \n",
       "50%    ... -2.945017e-02  6.781943e-03 -1.119293e-02  4.097606e-02   \n",
       "75%    ...  1.863772e-01  5.285536e-01  1.476421e-01  4.395266e-01   \n",
       "max    ...  2.720284e+01  1.050309e+01  2.252841e+01  4.584549e+00   \n",
       "\n",
       "                V25           V26           V27           V28         Amount  \\\n",
       "count  2.848070e+05  2.848070e+05  2.848070e+05  2.848070e+05  284807.000000   \n",
       "mean   1.453003e-15  1.699104e-15 -3.660161e-16 -1.206049e-16      88.349619   \n",
       "std    5.212781e-01  4.822270e-01  4.036325e-01  3.300833e-01     250.120109   \n",
       "min   -1.029540e+01 -2.604551e+00 -2.256568e+01 -1.543008e+01       0.000000   \n",
       "25%   -3.171451e-01 -3.269839e-01 -7.083953e-02 -5.295979e-02       5.600000   \n",
       "50%    1.659350e-02 -5.213911e-02  1.342146e-03  1.124383e-02      22.000000   \n",
       "75%    3.507156e-01  2.409522e-01  9.104512e-02  7.827995e-02      77.165000   \n",
       "max    7.519589e+00  3.517346e+00  3.161220e+01  3.384781e+01   25691.160000   \n",
       "\n",
       "               Class  \n",
       "count  284807.000000  \n",
       "mean        0.001727  \n",
       "std         0.041527  \n",
       "min         0.000000  \n",
       "25%         0.000000  \n",
       "50%         0.000000  \n",
       "75%         0.000000  \n",
       "max         1.000000  \n",
       "\n",
       "[8 rows x 31 columns]"
      ]
     },
     "execution_count": 4,
     "metadata": {},
     "output_type": "execute_result"
    }
   ],
   "source": [
    "df.describe()"
   ]
  },
  {
   "cell_type": "code",
   "execution_count": 5,
   "metadata": {},
   "outputs": [],
   "source": [
    "#df.info()"
   ]
  },
  {
   "cell_type": "code",
   "execution_count": 6,
   "metadata": {},
   "outputs": [
    {
     "data": {
      "text/plain": [
       "Index(['Class', 'Amount', 'Time', 'V1', 'V2', 'V3', 'V4', 'V5', 'V6', 'V7',\n",
       "       'V8', 'V9', 'V10', 'V11', 'V12', 'V13', 'V14', 'V15', 'V16', 'V17',\n",
       "       'V18', 'V19', 'V20', 'V21', 'V22', 'V23', 'V24', 'V25', 'V26', 'V27',\n",
       "       'V28'],\n",
       "      dtype='object')"
      ]
     },
     "execution_count": 6,
     "metadata": {},
     "output_type": "execute_result"
    }
   ],
   "source": [
    "#reorder columns\n",
    "column_names = ['Class', 'Amount','Time', 'V1', 'V2', 'V3', 'V4', 'V5', 'V6', 'V7', 'V8', 'V9', 'V10',\n",
    "       'V11', 'V12', 'V13', 'V14', 'V15', 'V16', 'V17', 'V18', 'V19', 'V20',\n",
    "       'V21', 'V22', 'V23', 'V24', 'V25', 'V26', 'V27', 'V28']\n",
    "\n",
    "df = df.reindex(columns=column_names)\n",
    "df.columns"
   ]
  },
  {
   "cell_type": "code",
   "execution_count": 7,
   "metadata": {},
   "outputs": [
    {
     "data": {
      "text/plain": [
       "0    284315\n",
       "1       492\n",
       "Name: Class, dtype: int64"
      ]
     },
     "execution_count": 7,
     "metadata": {},
     "output_type": "execute_result"
    }
   ],
   "source": [
    "# number of fraud cases to equalize subsample proportions\n",
    "df[\"Class\"].value_counts()"
   ]
  },
  {
   "cell_type": "code",
   "execution_count": 8,
   "metadata": {},
   "outputs": [
    {
     "name": "stdout",
     "output_type": "stream",
     "text": [
      "Percentage of instances of normal transactions: 0.9982725143693799\n",
      "\n",
      "Percentages of instances of fraud transactions: 0.001727485630620034\n"
     ]
    }
   ],
   "source": [
    "#assess Target column's balance\n",
    "n = \"\\n\"\n",
    "normal_percent = df['Class'].value_counts()[0] / len(df)\n",
    "fraud_percent = df['Class'].value_counts()[1] / len(df)\n",
    "print(f\"Percentage of instances of normal transactions: \\\n",
    "{normal_percent}\\n{n}Percentages of instances of fraud transactions: {fraud_percent}\")"
   ]
  },
  {
   "cell_type": "code",
   "execution_count": 9,
   "metadata": {},
   "outputs": [],
   "source": [
    "#scale the last two columns that need to be modified\n",
    "std_scaler = StandardScaler()\n",
    "\n",
    "df['scaled_amount'] = std_scaler.fit_transform(df['Amount'].values.reshape(-1,1))\n",
    "df['scaled_time'] = std_scaler.fit_transform(df['Time'].values.reshape(-1,1))\n",
    "\n",
    "df.drop(['Time','Amount'], axis=1, inplace=True)"
   ]
  },
  {
   "cell_type": "code",
   "execution_count": 10,
   "metadata": {},
   "outputs": [],
   "source": [
    "#create under-sampled dataframe balanced\n",
    "df = df.sample(frac=1)\n",
    "\n",
    "fraud_under = df[df['Class'] == 1]\n",
    "nonfraud_under = df[df['Class'] == 0][:492]\n",
    "\n",
    "df_under = pd.concat([fraud_under, nonfraud_under])"
   ]
  },
  {
   "cell_type": "code",
   "execution_count": 11,
   "metadata": {
    "scrolled": true
   },
   "outputs": [
    {
     "data": {
      "image/png": "[encoded data removed]",
      "text/plain": [
       "<Figure size 432x288 with 2 Axes>"
      ]
     },
     "metadata": {
      "needs_background": "light"
     },
     "output_type": "display_data"
    }
   ],
   "source": [
    "#correlation heatmap on subsample\n",
    "df_corr = df_under.iloc[:,:20]\n",
    "under_corr = df_corr.corr()\n",
    "\n",
    "sns.heatmap(under_corr, cmap='YlGnBu')\n",
    "plt.title('SubSample Correlation Matrix \\n (features 20 to 28 removed for clarity)', fontsize=14);\n",
    "# plt.savefig('subsample_heatmap')"
   ]
  },
  {
   "cell_type": "code",
   "execution_count": null,
   "metadata": {},
   "outputs": [],
   "source": []
  },
  {
   "cell_type": "code",
   "execution_count": 13,
   "metadata": {},
   "outputs": [],
   "source": [
    "#prep matricies of features for plotting\n",
    "\n",
    "feature_v14 = df_under['V14'].loc[df_under['Class'] == 1].values\n",
    "feature_v8 = df_under['V8'].loc[df_under['Class'] == 1].values\n",
    "feature_v20 = df_under['V20'].loc[df_under['Class'] == 1].values"
   ]
  },
  {
   "cell_type": "code",
   "execution_count": 14,
   "metadata": {},
   "outputs": [
    {
     "name": "stderr",
     "output_type": "stream",
     "text": [
      "/Users/jessicapmouras/opt/anaconda3/lib/python3.7/site-packages/scipy/stats/stats.py:1713: FutureWarning: Using a non-tuple sequence for multidimensional indexing is deprecated; use `arr[tuple(seq)]` instead of `arr[seq]`. In the future this will be interpreted as an array index, `arr[np.array(seq)]`, which will result either in an error or a different result.\n",
      "  return np.add.reduce(sorted[indexer] * weights, axis=axis) / sumval\n",
      "/Users/jessicapmouras/opt/anaconda3/lib/python3.7/site-packages/scipy/stats/stats.py:1713: FutureWarning: Using a non-tuple sequence for multidimensional indexing is deprecated; use `arr[tuple(seq)]` instead of `arr[seq]`. In the future this will be interpreted as an array index, `arr[np.array(seq)]`, which will result either in an error or a different result.\n",
      "  return np.add.reduce(sorted[indexer] * weights, axis=axis) / sumval\n",
      "/Users/jessicapmouras/opt/anaconda3/lib/python3.7/site-packages/scipy/stats/stats.py:1713: FutureWarning: Using a non-tuple sequence for multidimensional indexing is deprecated; use `arr[tuple(seq)]` instead of `arr[seq]`. In the future this will be interpreted as an array index, `arr[np.array(seq)]`, which will result either in an error or a different result.\n",
      "  return np.add.reduce(sorted[indexer] * weights, axis=axis) / sumval\n"
     ]
    },
    {
     "data": {
      "image/png": "[encoded data removed]",
      "text/plain": [
       "<Figure size 1440x432 with 3 Axes>"
      ]
     },
     "metadata": {
      "needs_background": "light"
     },
     "output_type": "display_data"
    }
   ],
   "source": [
    "# distributions of specific features\n",
    "f, (ax1, ax2, ax3) = plt.subplots(1,3, figsize=(20, 6))\n",
    "\n",
    "sns.distplot(feature_v14, ax=ax1, fit= norm, kde=False, color='mediumturquoise')\n",
    "ax1.set_title('V14 Distribution \\n (Fraud Transactions)', fontsize=14)\n",
    "\n",
    "sns.distplot(feature_v20, ax=ax2, fit= norm, kde=False, color='mediumturquoise')\n",
    "ax2.set_title('V20 Distribution \\n (Fraud Transactions)', fontsize=14)\n",
    "\n",
    "sns.distplot(feature_v8, ax=ax3, fit= norm, kde=False, color='mediumturquoise')\n",
    "ax3.set_title('V8 Distribution \\n (Fraud Transactions)', fontsize=14);"
   ]
  },
  {
   "cell_type": "code",
   "execution_count": null,
   "metadata": {},
   "outputs": [],
   "source": []
  },
  {
   "cell_type": "code",
   "execution_count": 15,
   "metadata": {},
   "outputs": [
    {
     "data": {
      "text/html": [
       "<div>\n",
       "<style scoped>\n",
       "    .dataframe tbody tr th:only-of-type {\n",
       "        vertical-align: middle;\n",
       "    }\n",
       "\n",
       "    .dataframe tbody tr th {\n",
       "        vertical-align: top;\n",
       "    }\n",
       "\n",
       "    .dataframe thead th {\n",
       "        text-align: right;\n",
       "    }\n",
       "</style>\n",
       "<table border=\"1\" class=\"dataframe\">\n",
       "  <thead>\n",
       "    <tr style=\"text-align: right;\">\n",
       "      <th></th>\n",
       "      <th>Class</th>\n",
       "      <th>V1</th>\n",
       "      <th>V2</th>\n",
       "      <th>V3</th>\n",
       "      <th>V4</th>\n",
       "      <th>V5</th>\n",
       "      <th>V6</th>\n",
       "      <th>V7</th>\n",
       "      <th>V8</th>\n",
       "      <th>V9</th>\n",
       "      <th>...</th>\n",
       "      <th>V21</th>\n",
       "      <th>V22</th>\n",
       "      <th>V23</th>\n",
       "      <th>V24</th>\n",
       "      <th>V25</th>\n",
       "      <th>V26</th>\n",
       "      <th>V27</th>\n",
       "      <th>V28</th>\n",
       "      <th>scaled_amount</th>\n",
       "      <th>scaled_time</th>\n",
       "    </tr>\n",
       "  </thead>\n",
       "  <tbody>\n",
       "    <tr>\n",
       "      <th>150667</th>\n",
       "      <td>1</td>\n",
       "      <td>-10.850282</td>\n",
       "      <td>6.727466</td>\n",
       "      <td>-16.760583</td>\n",
       "      <td>8.425832</td>\n",
       "      <td>-10.252697</td>\n",
       "      <td>-4.192171</td>\n",
       "      <td>-14.077086</td>\n",
       "      <td>7.168288</td>\n",
       "      <td>-3.683242</td>\n",
       "      <td>...</td>\n",
       "      <td>2.541637</td>\n",
       "      <td>0.135535</td>\n",
       "      <td>-1.023967</td>\n",
       "      <td>0.406265</td>\n",
       "      <td>0.106593</td>\n",
       "      <td>-0.026232</td>\n",
       "      <td>-1.464630</td>\n",
       "      <td>-0.411682</td>\n",
       "      <td>-0.041379</td>\n",
       "      <td>-0.020086</td>\n",
       "    </tr>\n",
       "    <tr>\n",
       "      <th>15539</th>\n",
       "      <td>1</td>\n",
       "      <td>-22.561699</td>\n",
       "      <td>13.208904</td>\n",
       "      <td>-24.643819</td>\n",
       "      <td>6.232532</td>\n",
       "      <td>-16.905611</td>\n",
       "      <td>-4.497439</td>\n",
       "      <td>-16.810184</td>\n",
       "      <td>14.955107</td>\n",
       "      <td>-3.871297</td>\n",
       "      <td>...</td>\n",
       "      <td>1.765987</td>\n",
       "      <td>-1.635517</td>\n",
       "      <td>-0.998317</td>\n",
       "      <td>0.138972</td>\n",
       "      <td>1.559350</td>\n",
       "      <td>-0.222125</td>\n",
       "      <td>1.504425</td>\n",
       "      <td>0.445920</td>\n",
       "      <td>0.046539</td>\n",
       "      <td>-1.429472</td>\n",
       "    </tr>\n",
       "    <tr>\n",
       "      <th>181966</th>\n",
       "      <td>1</td>\n",
       "      <td>-0.769172</td>\n",
       "      <td>1.342212</td>\n",
       "      <td>-2.171454</td>\n",
       "      <td>-0.151513</td>\n",
       "      <td>-0.648374</td>\n",
       "      <td>-0.973504</td>\n",
       "      <td>-1.706658</td>\n",
       "      <td>0.313745</td>\n",
       "      <td>-1.982302</td>\n",
       "      <td>...</td>\n",
       "      <td>-0.036122</td>\n",
       "      <td>-0.753591</td>\n",
       "      <td>-0.047113</td>\n",
       "      <td>0.358493</td>\n",
       "      <td>-0.287407</td>\n",
       "      <td>0.476506</td>\n",
       "      <td>0.250531</td>\n",
       "      <td>0.250987</td>\n",
       "      <td>-0.193306</td>\n",
       "      <td>0.639869</td>\n",
       "    </tr>\n",
       "    <tr>\n",
       "      <th>102446</th>\n",
       "      <td>1</td>\n",
       "      <td>-13.192671</td>\n",
       "      <td>12.785971</td>\n",
       "      <td>-9.906650</td>\n",
       "      <td>3.320337</td>\n",
       "      <td>-4.801176</td>\n",
       "      <td>5.760059</td>\n",
       "      <td>-18.750889</td>\n",
       "      <td>-37.353443</td>\n",
       "      <td>-0.391540</td>\n",
       "      <td>...</td>\n",
       "      <td>27.202839</td>\n",
       "      <td>-8.887017</td>\n",
       "      <td>5.303607</td>\n",
       "      <td>-0.639435</td>\n",
       "      <td>0.263203</td>\n",
       "      <td>-0.108877</td>\n",
       "      <td>1.269566</td>\n",
       "      <td>0.939407</td>\n",
       "      <td>-0.349231</td>\n",
       "      <td>-0.560285</td>\n",
       "    </tr>\n",
       "    <tr>\n",
       "      <th>223578</th>\n",
       "      <td>1</td>\n",
       "      <td>-5.256434</td>\n",
       "      <td>0.364541</td>\n",
       "      <td>-5.412085</td>\n",
       "      <td>2.400031</td>\n",
       "      <td>0.697301</td>\n",
       "      <td>-1.998755</td>\n",
       "      <td>-5.835532</td>\n",
       "      <td>-0.887739</td>\n",
       "      <td>-2.828287</td>\n",
       "      <td>...</td>\n",
       "      <td>-0.648259</td>\n",
       "      <td>0.511285</td>\n",
       "      <td>-1.110045</td>\n",
       "      <td>0.178987</td>\n",
       "      <td>0.220235</td>\n",
       "      <td>-0.699809</td>\n",
       "      <td>0.580487</td>\n",
       "      <td>-0.173630</td>\n",
       "      <td>-0.317646</td>\n",
       "      <td>1.023923</td>\n",
       "    </tr>\n",
       "  </tbody>\n",
       "</table>\n",
       "<p>5 rows × 31 columns</p>\n",
       "</div>"
      ],
      "text/plain": [
       "        Class         V1         V2         V3        V4         V5        V6  \\\n",
       "150667      1 -10.850282   6.727466 -16.760583  8.425832 -10.252697 -4.192171   \n",
       "15539       1 -22.561699  13.208904 -24.643819  6.232532 -16.905611 -4.497439   \n",
       "181966      1  -0.769172   1.342212  -2.171454 -0.151513  -0.648374 -0.973504   \n",
       "102446      1 -13.192671  12.785971  -9.906650  3.320337  -4.801176  5.760059   \n",
       "223578      1  -5.256434   0.364541  -5.412085  2.400031   0.697301 -1.998755   \n",
       "\n",
       "               V7         V8        V9  ...        V21       V22       V23  \\\n",
       "150667 -14.077086   7.168288 -3.683242  ...   2.541637  0.135535 -1.023967   \n",
       "15539  -16.810184  14.955107 -3.871297  ...   1.765987 -1.635517 -0.998317   \n",
       "181966  -1.706658   0.313745 -1.982302  ...  -0.036122 -0.753591 -0.047113   \n",
       "102446 -18.750889 -37.353443 -0.391540  ...  27.202839 -8.887017  5.303607   \n",
       "223578  -5.835532  -0.887739 -2.828287  ...  -0.648259  0.511285 -1.110045   \n",
       "\n",
       "             V24       V25       V26       V27       V28  scaled_amount  \\\n",
       "150667  0.406265  0.106593 -0.026232 -1.464630 -0.411682      -0.041379   \n",
       "15539   0.138972  1.559350 -0.222125  1.504425  0.445920       0.046539   \n",
       "181966  0.358493 -0.287407  0.476506  0.250531  0.250987      -0.193306   \n",
       "102446 -0.639435  0.263203 -0.108877  1.269566  0.939407      -0.349231   \n",
       "223578  0.178987  0.220235 -0.699809  0.580487 -0.173630      -0.317646   \n",
       "\n",
       "        scaled_time  \n",
       "150667    -0.020086  \n",
       "15539     -1.429472  \n",
       "181966     0.639869  \n",
       "102446    -0.560285  \n",
       "223578     1.023923  \n",
       "\n",
       "[5 rows x 31 columns]"
      ]
     },
     "execution_count": 15,
     "metadata": {},
     "output_type": "execute_result"
    }
   ],
   "source": [
    "df_under.head()"
   ]
  },
  {
   "cell_type": "markdown",
   "metadata": {
    "scrolled": true
   },
   "source": [
    "## Initial training on under sampled data"
   ]
  },
  {
   "cell_type": "markdown",
   "metadata": {},
   "source": [
    "### Train on the following:\n",
    "+ Logisitic Regression\n",
    "+ K Neighbors Classifier\n",
    "+ Decision Trees Classifier\n",
    "+ Random Forest Classifier\n",
    "+ Gradient Boosting Classifier\n",
    "\n",
    "\n",
    "### using cross validation 5 folds"
   ]
  },
  {
   "cell_type": "code",
   "execution_count": 506,
   "metadata": {
    "scrolled": true
   },
   "outputs": [],
   "source": [
    "#establish X values as feature matrix and y as target array\n",
    "X = df_under.drop('Class', axis = 1).values\n",
    "y = df_under['Class'].values\n",
    "\n",
    "# test train split for undersampling. DO NOT EVER TOUCH TEST ITEMS\n",
    "X_train, X_test, y_train, y_test = train_test_split(X, y, test_size=0.2, random_state=42)"
   ]
  },
  {
   "cell_type": "code",
   "execution_count": 507,
   "metadata": {},
   "outputs": [
    {
     "data": {
      "text/plain": [
       "0.9377804584085322"
      ]
     },
     "execution_count": 507,
     "metadata": {},
     "output_type": "execute_result"
    }
   ],
   "source": [
    "lr_model = LogisticRegression().fit(X_train, y_train)\n",
    "\n",
    "lr_train_score = cross_val_score(lr_model, X_train, y_train, cv=5)\n",
    "lr_train_score.mean()"
   ]
  },
  {
   "cell_type": "code",
   "execution_count": 508,
   "metadata": {},
   "outputs": [
    {
     "data": {
      "text/plain": [
       "0.9034167705497224"
      ]
     },
     "execution_count": 508,
     "metadata": {},
     "output_type": "execute_result"
    }
   ],
   "source": [
    "dt_model = DecisionTreeClassifier().fit(X_train, y_train)\n",
    "\n",
    "dt_train_score = cross_val_score(dt_model, X_train, y_train, cv=5)\n",
    "dt_train_score.mean()\n"
   ]
  },
  {
   "cell_type": "code",
   "execution_count": 509,
   "metadata": {},
   "outputs": [
    {
     "data": {
      "text/plain": [
       "0.9276216258680179"
      ]
     },
     "execution_count": 509,
     "metadata": {},
     "output_type": "execute_result"
    }
   ],
   "source": [
    "knn_model = KNeighborsClassifier().fit(X_train, y_train)\n",
    "\n",
    "knn_train_score = cross_val_score(knn_model, X_train, y_train, cv=5)\n",
    "knn_train_score.mean()"
   ]
  },
  {
   "cell_type": "code",
   "execution_count": 510,
   "metadata": {},
   "outputs": [
    {
     "data": {
      "text/plain": [
       "0.9288872419203791"
      ]
     },
     "execution_count": 510,
     "metadata": {},
     "output_type": "execute_result"
    }
   ],
   "source": [
    "rf_model = RandomForestClassifier().fit(X_train, y_train)\n",
    "\n",
    "rf_train_score = cross_val_score(rf_model, X_train, y_train, cv=5)\n",
    "rf_train_score.mean()"
   ]
  },
  {
   "cell_type": "code",
   "execution_count": 511,
   "metadata": {},
   "outputs": [
    {
     "data": {
      "text/plain": [
       "0.9377641265450667"
      ]
     },
     "execution_count": 511,
     "metadata": {},
     "output_type": "execute_result"
    }
   ],
   "source": [
    "gb_model = GradientBoostingClassifier().fit(X_train, y_train)\n",
    "\n",
    "gb_train_score = cross_val_score(rf_model, X_train, y_train, cv=5)\n",
    "gb_train_score.mean()"
   ]
  },
  {
   "cell_type": "code",
   "execution_count": null,
   "metadata": {},
   "outputs": [],
   "source": []
  },
  {
   "cell_type": "markdown",
   "metadata": {},
   "source": [
    "### move this helper function to PY file"
   ]
  },
  {
   "cell_type": "code",
   "execution_count": 512,
   "metadata": {},
   "outputs": [],
   "source": [
    "class_models = {'gbc': GradientBoostingClassifier(),'rf': RandomForestClassifier(),'knn': KNeighborsClassifier(),\n",
    "                'dt': DecisionTreeClassifier(), 'lr': LogisticRegression()}\n",
    "\n",
    "def cross_valid_score(class_models, X_train, y_train, cv=5):\n",
    "    d = {}\n",
    "    final = []\n",
    "    for kind, model in class_models.items():\n",
    "       \n",
    "        model.fit(X_train, y_train)\n",
    "        training_score = cross_val_score(model, X_train, y_train, cv=5)\n",
    "        d[kind]= round(float(training_score.mean()),4)\n",
    "    return d\n",
    "    "
   ]
  },
  {
   "cell_type": "code",
   "execution_count": 513,
   "metadata": {
    "scrolled": true
   },
   "outputs": [
    {
     "data": {
      "text/plain": [
       "{'gbc': 0.9416, 'rf': 0.9404, 'knn': 0.9276, 'dt': 0.911, 'lr': 0.9378}"
      ]
     },
     "execution_count": 513,
     "metadata": {},
     "output_type": "execute_result"
    }
   ],
   "source": [
    "cross_valid_score(class_models, X_train, y_train, cv=5)\n"
   ]
  },
  {
   "cell_type": "markdown",
   "metadata": {},
   "source": [
    "### Let's try gridsearching for best parameters"
   ]
  },
  {
   "cell_type": "code",
   "execution_count": 514,
   "metadata": {},
   "outputs": [],
   "source": [
    "#establish parameter dictionaries for GridSearch\n",
    "lr_params = {'C': [0.001, 0.01, 0.1, 1, 10, 100, 1000], 'max_iter': [7000]}\n",
    "\n",
    "knn_params = {\"n_neighbors\": list(range(2,6,1)),\n",
    "                 'algorithm': ['auto', 'ball_tree', 'kd_tree', 'brute']}\n",
    "\n",
    "rf_params = {'criterion': ('gini', 'entropy'), 'max_depth': [1, 2, None],\n",
    "              'max_features': [1, 'sqrt', 'log2', None]}\n",
    "\n",
    "dt_params = {'criterion': ('gini', 'entropy'), 'max_depth': [1, 2, None],\n",
    "              'max_features': [1, 'sqrt', 'log2', None]}\n",
    "\n",
    "gbc_params = {'loss': ('deviance', 'exponential'), 'learning_rate': [0.001, 0.01, 0.1, 1, 10, 100]}\n"
   ]
  },
  {
   "cell_type": "markdown",
   "metadata": {},
   "source": [
    "#### KNN evaluation undersample gridsearch"
   ]
  },
  {
   "cell_type": "code",
   "execution_count": 515,
   "metadata": {},
   "outputs": [
    {
     "data": {
      "text/plain": [
       "KNeighborsClassifier(algorithm='auto', leaf_size=30, metric='minkowski',\n",
       "           metric_params=None, n_jobs=1, n_neighbors=4, p=2,\n",
       "           weights='uniform')"
      ]
     },
     "execution_count": 515,
     "metadata": {},
     "output_type": "execute_result"
    }
   ],
   "source": [
    "#KNN scores gridsearch analysis on test data\n",
    "gridsear_knn = GridSearchCV(KNeighborsClassifier(), knn_params)\n",
    "\n",
    "gridsear_knn.fit(X_train, y_train)\n",
    "# best parameters to be used\n",
    "gridsear_knn.best_estimator_"
   ]
  },
  {
   "cell_type": "code",
   "execution_count": 516,
   "metadata": {},
   "outputs": [
    {
     "name": "stdout",
     "output_type": "stream",
     "text": [
      "KNN recall score: 0.9185750636132316\n",
      "KNN precision score: 0.978319783197832     \n",
      "KNN f1 score: 0.9475065616797901\n",
      "KNN accuracy score: 0.9491740787801779\n"
     ]
    }
   ],
   "source": [
    "\n",
    "\n",
    "knn_best = KNeighborsClassifier(algorithm='auto', leaf_size=30, metric='minkowski',\n",
    "           metric_params=None, n_jobs=1, n_neighbors=5, p=2,\n",
    "           weights='uniform')\n",
    "knn_best.fit(X_train, y_train)\n",
    "y_pred_knn = knn_best.predict(X_train)\n",
    "\n",
    "knn_recall = recall_score(y_train, y_pred_knn)\n",
    "knn_precision = precision_score(y_train, y_pred_knn)\n",
    "knn_f1 = f1_score(y_train, y_pred_knn)\n",
    "knn_accuracy = accuracy_score(y_train, y_pred_knn)\n",
    "print(f'KNN recall score: {knn_recall}\\nKNN precision score: {knn_precision} \\\n",
    "    \\nKNN f1 score: {knn_f1}\\nKNN accuracy score: {knn_accuracy}')\n",
    "\n"
   ]
  },
  {
   "cell_type": "markdown",
   "metadata": {},
   "source": [
    "#### LogisticRegression evaluation undersample gridsearch"
   ]
  },
  {
   "cell_type": "code",
   "execution_count": 517,
   "metadata": {},
   "outputs": [
    {
     "data": {
      "text/plain": [
       "LogisticRegression(C=0.1, class_weight=None, dual=False, fit_intercept=True,\n",
       "          intercept_scaling=1, max_iter=7000, multi_class='ovr', n_jobs=1,\n",
       "          penalty='l2', random_state=None, solver='liblinear', tol=0.0001,\n",
       "          verbose=0, warm_start=False)"
      ]
     },
     "execution_count": 517,
     "metadata": {},
     "output_type": "execute_result"
    }
   ],
   "source": [
    "#LR scores gridsearch analysis on test data\n",
    "gridsear_lr = GridSearchCV(LogisticRegression(), lr_params)\n",
    "\n",
    "gridsear_lr.fit(X_train, y_train)\n",
    "# best parameters to be used\n",
    "gridsear_lr.best_estimator_"
   ]
  },
  {
   "cell_type": "code",
   "execution_count": 518,
   "metadata": {},
   "outputs": [
    {
     "name": "stdout",
     "output_type": "stream",
     "text": [
      "LogisticRegression recall score: 0.9236641221374046\n",
      "LogisticRegression  precision score: 0.9864130434782609     \n",
      "LogisticRegression  f1 score: 0.9540078843626807\n",
      "LogisticRegression  accuracy score: 0.9555273189326556\n"
     ]
    }
   ],
   "source": [
    "#LR scores gridsearch analysis on test data\n",
    "gridsear_lr = GridSearchCV(LogisticRegression(), lr_params)\n",
    "\n",
    "gridsear_lr.fit(X_train, y_train)\n",
    "# best parameters to be used\n",
    "gridsear_lr.best_estimator_\n",
    "lr_best = LogisticRegression(C=1, class_weight=None, dual=False, fit_intercept=True,\n",
    "          intercept_scaling=1, max_iter=7000, multi_class='ovr', n_jobs=1,\n",
    "          penalty='l2', random_state=None, solver='liblinear', tol=0.0001,\n",
    "          verbose=0, warm_start=False)\n",
    "\n",
    "lr_best.fit(X_train, y_train)\n",
    "y_pred_lr = lr_best.predict(X_train)\n",
    "\n",
    "lr_recall = recall_score(y_train, y_pred_lr)\n",
    "lr_precision = precision_score(y_train, y_pred_lr)\n",
    "lr_f1 = f1_score(y_train, y_pred_lr)\n",
    "lr_accuracy = accuracy_score(y_train, y_pred_lr)\n",
    "print(f'LogisticRegression recall score: {lr_recall}\\nLogisticRegression  precision score: {lr_precision} \\\n",
    "    \\nLogisticRegression  f1 score: {lr_f1}\\nLogisticRegression  accuracy score: {lr_accuracy}')"
   ]
  },
  {
   "cell_type": "markdown",
   "metadata": {},
   "source": [
    "#### DecisionTree evaluation undersample gridsearch"
   ]
  },
  {
   "cell_type": "code",
   "execution_count": 519,
   "metadata": {},
   "outputs": [
    {
     "data": {
      "text/plain": [
       "DecisionTreeClassifier(class_weight=None, criterion='entropy', max_depth=2,\n",
       "            max_features=None, max_leaf_nodes=None,\n",
       "            min_impurity_decrease=0.0, min_impurity_split=None,\n",
       "            min_samples_leaf=1, min_samples_split=2,\n",
       "            min_weight_fraction_leaf=0.0, presort=False, random_state=None,\n",
       "            splitter='best')"
      ]
     },
     "execution_count": 519,
     "metadata": {},
     "output_type": "execute_result"
    }
   ],
   "source": [
    "#DT scores gridsearch analysis on test data\n",
    "gridsear_dt = GridSearchCV(DecisionTreeClassifier(), dt_params)\n",
    "\n",
    "gridsear_dt.fit(X_train, y_train)\n",
    "# best parameters to be used\n",
    "gridsear_dt.best_estimator_"
   ]
  },
  {
   "cell_type": "code",
   "execution_count": 520,
   "metadata": {
    "scrolled": true
   },
   "outputs": [
    {
     "name": "stdout",
     "output_type": "stream",
     "text": [
      "DecisionTree recall score: 0.8753180661577609\n",
      "DecisionTree  precision score: 0.9856733524355301     \n",
      "DecisionTree  f1 score: 0.9272237196765498\n",
      "DecisionTree  accuracy score: 0.9313850063532402\n"
     ]
    }
   ],
   "source": [
    "#DT scores gridsearch analysis on test data\n",
    "gridsear_dt = GridSearchCV(DecisionTreeClassifier(), dt_params)\n",
    "\n",
    "gridsear_dt.fit(X_train, y_train)\n",
    "# best parameters to be used\n",
    "gridsear_dt.best_estimator_\n",
    "dt_best = DecisionTreeClassifier(class_weight=None, criterion='gini', max_depth=2,\n",
    "            max_features=None, max_leaf_nodes=None,\n",
    "            min_impurity_decrease=0.0, min_impurity_split=None,\n",
    "            min_samples_leaf=1, min_samples_split=2,\n",
    "            min_weight_fraction_leaf=0.0, presort=False, random_state=None,\n",
    "            splitter='best')\n",
    "\n",
    "dt_best.fit(X_train, y_train)\n",
    "y_pred_dt = dt_best.predict(X_train)\n",
    "\n",
    "dt_recall = recall_score(y_train, y_pred_dt)\n",
    "dt_precision = precision_score(y_train, y_pred_dt)\n",
    "dt_f1 = f1_score(y_train, y_pred_dt)\n",
    "dt_accuracy = accuracy_score(y_train, y_pred_dt)\n",
    "print(f'DecisionTree recall score: {dt_recall}\\nDecisionTree  precision score: {dt_precision} \\\n",
    "    \\nDecisionTree  f1 score: {dt_f1}\\nDecisionTree  accuracy score: {dt_accuracy}')"
   ]
  },
  {
   "cell_type": "markdown",
   "metadata": {},
   "source": [
    "#### RandomForest evaluation undersample gridsearch"
   ]
  },
  {
   "cell_type": "code",
   "execution_count": 521,
   "metadata": {},
   "outputs": [
    {
     "data": {
      "text/plain": [
       "RandomForestClassifier(bootstrap=True, class_weight=None, criterion='gini',\n",
       "            max_depth=None, max_features='log2', max_leaf_nodes=None,\n",
       "            min_impurity_decrease=0.0, min_impurity_split=None,\n",
       "            min_samples_leaf=1, min_samples_split=2,\n",
       "            min_weight_fraction_leaf=0.0, n_estimators=10, n_jobs=1,\n",
       "            oob_score=False, random_state=None, verbose=0,\n",
       "            warm_start=False)"
      ]
     },
     "execution_count": 521,
     "metadata": {},
     "output_type": "execute_result"
    }
   ],
   "source": [
    "#RF scores gridsearch analysis on test data\n",
    "gridsear_rf = GridSearchCV(RandomForestClassifier(), rf_params)\n",
    "\n",
    "gridsear_rf.fit(X_train, y_train)\n",
    "# best parameters to be used\n",
    "gridsear_rf.best_estimator_"
   ]
  },
  {
   "cell_type": "code",
   "execution_count": 522,
   "metadata": {},
   "outputs": [
    {
     "name": "stdout",
     "output_type": "stream",
     "text": [
      "RandomForest recall score: 0.9872773536895675\n",
      "RandomForest  precision score: 1.0     \n",
      "RandomForest  f1 score: 0.9935979513444302\n",
      "RandomForest  accuracy score: 0.9936467598475223\n"
     ]
    }
   ],
   "source": [
    "#RF scores gridsearch analysis on test data\n",
    "gridsear_rf = GridSearchCV(RandomForestClassifier(), rf_params)\n",
    "\n",
    "gridsear_rf.fit(X_train, y_train)\n",
    "# best parameters to be used\n",
    "gridsear_rf.best_estimator_\n",
    "rf_best = RandomForestClassifier(bootstrap=True, class_weight=None, criterion='entropy',\n",
    "            max_depth=None, max_features='log2', max_leaf_nodes=None,\n",
    "            min_impurity_decrease=0.0, min_impurity_split=None,\n",
    "            min_samples_leaf=1, min_samples_split=2,\n",
    "            min_weight_fraction_leaf=0.0, n_estimators=10, n_jobs=1,\n",
    "            oob_score=False, random_state=None, verbose=0,\n",
    "            warm_start=False)\n",
    "\n",
    "rf_best.fit(X_train, y_train)\n",
    "y_pred_rf = rf_best.predict(X_train)\n",
    "\n",
    "rf_recall = recall_score(y_train, y_pred_rf)\n",
    "rf_precision = precision_score(y_train, y_pred_rf)\n",
    "rf_f1 = f1_score(y_train, y_pred_rf)\n",
    "rf_accuracy = accuracy_score(y_train, y_pred_rf)\n",
    "print(f'RandomForest recall score: {rf_recall}\\nRandomForest  precision score: {rf_precision} \\\n",
    "    \\nRandomForest  f1 score: {rf_f1}\\nRandomForest  accuracy score: {rf_accuracy}')"
   ]
  },
  {
   "cell_type": "markdown",
   "metadata": {},
   "source": [
    "#### GradientBoosting evaluation undersample gridsearch"
   ]
  },
  {
   "cell_type": "code",
   "execution_count": 523,
   "metadata": {},
   "outputs": [
    {
     "data": {
      "text/plain": [
       "GradientBoostingClassifier(criterion='friedman_mse', init=None,\n",
       "              learning_rate=1, loss='deviance', max_depth=3,\n",
       "              max_features=None, max_leaf_nodes=None,\n",
       "              min_impurity_decrease=0.0, min_impurity_split=None,\n",
       "              min_samples_leaf=1, min_samples_split=2,\n",
       "              min_weight_fraction_leaf=0.0, n_estimators=100,\n",
       "              presort='auto', random_state=None, subsample=1.0, verbose=0,\n",
       "              warm_start=False)"
      ]
     },
     "execution_count": 523,
     "metadata": {},
     "output_type": "execute_result"
    }
   ],
   "source": [
    "#GBC scores gridsearch analysis on test data\n",
    "gridsear_gbc = GridSearchCV(GradientBoostingClassifier(), gbc_params)\n",
    "\n",
    "gridsear_gbc.fit(X_train, y_train)\n",
    "# best parameters to be used\n",
    "gridsear_gbc.best_estimator_"
   ]
  },
  {
   "cell_type": "code",
   "execution_count": 524,
   "metadata": {
    "scrolled": true
   },
   "outputs": [
    {
     "name": "stdout",
     "output_type": "stream",
     "text": [
      "GradientBoosting  recall score: 1.0\n",
      "GradientBoosting precision score: 0.9974619289340102     \n",
      "GradientBoosting f1 score: 0.9987293519695045\n",
      "GradientBoosting accuracy score: 0.9987293519695044\n"
     ]
    }
   ],
   "source": [
    "#GBC scores gridsearch analysis on test data\n",
    "gridsear_gbc = GridSearchCV(GradientBoostingClassifier(), gbc_params)\n",
    "\n",
    "gridsear_gbc.fit(X_train, y_train)\n",
    "# best parameters to be used\n",
    "gridsear_gbc.best_estimator_\n",
    "gbc_best = GradientBoostingClassifier(criterion='friedman_mse', init=None,\n",
    "              learning_rate=0.1, loss='exponential', max_depth=3,\n",
    "              max_features=None, max_leaf_nodes=None,\n",
    "              min_impurity_decrease=0.0, min_impurity_split=None,\n",
    "              min_samples_leaf=1, min_samples_split=2,\n",
    "              min_weight_fraction_leaf=0.0, n_estimators=100,\n",
    "              presort='auto', random_state=None, subsample=1.0, verbose=0,\n",
    "              warm_start=False)\n",
    "\n",
    "gbc_best.fit(X_train, y_train)\n",
    "y_pred_gbc = gbc_best.predict(X_train)\n",
    "\n",
    "gbc_recall = recall_score(y_train, y_pred_gbc)\n",
    "gbc_precision = precision_score(y_train, y_pred_gbc)\n",
    "gbc_f1 = f1_score(y_train, y_pred_gbc)\n",
    "gbc_accuracy = accuracy_score(y_train, y_pred_gbc)\n",
    "print(f'GradientBoosting  recall score: {gbc_recall}\\nGradientBoosting precision score: {gbc_precision} \\\n",
    "    \\nGradientBoosting f1 score: {gbc_f1}\\nGradientBoosting accuracy score: {gbc_accuracy}')"
   ]
  },
  {
   "cell_type": "code",
   "execution_count": null,
   "metadata": {},
   "outputs": [],
   "source": []
  },
  {
   "cell_type": "code",
   "execution_count": 525,
   "metadata": {},
   "outputs": [],
   "source": [
    "lr_yhat = cross_val_predict(lr_best, X_train, y_train, cv=5, method='predict_proba')\n",
    "\n",
    "knn_yhat = cross_val_predict(knn_best, X_train, y_train, cv=5, method='predict_proba')\n",
    "\n",
    "dt_yhat = cross_val_predict(dt_best, X_train, y_train, cv=5, method='predict_proba')\n",
    "\n",
    "rf_yhat = cross_val_predict(rf_best, X_train, y_train, cv=5, method='predict_proba')\n",
    "\n",
    "gbc_yhat = cross_val_predict(gbc_best, X_train, y_train, cv=5, method='predict_proba')\n",
    "\n",
    "\n",
    "# lr_yhat = lr_best.predict(X_train)\n",
    "\n",
    "# knn_yhat = knn_best.predict(X_train)\n",
    "\n",
    "# dt_yhat = dt_best.predict(X_train)\n",
    "\n",
    "# rf_yhat = rf_best.predict(X_train)\n",
    "\n",
    "# gbc_yhat = gbc_best.predict(X_train)"
   ]
  },
  {
   "cell_type": "code",
   "execution_count": 526,
   "metadata": {},
   "outputs": [],
   "source": [
    "lr_fpr, lr_tpr, lr_thresh = roc_curve(y_train, lr_yhat[:, 1])\n",
    "\n",
    "knn_fpr, knn_tpr, knn_thresh = roc_curve(y_train, knn_yhat[:, 1])\n",
    "\n",
    "dt_fpr, dt_tpr, dt_thresh = roc_curve(y_train, dt_yhat[:, 1])\n",
    "\n",
    "rf_fpr, rf_tpr, rf_thresh = roc_curve(y_train, rf_yhat[:, 1])\n",
    "\n",
    "gbc_fpr, gbc_tpr, gbc_thresh = roc_curve(y_train, gbc_yhat[:, 1])"
   ]
  },
  {
   "cell_type": "code",
   "execution_count": 527,
   "metadata": {},
   "outputs": [],
   "source": [
    "# def roc_auc_score(y_train, y_hat):\n",
    "    \n",
    "\n",
    "# roc_auc_score(y_train, lr_yhat)\n",
    "# roc_auc_score(y_train, knn_yhat)\n",
    "# roc_auc_score(y_train, dt_yhat)"
   ]
  },
  {
   "cell_type": "code",
   "execution_count": 530,
   "metadata": {
    "scrolled": true
   },
   "outputs": [
    {
     "data": {
      "image/png": "[encoded data removed]",
      "text/plain": [
       "<Figure size 720x576 with 1 Axes>"
      ]
     },
     "metadata": {},
     "output_type": "display_data"
    }
   ],
   "source": [
    "import seaborn as sns\n",
    "sns.set('talk', 'whitegrid', 'dark', font_scale=1.5,\n",
    "        rc={\"lines.linewidth\": 2, 'grid.linestyle': '--'})\n",
    "\n",
    "\n",
    "lw = 2\n",
    "plt.figure(figsize=(10,8))\n",
    "plt.plot(dt_fpr, dt_tpr, color = 'darkgreen', label='Decision Tree Classifier Score: {:.4f}'.format(roc_auc_score(y_train, dt_yhat[:, 1])))\n",
    "plt.plot(knn_fpr, knn_tpr, color = 'teal', label='KNN Score: {:.4f}'.format(roc_auc_score(y_train, knn_yhat[:, 1])))\n",
    "plt.plot(lr_fpr, lr_tpr, color = 'navy', label='Logistic Regression Score: {:.4f}'.format(roc_auc_score(y_train, lr_yhat[:, 1])))\n",
    "plt.plot(rf_fpr, rf_tpr, color = 'blue', label='Random Forest Regression Score: {:.4f}'.format(roc_auc_score(y_train, rf_yhat[:, 1])))\n",
    "plt.plot(gbc_fpr, gbc_tpr, color = 'gray', label='GradientBoosting Classifier Score: {:.4f}'.format(roc_auc_score(y_train, gbc_yhat[:, 1])))\n",
    "\n",
    "plt.plot([0, 1], [0, 1], 'k--')\n",
    "plt.xlim([0.0, 1.0])\n",
    "plt.ylim([0.0, 1.05])\n",
    "# plt.axis([-0.01, 1, 0, 1])\n",
    "plt.xlabel('False Positive Rate', fontsize=16)\n",
    "plt.ylabel('True Positive Rate', fontsize=16)\n",
    "plt.xticks([0.0, 0.2, 0.4, 0.6, 0.8, 1.0], fontsize=14)\n",
    "plt.yticks([0.0, 0.2, 0.4, 0.6, 0.8, 1.0], fontsize=14)\n",
    "plt.legend(prop={'size':13},loc='lower right')\n",
    "plt.title('Undersampling Modeling ROC results on CrossValidated', fontsize=20)\n",
    "plt.show()"
   ]
  },
  {
   "cell_type": "markdown",
   "metadata": {},
   "source": [
    "# Done with undersampling - back to OG dataset"
   ]
  },
  {
   "cell_type": "code",
   "execution_count": 505,
   "metadata": {
    "scrolled": true
   },
   "outputs": [
    {
     "data": {
      "text/plain": [
       "0    284315\n",
       "1       492\n",
       "Name: Class, dtype: int64"
      ]
     },
     "execution_count": 505,
     "metadata": {},
     "output_type": "execute_result"
    }
   ],
   "source": [
    "df['Class'].value_counts()"
   ]
  },
  {
   "cell_type": "code",
   "execution_count": 40,
   "metadata": {},
   "outputs": [
    {
     "name": "stdout",
     "output_type": "stream",
     "text": [
      "No Frauds 99.83 % of the dataset\n",
      "Frauds 0.17 % of the dataset\n"
     ]
    }
   ],
   "source": [
    "\n",
    "\n",
    "print('No Frauds', round(df['Class'].value_counts()[0]/len(df) * 100,2), '% of the dataset')\n",
    "print('Frauds', round(df['Class'].value_counts()[1]/len(df) * 100,2), '% of the dataset')\n",
    "\n",
    "X = df.drop('Class', axis=1)\n",
    "y = df['Class'].values\n",
    "\n"
   ]
  },
  {
   "cell_type": "code",
   "execution_count": 466,
   "metadata": {},
   "outputs": [],
   "source": [
    "#Test train split standard 80 / 20\n",
    "Xtrainfull, Xtestfull, ytrainfull, ytestfull = train_test_split(X, y, \n",
    "                                                    test_size=0.2, random_state=11)"
   ]
  },
  {
   "cell_type": "markdown",
   "metadata": {},
   "source": [
    "## BASELINE MODEL - LR Performing Badly"
   ]
  },
  {
   "cell_type": "code",
   "execution_count": 467,
   "metadata": {
    "scrolled": true
   },
   "outputs": [
    {
     "name": "stdout",
     "output_type": "stream",
     "text": [
      "Logistic Regression recall score: 0.6304909560723514\n",
      "Logistic Regression  precision score: 0.8905109489051095     \n",
      "Logistic Regression f1 score: 0.7382753403933434\n",
      "Logistic Regression  accuracy score: 0.9992407118874673\n"
     ]
    }
   ],
   "source": [
    "#LR scores gridsearch analysis on FULL \n",
    "gridsear_lr = GridSearchCV(LogisticRegression(), lr_params)\n",
    "\n",
    "gridsear_lr.fit(Xtrainfull, ytrainfull)\n",
    "# best parameters to be used\n",
    "gridsear_lr.best_estimator_\n",
    "gbc_best = GradientBoostingClassifier(criterion='friedman_mse', init=None,\n",
    "              learning_rate=0.1, loss='exponential', max_depth=3,\n",
    "              max_features=None, max_leaf_nodes=None,\n",
    "              min_impurity_decrease=0.0, min_impurity_split=None,\n",
    "              min_samples_leaf=1, min_samples_split=2,\n",
    "              min_weight_fraction_leaf=0.0, n_estimators=100,\n",
    "              presort='auto', random_state=None, subsample=1.0, verbose=0,\n",
    "              warm_start=False)\n",
    "\n",
    "lr_best.fit(Xtrainfull, ytrainfull)\n",
    "y_pred_lr = lr_best.predict(Xtrainfull)\n",
    "\n",
    "lr_recall = recall_score(ytrainfull, y_pred_lr)\n",
    "lr_precision = precision_score(ytrainfull, y_pred_lr)\n",
    "lr_f1 = f1_score(ytrainfull, y_pred_lr)\n",
    "lr_accuracy = accuracy_score(ytrainfull, y_pred_lr)\n",
    "print(f'Logistic Regression recall score: {lr_recall}\\nLogistic Regression  precision score: {lr_precision} \\\n",
    "    \\nLogistic Regression f1 score: {lr_f1}\\nLogistic Regression  accuracy score: {lr_accuracy}')"
   ]
  },
  {
   "cell_type": "code",
   "execution_count": 469,
   "metadata": {},
   "outputs": [],
   "source": [
    "lr_yhatfull = cross_val_predict(lr_best, Xtrainfull, ytrainfull, cv=5, method='predict_proba')"
   ]
  },
  {
   "cell_type": "code",
   "execution_count": 470,
   "metadata": {},
   "outputs": [],
   "source": [
    "lr_fprfull, lr_tprfull, lr_threshfull = roc_curve(ytrainfull, lr_yhatfull[:, 1])"
   ]
  },
  {
   "cell_type": "code",
   "execution_count": 502,
   "metadata": {},
   "outputs": [
    {
     "data": {
      "image/png": "[encoded data removed]",
      "text/plain": [
       "<Figure size 576x432 with 1 Axes>"
      ]
     },
     "metadata": {},
     "output_type": "display_data"
    }
   ],
   "source": [
    "#plot baseline ROC curve on unbalanced OG dataset\n",
    "\n",
    "import seaborn as sns\n",
    "sns.set('talk', 'whitegrid', 'dark', font_scale=1.5,\n",
    "        rc={\"lines.linewidth\": 2, 'grid.linestyle': '--'})\n",
    "\n",
    "\n",
    "lw = 2\n",
    "plt.figure(figsize=(8,6))\n",
    "\n",
    "plt.plot(lr_fprfull, lr_tprfull, color = 'teal', label='Logistic Regression Score: {:.4f}'.format(roc_auc_score(ytrainfull, lr_yhatfull[:, 1])))\n",
    "\n",
    "plt.plot([0, 1], [0, 1], 'k--')\n",
    "plt.xlim([0.0, 1.0])\n",
    "plt.ylim([0.0, 1.05])\n",
    "# plt.axis([-0.01, 1, 0, 1])\n",
    "plt.xlabel('False Positive Rate', fontsize=1)\n",
    "plt.ylabel('True Positive Rate', fontsize=16)\n",
    "plt.xticks([0.0, 0.2, 0.4, 0.6, 0.8, 1.0], fontsize=14)\n",
    "plt.yticks([0.0, 0.2, 0.4, 0.6, 0.8, 1.0], fontsize=14)\n",
    "plt.legend(prop={'size':13},loc='lower right')\n",
    "plt.title('Undersampling Modeling ROC results on CrossValidated', fontsize=20)\n",
    "plt.show()"
   ]
  },
  {
   "cell_type": "code",
   "execution_count": 477,
   "metadata": {},
   "outputs": [],
   "source": [
    "undersample_y_score = lr_best.decision_function(Xtrainfull)"
   ]
  },
  {
   "cell_type": "code",
   "execution_count": 479,
   "metadata": {},
   "outputs": [
    {
     "name": "stdout",
     "output_type": "stream",
     "text": [
      "Average precision-recall score: 0.78\n"
     ]
    }
   ],
   "source": [
    "from sklearn.metrics import average_precision_score\n",
    "\n",
    "undersample_average_precision = average_precision_score(ytrainfull, undersample_y_score)\n",
    "\n",
    "print('Average precision-recall score: {0:0.2f}'.format(\n",
    "      undersample_average_precision))"
   ]
  },
  {
   "cell_type": "code",
   "execution_count": 494,
   "metadata": {},
   "outputs": [
    {
     "data": {
      "text/plain": [
       "Text(0.5, 1.0, 'Unbalanced Data Precision-Recall curve: \\n Average Precision-Recall Score =0.78')"
      ]
     },
     "execution_count": 494,
     "metadata": {},
     "output_type": "execute_result"
    },
    {
     "data": {
      "image/png": "[encoded data removed]",
      "text/plain": [
       "<Figure size 576x432 with 1 Axes>"
      ]
     },
     "metadata": {},
     "output_type": "display_data"
    }
   ],
   "source": [
    "import matplotlib.pyplot as plt\n",
    "\n",
    "fig = plt.figure(figsize=(8,6))\n",
    "\n",
    "precision, recall, _ = precision_recall_curve(ytrainfull, undersample_y_score)\n",
    "\n",
    "plt.step(recall, precision, color='teal', alpha=0.2,\n",
    "         where='post')\n",
    "plt.fill_between(recall, precision, step='post', alpha=0.2,\n",
    "                 color='teal')\n",
    "\n",
    "plt.xlabel('Recall', fontsize=16)\n",
    "plt.ylabel('Precision', fontsize=16)\n",
    "plt.ylim([0.0, 1.05])\n",
    "plt.xlim([0.0, 1.0])\n",
    "plt.xticks([0.0, 0.2, 0.4, 0.6, 0.8, 1.0], fontsize=14)\n",
    "plt.yticks([0.0, 0.2, 0.4, 0.6, 0.8, 1.0], fontsize=14)\n",
    "plt.title('Unbalanced Data Precision-Recall curve: \\n Average Precision-Recall Score ={0:0.2f}'.format(\n",
    "          undersample_average_precision), fontsize=20)"
   ]
  },
  {
   "cell_type": "markdown",
   "metadata": {},
   "source": [
    "# Isolation Forest on Original Dataset"
   ]
  },
  {
   "cell_type": "code",
   "execution_count": 43,
   "metadata": {},
   "outputs": [
    {
     "data": {
      "text/html": [
       "<div>\n",
       "<style scoped>\n",
       "    .dataframe tbody tr th:only-of-type {\n",
       "        vertical-align: middle;\n",
       "    }\n",
       "\n",
       "    .dataframe tbody tr th {\n",
       "        vertical-align: top;\n",
       "    }\n",
       "\n",
       "    .dataframe thead th {\n",
       "        text-align: right;\n",
       "    }\n",
       "</style>\n",
       "<table border=\"1\" class=\"dataframe\">\n",
       "  <thead>\n",
       "    <tr style=\"text-align: right;\">\n",
       "      <th></th>\n",
       "      <th>Class</th>\n",
       "      <th>V1</th>\n",
       "      <th>V2</th>\n",
       "      <th>V3</th>\n",
       "      <th>V4</th>\n",
       "      <th>V5</th>\n",
       "      <th>V6</th>\n",
       "      <th>V7</th>\n",
       "      <th>V8</th>\n",
       "      <th>V9</th>\n",
       "      <th>...</th>\n",
       "      <th>V21</th>\n",
       "      <th>V22</th>\n",
       "      <th>V23</th>\n",
       "      <th>V24</th>\n",
       "      <th>V25</th>\n",
       "      <th>V26</th>\n",
       "      <th>V27</th>\n",
       "      <th>V28</th>\n",
       "      <th>scaled_amount</th>\n",
       "      <th>scaled_time</th>\n",
       "    </tr>\n",
       "  </thead>\n",
       "  <tbody>\n",
       "    <tr>\n",
       "      <th>282064</th>\n",
       "      <td>0</td>\n",
       "      <td>-0.695199</td>\n",
       "      <td>-0.614314</td>\n",
       "      <td>-1.916275</td>\n",
       "      <td>-1.730137</td>\n",
       "      <td>0.656040</td>\n",
       "      <td>-0.487710</td>\n",
       "      <td>3.070323</td>\n",
       "      <td>-0.568069</td>\n",
       "      <td>-0.476456</td>\n",
       "      <td>...</td>\n",
       "      <td>0.499473</td>\n",
       "      <td>0.694754</td>\n",
       "      <td>0.423320</td>\n",
       "      <td>0.039066</td>\n",
       "      <td>1.163410</td>\n",
       "      <td>1.081415</td>\n",
       "      <td>-0.314746</td>\n",
       "      <td>-0.042785</td>\n",
       "      <td>1.388017</td>\n",
       "      <td>1.596615</td>\n",
       "    </tr>\n",
       "    <tr>\n",
       "      <th>9491</th>\n",
       "      <td>0</td>\n",
       "      <td>1.150105</td>\n",
       "      <td>-0.155133</td>\n",
       "      <td>0.937371</td>\n",
       "      <td>0.207762</td>\n",
       "      <td>-0.800611</td>\n",
       "      <td>-0.244705</td>\n",
       "      <td>-0.662227</td>\n",
       "      <td>0.167198</td>\n",
       "      <td>1.659859</td>\n",
       "      <td>...</td>\n",
       "      <td>-0.267955</td>\n",
       "      <td>-0.641189</td>\n",
       "      <td>0.224193</td>\n",
       "      <td>0.147119</td>\n",
       "      <td>-0.206094</td>\n",
       "      <td>0.755057</td>\n",
       "      <td>-0.088940</td>\n",
       "      <td>-0.005766</td>\n",
       "      <td>-0.305292</td>\n",
       "      <td>-1.699961</td>\n",
       "    </tr>\n",
       "    <tr>\n",
       "      <th>127003</th>\n",
       "      <td>0</td>\n",
       "      <td>0.822446</td>\n",
       "      <td>-1.960303</td>\n",
       "      <td>-0.216410</td>\n",
       "      <td>-2.080111</td>\n",
       "      <td>-1.200551</td>\n",
       "      <td>0.278427</td>\n",
       "      <td>-0.582621</td>\n",
       "      <td>0.107804</td>\n",
       "      <td>0.461061</td>\n",
       "      <td>...</td>\n",
       "      <td>-0.198626</td>\n",
       "      <td>-0.536772</td>\n",
       "      <td>-0.330087</td>\n",
       "      <td>-0.815847</td>\n",
       "      <td>0.316892</td>\n",
       "      <td>0.057453</td>\n",
       "      <td>0.002637</td>\n",
       "      <td>0.048586</td>\n",
       "      <td>0.821088</td>\n",
       "      <td>-0.350401</td>\n",
       "    </tr>\n",
       "  </tbody>\n",
       "</table>\n",
       "<p>3 rows × 31 columns</p>\n",
       "</div>"
      ],
      "text/plain": [
       "        Class        V1        V2        V3        V4        V5        V6  \\\n",
       "282064      0 -0.695199 -0.614314 -1.916275 -1.730137  0.656040 -0.487710   \n",
       "9491        0  1.150105 -0.155133  0.937371  0.207762 -0.800611 -0.244705   \n",
       "127003      0  0.822446 -1.960303 -0.216410 -2.080111 -1.200551  0.278427   \n",
       "\n",
       "              V7        V8        V9  ...       V21       V22       V23  \\\n",
       "282064  3.070323 -0.568069 -0.476456  ...  0.499473  0.694754  0.423320   \n",
       "9491   -0.662227  0.167198  1.659859  ... -0.267955 -0.641189  0.224193   \n",
       "127003 -0.582621  0.107804  0.461061  ... -0.198626 -0.536772 -0.330087   \n",
       "\n",
       "             V24       V25       V26       V27       V28  scaled_amount  \\\n",
       "282064  0.039066  1.163410  1.081415 -0.314746 -0.042785       1.388017   \n",
       "9491    0.147119 -0.206094  0.755057 -0.088940 -0.005766      -0.305292   \n",
       "127003 -0.815847  0.316892  0.057453  0.002637  0.048586       0.821088   \n",
       "\n",
       "        scaled_time  \n",
       "282064     1.596615  \n",
       "9491      -1.699961  \n",
       "127003    -0.350401  \n",
       "\n",
       "[3 rows x 31 columns]"
      ]
     },
     "execution_count": 43,
     "metadata": {},
     "output_type": "execute_result"
    }
   ],
   "source": [
    "df.head(3)"
   ]
  },
  {
   "cell_type": "code",
   "execution_count": 44,
   "metadata": {},
   "outputs": [],
   "source": [
    "X = df.drop('Class', axis=1)\n",
    "y = df['Class']"
   ]
  },
  {
   "cell_type": "code",
   "execution_count": 45,
   "metadata": {},
   "outputs": [
    {
     "data": {
      "text/plain": [
       "0    284315\n",
       "1       492\n",
       "Name: Class, dtype: int64"
      ]
     },
     "execution_count": 45,
     "metadata": {},
     "output_type": "execute_result"
    }
   ],
   "source": [
    "y.value_counts()"
   ]
  },
  {
   "cell_type": "code",
   "execution_count": 46,
   "metadata": {},
   "outputs": [],
   "source": [
    "#Test train split standard 80 / 20\n",
    "og_Xtrain, og_Xtest, og_ytrain, og_ytest = train_test_split(X, y, \n",
    "                                                    test_size=0.2, random_state=11)"
   ]
  },
  {
   "cell_type": "code",
   "execution_count": null,
   "metadata": {},
   "outputs": [],
   "source": []
  },
  {
   "cell_type": "markdown",
   "metadata": {},
   "source": [
    "## move this to helper function file"
   ]
  },
  {
   "cell_type": "code",
   "execution_count": 554,
   "metadata": {},
   "outputs": [],
   "source": [
    "def plot_confusion_matrix(cm, title, classes=['anomaly', 'normal'],\n",
    "                          cmap=plt.cm.YlGnBu, save=False, saveas=\"MyFigure.png\"):\n",
    "    \n",
    "    # print Confusion matrix with blue gradient colours\n",
    "    \n",
    "    cm = cm.astype('float') / cm.sum(axis=1)[:, np.newaxis]\n",
    "    \n",
    "    \n",
    "    plt.figure(figsize = (7,5))\n",
    "    plt.imshow(cm, interpolation='nearest', cmap=cmap)\n",
    "    plt.title(title, fontsize= 20)\n",
    "    plt.colorbar()\n",
    "    tick_marks = np.arange(len(classes))\n",
    "    plt.xticks(tick_marks, classes, rotation=90, fontsize=14)\n",
    "    plt.yticks(tick_marks, classes, fontsize=14)\n",
    "\n",
    "    fmt = '.1%'\n",
    "    thresh = cm.max() / 2.\n",
    "    for i, j in itertools.product(range(cm.shape[0]), range(cm.shape[1])):\n",
    "        plt.text(j, i, format(cm[i, j], fmt),\n",
    "                 horizontalalignment=\"center\",\n",
    "                 color=\"white\" if cm[i, j] > thresh else \"black\",\n",
    "                fontsize = 14)\n",
    "\n",
    "    plt.tight_layout()\n",
    "    plt.ylabel('True label', fontsize= 16)\n",
    "    plt.xlabel('Predicted label', fontsize= 16)\n",
    "    \n",
    "    if save:\n",
    "        plt.savefig(saveas, dpi=100)"
   ]
  },
  {
   "cell_type": "code",
   "execution_count": 48,
   "metadata": {},
   "outputs": [
    {
     "name": "stderr",
     "output_type": "stream",
     "text": [
      "/Users/jessicapmouras/opt/anaconda3/lib/python3.7/site-packages/scipy/stats/stats.py:1713: FutureWarning: Using a non-tuple sequence for multidimensional indexing is deprecated; use `arr[tuple(seq)]` instead of `arr[seq]`. In the future this will be interpreted as an array index, `arr[np.array(seq)]`, which will result either in an error or a different result.\n",
      "  return np.add.reduce(sorted[indexer] * weights, axis=axis) / sumval\n"
     ]
    },
    {
     "name": "stdout",
     "output_type": "stream",
     "text": [
      "0:00:36.165978\n"
     ]
    }
   ],
   "source": [
    "# Fit and train Isolation Forest on training data\n",
    "# this is pretty standard parameters\n",
    "clfIF = IsolationForest(max_samples=0.25, random_state=11, contamination=0.05, n_estimators=100, n_jobs=-1)\n",
    "\n",
    "start = datetime.datetime.now()\n",
    "clfIF.fit(og_Xtrain,og_ytrain)\n",
    "y_pred_train = clfIF.predict(og_Xtrain)\n",
    "end = datetime.datetime.now()\n",
    "print (end-start)\n",
    "\n",
    "#fix the target class coing such that classification report works\n",
    "y_pred_train[y_pred_train==1] = 0\n",
    "y_pred_train[y_pred_train==-1] = 1"
   ]
  },
  {
   "cell_type": "code",
   "execution_count": 555,
   "metadata": {},
   "outputs": [
    {
     "name": "stdout",
     "output_type": "stream",
     "text": [
      "             precision    recall  f1-score   support\n",
      "\n",
      "          0       1.00      0.98      0.99    227458\n",
      "          1       0.07      0.78      0.12       387\n",
      "\n",
      "avg / total       1.00      0.98      0.99    227845\n",
      "\n",
      "AUC:  88.1%\n"
     ]
    },
    {
     "data": {
      "image/png": "[encoded data removed]",
      "text/plain": [
       "<Figure size 504x360 with 2 Axes>"
      ]
     },
     "metadata": {},
     "output_type": "display_data"
    }
   ],
   "source": [
    "\n",
    "print(classification_report(og_ytrain, y_pred_train))\n",
    "print (\"AUC: \", \"{:.1%}\".format(roc_auc_score(og_ytrain, y_pred_train)))\n",
    "cm = confusion_matrix(og_ytrain, y_pred_train)\n",
    "plot_confusion_matrix(cm, title=\"Isolation Forest Confusion Matrix\", save=False, saveas=\"IF_Confusion.png\")"
   ]
  },
  {
   "cell_type": "code",
   "execution_count": null,
   "metadata": {},
   "outputs": [],
   "source": []
  },
  {
   "cell_type": "code",
   "execution_count": null,
   "metadata": {},
   "outputs": [],
   "source": []
  },
  {
   "cell_type": "code",
   "execution_count": 51,
   "metadata": {},
   "outputs": [
    {
     "name": "stdout",
     "output_type": "stream",
     "text": [
      "0:00:36.804944\n"
     ]
    }
   ],
   "source": [
    "# this is now with lower contamination rate\n",
    "clfIF = IsolationForest(max_samples=0.25, random_state=11, contamination=0.02, n_estimators=100, n_jobs=-1)\n",
    "\n",
    "start = datetime.datetime.now()\n",
    "clfIF.fit(og_Xtrain,og_ytrain)\n",
    "y_pred_train = clfIF.predict(og_Xtrain)\n",
    "end = datetime.datetime.now()\n",
    "print (end-start)\n",
    "\n",
    "#fix the target class coing such that classification report works\n",
    "y_pred_train[y_pred_train==1] = 0\n",
    "y_pred_train[y_pred_train==-1] = 1"
   ]
  },
  {
   "cell_type": "code",
   "execution_count": 556,
   "metadata": {},
   "outputs": [
    {
     "name": "stdout",
     "output_type": "stream",
     "text": [
      "             precision    recall  f1-score   support\n",
      "\n",
      "          0       1.00      0.98      0.99    227458\n",
      "          1       0.07      0.78      0.12       387\n",
      "\n",
      "avg / total       1.00      0.98      0.99    227845\n",
      "\n",
      "AUC:  88.1%\n"
     ]
    },
    {
     "data": {
      "image/png": "[encoded data removed]",
      "text/plain": [
       "<Figure size 504x360 with 2 Axes>"
      ]
     },
     "metadata": {},
     "output_type": "display_data"
    }
   ],
   "source": [
    "print(classification_report(og_ytrain, y_pred_train))\n",
    "print (\"AUC: \", \"{:.1%}\".format(roc_auc_score(og_ytrain, y_pred_train)))\n",
    "cm = confusion_matrix(og_ytrain, y_pred_train)\n",
    "plot_confusion_matrix(cm, title=\"IF Confusion Matrix\", save=False, saveas=\"IF_CM.png\")"
   ]
  },
  {
   "cell_type": "code",
   "execution_count": 53,
   "metadata": {},
   "outputs": [
    {
     "data": {
      "text/plain": [
       "array([[     0, 227458],\n",
       "       [     1,    387]])"
      ]
     },
     "execution_count": 53,
     "metadata": {},
     "output_type": "execute_result"
    }
   ],
   "source": [
    "(unique, counts) = np.unique(og_ytrain, return_counts=True)\n",
    "frequencies = np.asarray((unique, counts)).T\n",
    "frequencies "
   ]
  },
  {
   "cell_type": "code",
   "execution_count": 54,
   "metadata": {},
   "outputs": [],
   "source": [
    "scoring = {'AUC': 'roc_auc', 'Recall': make_scorer(recall_score, pos_label=1)}"
   ]
  },
  {
   "cell_type": "code",
   "execution_count": 55,
   "metadata": {},
   "outputs": [],
   "source": [
    "\n",
    "## REVIST THIS TO SEE IF IT WORKS at 4:30pm\n",
    "# gs_con = GridSearchCV(IsolationForest(random_state=11, max_samples=0.10, n_estimators=150, n_jobs=-1),\n",
    "#                   param_grid={'contamination': np.arange(0.01, 0.25, 0.05)},\n",
    "#                   scoring=scoring, refit='Recall')\n",
    "# gs_con.fit(og_Xtrain, og_ytrain)\n",
    "# results = gs_con.cv_results_"
   ]
  },
  {
   "cell_type": "markdown",
   "metadata": {},
   "source": [
    "# PCA anomaly analysis -- UNSUPERVISED"
   ]
  },
  {
   "cell_type": "markdown",
   "metadata": {},
   "source": [
    "### make a scree plot and review compoents and variance explained"
   ]
  },
  {
   "cell_type": "code",
   "execution_count": 56,
   "metadata": {},
   "outputs": [
    {
     "name": "stderr",
     "output_type": "stream",
     "text": [
      "/Users/jessicapmouras/opt/anaconda3/lib/python3.7/site-packages/sklearn/feature_extraction/text.py:17: DeprecationWarning: Using or importing the ABCs from 'collections' instead of from 'collections.abc' is deprecated, and in 3.8 it will stop working\n",
      "  from collections import Mapping, defaultdict\n"
     ]
    }
   ],
   "source": [
    "from sklearn import (cluster, datasets, decomposition, ensemble, manifold,\n",
    "                     random_projection, preprocessing)\n",
    "import numpy as np\n",
    "\n",
    "from matplotlib import cm\n",
    "import matplotlib.pyplot as plt\n",
    "%matplotlib inline"
   ]
  },
  {
   "cell_type": "code",
   "execution_count": 57,
   "metadata": {},
   "outputs": [],
   "source": [
    "#import csv data newly so any modifications are not transferred\n",
    "df = pd.read_csv('creditcard.csv')\n"
   ]
  },
  {
   "cell_type": "code",
   "execution_count": 80,
   "metadata": {},
   "outputs": [],
   "source": [
    "#create x and y, maintain in dataframe/ series format for the following\n",
    "X_pca = df.copy().drop('Class', axis=1)\n",
    "y_pca = df['Class'].copy()\n",
    "\n",
    "\n",
    "#use Standard scaler to modify all of the feature columns in X\n",
    "scaled_X = StandardScaler().fit_transform(X_pca)\n"
   ]
  },
  {
   "cell_type": "code",
   "execution_count": 81,
   "metadata": {},
   "outputs": [],
   "source": [
    "\n",
    "pca = decomposition.PCA(n_components=10)\n",
    "X_pca = pca.fit_transform(scaled_X)"
   ]
  },
  {
   "cell_type": "code",
   "execution_count": 82,
   "metadata": {},
   "outputs": [],
   "source": [
    "def scree_plot(ax, pca, n_components_to_plot=10, title=None):\n",
    " \n",
    "    num_components = pca.n_components_\n",
    "    ind = np.arange(num_components)\n",
    "    vals = pca.explained_variance_ratio_\n",
    "    ax.plot(ind, vals, color='blue')\n",
    "    ax.scatter(ind, vals, color='blue', s=50)\n",
    "\n",
    "    for i in range(num_components):\n",
    "        ax.annotate(r\"{:2.2f}%\".format(vals[i]), \n",
    "                   (ind[i]+0.2, vals[i]+0.005), \n",
    "                   va=\"bottom\", \n",
    "                   ha=\"center\", \n",
    "                   fontsize=12)\n",
    "\n",
    "    ax.set_xticklabels(ind, fontsize=12)\n",
    "    \n",
    "    ax.set_ylim(0, max(vals) + 0.05)\n",
    "    ax.set_xlim(0 - 0.45, n_components_to_plot + 0.45)\n",
    "    ax.set_xlabel(\"Principal Component\", fontsize=12)\n",
    "    ax.set_ylabel(\"Variance Explained (%)\", fontsize=12)\n",
    "    if title is not None:\n",
    "        ax.set_title(title, fontsize=16)"
   ]
  },
  {
   "cell_type": "code",
   "execution_count": 83,
   "metadata": {},
   "outputs": [
    {
     "data": {
      "image/png": "[encoded data removed]",
      "text/plain": [
       "<Figure size 720x432 with 1 Axes>"
      ]
     },
     "metadata": {
      "needs_background": "light"
     },
     "output_type": "display_data"
    }
   ],
   "source": [
    "# interesting scree plot -- looks like it levels off after 2 principal components\n",
    "\n",
    "fig, ax = plt.subplots(figsize=(10, 6))\n",
    "scree_plot(ax, pca, title=\"Scree Plot for Fraud Principal Components\")"
   ]
  },
  {
   "cell_type": "code",
   "execution_count": 540,
   "metadata": {},
   "outputs": [],
   "source": [
    "#create x and y, maintain in dataframe/ series format for the following\n",
    "X_pca = df.copy().drop('Class', axis=1)\n",
    "y_pca = df['Class'].copy()\n",
    "\n",
    "\n",
    "# featuresToScale = X_pca.columns\n",
    "# sX = StandardScaler(copy=True)\n",
    "\n",
    "\n",
    "\n",
    "# Need to scale the X features that are still in dataframe format\n",
    "featuresToScale = X_pca.columns\n",
    "\n",
    "#use Standard scaler to modify all of the feature columns in X\n",
    "scaled_X = StandardScaler(copy=True)\n",
    "\n",
    "# replace all of X_pca DataFrame features with the scaled features\n",
    "# also fit label encoder and return encoded labels\n",
    "# once you fit_transform to you X feature data -- pca object is ready to plot\n",
    "X_pca.loc[:,featuresToScale] = scaled_X.fit_transform(X_pca[featuresToScale])"
   ]
  },
  {
   "cell_type": "code",
   "execution_count": 541,
   "metadata": {},
   "outputs": [],
   "source": [
    "X_train, X_test, y_train, y_test = \\\n",
    "    train_test_split(X_pca, y_pca, test_size=0.2, \\\n",
    "                    random_state=2018, stratify=y_pca)"
   ]
  },
  {
   "cell_type": "code",
   "execution_count": 542,
   "metadata": {},
   "outputs": [
    {
     "data": {
      "text/plain": [
       "0    227451\n",
       "1       394\n",
       "Name: Class, dtype: int64"
      ]
     },
     "execution_count": 542,
     "metadata": {},
     "output_type": "execute_result"
    }
   ],
   "source": [
    "y_train.value_counts()"
   ]
  },
  {
   "cell_type": "code",
   "execution_count": 543,
   "metadata": {},
   "outputs": [
    {
     "data": {
      "text/plain": [
       "0    56864\n",
       "1       98\n",
       "Name: Class, dtype: int64"
      ]
     },
     "execution_count": 543,
     "metadata": {},
     "output_type": "execute_result"
    }
   ],
   "source": [
    "y_test.value_counts()"
   ]
  },
  {
   "cell_type": "code",
   "execution_count": 544,
   "metadata": {},
   "outputs": [
    {
     "name": "stdout",
     "output_type": "stream",
     "text": [
      "----------------------------------------------------------------------------------------------------\n",
      "Label Distributions: \n",
      "\n",
      "[0.99827075 0.00172925]\n",
      "[0.99827955 0.00172045]\n"
     ]
    }
   ],
   "source": [
    "# See if both the train and test label distribution are similarly distributed\n",
    "train_unique_label, train_counts_label = np.unique(y_train, return_counts=True)\n",
    "test_unique_label, test_counts_label = np.unique(y_test, return_counts=True)\n",
    "print('-' * 100)\n",
    "\n",
    "print('Label Distributions: \\n')\n",
    "print(train_counts_label/ len(y_train))\n",
    "print(test_counts_label/ len(y_test))\n"
   ]
  },
  {
   "cell_type": "code",
   "execution_count": 545,
   "metadata": {},
   "outputs": [],
   "source": [
    "def anomalyScores(originalDF, reducedDF):\n",
    "    loss = np.sum((np.array(originalDF)-np.array(reducedDF))**2, axis=1)\n",
    "    loss = pd.Series(data=loss,index=originalDF.index)\n",
    "    loss = (loss-np.min(loss))/(np.max(loss)-np.min(loss))\n",
    "    return loss"
   ]
  },
  {
   "cell_type": "code",
   "execution_count": 550,
   "metadata": {},
   "outputs": [],
   "source": [
    "def plotResults(trueLabels, anomalyScores, returnPreds = False):\n",
    "    preds = pd.concat([trueLabels, anomalyScores], axis=1)\n",
    "    preds.columns = ['trueLabel', 'anomalyScore']\n",
    "    precision, recall, thresholds = \\\n",
    "        precision_recall_curve(preds['trueLabel'],preds['anomalyScore'])\n",
    "    average_precision = \\\n",
    "        average_precision_score(preds['trueLabel'],preds['anomalyScore'])\n",
    "\n",
    "    plt.step(recall, precision, color='teal', alpha=0.7, where='post')\n",
    "    plt.fill_between(recall, precision, step='post', alpha=0.3, color='teal')\n",
    "\n",
    "    plt.xlabel('Recall', fontsize=14)\n",
    "    plt.ylabel('Precision', fontsize=14)\n",
    "    plt.ylim([0.0, 1.05])\n",
    "    plt.xlim([0.0, 1.0])\n",
    "    plt.xticks([0.0, 0.5, 1.0], fontsize=12)\n",
    "    plt.yticks([0.0, 0.5, 1.05], fontsize=12)\n",
    "\n",
    "    plt.title('Precision-Recall curve: Avg Precision = \\\n",
    "    {0:0.2f}'.format(average_precision), fontsize=16)\n",
    "\n",
    "    fpr, tpr, thresholds = roc_curve(preds['trueLabel'], \\\n",
    "                                     preds['anomalyScore'])\n",
    "    areaUnderROC = auc(fpr, tpr)\n",
    "\n",
    "    plt.figure()\n",
    "    plt.plot(fpr, tpr, color='teal', lw=2, label='ROC curve')\n",
    "    plt.plot([0, 1], [0, 1], color='black', lw=2, linestyle='--')\n",
    "    plt.xlim([0.0, 1.0])\n",
    "    plt.ylim([0.0, 1.05])\n",
    "    plt.xticks([0.0, 0.5, 1.0], fontsize=12)\n",
    "    plt.yticks([0.0, 0.5, 1.05], fontsize=12)\n",
    "    plt.xlabel('False Positive Rate', fontsize=14)\n",
    "    plt.ylabel('True Positive Rate', fontsize=14)\n",
    "    plt.title('ROC:\\\n",
    "    Area under the curve = {0:0.2f}'.format(areaUnderROC), fontsize=16)\n",
    "    plt.legend(loc=\"lower right\")\n",
    "    plt.show()\n",
    "\n",
    "    if returnPreds==True:\n",
    "        return preds"
   ]
  },
  {
   "cell_type": "code",
   "execution_count": 560,
   "metadata": {},
   "outputs": [],
   "source": [
    "def scatterPlot(xDF, yDF, algoName):\n",
    "    tempDF = pd.DataFrame(data=xDF.loc[:,0:1], index=xDF.index)\n",
    "    tempDF = pd.concat((tempDF,yDF), axis=1, join=\"inner\")\n",
    "    tempDF.columns = [\"First Vector\", \"Second Vector\", \"Label\"]\n",
    "    sns.lmplot(x=\"First Vector\", y=\"Second Vector\", hue=\"Label\", \n",
    "               palette=\"YlGnBu\",data=tempDF, fit_reg=False)\n",
    "    ax = plt.gca()\n",
    "    ax.set_title(\"Separation of Observations using \"+algoName, fontsize=16)\n",
    "    ax.set_yticklabels(ax.get_yticks(), size = 12)\n",
    "    ax.set_ylabel(ax.get_ylabel(), size = 14)\n",
    "    ax.set_xticklabels(ax.get_xticks(), size = 12)\n",
    "    ax.set_xlabel(ax.get_xlabel(), size = 14)\n"
   ]
  },
  {
   "cell_type": "code",
   "execution_count": 561,
   "metadata": {},
   "outputs": [
    {
     "data": {
      "image/png": "[encoded data removed]",
      "text/plain": [
       "<Figure size 462.975x360 with 1 Axes>"
      ]
     },
     "metadata": {},
     "output_type": "display_data"
    }
   ],
   "source": [
    "# 30 principal components\n",
    "from sklearn.decomposition import PCA\n",
    "\n",
    "n_components = 30\n",
    "whiten = False\n",
    "random_state = 2018\n",
    "\n",
    "pca = PCA(n_components=n_components, whiten=whiten,\n",
    "          random_state=random_state)\n",
    "\n",
    "X_train_PCA = pca.fit_transform(X_train)\n",
    "X_train_PCA = pd.DataFrame(data=X_train_PCA, index=X_train.index)\n",
    "\n",
    "X_train_PCA_inverse = pca.inverse_transform(X_train_PCA)\n",
    "X_train_PCA_inverse = pd.DataFrame(data=X_train_PCA_inverse, index=X_train.index)\n",
    "\n",
    "scatterPlot(X_train_PCA, y_train, \"PCA\")"
   ]
  },
  {
   "cell_type": "code",
   "execution_count": 551,
   "metadata": {},
   "outputs": [
    {
     "data": {
      "image/png": "[encoded data removed]",
      "text/plain": [
       "<Figure size 432x288 with 1 Axes>"
      ]
     },
     "metadata": {},
     "output_type": "display_data"
    },
    {
     "data": {
      "image/png": "[encoded data removed]",
      "text/plain": [
       "<Figure size 432x288 with 1 Axes>"
      ]
     },
     "metadata": {},
     "output_type": "display_data"
    }
   ],
   "source": [
    "anomalyScoresPCA = anomalyScores(X_train, X_train_PCA_inverse)\n",
    "preds = plotResults(y_train, anomalyScoresPCA, True)"
   ]
  },
  {
   "cell_type": "code",
   "execution_count": 283,
   "metadata": {},
   "outputs": [
    {
     "name": "stdout",
     "output_type": "stream",
     "text": [
      "Precision:  0.12\n",
      "Recall:  0.12\n",
      "Fraud Caught out of 394 Cases: 48\n"
     ]
    }
   ],
   "source": [
    "preds.sort_values(by=\"anomalyScore\",ascending=False,inplace=True)\n",
    "cutoff = 400\n",
    "predsTop = preds[:cutoff]\n",
    "print(\"Precision: \",np.round(predsTop.\n",
    "            anomalyScore[predsTop.trueLabel==1].count()/cutoff,2))\n",
    "print(\"Recall: \",np.round(predsTop. \n",
    "            anomalyScore[predsTop.trueLabel==1].count()/y_train.sum(),2))\n",
    "print(\"Fraud Caught out of 394 Cases:\", predsTop.trueLabel.sum())\n",
    "\n"
   ]
  },
  {
   "cell_type": "code",
   "execution_count": 284,
   "metadata": {},
   "outputs": [
    {
     "data": {
      "image/png": "[encoded data removed]",
      "text/plain": [
       "<Figure size 462.975x360 with 1 Axes>"
      ]
     },
     "metadata": {
      "needs_background": "light"
     },
     "output_type": "display_data"
    }
   ],
   "source": [
    "# 27 principal components\n",
    "from sklearn.decomposition import PCA\n",
    "\n",
    "n_components = 27\n",
    "whiten = False\n",
    "random_state = 2018\n",
    "\n",
    "pca = PCA(n_components=n_components, whiten=whiten, \n",
    "          random_state=random_state)\n",
    "\n",
    "X_train_PCA = pca.fit_transform(X_train)\n",
    "X_train_PCA = pd.DataFrame(data=X_train_PCA, index=X_train.index)\n",
    "\n",
    "X_train_PCA_inverse = pca.inverse_transform(X_train_PCA)\n",
    "X_train_PCA_inverse = pd.DataFrame(data=X_train_PCA_inverse,\n",
    "                                   index=X_train.index)\n",
    "\n",
    "scatterPlot(X_train_PCA, y_train, \"PCA\")"
   ]
  },
  {
   "cell_type": "code",
   "execution_count": 286,
   "metadata": {},
   "outputs": [
    {
     "data": {
      "image/png": "[encoded data removed]",
      "text/plain": [
       "<Figure size 432x288 with 1 Axes>"
      ]
     },
     "metadata": {
      "needs_background": "light"
     },
     "output_type": "display_data"
    },
    {
     "data": {
      "image/png": "[encoded data removed]",
      "text/plain": [
       "<Figure size 432x288 with 1 Axes>"
      ]
     },
     "metadata": {
      "needs_background": "light"
     },
     "output_type": "display_data"
    }
   ],
   "source": [
    "anomalyScoresPCA = anomalyScores(X_train, X_train_PCA_inverse)\n",
    "preds = plotResults(y_train, anomalyScoresPCA, True)"
   ]
  },
  {
   "cell_type": "code",
   "execution_count": 287,
   "metadata": {},
   "outputs": [
    {
     "name": "stdout",
     "output_type": "stream",
     "text": [
      "Precision:  0.78\n",
      "Recall:  0.79\n"
     ]
    }
   ],
   "source": [
    "preds.sort_values(by=\"anomalyScore\",ascending=False,inplace=True)\n",
    "cutoff = 400\n",
    "predsTop = preds[:cutoff]\n",
    "print(\"Precision: \",np.round(predsTop. \\\n",
    "            anomalyScore[predsTop.trueLabel==1].count()/cutoff,2))\n",
    "print(\"Recall: \",np.round(predsTop. \\\n",
    "            anomalyScore[predsTop.trueLabel==1].count()/y_train.sum(),2))"
   ]
  },
  {
   "cell_type": "markdown",
   "metadata": {},
   "source": [
    "## PCA manual confusion matrix\n"
   ]
  },
  {
   "cell_type": "code",
   "execution_count": 288,
   "metadata": {},
   "outputs": [
    {
     "data": {
      "text/plain": [
       "(227845, 2)"
      ]
     },
     "execution_count": 288,
     "metadata": {},
     "output_type": "execute_result"
    }
   ],
   "source": [
    "np.array(preds).shape"
   ]
  },
  {
   "cell_type": "code",
   "execution_count": 289,
   "metadata": {
    "scrolled": true
   },
   "outputs": [
    {
     "name": "stdout",
     "output_type": "stream",
     "text": [
      "<class 'pandas.core.frame.DataFrame'>\n"
     ]
    }
   ],
   "source": [
    "print(type(preds))"
   ]
  },
  {
   "cell_type": "markdown",
   "metadata": {},
   "source": [
    "+ going to state threshold for anomaly score is 0.02000 and higher is considered a fraud"
   ]
  },
  {
   "cell_type": "code",
   "execution_count": 290,
   "metadata": {},
   "outputs": [
    {
     "data": {
      "text/html": [
       "<div>\n",
       "<style scoped>\n",
       "    .dataframe tbody tr th:only-of-type {\n",
       "        vertical-align: middle;\n",
       "    }\n",
       "\n",
       "    .dataframe tbody tr th {\n",
       "        vertical-align: top;\n",
       "    }\n",
       "\n",
       "    .dataframe thead th {\n",
       "        text-align: right;\n",
       "    }\n",
       "</style>\n",
       "<table border=\"1\" class=\"dataframe\">\n",
       "  <thead>\n",
       "    <tr style=\"text-align: right;\">\n",
       "      <th></th>\n",
       "      <th>trueLabel</th>\n",
       "      <th>anomalyScore</th>\n",
       "    </tr>\n",
       "  </thead>\n",
       "  <tbody>\n",
       "    <tr>\n",
       "      <th>154684</th>\n",
       "      <td>1</td>\n",
       "      <td>1.000000</td>\n",
       "    </tr>\n",
       "    <tr>\n",
       "      <th>151007</th>\n",
       "      <td>1</td>\n",
       "      <td>0.926889</td>\n",
       "    </tr>\n",
       "    <tr>\n",
       "      <th>151008</th>\n",
       "      <td>1</td>\n",
       "      <td>0.926889</td>\n",
       "    </tr>\n",
       "    <tr>\n",
       "      <th>151006</th>\n",
       "      <td>1</td>\n",
       "      <td>0.926889</td>\n",
       "    </tr>\n",
       "    <tr>\n",
       "      <th>151009</th>\n",
       "      <td>1</td>\n",
       "      <td>0.926889</td>\n",
       "    </tr>\n",
       "    <tr>\n",
       "      <th>154234</th>\n",
       "      <td>1</td>\n",
       "      <td>0.921859</td>\n",
       "    </tr>\n",
       "    <tr>\n",
       "      <th>153823</th>\n",
       "      <td>1</td>\n",
       "      <td>0.887030</td>\n",
       "    </tr>\n",
       "    <tr>\n",
       "      <th>153835</th>\n",
       "      <td>1</td>\n",
       "      <td>0.886669</td>\n",
       "    </tr>\n",
       "    <tr>\n",
       "      <th>152295</th>\n",
       "      <td>1</td>\n",
       "      <td>0.857126</td>\n",
       "    </tr>\n",
       "    <tr>\n",
       "      <th>151462</th>\n",
       "      <td>1</td>\n",
       "      <td>0.855525</td>\n",
       "    </tr>\n",
       "  </tbody>\n",
       "</table>\n",
       "</div>"
      ],
      "text/plain": [
       "        trueLabel  anomalyScore\n",
       "154684          1      1.000000\n",
       "151007          1      0.926889\n",
       "151008          1      0.926889\n",
       "151006          1      0.926889\n",
       "151009          1      0.926889\n",
       "154234          1      0.921859\n",
       "153823          1      0.887030\n",
       "153835          1      0.886669\n",
       "152295          1      0.857126\n",
       "151462          1      0.855525"
      ]
     },
     "execution_count": 290,
     "metadata": {},
     "output_type": "execute_result"
    }
   ],
   "source": [
    "preds[:10]"
   ]
  },
  {
   "cell_type": "code",
   "execution_count": 291,
   "metadata": {},
   "outputs": [],
   "source": [
    "preds['predicted_class'] = np.where(preds.anomalyScore>0.02200 , 1, 0)"
   ]
  },
  {
   "cell_type": "code",
   "execution_count": 292,
   "metadata": {},
   "outputs": [
    {
     "data": {
      "text/html": [
       "<div>\n",
       "<style scoped>\n",
       "    .dataframe tbody tr th:only-of-type {\n",
       "        vertical-align: middle;\n",
       "    }\n",
       "\n",
       "    .dataframe tbody tr th {\n",
       "        vertical-align: top;\n",
       "    }\n",
       "\n",
       "    .dataframe thead th {\n",
       "        text-align: right;\n",
       "    }\n",
       "</style>\n",
       "<table border=\"1\" class=\"dataframe\">\n",
       "  <thead>\n",
       "    <tr style=\"text-align: right;\">\n",
       "      <th></th>\n",
       "      <th>trueLabel</th>\n",
       "      <th>anomalyScore</th>\n",
       "      <th>predicted_class</th>\n",
       "    </tr>\n",
       "  </thead>\n",
       "  <tbody>\n",
       "    <tr>\n",
       "      <th>154684</th>\n",
       "      <td>1</td>\n",
       "      <td>1.000000</td>\n",
       "      <td>1</td>\n",
       "    </tr>\n",
       "    <tr>\n",
       "      <th>151007</th>\n",
       "      <td>1</td>\n",
       "      <td>0.926889</td>\n",
       "      <td>1</td>\n",
       "    </tr>\n",
       "    <tr>\n",
       "      <th>151008</th>\n",
       "      <td>1</td>\n",
       "      <td>0.926889</td>\n",
       "      <td>1</td>\n",
       "    </tr>\n",
       "    <tr>\n",
       "      <th>151006</th>\n",
       "      <td>1</td>\n",
       "      <td>0.926889</td>\n",
       "      <td>1</td>\n",
       "    </tr>\n",
       "    <tr>\n",
       "      <th>151009</th>\n",
       "      <td>1</td>\n",
       "      <td>0.926889</td>\n",
       "      <td>1</td>\n",
       "    </tr>\n",
       "    <tr>\n",
       "      <th>154234</th>\n",
       "      <td>1</td>\n",
       "      <td>0.921859</td>\n",
       "      <td>1</td>\n",
       "    </tr>\n",
       "    <tr>\n",
       "      <th>153823</th>\n",
       "      <td>1</td>\n",
       "      <td>0.887030</td>\n",
       "      <td>1</td>\n",
       "    </tr>\n",
       "    <tr>\n",
       "      <th>153835</th>\n",
       "      <td>1</td>\n",
       "      <td>0.886669</td>\n",
       "      <td>1</td>\n",
       "    </tr>\n",
       "    <tr>\n",
       "      <th>152295</th>\n",
       "      <td>1</td>\n",
       "      <td>0.857126</td>\n",
       "      <td>1</td>\n",
       "    </tr>\n",
       "    <tr>\n",
       "      <th>151462</th>\n",
       "      <td>1</td>\n",
       "      <td>0.855525</td>\n",
       "      <td>1</td>\n",
       "    </tr>\n",
       "  </tbody>\n",
       "</table>\n",
       "</div>"
      ],
      "text/plain": [
       "        trueLabel  anomalyScore  predicted_class\n",
       "154684          1      1.000000                1\n",
       "151007          1      0.926889                1\n",
       "151008          1      0.926889                1\n",
       "151006          1      0.926889                1\n",
       "151009          1      0.926889                1\n",
       "154234          1      0.921859                1\n",
       "153823          1      0.887030                1\n",
       "153835          1      0.886669                1\n",
       "152295          1      0.857126                1\n",
       "151462          1      0.855525                1"
      ]
     },
     "execution_count": 292,
     "metadata": {},
     "output_type": "execute_result"
    }
   ],
   "source": [
    "preds.head(10)"
   ]
  },
  {
   "cell_type": "code",
   "execution_count": 293,
   "metadata": {},
   "outputs": [
    {
     "data": {
      "text/plain": [
       "trueLabel             394\n",
       "anomalyScore       227844\n",
       "predicted_class       391\n",
       "dtype: int64"
      ]
     },
     "execution_count": 293,
     "metadata": {},
     "output_type": "execute_result"
    }
   ],
   "source": [
    "(preds > 0).sum()"
   ]
  },
  {
   "cell_type": "code",
   "execution_count": 294,
   "metadata": {},
   "outputs": [
    {
     "data": {
      "text/plain": [
       "trueLabel          0\n",
       "anomalyScore       0\n",
       "predicted_class    0\n",
       "dtype: int64"
      ]
     },
     "execution_count": 294,
     "metadata": {},
     "output_type": "execute_result"
    }
   ],
   "source": [
    "(preds < 0).sum()"
   ]
  },
  {
   "cell_type": "code",
   "execution_count": 295,
   "metadata": {},
   "outputs": [
    {
     "data": {
      "text/plain": [
       "array([[1.00000000e+00, 1.00000000e+00, 1.00000000e+00],\n",
       "       [1.00000000e+00, 9.26889024e-01, 1.00000000e+00],\n",
       "       [1.00000000e+00, 9.26889024e-01, 1.00000000e+00],\n",
       "       ...,\n",
       "       [0.00000000e+00, 3.45981964e-09, 0.00000000e+00],\n",
       "       [0.00000000e+00, 2.17249284e-09, 0.00000000e+00],\n",
       "       [0.00000000e+00, 0.00000000e+00, 0.00000000e+00]])"
      ]
     },
     "execution_count": 295,
     "metadata": {},
     "output_type": "execute_result"
    }
   ],
   "source": [
    "matrix = np.array(preds)\n",
    "matrix"
   ]
  },
  {
   "cell_type": "code",
   "execution_count": 371,
   "metadata": {},
   "outputs": [],
   "source": [
    "# function for counts of instance predicted positive and negative asn well as actual positive and negative\n",
    "matrix = np.array(preds)\n",
    "\n",
    "def make_input_matrix(arr):\n",
    "    predict_positive = 0  \n",
    "    predict_negative = 0 \n",
    "    actual_positive = 0  \n",
    "    actual_negative = 0\n",
    "\n",
    "    for i in arr[:, 2]:\n",
    "        if i == 1:   \n",
    "            predict_positive+=1\n",
    "        else:\n",
    "            predict_negative +=1\n",
    "    for i in arr[:, 0]:\n",
    "        if i == 1:   \n",
    "            actual_positive+=1\n",
    "        else:\n",
    "            actual_negative +=1\n",
    "\n",
    "    return predict_positive, predict_negative, actual_positive, actual_negative"
   ]
  },
  {
   "cell_type": "code",
   "execution_count": 297,
   "metadata": {},
   "outputs": [
    {
     "data": {
      "text/plain": [
       "(391, 227454, 394, 227451)"
      ]
     },
     "execution_count": 297,
     "metadata": {},
     "output_type": "execute_result"
    }
   ],
   "source": [
    "make_input_matrix(matrix)"
   ]
  },
  {
   "cell_type": "code",
   "execution_count": 298,
   "metadata": {},
   "outputs": [
    {
     "data": {
      "text/plain": [
       "(391, 227454, 394, 227451)"
      ]
     },
     "execution_count": 298,
     "metadata": {},
     "output_type": "execute_result"
    }
   ],
   "source": [
    "item = make_input_matrix(matrix)\n",
    "item"
   ]
  },
  {
   "cell_type": "code",
   "execution_count": 372,
   "metadata": {},
   "outputs": [],
   "source": [
    "#function for making confusion matrix in LOGICAL format\n",
    "\n",
    "def make_conf_matrix(item):   \n",
    "    true_positive = 0\n",
    "    true_negative = 0\n",
    "\n",
    "    false_negative = 0\n",
    "    false_positive = 0\n",
    "    \n",
    "    predict_positive = item[0]\n",
    "    predict_negative = item[1]\n",
    "    actual_positive = item[2]\n",
    "    actual_negative = item[3]\n",
    "    \n",
    "    \n",
    "    num = actual_positive - predict_positive\n",
    "    num2 = actual_negative - predict_negative\n",
    "\n",
    "    if actual_positive - predict_positive > 1:\n",
    "\n",
    "        false_negative += num\n",
    "    else:\n",
    "        false_positive -= num\n",
    "\n",
    "    if actual_positive > predict_positive:\n",
    "        true_positive += predict_positive\n",
    "    else:\n",
    "        true_positive += actual_positive\n",
    "\n",
    "    if actual_negative > predict_negative:\n",
    "        true_negative += predict_negative\n",
    "    else:\n",
    "        true_negative += actual_negative\n",
    "    return true_positive, false_negative, false_positive, true_negative \n",
    "# print(false_negative, false_positive, true_negative, true_positive)"
   ]
  },
  {
   "cell_type": "code",
   "execution_count": 361,
   "metadata": {},
   "outputs": [
    {
     "data": {
      "text/plain": [
       "(391, 3, 0, 227451)"
      ]
     },
     "execution_count": 361,
     "metadata": {},
     "output_type": "execute_result"
    }
   ],
   "source": [
    "make_conf_matrix(item)"
   ]
  },
  {
   "cell_type": "code",
   "execution_count": 362,
   "metadata": {},
   "outputs": [
    {
     "data": {
      "text/plain": [
       "array([   391,      3,      0, 227451])"
      ]
     },
     "execution_count": 362,
     "metadata": {},
     "output_type": "execute_result"
    }
   ],
   "source": [
    "conf_matrix = make_conf_matrix(make_input_matrix(matrix))\n",
    "array_conf_matrix = np.asarray(conf_matrix)\n",
    "array_conf_matrix"
   ]
  },
  {
   "cell_type": "code",
   "execution_count": null,
   "metadata": {},
   "outputs": [],
   "source": []
  },
  {
   "cell_type": "code",
   "execution_count": 363,
   "metadata": {},
   "outputs": [
    {
     "data": {
      "text/plain": [
       "array([1., 1., 1., ..., 0., 0., 0.])"
      ]
     },
     "execution_count": 363,
     "metadata": {},
     "output_type": "execute_result"
    }
   ],
   "source": [
    "y_hat_matrix = np.array(preds)[:, 2]\n",
    "y_hat_matrix"
   ]
  },
  {
   "cell_type": "code",
   "execution_count": 364,
   "metadata": {},
   "outputs": [
    {
     "data": {
      "text/plain": [
       "array([1., 1., 1., ..., 0., 0., 0.])"
      ]
     },
     "execution_count": 364,
     "metadata": {},
     "output_type": "execute_result"
    }
   ],
   "source": [
    "y_og_matrix = np.array(preds)[:, 0]\n",
    "y_og_matrix"
   ]
  },
  {
   "cell_type": "code",
   "execution_count": 304,
   "metadata": {
    "scrolled": true
   },
   "outputs": [
    {
     "data": {
      "text/plain": [
       "394.0"
      ]
     },
     "execution_count": 304,
     "metadata": {},
     "output_type": "execute_result"
    }
   ],
   "source": [
    "y_og_matrix.sum()"
   ]
  },
  {
   "cell_type": "code",
   "execution_count": 305,
   "metadata": {},
   "outputs": [
    {
     "data": {
      "text/plain": [
       "391.0"
      ]
     },
     "execution_count": 305,
     "metadata": {},
     "output_type": "execute_result"
    }
   ],
   "source": [
    "y_hat_matrix.sum()"
   ]
  },
  {
   "cell_type": "code",
   "execution_count": 394,
   "metadata": {},
   "outputs": [
    {
     "data": {
      "text/plain": [
       "(227845,)"
      ]
     },
     "execution_count": 394,
     "metadata": {},
     "output_type": "execute_result"
    }
   ],
   "source": [
    "y_og_matrix.shape"
   ]
  },
  {
   "cell_type": "code",
   "execution_count": 391,
   "metadata": {},
   "outputs": [
    {
     "name": "stdout",
     "output_type": "stream",
     "text": [
      "             precision    recall  f1-score   support\n",
      "\n",
      "        0.0       1.00      1.00      1.00    227451\n",
      "        1.0       0.79      0.78      0.78       394\n",
      "\n",
      "avg / total       1.00      1.00      1.00    227845\n",
      "\n",
      "AUC:  89.1%\n"
     ]
    },
    {
     "data": {
      "image/png": "[encoded data removed]",
      "text/plain": [
       "<Figure size 504x360 with 2 Axes>"
      ]
     },
     "metadata": {
      "needs_background": "light"
     },
     "output_type": "display_data"
    }
   ],
   "source": [
    "#CONFUSION MATRIX FOR PCA ANALYSIS\n",
    "import seaborn as sns\n",
    "\n",
    "print(classification_report(y_og_matrix, y_hat_matrix))\n",
    "print (\"AUC: \", \"{:.1%}\".format(roc_auc_score(y_og_matrix, y_hat_matrix)))\n",
    "cm = confusion_matrix(y_og_matrix, y_hat_matrix)\n",
    "plot_confusion_matrix(cm, title=\"PCA Anomaly Confusion Matrix\", save=False, saveas=\"PCA_Confusion.png\")"
   ]
  },
  {
   "cell_type": "markdown",
   "metadata": {},
   "source": [
    "# NN Auto-encoder"
   ]
  },
  {
   "cell_type": "code",
   "execution_count": 307,
   "metadata": {},
   "outputs": [],
   "source": [
    "from functools import reduce\n",
    "from operator import mul\n",
    "from tensorflow.keras.layers import Input, Dense, LeakyReLU, Flatten, Conv2D, MaxPooling2D, Dropout, Reshape, UpSampling2D, Conv2DTranspose\n",
    "from tensorflow.keras.models import Model\n",
    "from tensorflow.keras.optimizers import Adam, Adamax, Ftrl, Nadam, Optimizer, Adadelta, Adagrad, RMSprop, SGD\n"
   ]
  },
  {
   "cell_type": "code",
   "execution_count": 308,
   "metadata": {},
   "outputs": [],
   "source": [
    "#import csv data newly so any modifications are not transferred\n",
    "df = pd.read_csv('creditcard.csv')"
   ]
  },
  {
   "cell_type": "code",
   "execution_count": 309,
   "metadata": {},
   "outputs": [],
   "source": [
    "#create x and y, maintain in dataframe/ series format for the following\n",
    "X_nn = df.copy().drop('Class', axis=1)\n",
    "y_nn = df['Class'].copy()\n",
    "\n",
    "# Need to scale the X features that are still in dataframe format\n",
    "featuresToScale = X_nn.columns\n",
    "\n",
    "#use Standard scaler to modify all of the feature columns in X\n",
    "scaled_X_nn = StandardScaler(copy=True)\n",
    "\n",
    "# replace all of X_pca DataFrame features with the scaled features\n",
    "# also fit label encoder and return encoded labels\n",
    "# once you fit_transform to you X feature data \n",
    "X_nn.loc[:,featuresToScale] = scaled_X_nn.fit_transform(X_nn[featuresToScale])"
   ]
  },
  {
   "cell_type": "code",
   "execution_count": 310,
   "metadata": {},
   "outputs": [],
   "source": [
    "def dense_encoder(shape, neurons, dim):\n",
    "    i = Input(shape=shape)\n",
    "    x = Flatten()(i)\n",
    "    x = Dense(units=neurons)(x)\n",
    "    x = LeakyReLU()(x)\n",
    "    x = Dense(units=dim)(x)\n",
    "    x = LeakyReLU()(x)\n",
    "    return Model(i, x, name='Dense-Encocder')"
   ]
  },
  {
   "cell_type": "code",
   "execution_count": 311,
   "metadata": {},
   "outputs": [],
   "source": [
    "def dense_decoder(shape, neurons, dim):\n",
    "    flattened = reduce(mul, shape)\n",
    "    i = Input(shape=dim)\n",
    "    x = Dense(units=neurons)(i)\n",
    "    x = LeakyReLU()(x)\n",
    "    x = Dense(units=flattened)(x)\n",
    "    x = LeakyReLU()(x)\n",
    "    x = Reshape(shape)(x)\n",
    "    return Model(i, x, name='Dense-Decoder')"
   ]
  },
  {
   "cell_type": "code",
   "execution_count": 312,
   "metadata": {},
   "outputs": [
    {
     "data": {
      "text/html": [
       "<div>\n",
       "<style scoped>\n",
       "    .dataframe tbody tr th:only-of-type {\n",
       "        vertical-align: middle;\n",
       "    }\n",
       "\n",
       "    .dataframe tbody tr th {\n",
       "        vertical-align: top;\n",
       "    }\n",
       "\n",
       "    .dataframe thead th {\n",
       "        text-align: right;\n",
       "    }\n",
       "</style>\n",
       "<table border=\"1\" class=\"dataframe\">\n",
       "  <thead>\n",
       "    <tr style=\"text-align: right;\">\n",
       "      <th></th>\n",
       "      <th>Time</th>\n",
       "      <th>V1</th>\n",
       "      <th>V2</th>\n",
       "      <th>V3</th>\n",
       "      <th>V4</th>\n",
       "      <th>V5</th>\n",
       "      <th>V6</th>\n",
       "      <th>V7</th>\n",
       "      <th>V8</th>\n",
       "      <th>V9</th>\n",
       "      <th>...</th>\n",
       "      <th>V21</th>\n",
       "      <th>V22</th>\n",
       "      <th>V23</th>\n",
       "      <th>V24</th>\n",
       "      <th>V25</th>\n",
       "      <th>V26</th>\n",
       "      <th>V27</th>\n",
       "      <th>V28</th>\n",
       "      <th>Amount</th>\n",
       "      <th>Class</th>\n",
       "    </tr>\n",
       "  </thead>\n",
       "  <tbody>\n",
       "    <tr>\n",
       "      <th>0</th>\n",
       "      <td>0.0</td>\n",
       "      <td>-1.359807</td>\n",
       "      <td>-0.072781</td>\n",
       "      <td>2.536347</td>\n",
       "      <td>1.378155</td>\n",
       "      <td>-0.338321</td>\n",
       "      <td>0.462388</td>\n",
       "      <td>0.239599</td>\n",
       "      <td>0.098698</td>\n",
       "      <td>0.363787</td>\n",
       "      <td>...</td>\n",
       "      <td>-0.018307</td>\n",
       "      <td>0.277838</td>\n",
       "      <td>-0.110474</td>\n",
       "      <td>0.066928</td>\n",
       "      <td>0.128539</td>\n",
       "      <td>-0.189115</td>\n",
       "      <td>0.133558</td>\n",
       "      <td>-0.021053</td>\n",
       "      <td>149.62</td>\n",
       "      <td>0</td>\n",
       "    </tr>\n",
       "    <tr>\n",
       "      <th>1</th>\n",
       "      <td>0.0</td>\n",
       "      <td>1.191857</td>\n",
       "      <td>0.266151</td>\n",
       "      <td>0.166480</td>\n",
       "      <td>0.448154</td>\n",
       "      <td>0.060018</td>\n",
       "      <td>-0.082361</td>\n",
       "      <td>-0.078803</td>\n",
       "      <td>0.085102</td>\n",
       "      <td>-0.255425</td>\n",
       "      <td>...</td>\n",
       "      <td>-0.225775</td>\n",
       "      <td>-0.638672</td>\n",
       "      <td>0.101288</td>\n",
       "      <td>-0.339846</td>\n",
       "      <td>0.167170</td>\n",
       "      <td>0.125895</td>\n",
       "      <td>-0.008983</td>\n",
       "      <td>0.014724</td>\n",
       "      <td>2.69</td>\n",
       "      <td>0</td>\n",
       "    </tr>\n",
       "    <tr>\n",
       "      <th>2</th>\n",
       "      <td>1.0</td>\n",
       "      <td>-1.358354</td>\n",
       "      <td>-1.340163</td>\n",
       "      <td>1.773209</td>\n",
       "      <td>0.379780</td>\n",
       "      <td>-0.503198</td>\n",
       "      <td>1.800499</td>\n",
       "      <td>0.791461</td>\n",
       "      <td>0.247676</td>\n",
       "      <td>-1.514654</td>\n",
       "      <td>...</td>\n",
       "      <td>0.247998</td>\n",
       "      <td>0.771679</td>\n",
       "      <td>0.909412</td>\n",
       "      <td>-0.689281</td>\n",
       "      <td>-0.327642</td>\n",
       "      <td>-0.139097</td>\n",
       "      <td>-0.055353</td>\n",
       "      <td>-0.059752</td>\n",
       "      <td>378.66</td>\n",
       "      <td>0</td>\n",
       "    </tr>\n",
       "    <tr>\n",
       "      <th>3</th>\n",
       "      <td>1.0</td>\n",
       "      <td>-0.966272</td>\n",
       "      <td>-0.185226</td>\n",
       "      <td>1.792993</td>\n",
       "      <td>-0.863291</td>\n",
       "      <td>-0.010309</td>\n",
       "      <td>1.247203</td>\n",
       "      <td>0.237609</td>\n",
       "      <td>0.377436</td>\n",
       "      <td>-1.387024</td>\n",
       "      <td>...</td>\n",
       "      <td>-0.108300</td>\n",
       "      <td>0.005274</td>\n",
       "      <td>-0.190321</td>\n",
       "      <td>-1.175575</td>\n",
       "      <td>0.647376</td>\n",
       "      <td>-0.221929</td>\n",
       "      <td>0.062723</td>\n",
       "      <td>0.061458</td>\n",
       "      <td>123.50</td>\n",
       "      <td>0</td>\n",
       "    </tr>\n",
       "    <tr>\n",
       "      <th>4</th>\n",
       "      <td>2.0</td>\n",
       "      <td>-1.158233</td>\n",
       "      <td>0.877737</td>\n",
       "      <td>1.548718</td>\n",
       "      <td>0.403034</td>\n",
       "      <td>-0.407193</td>\n",
       "      <td>0.095921</td>\n",
       "      <td>0.592941</td>\n",
       "      <td>-0.270533</td>\n",
       "      <td>0.817739</td>\n",
       "      <td>...</td>\n",
       "      <td>-0.009431</td>\n",
       "      <td>0.798278</td>\n",
       "      <td>-0.137458</td>\n",
       "      <td>0.141267</td>\n",
       "      <td>-0.206010</td>\n",
       "      <td>0.502292</td>\n",
       "      <td>0.219422</td>\n",
       "      <td>0.215153</td>\n",
       "      <td>69.99</td>\n",
       "      <td>0</td>\n",
       "    </tr>\n",
       "  </tbody>\n",
       "</table>\n",
       "<p>5 rows × 31 columns</p>\n",
       "</div>"
      ],
      "text/plain": [
       "   Time        V1        V2        V3        V4        V5        V6        V7  \\\n",
       "0   0.0 -1.359807 -0.072781  2.536347  1.378155 -0.338321  0.462388  0.239599   \n",
       "1   0.0  1.191857  0.266151  0.166480  0.448154  0.060018 -0.082361 -0.078803   \n",
       "2   1.0 -1.358354 -1.340163  1.773209  0.379780 -0.503198  1.800499  0.791461   \n",
       "3   1.0 -0.966272 -0.185226  1.792993 -0.863291 -0.010309  1.247203  0.237609   \n",
       "4   2.0 -1.158233  0.877737  1.548718  0.403034 -0.407193  0.095921  0.592941   \n",
       "\n",
       "         V8        V9  ...       V21       V22       V23       V24       V25  \\\n",
       "0  0.098698  0.363787  ... -0.018307  0.277838 -0.110474  0.066928  0.128539   \n",
       "1  0.085102 -0.255425  ... -0.225775 -0.638672  0.101288 -0.339846  0.167170   \n",
       "2  0.247676 -1.514654  ...  0.247998  0.771679  0.909412 -0.689281 -0.327642   \n",
       "3  0.377436 -1.387024  ... -0.108300  0.005274 -0.190321 -1.175575  0.647376   \n",
       "4 -0.270533  0.817739  ... -0.009431  0.798278 -0.137458  0.141267 -0.206010   \n",
       "\n",
       "        V26       V27       V28  Amount  Class  \n",
       "0 -0.189115  0.133558 -0.021053  149.62      0  \n",
       "1  0.125895 -0.008983  0.014724    2.69      0  \n",
       "2 -0.139097 -0.055353 -0.059752  378.66      0  \n",
       "3 -0.221929  0.062723  0.061458  123.50      0  \n",
       "4  0.502292  0.219422  0.215153   69.99      0  \n",
       "\n",
       "[5 rows x 31 columns]"
      ]
     },
     "execution_count": 312,
     "metadata": {},
     "output_type": "execute_result"
    }
   ],
   "source": [
    "df.head()"
   ]
  },
  {
   "cell_type": "code",
   "execution_count": 313,
   "metadata": {},
   "outputs": [
    {
     "data": {
      "text/html": [
       "<div>\n",
       "<style scoped>\n",
       "    .dataframe tbody tr th:only-of-type {\n",
       "        vertical-align: middle;\n",
       "    }\n",
       "\n",
       "    .dataframe tbody tr th {\n",
       "        vertical-align: top;\n",
       "    }\n",
       "\n",
       "    .dataframe thead th {\n",
       "        text-align: right;\n",
       "    }\n",
       "</style>\n",
       "<table border=\"1\" class=\"dataframe\">\n",
       "  <thead>\n",
       "    <tr style=\"text-align: right;\">\n",
       "      <th></th>\n",
       "      <th>Time</th>\n",
       "      <th>V1</th>\n",
       "      <th>V2</th>\n",
       "      <th>V3</th>\n",
       "      <th>V4</th>\n",
       "      <th>V5</th>\n",
       "      <th>V6</th>\n",
       "      <th>V7</th>\n",
       "      <th>V8</th>\n",
       "      <th>V9</th>\n",
       "      <th>...</th>\n",
       "      <th>V20</th>\n",
       "      <th>V21</th>\n",
       "      <th>V22</th>\n",
       "      <th>V23</th>\n",
       "      <th>V24</th>\n",
       "      <th>V25</th>\n",
       "      <th>V26</th>\n",
       "      <th>V27</th>\n",
       "      <th>V28</th>\n",
       "      <th>Amount</th>\n",
       "    </tr>\n",
       "  </thead>\n",
       "  <tbody>\n",
       "    <tr>\n",
       "      <th>0</th>\n",
       "      <td>-1.996583</td>\n",
       "      <td>-0.694242</td>\n",
       "      <td>-0.044075</td>\n",
       "      <td>1.672773</td>\n",
       "      <td>0.973366</td>\n",
       "      <td>-0.245117</td>\n",
       "      <td>0.347068</td>\n",
       "      <td>0.193679</td>\n",
       "      <td>0.082637</td>\n",
       "      <td>0.331128</td>\n",
       "      <td>...</td>\n",
       "      <td>0.326118</td>\n",
       "      <td>-0.024923</td>\n",
       "      <td>0.382854</td>\n",
       "      <td>-0.176911</td>\n",
       "      <td>0.110507</td>\n",
       "      <td>0.246585</td>\n",
       "      <td>-0.392170</td>\n",
       "      <td>0.330892</td>\n",
       "      <td>-0.063781</td>\n",
       "      <td>0.244964</td>\n",
       "    </tr>\n",
       "    <tr>\n",
       "      <th>1</th>\n",
       "      <td>-1.996583</td>\n",
       "      <td>0.608496</td>\n",
       "      <td>0.161176</td>\n",
       "      <td>0.109797</td>\n",
       "      <td>0.316523</td>\n",
       "      <td>0.043483</td>\n",
       "      <td>-0.061820</td>\n",
       "      <td>-0.063700</td>\n",
       "      <td>0.071253</td>\n",
       "      <td>-0.232494</td>\n",
       "      <td>...</td>\n",
       "      <td>-0.089611</td>\n",
       "      <td>-0.307377</td>\n",
       "      <td>-0.880077</td>\n",
       "      <td>0.162201</td>\n",
       "      <td>-0.561131</td>\n",
       "      <td>0.320694</td>\n",
       "      <td>0.261069</td>\n",
       "      <td>-0.022256</td>\n",
       "      <td>0.044608</td>\n",
       "      <td>-0.342475</td>\n",
       "    </tr>\n",
       "    <tr>\n",
       "      <th>2</th>\n",
       "      <td>-1.996562</td>\n",
       "      <td>-0.693500</td>\n",
       "      <td>-0.811578</td>\n",
       "      <td>1.169468</td>\n",
       "      <td>0.268231</td>\n",
       "      <td>-0.364572</td>\n",
       "      <td>1.351454</td>\n",
       "      <td>0.639776</td>\n",
       "      <td>0.207373</td>\n",
       "      <td>-1.378675</td>\n",
       "      <td>...</td>\n",
       "      <td>0.680975</td>\n",
       "      <td>0.337632</td>\n",
       "      <td>1.063358</td>\n",
       "      <td>1.456320</td>\n",
       "      <td>-1.138092</td>\n",
       "      <td>-0.628537</td>\n",
       "      <td>-0.288447</td>\n",
       "      <td>-0.137137</td>\n",
       "      <td>-0.181021</td>\n",
       "      <td>1.160686</td>\n",
       "    </tr>\n",
       "    <tr>\n",
       "      <th>3</th>\n",
       "      <td>-1.996562</td>\n",
       "      <td>-0.493325</td>\n",
       "      <td>-0.112169</td>\n",
       "      <td>1.182516</td>\n",
       "      <td>-0.609727</td>\n",
       "      <td>-0.007469</td>\n",
       "      <td>0.936150</td>\n",
       "      <td>0.192071</td>\n",
       "      <td>0.316018</td>\n",
       "      <td>-1.262503</td>\n",
       "      <td>...</td>\n",
       "      <td>-0.269855</td>\n",
       "      <td>-0.147443</td>\n",
       "      <td>0.007267</td>\n",
       "      <td>-0.304777</td>\n",
       "      <td>-1.941027</td>\n",
       "      <td>1.241904</td>\n",
       "      <td>-0.460217</td>\n",
       "      <td>0.155396</td>\n",
       "      <td>0.186189</td>\n",
       "      <td>0.140534</td>\n",
       "    </tr>\n",
       "    <tr>\n",
       "      <th>4</th>\n",
       "      <td>-1.996541</td>\n",
       "      <td>-0.591330</td>\n",
       "      <td>0.531541</td>\n",
       "      <td>1.021412</td>\n",
       "      <td>0.284655</td>\n",
       "      <td>-0.295015</td>\n",
       "      <td>0.071999</td>\n",
       "      <td>0.479302</td>\n",
       "      <td>-0.226510</td>\n",
       "      <td>0.744326</td>\n",
       "      <td>...</td>\n",
       "      <td>0.529939</td>\n",
       "      <td>-0.012839</td>\n",
       "      <td>1.100011</td>\n",
       "      <td>-0.220123</td>\n",
       "      <td>0.233250</td>\n",
       "      <td>-0.395202</td>\n",
       "      <td>1.041611</td>\n",
       "      <td>0.543620</td>\n",
       "      <td>0.651816</td>\n",
       "      <td>-0.073403</td>\n",
       "    </tr>\n",
       "  </tbody>\n",
       "</table>\n",
       "<p>5 rows × 30 columns</p>\n",
       "</div>"
      ],
      "text/plain": [
       "       Time        V1        V2        V3        V4        V5        V6  \\\n",
       "0 -1.996583 -0.694242 -0.044075  1.672773  0.973366 -0.245117  0.347068   \n",
       "1 -1.996583  0.608496  0.161176  0.109797  0.316523  0.043483 -0.061820   \n",
       "2 -1.996562 -0.693500 -0.811578  1.169468  0.268231 -0.364572  1.351454   \n",
       "3 -1.996562 -0.493325 -0.112169  1.182516 -0.609727 -0.007469  0.936150   \n",
       "4 -1.996541 -0.591330  0.531541  1.021412  0.284655 -0.295015  0.071999   \n",
       "\n",
       "         V7        V8        V9  ...       V20       V21       V22       V23  \\\n",
       "0  0.193679  0.082637  0.331128  ...  0.326118 -0.024923  0.382854 -0.176911   \n",
       "1 -0.063700  0.071253 -0.232494  ... -0.089611 -0.307377 -0.880077  0.162201   \n",
       "2  0.639776  0.207373 -1.378675  ...  0.680975  0.337632  1.063358  1.456320   \n",
       "3  0.192071  0.316018 -1.262503  ... -0.269855 -0.147443  0.007267 -0.304777   \n",
       "4  0.479302 -0.226510  0.744326  ...  0.529939 -0.012839  1.100011 -0.220123   \n",
       "\n",
       "        V24       V25       V26       V27       V28    Amount  \n",
       "0  0.110507  0.246585 -0.392170  0.330892 -0.063781  0.244964  \n",
       "1 -0.561131  0.320694  0.261069 -0.022256  0.044608 -0.342475  \n",
       "2 -1.138092 -0.628537 -0.288447 -0.137137 -0.181021  1.160686  \n",
       "3 -1.941027  1.241904 -0.460217  0.155396  0.186189  0.140534  \n",
       "4  0.233250 -0.395202  1.041611  0.543620  0.651816 -0.073403  \n",
       "\n",
       "[5 rows x 30 columns]"
      ]
     },
     "execution_count": 313,
     "metadata": {},
     "output_type": "execute_result"
    }
   ],
   "source": [
    "X_nn.head()"
   ]
  },
  {
   "cell_type": "code",
   "execution_count": 314,
   "metadata": {},
   "outputs": [],
   "source": [
    "Xnn_train, Xnn_test, ynn_train, ynn_test = train_test_split(X_nn, y_nn, test_size=0.2,\n",
    "                    random_state=42, stratify=y_nn)"
   ]
  },
  {
   "cell_type": "code",
   "execution_count": 315,
   "metadata": {},
   "outputs": [
    {
     "data": {
      "text/plain": [
       "((227845, 30), (227845,))"
      ]
     },
     "execution_count": 315,
     "metadata": {},
     "output_type": "execute_result"
    }
   ],
   "source": [
    "Xnn_train.shape, ynn_train.shape"
   ]
  },
  {
   "cell_type": "code",
   "execution_count": 395,
   "metadata": {},
   "outputs": [],
   "source": [
    "# dimension reduction\n",
    "dim = 27"
   ]
  },
  {
   "cell_type": "code",
   "execution_count": 396,
   "metadata": {},
   "outputs": [
    {
     "data": {
      "text/plain": [
       "(30,)"
      ]
     },
     "execution_count": 396,
     "metadata": {},
     "output_type": "execute_result"
    }
   ],
   "source": [
    "Xnn_train.shape[1:]"
   ]
  },
  {
   "cell_type": "code",
   "execution_count": 397,
   "metadata": {},
   "outputs": [
    {
     "name": "stdout",
     "output_type": "stream",
     "text": [
      "Model: \"Dense-Encocder\"\n",
      "_________________________________________________________________\n",
      "Layer (type)                 Output Shape              Param #   \n",
      "=================================================================\n",
      "input_36 (InputLayer)        [(None, 30)]              0         \n",
      "_________________________________________________________________\n",
      "flatten_12 (Flatten)         (None, 30)                0         \n",
      "_________________________________________________________________\n",
      "dense_46 (Dense)             (None, 300)               9300      \n",
      "_________________________________________________________________\n",
      "leaky_re_lu_46 (LeakyReLU)   (None, 300)               0         \n",
      "_________________________________________________________________\n",
      "dense_47 (Dense)             (None, 27)                8127      \n",
      "_________________________________________________________________\n",
      "leaky_re_lu_47 (LeakyReLU)   (None, 27)                0         \n",
      "=================================================================\n",
      "Total params: 17,427\n",
      "Trainable params: 17,427\n",
      "Non-trainable params: 0\n",
      "_________________________________________________________________\n"
     ]
    }
   ],
   "source": [
    "# ENCODER\n",
    "encoder = dense_encoder(Xnn_train.shape[1:], 300, dim)\n",
    "encoder.summary()"
   ]
  },
  {
   "cell_type": "code",
   "execution_count": 398,
   "metadata": {},
   "outputs": [
    {
     "name": "stdout",
     "output_type": "stream",
     "text": [
      "Model: \"Dense-Decoder\"\n",
      "_________________________________________________________________\n",
      "Layer (type)                 Output Shape              Param #   \n",
      "=================================================================\n",
      "input_37 (InputLayer)        [(None, 27)]              0         \n",
      "_________________________________________________________________\n",
      "dense_48 (Dense)             (None, 300)               8400      \n",
      "_________________________________________________________________\n",
      "leaky_re_lu_48 (LeakyReLU)   (None, 300)               0         \n",
      "_________________________________________________________________\n",
      "dense_49 (Dense)             (None, 30)                9030      \n",
      "_________________________________________________________________\n",
      "leaky_re_lu_49 (LeakyReLU)   (None, 30)                0         \n",
      "_________________________________________________________________\n",
      "reshape_11 (Reshape)         (None, 30)                0         \n",
      "=================================================================\n",
      "Total params: 17,430\n",
      "Trainable params: 17,430\n",
      "Non-trainable params: 0\n",
      "_________________________________________________________________\n"
     ]
    }
   ],
   "source": [
    "\n",
    "# DECODER\n",
    "decoder = dense_decoder(Xnn_train.shape[1:], 300, dim)\n",
    "decoder.summary()"
   ]
  },
  {
   "cell_type": "code",
   "execution_count": 399,
   "metadata": {},
   "outputs": [
    {
     "name": "stdout",
     "output_type": "stream",
     "text": [
      "Model: \"Dense-AutoEncoder\"\n",
      "_________________________________________________________________\n",
      "Layer (type)                 Output Shape              Param #   \n",
      "=================================================================\n",
      "input_38 (InputLayer)        [(None, 30)]              0         \n",
      "_________________________________________________________________\n",
      "Dense-Encocder (Model)       (None, 27)                17427     \n",
      "_________________________________________________________________\n",
      "Dense-Decoder (Model)        (None, 30)                17430     \n",
      "=================================================================\n",
      "Total params: 34,857\n",
      "Trainable params: 34,857\n",
      "Non-trainable params: 0\n",
      "_________________________________________________________________\n"
     ]
    }
   ],
   "source": [
    "\n",
    "# AUTOENCODER\n",
    "inp = Input(shape=Xnn_train.shape[1:])\n",
    "mid = encoder(inp)\n",
    "out = decoder(mid)\n",
    "\n",
    "model = Model(inp, out, name=\"Dense-AutoEncoder\")\n",
    "model.summary()"
   ]
  },
  {
   "cell_type": "code",
   "execution_count": 400,
   "metadata": {},
   "outputs": [
    {
     "name": "stdout",
     "output_type": "stream",
     "text": [
      "Train on 227845 samples, validate on 56962 samples\n",
      "Epoch 1/20\n",
      "227845/227845 [==============================] - 3s 13us/sample - loss: 0.1346 - val_loss: 0.0584\n",
      "Epoch 2/20\n",
      "227845/227845 [==============================] - 2s 11us/sample - loss: 0.0634 - val_loss: 0.0281\n",
      "Epoch 3/20\n",
      "227845/227845 [==============================] - 2s 11us/sample - loss: 0.0390 - val_loss: 0.0264\n",
      "Epoch 4/20\n",
      "227845/227845 [==============================] - 2s 11us/sample - loss: 0.0263 - val_loss: 0.0180\n",
      "Epoch 5/20\n",
      "227845/227845 [==============================] - 3s 11us/sample - loss: 0.0250 - val_loss: 0.0510\n",
      "Epoch 6/20\n",
      "227845/227845 [==============================] - 3s 11us/sample - loss: 0.0327 - val_loss: 0.0270\n",
      "Epoch 7/20\n",
      "227845/227845 [==============================] - 2s 11us/sample - loss: 0.0240 - val_loss: 0.0454\n",
      "Epoch 8/20\n",
      "227845/227845 [==============================] - 2s 11us/sample - loss: 0.0206 - val_loss: 0.0093\n",
      "Epoch 9/20\n",
      "227845/227845 [==============================] - 3s 11us/sample - loss: 0.0148 - val_loss: 0.0067\n",
      "Epoch 10/20\n",
      "227845/227845 [==============================] - 3s 11us/sample - loss: 0.0152 - val_loss: 0.0082\n",
      "Epoch 11/20\n",
      "227845/227845 [==============================] - 2s 11us/sample - loss: 0.0103 - val_loss: 0.0463\n",
      "Epoch 12/20\n",
      "227845/227845 [==============================] - 3s 12us/sample - loss: 0.0137 - val_loss: 0.0177\n",
      "Epoch 13/20\n",
      "227845/227845 [==============================] - 3s 11us/sample - loss: 0.0146 - val_loss: 0.0135\n",
      "Epoch 14/20\n",
      "227845/227845 [==============================] - 3s 13us/sample - loss: 0.0166 - val_loss: 0.0112\n",
      "Epoch 15/20\n",
      "227845/227845 [==============================] - 3s 12us/sample - loss: 0.0125 - val_loss: 0.0081\n",
      "Epoch 16/20\n",
      "227845/227845 [==============================] - 3s 12us/sample - loss: 0.0151 - val_loss: 0.0066\n",
      "Epoch 17/20\n",
      "227845/227845 [==============================] - 3s 11us/sample - loss: 0.0155 - val_loss: 0.0121\n",
      "Epoch 18/20\n",
      "227845/227845 [==============================] - 3s 12us/sample - loss: 0.0120 - val_loss: 0.0059\n",
      "Epoch 19/20\n",
      "227845/227845 [==============================] - 3s 11us/sample - loss: 0.0078 - val_loss: 0.0052\n",
      "Epoch 20/20\n",
      "227845/227845 [==============================] - 3s 12us/sample - loss: 0.0124 - val_loss: 0.0053\n"
     ]
    },
    {
     "data": {
      "text/plain": [
       "<tensorflow.python.keras.callbacks.History at 0x1a51e0f890>"
      ]
     },
     "execution_count": 400,
     "metadata": {},
     "output_type": "execute_result"
    }
   ],
   "source": [
    "\n",
    "# TRAINING\n",
    "model.compile(loss=\"mse\", optimizer=Adam(lr=0.005))\n",
    "model.fit(Xnn_train, Xnn_train, epochs=20, batch_size=400, shuffle=True, validation_data=(Xnn_test, Xnn_test), verbose=1)"
   ]
  },
  {
   "cell_type": "code",
   "execution_count": 401,
   "metadata": {},
   "outputs": [],
   "source": [
    "\n",
    "# PREDICTIONS\n",
    "Xnn_hat = model.predict(Xnn_train)"
   ]
  },
  {
   "cell_type": "code",
   "execution_count": 402,
   "metadata": {},
   "outputs": [
    {
     "data": {
      "text/plain": [
       "((227845, 30), (227845, 30))"
      ]
     },
     "execution_count": 402,
     "metadata": {},
     "output_type": "execute_result"
    }
   ],
   "source": [
    "Xnn_hat.shape, Xnn_train.shape"
   ]
  },
  {
   "cell_type": "markdown",
   "metadata": {},
   "source": [
    "## Analyze results of NN encoding"
   ]
  },
  {
   "cell_type": "code",
   "execution_count": 403,
   "metadata": {},
   "outputs": [
    {
     "data": {
      "text/plain": [
       "0    227451\n",
       "1       394\n",
       "Name: Class, dtype: int64"
      ]
     },
     "execution_count": 403,
     "metadata": {},
     "output_type": "execute_result"
    }
   ],
   "source": [
    "ynn_train.value_counts()"
   ]
  },
  {
   "cell_type": "code",
   "execution_count": null,
   "metadata": {},
   "outputs": [],
   "source": []
  },
  {
   "cell_type": "code",
   "execution_count": 405,
   "metadata": {},
   "outputs": [],
   "source": [
    "X_train_NN = Xnn_train\n",
    "X_train_NN = pd.DataFrame(data=X_train_NN, index=Xnn_train.index)\n",
    "\n",
    "X_hat_NN = Xnn_hat\n",
    "X_hat_NN = pd.DataFrame(data=X_hat_NN, index=Xnn_train.index)"
   ]
  },
  {
   "cell_type": "code",
   "execution_count": 406,
   "metadata": {},
   "outputs": [
    {
     "data": {
      "text/html": [
       "<div>\n",
       "<style scoped>\n",
       "    .dataframe tbody tr th:only-of-type {\n",
       "        vertical-align: middle;\n",
       "    }\n",
       "\n",
       "    .dataframe tbody tr th {\n",
       "        vertical-align: top;\n",
       "    }\n",
       "\n",
       "    .dataframe thead th {\n",
       "        text-align: right;\n",
       "    }\n",
       "</style>\n",
       "<table border=\"1\" class=\"dataframe\">\n",
       "  <thead>\n",
       "    <tr style=\"text-align: right;\">\n",
       "      <th></th>\n",
       "      <th>Time</th>\n",
       "      <th>V1</th>\n",
       "      <th>V2</th>\n",
       "      <th>V3</th>\n",
       "      <th>V4</th>\n",
       "      <th>V5</th>\n",
       "      <th>V6</th>\n",
       "      <th>V7</th>\n",
       "      <th>V8</th>\n",
       "      <th>V9</th>\n",
       "      <th>...</th>\n",
       "      <th>V20</th>\n",
       "      <th>V21</th>\n",
       "      <th>V22</th>\n",
       "      <th>V23</th>\n",
       "      <th>V24</th>\n",
       "      <th>V25</th>\n",
       "      <th>V26</th>\n",
       "      <th>V27</th>\n",
       "      <th>V28</th>\n",
       "      <th>Amount</th>\n",
       "    </tr>\n",
       "  </thead>\n",
       "  <tbody>\n",
       "    <tr>\n",
       "      <th>265518</th>\n",
       "      <td>1.413095</td>\n",
       "      <td>0.993901</td>\n",
       "      <td>-0.455716</td>\n",
       "      <td>-0.893736</td>\n",
       "      <td>-0.467297</td>\n",
       "      <td>1.088809</td>\n",
       "      <td>3.021112</td>\n",
       "      <td>-1.196081</td>\n",
       "      <td>0.954393</td>\n",
       "      <td>1.280521</td>\n",
       "      <td>...</td>\n",
       "      <td>-0.174381</td>\n",
       "      <td>0.103736</td>\n",
       "      <td>0.409999</td>\n",
       "      <td>0.493090</td>\n",
       "      <td>1.140898</td>\n",
       "      <td>-0.672034</td>\n",
       "      <td>-0.806483</td>\n",
       "      <td>0.192356</td>\n",
       "      <td>-0.097696</td>\n",
       "      <td>-0.323963</td>\n",
       "    </tr>\n",
       "    <tr>\n",
       "      <th>180305</th>\n",
       "      <td>0.624644</td>\n",
       "      <td>1.039035</td>\n",
       "      <td>-0.029601</td>\n",
       "      <td>-2.017272</td>\n",
       "      <td>0.175119</td>\n",
       "      <td>2.132584</td>\n",
       "      <td>2.476000</td>\n",
       "      <td>-0.001772</td>\n",
       "      <td>0.564978</td>\n",
       "      <td>0.041712</td>\n",
       "      <td>...</td>\n",
       "      <td>-0.294814</td>\n",
       "      <td>0.052590</td>\n",
       "      <td>0.314451</td>\n",
       "      <td>0.056917</td>\n",
       "      <td>1.167497</td>\n",
       "      <td>0.983900</td>\n",
       "      <td>-0.977130</td>\n",
       "      <td>0.006243</td>\n",
       "      <td>-0.209044</td>\n",
       "      <td>-0.341275</td>\n",
       "    </tr>\n",
       "    <tr>\n",
       "      <th>42664</th>\n",
       "      <td>-1.129186</td>\n",
       "      <td>-0.506419</td>\n",
       "      <td>0.365282</td>\n",
       "      <td>0.469563</td>\n",
       "      <td>-0.700931</td>\n",
       "      <td>-0.598327</td>\n",
       "      <td>1.468368</td>\n",
       "      <td>-1.788553</td>\n",
       "      <td>-4.217792</td>\n",
       "      <td>0.000702</td>\n",
       "      <td>...</td>\n",
       "      <td>1.661457</td>\n",
       "      <td>-3.809756</td>\n",
       "      <td>0.150924</td>\n",
       "      <td>-0.699053</td>\n",
       "      <td>-1.540179</td>\n",
       "      <td>1.585882</td>\n",
       "      <td>1.894906</td>\n",
       "      <td>0.094266</td>\n",
       "      <td>0.561497</td>\n",
       "      <td>0.346835</td>\n",
       "    </tr>\n",
       "    <tr>\n",
       "      <th>198723</th>\n",
       "      <td>0.796203</td>\n",
       "      <td>1.166961</td>\n",
       "      <td>-0.908517</td>\n",
       "      <td>-0.493035</td>\n",
       "      <td>-1.178161</td>\n",
       "      <td>-1.010069</td>\n",
       "      <td>-0.262964</td>\n",
       "      <td>-1.154307</td>\n",
       "      <td>0.008381</td>\n",
       "      <td>-1.018038</td>\n",
       "      <td>...</td>\n",
       "      <td>-0.636433</td>\n",
       "      <td>-0.190151</td>\n",
       "      <td>0.106123</td>\n",
       "      <td>0.333585</td>\n",
       "      <td>-0.888698</td>\n",
       "      <td>-0.533367</td>\n",
       "      <td>-0.336083</td>\n",
       "      <td>0.044707</td>\n",
       "      <td>-0.190877</td>\n",
       "      <td>-0.328841</td>\n",
       "    </tr>\n",
       "    <tr>\n",
       "      <th>82325</th>\n",
       "      <td>-0.746606</td>\n",
       "      <td>-0.229105</td>\n",
       "      <td>-0.612509</td>\n",
       "      <td>0.076440</td>\n",
       "      <td>-2.440100</td>\n",
       "      <td>0.518582</td>\n",
       "      <td>-0.110706</td>\n",
       "      <td>0.407688</td>\n",
       "      <td>-0.095296</td>\n",
       "      <td>-0.040762</td>\n",
       "      <td>...</td>\n",
       "      <td>-0.357100</td>\n",
       "      <td>-0.331161</td>\n",
       "      <td>-0.238802</td>\n",
       "      <td>-0.010717</td>\n",
       "      <td>-2.249471</td>\n",
       "      <td>-0.560612</td>\n",
       "      <td>-0.299904</td>\n",
       "      <td>-0.080718</td>\n",
       "      <td>-0.194477</td>\n",
       "      <td>-0.008994</td>\n",
       "    </tr>\n",
       "  </tbody>\n",
       "</table>\n",
       "<p>5 rows × 30 columns</p>\n",
       "</div>"
      ],
      "text/plain": [
       "            Time        V1        V2        V3        V4        V5        V6  \\\n",
       "265518  1.413095  0.993901 -0.455716 -0.893736 -0.467297  1.088809  3.021112   \n",
       "180305  0.624644  1.039035 -0.029601 -2.017272  0.175119  2.132584  2.476000   \n",
       "42664  -1.129186 -0.506419  0.365282  0.469563 -0.700931 -0.598327  1.468368   \n",
       "198723  0.796203  1.166961 -0.908517 -0.493035 -1.178161 -1.010069 -0.262964   \n",
       "82325  -0.746606 -0.229105 -0.612509  0.076440 -2.440100  0.518582 -0.110706   \n",
       "\n",
       "              V7        V8        V9  ...       V20       V21       V22  \\\n",
       "265518 -1.196081  0.954393  1.280521  ... -0.174381  0.103736  0.409999   \n",
       "180305 -0.001772  0.564978  0.041712  ... -0.294814  0.052590  0.314451   \n",
       "42664  -1.788553 -4.217792  0.000702  ...  1.661457 -3.809756  0.150924   \n",
       "198723 -1.154307  0.008381 -1.018038  ... -0.636433 -0.190151  0.106123   \n",
       "82325   0.407688 -0.095296 -0.040762  ... -0.357100 -0.331161 -0.238802   \n",
       "\n",
       "             V23       V24       V25       V26       V27       V28    Amount  \n",
       "265518  0.493090  1.140898 -0.672034 -0.806483  0.192356 -0.097696 -0.323963  \n",
       "180305  0.056917  1.167497  0.983900 -0.977130  0.006243 -0.209044 -0.341275  \n",
       "42664  -0.699053 -1.540179  1.585882  1.894906  0.094266  0.561497  0.346835  \n",
       "198723  0.333585 -0.888698 -0.533367 -0.336083  0.044707 -0.190877 -0.328841  \n",
       "82325  -0.010717 -2.249471 -0.560612 -0.299904 -0.080718 -0.194477 -0.008994  \n",
       "\n",
       "[5 rows x 30 columns]"
      ]
     },
     "execution_count": 406,
     "metadata": {},
     "output_type": "execute_result"
    }
   ],
   "source": [
    "X_train_NN.head()"
   ]
  },
  {
   "cell_type": "code",
   "execution_count": 407,
   "metadata": {},
   "outputs": [
    {
     "data": {
      "text/html": [
       "<div>\n",
       "<style scoped>\n",
       "    .dataframe tbody tr th:only-of-type {\n",
       "        vertical-align: middle;\n",
       "    }\n",
       "\n",
       "    .dataframe tbody tr th {\n",
       "        vertical-align: top;\n",
       "    }\n",
       "\n",
       "    .dataframe thead th {\n",
       "        text-align: right;\n",
       "    }\n",
       "</style>\n",
       "<table border=\"1\" class=\"dataframe\">\n",
       "  <thead>\n",
       "    <tr style=\"text-align: right;\">\n",
       "      <th></th>\n",
       "      <th>0</th>\n",
       "      <th>1</th>\n",
       "      <th>2</th>\n",
       "      <th>3</th>\n",
       "      <th>4</th>\n",
       "      <th>5</th>\n",
       "      <th>6</th>\n",
       "      <th>7</th>\n",
       "      <th>8</th>\n",
       "      <th>9</th>\n",
       "      <th>...</th>\n",
       "      <th>20</th>\n",
       "      <th>21</th>\n",
       "      <th>22</th>\n",
       "      <th>23</th>\n",
       "      <th>24</th>\n",
       "      <th>25</th>\n",
       "      <th>26</th>\n",
       "      <th>27</th>\n",
       "      <th>28</th>\n",
       "      <th>29</th>\n",
       "    </tr>\n",
       "  </thead>\n",
       "  <tbody>\n",
       "    <tr>\n",
       "      <th>265518</th>\n",
       "      <td>1.366506</td>\n",
       "      <td>0.977602</td>\n",
       "      <td>-0.479085</td>\n",
       "      <td>-0.936717</td>\n",
       "      <td>-0.462282</td>\n",
       "      <td>1.100174</td>\n",
       "      <td>3.017325</td>\n",
       "      <td>-1.232326</td>\n",
       "      <td>0.914018</td>\n",
       "      <td>1.298541</td>\n",
       "      <td>...</td>\n",
       "      <td>-0.103866</td>\n",
       "      <td>0.130299</td>\n",
       "      <td>0.407842</td>\n",
       "      <td>0.488002</td>\n",
       "      <td>1.130606</td>\n",
       "      <td>-0.690456</td>\n",
       "      <td>-0.830496</td>\n",
       "      <td>0.157051</td>\n",
       "      <td>-0.046759</td>\n",
       "      <td>-0.271110</td>\n",
       "    </tr>\n",
       "    <tr>\n",
       "      <th>180305</th>\n",
       "      <td>0.636107</td>\n",
       "      <td>0.976243</td>\n",
       "      <td>-0.072285</td>\n",
       "      <td>-2.012910</td>\n",
       "      <td>0.152136</td>\n",
       "      <td>2.110386</td>\n",
       "      <td>2.405823</td>\n",
       "      <td>-0.059209</td>\n",
       "      <td>0.537012</td>\n",
       "      <td>0.051045</td>\n",
       "      <td>...</td>\n",
       "      <td>-0.268772</td>\n",
       "      <td>0.039206</td>\n",
       "      <td>0.288806</td>\n",
       "      <td>0.063560</td>\n",
       "      <td>1.137918</td>\n",
       "      <td>0.993718</td>\n",
       "      <td>-0.961655</td>\n",
       "      <td>-0.028696</td>\n",
       "      <td>-0.110159</td>\n",
       "      <td>-0.311033</td>\n",
       "    </tr>\n",
       "    <tr>\n",
       "      <th>42664</th>\n",
       "      <td>-1.169554</td>\n",
       "      <td>-0.527624</td>\n",
       "      <td>0.392385</td>\n",
       "      <td>0.188912</td>\n",
       "      <td>-0.733876</td>\n",
       "      <td>-0.735912</td>\n",
       "      <td>1.412778</td>\n",
       "      <td>-1.872203</td>\n",
       "      <td>-4.280189</td>\n",
       "      <td>-0.030757</td>\n",
       "      <td>...</td>\n",
       "      <td>1.542009</td>\n",
       "      <td>-3.779014</td>\n",
       "      <td>0.321765</td>\n",
       "      <td>-0.546779</td>\n",
       "      <td>-1.525904</td>\n",
       "      <td>1.646888</td>\n",
       "      <td>1.928430</td>\n",
       "      <td>0.269395</td>\n",
       "      <td>0.849453</td>\n",
       "      <td>0.216780</td>\n",
       "    </tr>\n",
       "    <tr>\n",
       "      <th>198723</th>\n",
       "      <td>0.804507</td>\n",
       "      <td>1.165511</td>\n",
       "      <td>-0.896687</td>\n",
       "      <td>-0.489814</td>\n",
       "      <td>-1.208405</td>\n",
       "      <td>-1.003619</td>\n",
       "      <td>-0.307840</td>\n",
       "      <td>-1.160151</td>\n",
       "      <td>-0.002503</td>\n",
       "      <td>-1.055306</td>\n",
       "      <td>...</td>\n",
       "      <td>-0.636642</td>\n",
       "      <td>-0.174074</td>\n",
       "      <td>0.092240</td>\n",
       "      <td>0.435268</td>\n",
       "      <td>-0.903911</td>\n",
       "      <td>-0.555843</td>\n",
       "      <td>-0.317898</td>\n",
       "      <td>0.033096</td>\n",
       "      <td>-0.162343</td>\n",
       "      <td>-0.322887</td>\n",
       "    </tr>\n",
       "    <tr>\n",
       "      <th>82325</th>\n",
       "      <td>-0.750087</td>\n",
       "      <td>-0.273773</td>\n",
       "      <td>-0.590432</td>\n",
       "      <td>-0.022874</td>\n",
       "      <td>-2.413883</td>\n",
       "      <td>0.457621</td>\n",
       "      <td>-0.263487</td>\n",
       "      <td>0.207344</td>\n",
       "      <td>-0.125391</td>\n",
       "      <td>-0.090929</td>\n",
       "      <td>...</td>\n",
       "      <td>-0.448515</td>\n",
       "      <td>-0.317243</td>\n",
       "      <td>-0.250640</td>\n",
       "      <td>0.152305</td>\n",
       "      <td>-2.300060</td>\n",
       "      <td>-0.521734</td>\n",
       "      <td>-0.300237</td>\n",
       "      <td>-0.012530</td>\n",
       "      <td>-0.124592</td>\n",
       "      <td>-0.040432</td>\n",
       "    </tr>\n",
       "  </tbody>\n",
       "</table>\n",
       "<p>5 rows × 30 columns</p>\n",
       "</div>"
      ],
      "text/plain": [
       "              0         1         2         3         4         5         6   \\\n",
       "265518  1.366506  0.977602 -0.479085 -0.936717 -0.462282  1.100174  3.017325   \n",
       "180305  0.636107  0.976243 -0.072285 -2.012910  0.152136  2.110386  2.405823   \n",
       "42664  -1.169554 -0.527624  0.392385  0.188912 -0.733876 -0.735912  1.412778   \n",
       "198723  0.804507  1.165511 -0.896687 -0.489814 -1.208405 -1.003619 -0.307840   \n",
       "82325  -0.750087 -0.273773 -0.590432 -0.022874 -2.413883  0.457621 -0.263487   \n",
       "\n",
       "              7         8         9   ...        20        21        22  \\\n",
       "265518 -1.232326  0.914018  1.298541  ... -0.103866  0.130299  0.407842   \n",
       "180305 -0.059209  0.537012  0.051045  ... -0.268772  0.039206  0.288806   \n",
       "42664  -1.872203 -4.280189 -0.030757  ...  1.542009 -3.779014  0.321765   \n",
       "198723 -1.160151 -0.002503 -1.055306  ... -0.636642 -0.174074  0.092240   \n",
       "82325   0.207344 -0.125391 -0.090929  ... -0.448515 -0.317243 -0.250640   \n",
       "\n",
       "              23        24        25        26        27        28        29  \n",
       "265518  0.488002  1.130606 -0.690456 -0.830496  0.157051 -0.046759 -0.271110  \n",
       "180305  0.063560  1.137918  0.993718 -0.961655 -0.028696 -0.110159 -0.311033  \n",
       "42664  -0.546779 -1.525904  1.646888  1.928430  0.269395  0.849453  0.216780  \n",
       "198723  0.435268 -0.903911 -0.555843 -0.317898  0.033096 -0.162343 -0.322887  \n",
       "82325   0.152305 -2.300060 -0.521734 -0.300237 -0.012530 -0.124592 -0.040432  \n",
       "\n",
       "[5 rows x 30 columns]"
      ]
     },
     "execution_count": 407,
     "metadata": {},
     "output_type": "execute_result"
    }
   ],
   "source": [
    "X_hat_NN.head()"
   ]
  },
  {
   "cell_type": "code",
   "execution_count": null,
   "metadata": {},
   "outputs": [],
   "source": []
  },
  {
   "cell_type": "code",
   "execution_count": 408,
   "metadata": {},
   "outputs": [],
   "source": [
    "def anomalyScoresNN(originalDF, reducedDF):\n",
    "    loss = np.sum((np.array(originalDF)-np.array(reducedDF))**2, axis=1)\n",
    "    loss = pd.Series(data=loss,index=originalDF.index)\n",
    "    loss = (loss-np.min(loss))/(np.max(loss)-np.min(loss))\n",
    "    return loss"
   ]
  },
  {
   "cell_type": "code",
   "execution_count": 409,
   "metadata": {
    "scrolled": true
   },
   "outputs": [
    {
     "data": {
      "text/html": [
       "<div>\n",
       "<style scoped>\n",
       "    .dataframe tbody tr th:only-of-type {\n",
       "        vertical-align: middle;\n",
       "    }\n",
       "\n",
       "    .dataframe tbody tr th {\n",
       "        vertical-align: top;\n",
       "    }\n",
       "\n",
       "    .dataframe thead th {\n",
       "        text-align: right;\n",
       "    }\n",
       "</style>\n",
       "<table border=\"1\" class=\"dataframe\">\n",
       "  <thead>\n",
       "    <tr style=\"text-align: right;\">\n",
       "      <th></th>\n",
       "      <th>0</th>\n",
       "    </tr>\n",
       "  </thead>\n",
       "  <tbody>\n",
       "    <tr>\n",
       "      <th>265518</th>\n",
       "      <td>0.000064</td>\n",
       "    </tr>\n",
       "    <tr>\n",
       "      <th>180305</th>\n",
       "      <td>0.000052</td>\n",
       "    </tr>\n",
       "    <tr>\n",
       "      <th>42664</th>\n",
       "      <td>0.000686</td>\n",
       "    </tr>\n",
       "    <tr>\n",
       "      <th>198723</th>\n",
       "      <td>0.000058</td>\n",
       "    </tr>\n",
       "    <tr>\n",
       "      <th>82325</th>\n",
       "      <td>0.000295</td>\n",
       "    </tr>\n",
       "    <tr>\n",
       "      <th>...</th>\n",
       "      <td>...</td>\n",
       "    </tr>\n",
       "    <tr>\n",
       "      <th>233802</th>\n",
       "      <td>0.000028</td>\n",
       "    </tr>\n",
       "    <tr>\n",
       "      <th>85418</th>\n",
       "      <td>0.000112</td>\n",
       "    </tr>\n",
       "    <tr>\n",
       "      <th>29062</th>\n",
       "      <td>0.000049</td>\n",
       "    </tr>\n",
       "    <tr>\n",
       "      <th>13766</th>\n",
       "      <td>0.000084</td>\n",
       "    </tr>\n",
       "    <tr>\n",
       "      <th>17677</th>\n",
       "      <td>0.000088</td>\n",
       "    </tr>\n",
       "  </tbody>\n",
       "</table>\n",
       "<p>227845 rows × 1 columns</p>\n",
       "</div>"
      ],
      "text/plain": [
       "               0\n",
       "265518  0.000064\n",
       "180305  0.000052\n",
       "42664   0.000686\n",
       "198723  0.000058\n",
       "82325   0.000295\n",
       "...          ...\n",
       "233802  0.000028\n",
       "85418   0.000112\n",
       "29062   0.000049\n",
       "13766   0.000084\n",
       "17677   0.000088\n",
       "\n",
       "[227845 rows x 1 columns]"
      ]
     },
     "execution_count": 409,
     "metadata": {},
     "output_type": "execute_result"
    }
   ],
   "source": [
    "anomalyScoresNN = anomalyScores(Xnn_train, X_hat_NN)\n",
    "anomalyScoresNN = pd.DataFrame(data=anomalyScoresNN, index=Xnn_train.index)\n",
    "\n",
    "anomalyScoresNN "
   ]
  },
  {
   "cell_type": "code",
   "execution_count": 410,
   "metadata": {},
   "outputs": [
    {
     "data": {
      "text/plain": [
       "0    227451\n",
       "1       394\n",
       "Name: trueLabel, dtype: int64"
      ]
     },
     "execution_count": 410,
     "metadata": {},
     "output_type": "execute_result"
    }
   ],
   "source": [
    "preds_NN = pd.concat([ynn_train, anomalyScoresNN], axis=1)\n",
    "preds_NN.columns = ['trueLabel', 'anomalyScoreNN']\n",
    "preds_NN.trueLabel.value_counts()\n"
   ]
  },
  {
   "cell_type": "code",
   "execution_count": 419,
   "metadata": {
    "scrolled": true
   },
   "outputs": [
    {
     "data": {
      "text/html": [
       "<div>\n",
       "<style scoped>\n",
       "    .dataframe tbody tr th:only-of-type {\n",
       "        vertical-align: middle;\n",
       "    }\n",
       "\n",
       "    .dataframe tbody tr th {\n",
       "        vertical-align: top;\n",
       "    }\n",
       "\n",
       "    .dataframe thead th {\n",
       "        text-align: right;\n",
       "    }\n",
       "</style>\n",
       "<table border=\"1\" class=\"dataframe\">\n",
       "  <thead>\n",
       "    <tr style=\"text-align: right;\">\n",
       "      <th></th>\n",
       "      <th>trueLabel</th>\n",
       "      <th>anomalyScoreNN</th>\n",
       "      <th>predicted_class</th>\n",
       "    </tr>\n",
       "  </thead>\n",
       "  <tbody>\n",
       "    <tr>\n",
       "      <th>274771</th>\n",
       "      <td>0</td>\n",
       "      <td>1.000000</td>\n",
       "      <td>1</td>\n",
       "    </tr>\n",
       "    <tr>\n",
       "      <th>39769</th>\n",
       "      <td>0</td>\n",
       "      <td>0.425780</td>\n",
       "      <td>1</td>\n",
       "    </tr>\n",
       "    <tr>\n",
       "      <th>262843</th>\n",
       "      <td>0</td>\n",
       "      <td>0.180597</td>\n",
       "      <td>1</td>\n",
       "    </tr>\n",
       "    <tr>\n",
       "      <th>220212</th>\n",
       "      <td>0</td>\n",
       "      <td>0.179202</td>\n",
       "      <td>1</td>\n",
       "    </tr>\n",
       "    <tr>\n",
       "      <th>219640</th>\n",
       "      <td>0</td>\n",
       "      <td>0.165698</td>\n",
       "      <td>1</td>\n",
       "    </tr>\n",
       "    <tr>\n",
       "      <th>224569</th>\n",
       "      <td>0</td>\n",
       "      <td>0.160786</td>\n",
       "      <td>1</td>\n",
       "    </tr>\n",
       "    <tr>\n",
       "      <th>201869</th>\n",
       "      <td>0</td>\n",
       "      <td>0.158179</td>\n",
       "      <td>1</td>\n",
       "    </tr>\n",
       "    <tr>\n",
       "      <th>206228</th>\n",
       "      <td>0</td>\n",
       "      <td>0.142992</td>\n",
       "      <td>1</td>\n",
       "    </tr>\n",
       "    <tr>\n",
       "      <th>206255</th>\n",
       "      <td>0</td>\n",
       "      <td>0.137223</td>\n",
       "      <td>1</td>\n",
       "    </tr>\n",
       "    <tr>\n",
       "      <th>262378</th>\n",
       "      <td>0</td>\n",
       "      <td>0.132502</td>\n",
       "      <td>1</td>\n",
       "    </tr>\n",
       "    <tr>\n",
       "      <th>184433</th>\n",
       "      <td>0</td>\n",
       "      <td>0.127539</td>\n",
       "      <td>1</td>\n",
       "    </tr>\n",
       "    <tr>\n",
       "      <th>234519</th>\n",
       "      <td>0</td>\n",
       "      <td>0.123105</td>\n",
       "      <td>1</td>\n",
       "    </tr>\n",
       "    <tr>\n",
       "      <th>201775</th>\n",
       "      <td>0</td>\n",
       "      <td>0.123034</td>\n",
       "      <td>1</td>\n",
       "    </tr>\n",
       "    <tr>\n",
       "      <th>261843</th>\n",
       "      <td>0</td>\n",
       "      <td>0.116222</td>\n",
       "      <td>1</td>\n",
       "    </tr>\n",
       "    <tr>\n",
       "      <th>261282</th>\n",
       "      <td>0</td>\n",
       "      <td>0.113664</td>\n",
       "      <td>1</td>\n",
       "    </tr>\n",
       "    <tr>\n",
       "      <th>154684</th>\n",
       "      <td>1</td>\n",
       "      <td>0.107739</td>\n",
       "      <td>1</td>\n",
       "    </tr>\n",
       "    <tr>\n",
       "      <th>212822</th>\n",
       "      <td>0</td>\n",
       "      <td>0.104653</td>\n",
       "      <td>1</td>\n",
       "    </tr>\n",
       "    <tr>\n",
       "      <th>213188</th>\n",
       "      <td>0</td>\n",
       "      <td>0.102266</td>\n",
       "      <td>1</td>\n",
       "    </tr>\n",
       "    <tr>\n",
       "      <th>213160</th>\n",
       "      <td>0</td>\n",
       "      <td>0.100704</td>\n",
       "      <td>1</td>\n",
       "    </tr>\n",
       "    <tr>\n",
       "      <th>65423</th>\n",
       "      <td>0</td>\n",
       "      <td>0.097827</td>\n",
       "      <td>1</td>\n",
       "    </tr>\n",
       "    <tr>\n",
       "      <th>154587</th>\n",
       "      <td>1</td>\n",
       "      <td>0.096872</td>\n",
       "      <td>1</td>\n",
       "    </tr>\n",
       "    <tr>\n",
       "      <th>77814</th>\n",
       "      <td>0</td>\n",
       "      <td>0.093941</td>\n",
       "      <td>1</td>\n",
       "    </tr>\n",
       "    <tr>\n",
       "      <th>145090</th>\n",
       "      <td>0</td>\n",
       "      <td>0.088343</td>\n",
       "      <td>1</td>\n",
       "    </tr>\n",
       "    <tr>\n",
       "      <th>195218</th>\n",
       "      <td>0</td>\n",
       "      <td>0.087369</td>\n",
       "      <td>1</td>\n",
       "    </tr>\n",
       "    <tr>\n",
       "      <th>151296</th>\n",
       "      <td>0</td>\n",
       "      <td>0.083975</td>\n",
       "      <td>1</td>\n",
       "    </tr>\n",
       "    <tr>\n",
       "      <th>176335</th>\n",
       "      <td>0</td>\n",
       "      <td>0.082756</td>\n",
       "      <td>1</td>\n",
       "    </tr>\n",
       "    <tr>\n",
       "      <th>1632</th>\n",
       "      <td>0</td>\n",
       "      <td>0.081279</td>\n",
       "      <td>1</td>\n",
       "    </tr>\n",
       "    <tr>\n",
       "      <th>58465</th>\n",
       "      <td>0</td>\n",
       "      <td>0.081239</td>\n",
       "      <td>1</td>\n",
       "    </tr>\n",
       "    <tr>\n",
       "      <th>233904</th>\n",
       "      <td>0</td>\n",
       "      <td>0.074847</td>\n",
       "      <td>1</td>\n",
       "    </tr>\n",
       "    <tr>\n",
       "      <th>131480</th>\n",
       "      <td>0</td>\n",
       "      <td>0.074288</td>\n",
       "      <td>1</td>\n",
       "    </tr>\n",
       "    <tr>\n",
       "      <th>154234</th>\n",
       "      <td>1</td>\n",
       "      <td>0.071870</td>\n",
       "      <td>1</td>\n",
       "    </tr>\n",
       "    <tr>\n",
       "      <th>231454</th>\n",
       "      <td>0</td>\n",
       "      <td>0.071157</td>\n",
       "      <td>1</td>\n",
       "    </tr>\n",
       "    <tr>\n",
       "      <th>151006</th>\n",
       "      <td>1</td>\n",
       "      <td>0.067317</td>\n",
       "      <td>1</td>\n",
       "    </tr>\n",
       "    <tr>\n",
       "      <th>151007</th>\n",
       "      <td>1</td>\n",
       "      <td>0.067317</td>\n",
       "      <td>1</td>\n",
       "    </tr>\n",
       "    <tr>\n",
       "      <th>151009</th>\n",
       "      <td>1</td>\n",
       "      <td>0.067317</td>\n",
       "      <td>1</td>\n",
       "    </tr>\n",
       "    <tr>\n",
       "      <th>209292</th>\n",
       "      <td>0</td>\n",
       "      <td>0.066044</td>\n",
       "      <td>1</td>\n",
       "    </tr>\n",
       "    <tr>\n",
       "      <th>199032</th>\n",
       "      <td>0</td>\n",
       "      <td>0.063092</td>\n",
       "      <td>1</td>\n",
       "    </tr>\n",
       "    <tr>\n",
       "      <th>154371</th>\n",
       "      <td>1</td>\n",
       "      <td>0.058341</td>\n",
       "      <td>1</td>\n",
       "    </tr>\n",
       "    <tr>\n",
       "      <th>8610</th>\n",
       "      <td>0</td>\n",
       "      <td>0.056100</td>\n",
       "      <td>1</td>\n",
       "    </tr>\n",
       "    <tr>\n",
       "      <th>121787</th>\n",
       "      <td>0</td>\n",
       "      <td>0.055745</td>\n",
       "      <td>1</td>\n",
       "    </tr>\n",
       "    <tr>\n",
       "      <th>23128</th>\n",
       "      <td>0</td>\n",
       "      <td>0.054773</td>\n",
       "      <td>1</td>\n",
       "    </tr>\n",
       "    <tr>\n",
       "      <th>227921</th>\n",
       "      <td>0</td>\n",
       "      <td>0.053402</td>\n",
       "      <td>1</td>\n",
       "    </tr>\n",
       "    <tr>\n",
       "      <th>222922</th>\n",
       "      <td>0</td>\n",
       "      <td>0.051829</td>\n",
       "      <td>1</td>\n",
       "    </tr>\n",
       "    <tr>\n",
       "      <th>222421</th>\n",
       "      <td>0</td>\n",
       "      <td>0.051301</td>\n",
       "      <td>1</td>\n",
       "    </tr>\n",
       "    <tr>\n",
       "      <th>229036</th>\n",
       "      <td>0</td>\n",
       "      <td>0.051297</td>\n",
       "      <td>1</td>\n",
       "    </tr>\n",
       "    <tr>\n",
       "      <th>217533</th>\n",
       "      <td>0</td>\n",
       "      <td>0.051262</td>\n",
       "      <td>1</td>\n",
       "    </tr>\n",
       "    <tr>\n",
       "      <th>44270</th>\n",
       "      <td>1</td>\n",
       "      <td>0.049328</td>\n",
       "      <td>1</td>\n",
       "    </tr>\n",
       "    <tr>\n",
       "      <th>86492</th>\n",
       "      <td>0</td>\n",
       "      <td>0.048895</td>\n",
       "      <td>1</td>\n",
       "    </tr>\n",
       "    <tr>\n",
       "      <th>226982</th>\n",
       "      <td>0</td>\n",
       "      <td>0.048705</td>\n",
       "      <td>1</td>\n",
       "    </tr>\n",
       "    <tr>\n",
       "      <th>226690</th>\n",
       "      <td>0</td>\n",
       "      <td>0.048288</td>\n",
       "      <td>1</td>\n",
       "    </tr>\n",
       "  </tbody>\n",
       "</table>\n",
       "</div>"
      ],
      "text/plain": [
       "        trueLabel  anomalyScoreNN  predicted_class\n",
       "274771          0        1.000000                1\n",
       "39769           0        0.425780                1\n",
       "262843          0        0.180597                1\n",
       "220212          0        0.179202                1\n",
       "219640          0        0.165698                1\n",
       "224569          0        0.160786                1\n",
       "201869          0        0.158179                1\n",
       "206228          0        0.142992                1\n",
       "206255          0        0.137223                1\n",
       "262378          0        0.132502                1\n",
       "184433          0        0.127539                1\n",
       "234519          0        0.123105                1\n",
       "201775          0        0.123034                1\n",
       "261843          0        0.116222                1\n",
       "261282          0        0.113664                1\n",
       "154684          1        0.107739                1\n",
       "212822          0        0.104653                1\n",
       "213188          0        0.102266                1\n",
       "213160          0        0.100704                1\n",
       "65423           0        0.097827                1\n",
       "154587          1        0.096872                1\n",
       "77814           0        0.093941                1\n",
       "145090          0        0.088343                1\n",
       "195218          0        0.087369                1\n",
       "151296          0        0.083975                1\n",
       "176335          0        0.082756                1\n",
       "1632            0        0.081279                1\n",
       "58465           0        0.081239                1\n",
       "233904          0        0.074847                1\n",
       "131480          0        0.074288                1\n",
       "154234          1        0.071870                1\n",
       "231454          0        0.071157                1\n",
       "151006          1        0.067317                1\n",
       "151007          1        0.067317                1\n",
       "151009          1        0.067317                1\n",
       "209292          0        0.066044                1\n",
       "199032          0        0.063092                1\n",
       "154371          1        0.058341                1\n",
       "8610            0        0.056100                1\n",
       "121787          0        0.055745                1\n",
       "23128           0        0.054773                1\n",
       "227921          0        0.053402                1\n",
       "222922          0        0.051829                1\n",
       "222421          0        0.051301                1\n",
       "229036          0        0.051297                1\n",
       "217533          0        0.051262                1\n",
       "44270           1        0.049328                1\n",
       "86492           0        0.048895                1\n",
       "226982          0        0.048705                1\n",
       "226690          0        0.048288                1"
      ]
     },
     "execution_count": 419,
     "metadata": {},
     "output_type": "execute_result"
    }
   ],
   "source": [
    "preds_NN.sort_values(by=\"anomalyScoreNN\",ascending=False,inplace=True)\n",
    "preds_NN[:50]"
   ]
  },
  {
   "cell_type": "code",
   "execution_count": 446,
   "metadata": {},
   "outputs": [
    {
     "data": {
      "text/html": [
       "<div>\n",
       "<style scoped>\n",
       "    .dataframe tbody tr th:only-of-type {\n",
       "        vertical-align: middle;\n",
       "    }\n",
       "\n",
       "    .dataframe tbody tr th {\n",
       "        vertical-align: top;\n",
       "    }\n",
       "\n",
       "    .dataframe thead th {\n",
       "        text-align: right;\n",
       "    }\n",
       "</style>\n",
       "<table border=\"1\" class=\"dataframe\">\n",
       "  <thead>\n",
       "    <tr style=\"text-align: right;\">\n",
       "      <th></th>\n",
       "      <th>trueLabel</th>\n",
       "      <th>anomalyScoreNN</th>\n",
       "      <th>predicted_class</th>\n",
       "    </tr>\n",
       "  </thead>\n",
       "  <tbody>\n",
       "    <tr>\n",
       "      <th>274771</th>\n",
       "      <td>0</td>\n",
       "      <td>1.000000</td>\n",
       "      <td>1</td>\n",
       "    </tr>\n",
       "    <tr>\n",
       "      <th>39769</th>\n",
       "      <td>0</td>\n",
       "      <td>0.425780</td>\n",
       "      <td>1</td>\n",
       "    </tr>\n",
       "    <tr>\n",
       "      <th>262843</th>\n",
       "      <td>0</td>\n",
       "      <td>0.180597</td>\n",
       "      <td>1</td>\n",
       "    </tr>\n",
       "    <tr>\n",
       "      <th>220212</th>\n",
       "      <td>0</td>\n",
       "      <td>0.179202</td>\n",
       "      <td>1</td>\n",
       "    </tr>\n",
       "    <tr>\n",
       "      <th>219640</th>\n",
       "      <td>0</td>\n",
       "      <td>0.165698</td>\n",
       "      <td>1</td>\n",
       "    </tr>\n",
       "    <tr>\n",
       "      <th>224569</th>\n",
       "      <td>0</td>\n",
       "      <td>0.160786</td>\n",
       "      <td>1</td>\n",
       "    </tr>\n",
       "    <tr>\n",
       "      <th>201869</th>\n",
       "      <td>0</td>\n",
       "      <td>0.158179</td>\n",
       "      <td>1</td>\n",
       "    </tr>\n",
       "    <tr>\n",
       "      <th>206228</th>\n",
       "      <td>0</td>\n",
       "      <td>0.142992</td>\n",
       "      <td>1</td>\n",
       "    </tr>\n",
       "    <tr>\n",
       "      <th>206255</th>\n",
       "      <td>0</td>\n",
       "      <td>0.137223</td>\n",
       "      <td>1</td>\n",
       "    </tr>\n",
       "    <tr>\n",
       "      <th>262378</th>\n",
       "      <td>0</td>\n",
       "      <td>0.132502</td>\n",
       "      <td>1</td>\n",
       "    </tr>\n",
       "    <tr>\n",
       "      <th>184433</th>\n",
       "      <td>0</td>\n",
       "      <td>0.127539</td>\n",
       "      <td>1</td>\n",
       "    </tr>\n",
       "    <tr>\n",
       "      <th>234519</th>\n",
       "      <td>0</td>\n",
       "      <td>0.123105</td>\n",
       "      <td>1</td>\n",
       "    </tr>\n",
       "    <tr>\n",
       "      <th>201775</th>\n",
       "      <td>0</td>\n",
       "      <td>0.123034</td>\n",
       "      <td>1</td>\n",
       "    </tr>\n",
       "    <tr>\n",
       "      <th>261843</th>\n",
       "      <td>0</td>\n",
       "      <td>0.116222</td>\n",
       "      <td>1</td>\n",
       "    </tr>\n",
       "    <tr>\n",
       "      <th>261282</th>\n",
       "      <td>0</td>\n",
       "      <td>0.113664</td>\n",
       "      <td>1</td>\n",
       "    </tr>\n",
       "    <tr>\n",
       "      <th>154684</th>\n",
       "      <td>1</td>\n",
       "      <td>0.107739</td>\n",
       "      <td>1</td>\n",
       "    </tr>\n",
       "    <tr>\n",
       "      <th>212822</th>\n",
       "      <td>0</td>\n",
       "      <td>0.104653</td>\n",
       "      <td>1</td>\n",
       "    </tr>\n",
       "    <tr>\n",
       "      <th>213188</th>\n",
       "      <td>0</td>\n",
       "      <td>0.102266</td>\n",
       "      <td>1</td>\n",
       "    </tr>\n",
       "    <tr>\n",
       "      <th>213160</th>\n",
       "      <td>0</td>\n",
       "      <td>0.100704</td>\n",
       "      <td>1</td>\n",
       "    </tr>\n",
       "    <tr>\n",
       "      <th>65423</th>\n",
       "      <td>0</td>\n",
       "      <td>0.097827</td>\n",
       "      <td>1</td>\n",
       "    </tr>\n",
       "    <tr>\n",
       "      <th>154587</th>\n",
       "      <td>1</td>\n",
       "      <td>0.096872</td>\n",
       "      <td>1</td>\n",
       "    </tr>\n",
       "    <tr>\n",
       "      <th>77814</th>\n",
       "      <td>0</td>\n",
       "      <td>0.093941</td>\n",
       "      <td>1</td>\n",
       "    </tr>\n",
       "    <tr>\n",
       "      <th>145090</th>\n",
       "      <td>0</td>\n",
       "      <td>0.088343</td>\n",
       "      <td>1</td>\n",
       "    </tr>\n",
       "    <tr>\n",
       "      <th>195218</th>\n",
       "      <td>0</td>\n",
       "      <td>0.087369</td>\n",
       "      <td>1</td>\n",
       "    </tr>\n",
       "    <tr>\n",
       "      <th>151296</th>\n",
       "      <td>0</td>\n",
       "      <td>0.083975</td>\n",
       "      <td>1</td>\n",
       "    </tr>\n",
       "    <tr>\n",
       "      <th>176335</th>\n",
       "      <td>0</td>\n",
       "      <td>0.082756</td>\n",
       "      <td>1</td>\n",
       "    </tr>\n",
       "    <tr>\n",
       "      <th>1632</th>\n",
       "      <td>0</td>\n",
       "      <td>0.081279</td>\n",
       "      <td>1</td>\n",
       "    </tr>\n",
       "    <tr>\n",
       "      <th>58465</th>\n",
       "      <td>0</td>\n",
       "      <td>0.081239</td>\n",
       "      <td>1</td>\n",
       "    </tr>\n",
       "    <tr>\n",
       "      <th>233904</th>\n",
       "      <td>0</td>\n",
       "      <td>0.074847</td>\n",
       "      <td>1</td>\n",
       "    </tr>\n",
       "    <tr>\n",
       "      <th>131480</th>\n",
       "      <td>0</td>\n",
       "      <td>0.074288</td>\n",
       "      <td>1</td>\n",
       "    </tr>\n",
       "    <tr>\n",
       "      <th>154234</th>\n",
       "      <td>1</td>\n",
       "      <td>0.071870</td>\n",
       "      <td>1</td>\n",
       "    </tr>\n",
       "    <tr>\n",
       "      <th>231454</th>\n",
       "      <td>0</td>\n",
       "      <td>0.071157</td>\n",
       "      <td>1</td>\n",
       "    </tr>\n",
       "    <tr>\n",
       "      <th>151006</th>\n",
       "      <td>1</td>\n",
       "      <td>0.067317</td>\n",
       "      <td>1</td>\n",
       "    </tr>\n",
       "    <tr>\n",
       "      <th>151007</th>\n",
       "      <td>1</td>\n",
       "      <td>0.067317</td>\n",
       "      <td>1</td>\n",
       "    </tr>\n",
       "    <tr>\n",
       "      <th>151009</th>\n",
       "      <td>1</td>\n",
       "      <td>0.067317</td>\n",
       "      <td>1</td>\n",
       "    </tr>\n",
       "    <tr>\n",
       "      <th>209292</th>\n",
       "      <td>0</td>\n",
       "      <td>0.066044</td>\n",
       "      <td>1</td>\n",
       "    </tr>\n",
       "    <tr>\n",
       "      <th>199032</th>\n",
       "      <td>0</td>\n",
       "      <td>0.063092</td>\n",
       "      <td>1</td>\n",
       "    </tr>\n",
       "    <tr>\n",
       "      <th>154371</th>\n",
       "      <td>1</td>\n",
       "      <td>0.058341</td>\n",
       "      <td>1</td>\n",
       "    </tr>\n",
       "    <tr>\n",
       "      <th>8610</th>\n",
       "      <td>0</td>\n",
       "      <td>0.056100</td>\n",
       "      <td>1</td>\n",
       "    </tr>\n",
       "    <tr>\n",
       "      <th>121787</th>\n",
       "      <td>0</td>\n",
       "      <td>0.055745</td>\n",
       "      <td>1</td>\n",
       "    </tr>\n",
       "    <tr>\n",
       "      <th>23128</th>\n",
       "      <td>0</td>\n",
       "      <td>0.054773</td>\n",
       "      <td>1</td>\n",
       "    </tr>\n",
       "    <tr>\n",
       "      <th>227921</th>\n",
       "      <td>0</td>\n",
       "      <td>0.053402</td>\n",
       "      <td>1</td>\n",
       "    </tr>\n",
       "    <tr>\n",
       "      <th>222922</th>\n",
       "      <td>0</td>\n",
       "      <td>0.051829</td>\n",
       "      <td>1</td>\n",
       "    </tr>\n",
       "    <tr>\n",
       "      <th>222421</th>\n",
       "      <td>0</td>\n",
       "      <td>0.051301</td>\n",
       "      <td>1</td>\n",
       "    </tr>\n",
       "    <tr>\n",
       "      <th>229036</th>\n",
       "      <td>0</td>\n",
       "      <td>0.051297</td>\n",
       "      <td>1</td>\n",
       "    </tr>\n",
       "    <tr>\n",
       "      <th>217533</th>\n",
       "      <td>0</td>\n",
       "      <td>0.051262</td>\n",
       "      <td>1</td>\n",
       "    </tr>\n",
       "    <tr>\n",
       "      <th>44270</th>\n",
       "      <td>1</td>\n",
       "      <td>0.049328</td>\n",
       "      <td>1</td>\n",
       "    </tr>\n",
       "    <tr>\n",
       "      <th>86492</th>\n",
       "      <td>0</td>\n",
       "      <td>0.048895</td>\n",
       "      <td>1</td>\n",
       "    </tr>\n",
       "    <tr>\n",
       "      <th>226982</th>\n",
       "      <td>0</td>\n",
       "      <td>0.048705</td>\n",
       "      <td>1</td>\n",
       "    </tr>\n",
       "    <tr>\n",
       "      <th>226690</th>\n",
       "      <td>0</td>\n",
       "      <td>0.048288</td>\n",
       "      <td>1</td>\n",
       "    </tr>\n",
       "  </tbody>\n",
       "</table>\n",
       "</div>"
      ],
      "text/plain": [
       "        trueLabel  anomalyScoreNN  predicted_class\n",
       "274771          0        1.000000                1\n",
       "39769           0        0.425780                1\n",
       "262843          0        0.180597                1\n",
       "220212          0        0.179202                1\n",
       "219640          0        0.165698                1\n",
       "224569          0        0.160786                1\n",
       "201869          0        0.158179                1\n",
       "206228          0        0.142992                1\n",
       "206255          0        0.137223                1\n",
       "262378          0        0.132502                1\n",
       "184433          0        0.127539                1\n",
       "234519          0        0.123105                1\n",
       "201775          0        0.123034                1\n",
       "261843          0        0.116222                1\n",
       "261282          0        0.113664                1\n",
       "154684          1        0.107739                1\n",
       "212822          0        0.104653                1\n",
       "213188          0        0.102266                1\n",
       "213160          0        0.100704                1\n",
       "65423           0        0.097827                1\n",
       "154587          1        0.096872                1\n",
       "77814           0        0.093941                1\n",
       "145090          0        0.088343                1\n",
       "195218          0        0.087369                1\n",
       "151296          0        0.083975                1\n",
       "176335          0        0.082756                1\n",
       "1632            0        0.081279                1\n",
       "58465           0        0.081239                1\n",
       "233904          0        0.074847                1\n",
       "131480          0        0.074288                1\n",
       "154234          1        0.071870                1\n",
       "231454          0        0.071157                1\n",
       "151006          1        0.067317                1\n",
       "151007          1        0.067317                1\n",
       "151009          1        0.067317                1\n",
       "209292          0        0.066044                1\n",
       "199032          0        0.063092                1\n",
       "154371          1        0.058341                1\n",
       "8610            0        0.056100                1\n",
       "121787          0        0.055745                1\n",
       "23128           0        0.054773                1\n",
       "227921          0        0.053402                1\n",
       "222922          0        0.051829                1\n",
       "222421          0        0.051301                1\n",
       "229036          0        0.051297                1\n",
       "217533          0        0.051262                1\n",
       "44270           1        0.049328                1\n",
       "86492           0        0.048895                1\n",
       "226982          0        0.048705                1\n",
       "226690          0        0.048288                1"
      ]
     },
     "execution_count": 446,
     "metadata": {},
     "output_type": "execute_result"
    }
   ],
   "source": [
    "preds_NN['predicted_class'] = np.where(preds_NN.anomalyScoreNN>0.0135 , 1, 0)\n",
    "preds_NN[:50]"
   ]
  },
  {
   "cell_type": "code",
   "execution_count": 447,
   "metadata": {},
   "outputs": [
    {
     "data": {
      "text/plain": [
       "trueLabel             394\n",
       "anomalyScoreNN     227844\n",
       "predicted_class       398\n",
       "dtype: int64"
      ]
     },
     "execution_count": 447,
     "metadata": {},
     "output_type": "execute_result"
    }
   ],
   "source": [
    "(preds_NN > 0).sum()"
   ]
  },
  {
   "cell_type": "code",
   "execution_count": 448,
   "metadata": {},
   "outputs": [
    {
     "data": {
      "text/plain": [
       "trueLabel          0\n",
       "anomalyScoreNN     0\n",
       "predicted_class    0\n",
       "dtype: int64"
      ]
     },
     "execution_count": 448,
     "metadata": {},
     "output_type": "execute_result"
    }
   ],
   "source": [
    "(preds_NN < 0).sum()"
   ]
  },
  {
   "cell_type": "code",
   "execution_count": 449,
   "metadata": {},
   "outputs": [
    {
     "data": {
      "text/plain": [
       "array([[0.00000000e+00, 1.00000000e+00, 1.00000000e+00],\n",
       "       [0.00000000e+00, 4.25780485e-01, 1.00000000e+00],\n",
       "       [0.00000000e+00, 1.80596638e-01, 1.00000000e+00],\n",
       "       ...,\n",
       "       [0.00000000e+00, 2.35869251e-07, 0.00000000e+00],\n",
       "       [0.00000000e+00, 4.52294949e-08, 0.00000000e+00],\n",
       "       [0.00000000e+00, 0.00000000e+00, 0.00000000e+00]])"
      ]
     },
     "execution_count": 449,
     "metadata": {},
     "output_type": "execute_result"
    }
   ],
   "source": [
    "matrix_NN = np.array(preds_NN)\n",
    "matrix_NN"
   ]
  },
  {
   "cell_type": "code",
   "execution_count": 450,
   "metadata": {},
   "outputs": [
    {
     "data": {
      "text/plain": [
       "(398, 227447, 394, 227451)"
      ]
     },
     "execution_count": 450,
     "metadata": {},
     "output_type": "execute_result"
    }
   ],
   "source": [
    "item_NN = make_input_matrix(matrix_NN)\n",
    "item_NN"
   ]
  },
  {
   "cell_type": "code",
   "execution_count": 451,
   "metadata": {},
   "outputs": [
    {
     "data": {
      "text/plain": [
       "array([   394,      0,      4, 227447])"
      ]
     },
     "execution_count": 451,
     "metadata": {},
     "output_type": "execute_result"
    }
   ],
   "source": [
    "conf_matrix_NN = make_conf_matrix(make_input_matrix(matrix_NN))\n",
    "array_conf_matrix_NN = np.asarray(conf_matrix_NN)\n",
    "array_conf_matrix_NN"
   ]
  },
  {
   "cell_type": "code",
   "execution_count": 452,
   "metadata": {},
   "outputs": [
    {
     "data": {
      "text/plain": [
       "array([1., 1., 1., ..., 0., 0., 0.])"
      ]
     },
     "execution_count": 452,
     "metadata": {},
     "output_type": "execute_result"
    }
   ],
   "source": [
    "ynn_hat_matrix = np.array(preds_NN)[:, 2]\n",
    "ynn_hat_matrix"
   ]
  },
  {
   "cell_type": "code",
   "execution_count": 453,
   "metadata": {},
   "outputs": [
    {
     "data": {
      "text/plain": [
       "array([1., 1., 1., ..., 0., 0., 0.])"
      ]
     },
     "execution_count": 453,
     "metadata": {},
     "output_type": "execute_result"
    }
   ],
   "source": [
    "ynn_og_matrix = np.array(preds)[:, 0]\n",
    "ynn_og_matrix"
   ]
  },
  {
   "cell_type": "code",
   "execution_count": 454,
   "metadata": {},
   "outputs": [
    {
     "name": "stdout",
     "output_type": "stream",
     "text": [
      "             precision    recall  f1-score   support\n",
      "\n",
      "        0.0       1.00      1.00      1.00    227451\n",
      "        1.0       0.78      0.78      0.78       394\n",
      "\n",
      "avg / total       1.00      1.00      1.00    227845\n",
      "\n",
      "AUC:  89.2%\n"
     ]
    },
    {
     "data": {
      "image/png": "[encoded data removed]",
      "text/plain": [
       "<Figure size 504x360 with 2 Axes>"
      ]
     },
     "metadata": {
      "needs_background": "light"
     },
     "output_type": "display_data"
    }
   ],
   "source": [
    "#CONFUSION MATRIX FOR NN Autoencoder\n",
    "import seaborn as sns\n",
    "\n",
    "print(classification_report(ynn_og_matrix, ynn_hat_matrix))\n",
    "print (\"AUC: \", \"{:.1%}\".format(roc_auc_score(ynn_og_matrix, ynn_hat_matrix)))\n",
    "cm = confusion_matrix(ynn_og_matrix, ynn_hat_matrix)\n",
    "plot_confusion_matrix(cm, title=\"NN Autoencoder Anomaly Confusion Matrix\", save=False, saveas=\"NN_Confusion.png\")"
   ]
  },
  {
   "cell_type": "code",
   "execution_count": null,
   "metadata": {},
   "outputs": [],
   "source": []
  },
  {
   "cell_type": "code",
   "execution_count": null,
   "metadata": {},
   "outputs": [],
   "source": []
  },
  {
   "cell_type": "code",
   "execution_count": null,
   "metadata": {},
   "outputs": [],
   "source": []
  }
 ],
 "metadata": {
  "kernelspec": {
   "display_name": "Python 3",
   "language": "python",
   "name": "python3"
  },
  "language_info": {
   "codemirror_mode": {
    "name": "ipython",
    "version": 3
   },
   "file_extension": ".py",
   "mimetype": "text/x-python",
   "name": "python",
   "nbconvert_exporter": "python",
   "pygments_lexer": "ipython3",
   "version": "3.7.4"
  },
  "toc": {
   "base_numbering": 1,
   "nav_menu": {},
   "number_sections": false,
   "sideBar": true,
   "skip_h1_title": false,
   "title_cell": "Table of Contents",
   "title_sidebar": "Contents",
   "toc_cell": false,
   "toc_position": {
    "height": "calc(100% - 180px)",
    "left": "10px",
    "top": "150px",
    "width": "304.594px"
   },
   "toc_section_display": true,
   "toc_window_display": true
  }
 },
 "nbformat": 4,
 "nbformat_minor": 4
}
