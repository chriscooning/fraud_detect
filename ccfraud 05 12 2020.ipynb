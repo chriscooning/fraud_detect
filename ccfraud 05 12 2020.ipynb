{
 "cells": [
  {
   "cell_type": "code",
   "execution_count": 1,
   "metadata": {},
   "outputs": [
    {
     "name": "stderr",
     "output_type": "stream",
     "text": [
      "/Users/jessicapmouras/opt/anaconda3/lib/python3.7/site-packages/sklearn/ensemble/weight_boosting.py:29: DeprecationWarning: numpy.core.umath_tests is an internal NumPy module and should not be imported. It will be removed in a future NumPy release.\n",
      "  from numpy.core.umath_tests import inner1d\n"
     ]
    }
   ],
   "source": [
    "import pandas as pd\n",
    "import numpy as np\n",
    "import seaborn as sns\n",
    "import scipy as stats\n",
    "from scipy.stats import norm\n",
    "import matplotlib.pyplot as plt\n",
    "\n",
    "#scaling and train-test split\n",
    "from sklearn.preprocessing import StandardScaler, RobustScaler\n",
    "from sklearn.model_selection import train_test_split, StratifiedShuffleSplit, cross_val_score, cross_val_predict, learning_curve\n",
    "\n",
    "#models to review\n",
    "from sklearn.neighbors import KNeighborsClassifier\n",
    "from sklearn.linear_model import LogisticRegression\n",
    "from sklearn.tree import DecisionTreeClassifier\n",
    "from sklearn.ensemble import RandomForestClassifier\n",
    "from sklearn.ensemble import GradientBoostingClassifier\n",
    "from sklearn.ensemble import IsolationForest\n",
    "\n",
    "#crossvalidation methods\n",
    "\n",
    "from sklearn.model_selection import KFold, StratifiedKFold, GridSearchCV\n",
    "\n",
    "#metrics to review\n",
    "from sklearn.metrics import (make_scorer, recall_score, precision_score,\n",
    "f1_score, roc_auc_score, accuracy_score, roc_curve, classification_report, confusion_matrix)\n",
    "\n",
    "#dealing with SMOTE techniques\n",
    "import imblearn\n",
    "from imblearn.pipeline import make_pipeline\n",
    "from imblearn.over_sampling import SMOTE\n",
    "from imblearn.combine import SMOTEENN\n",
    "from imblearn.under_sampling import NearMiss\n",
    "from imblearn.metrics import classification_report_imbalanced\n",
    "\n",
    "from sklearn.model_selection import train_test_split, RandomizedSearchCV\n",
    "\n",
    "#import helper file py\n",
    "import nbimporter\n",
    "from dataclean import *\n",
    "\n",
    "#autoreload python file\n",
    "%load_ext autoreload\n",
    "%autoreload 2\n",
    "%reload_ext autoreload\n",
    "#neatness\n",
    "%matplotlib inline\n",
    "\n",
    "import datetime\n",
    "import itertools"
   ]
  },
  {
   "cell_type": "code",
   "execution_count": 2,
   "metadata": {
    "scrolled": true
   },
   "outputs": [
    {
     "data": {
      "text/html": [
       "<div>\n",
       "<style scoped>\n",
       "    .dataframe tbody tr th:only-of-type {\n",
       "        vertical-align: middle;\n",
       "    }\n",
       "\n",
       "    .dataframe tbody tr th {\n",
       "        vertical-align: top;\n",
       "    }\n",
       "\n",
       "    .dataframe thead th {\n",
       "        text-align: right;\n",
       "    }\n",
       "</style>\n",
       "<table border=\"1\" class=\"dataframe\">\n",
       "  <thead>\n",
       "    <tr style=\"text-align: right;\">\n",
       "      <th></th>\n",
       "      <th>Time</th>\n",
       "      <th>V1</th>\n",
       "      <th>V2</th>\n",
       "      <th>V3</th>\n",
       "      <th>V4</th>\n",
       "      <th>V5</th>\n",
       "      <th>V6</th>\n",
       "      <th>V7</th>\n",
       "      <th>V8</th>\n",
       "      <th>V9</th>\n",
       "      <th>...</th>\n",
       "      <th>V21</th>\n",
       "      <th>V22</th>\n",
       "      <th>V23</th>\n",
       "      <th>V24</th>\n",
       "      <th>V25</th>\n",
       "      <th>V26</th>\n",
       "      <th>V27</th>\n",
       "      <th>V28</th>\n",
       "      <th>Amount</th>\n",
       "      <th>Class</th>\n",
       "    </tr>\n",
       "  </thead>\n",
       "  <tbody>\n",
       "    <tr>\n",
       "      <th>0</th>\n",
       "      <td>0.0</td>\n",
       "      <td>-1.359807</td>\n",
       "      <td>-0.072781</td>\n",
       "      <td>2.536347</td>\n",
       "      <td>1.378155</td>\n",
       "      <td>-0.338321</td>\n",
       "      <td>0.462388</td>\n",
       "      <td>0.239599</td>\n",
       "      <td>0.098698</td>\n",
       "      <td>0.363787</td>\n",
       "      <td>...</td>\n",
       "      <td>-0.018307</td>\n",
       "      <td>0.277838</td>\n",
       "      <td>-0.110474</td>\n",
       "      <td>0.066928</td>\n",
       "      <td>0.128539</td>\n",
       "      <td>-0.189115</td>\n",
       "      <td>0.133558</td>\n",
       "      <td>-0.021053</td>\n",
       "      <td>149.62</td>\n",
       "      <td>0</td>\n",
       "    </tr>\n",
       "    <tr>\n",
       "      <th>1</th>\n",
       "      <td>0.0</td>\n",
       "      <td>1.191857</td>\n",
       "      <td>0.266151</td>\n",
       "      <td>0.166480</td>\n",
       "      <td>0.448154</td>\n",
       "      <td>0.060018</td>\n",
       "      <td>-0.082361</td>\n",
       "      <td>-0.078803</td>\n",
       "      <td>0.085102</td>\n",
       "      <td>-0.255425</td>\n",
       "      <td>...</td>\n",
       "      <td>-0.225775</td>\n",
       "      <td>-0.638672</td>\n",
       "      <td>0.101288</td>\n",
       "      <td>-0.339846</td>\n",
       "      <td>0.167170</td>\n",
       "      <td>0.125895</td>\n",
       "      <td>-0.008983</td>\n",
       "      <td>0.014724</td>\n",
       "      <td>2.69</td>\n",
       "      <td>0</td>\n",
       "    </tr>\n",
       "    <tr>\n",
       "      <th>2</th>\n",
       "      <td>1.0</td>\n",
       "      <td>-1.358354</td>\n",
       "      <td>-1.340163</td>\n",
       "      <td>1.773209</td>\n",
       "      <td>0.379780</td>\n",
       "      <td>-0.503198</td>\n",
       "      <td>1.800499</td>\n",
       "      <td>0.791461</td>\n",
       "      <td>0.247676</td>\n",
       "      <td>-1.514654</td>\n",
       "      <td>...</td>\n",
       "      <td>0.247998</td>\n",
       "      <td>0.771679</td>\n",
       "      <td>0.909412</td>\n",
       "      <td>-0.689281</td>\n",
       "      <td>-0.327642</td>\n",
       "      <td>-0.139097</td>\n",
       "      <td>-0.055353</td>\n",
       "      <td>-0.059752</td>\n",
       "      <td>378.66</td>\n",
       "      <td>0</td>\n",
       "    </tr>\n",
       "    <tr>\n",
       "      <th>3</th>\n",
       "      <td>1.0</td>\n",
       "      <td>-0.966272</td>\n",
       "      <td>-0.185226</td>\n",
       "      <td>1.792993</td>\n",
       "      <td>-0.863291</td>\n",
       "      <td>-0.010309</td>\n",
       "      <td>1.247203</td>\n",
       "      <td>0.237609</td>\n",
       "      <td>0.377436</td>\n",
       "      <td>-1.387024</td>\n",
       "      <td>...</td>\n",
       "      <td>-0.108300</td>\n",
       "      <td>0.005274</td>\n",
       "      <td>-0.190321</td>\n",
       "      <td>-1.175575</td>\n",
       "      <td>0.647376</td>\n",
       "      <td>-0.221929</td>\n",
       "      <td>0.062723</td>\n",
       "      <td>0.061458</td>\n",
       "      <td>123.50</td>\n",
       "      <td>0</td>\n",
       "    </tr>\n",
       "    <tr>\n",
       "      <th>4</th>\n",
       "      <td>2.0</td>\n",
       "      <td>-1.158233</td>\n",
       "      <td>0.877737</td>\n",
       "      <td>1.548718</td>\n",
       "      <td>0.403034</td>\n",
       "      <td>-0.407193</td>\n",
       "      <td>0.095921</td>\n",
       "      <td>0.592941</td>\n",
       "      <td>-0.270533</td>\n",
       "      <td>0.817739</td>\n",
       "      <td>...</td>\n",
       "      <td>-0.009431</td>\n",
       "      <td>0.798278</td>\n",
       "      <td>-0.137458</td>\n",
       "      <td>0.141267</td>\n",
       "      <td>-0.206010</td>\n",
       "      <td>0.502292</td>\n",
       "      <td>0.219422</td>\n",
       "      <td>0.215153</td>\n",
       "      <td>69.99</td>\n",
       "      <td>0</td>\n",
       "    </tr>\n",
       "  </tbody>\n",
       "</table>\n",
       "<p>5 rows × 31 columns</p>\n",
       "</div>"
      ],
      "text/plain": [
       "   Time        V1        V2        V3        V4        V5        V6        V7  \\\n",
       "0   0.0 -1.359807 -0.072781  2.536347  1.378155 -0.338321  0.462388  0.239599   \n",
       "1   0.0  1.191857  0.266151  0.166480  0.448154  0.060018 -0.082361 -0.078803   \n",
       "2   1.0 -1.358354 -1.340163  1.773209  0.379780 -0.503198  1.800499  0.791461   \n",
       "3   1.0 -0.966272 -0.185226  1.792993 -0.863291 -0.010309  1.247203  0.237609   \n",
       "4   2.0 -1.158233  0.877737  1.548718  0.403034 -0.407193  0.095921  0.592941   \n",
       "\n",
       "         V8        V9  ...       V21       V22       V23       V24       V25  \\\n",
       "0  0.098698  0.363787  ... -0.018307  0.277838 -0.110474  0.066928  0.128539   \n",
       "1  0.085102 -0.255425  ... -0.225775 -0.638672  0.101288 -0.339846  0.167170   \n",
       "2  0.247676 -1.514654  ...  0.247998  0.771679  0.909412 -0.689281 -0.327642   \n",
       "3  0.377436 -1.387024  ... -0.108300  0.005274 -0.190321 -1.175575  0.647376   \n",
       "4 -0.270533  0.817739  ... -0.009431  0.798278 -0.137458  0.141267 -0.206010   \n",
       "\n",
       "        V26       V27       V28  Amount  Class  \n",
       "0 -0.189115  0.133558 -0.021053  149.62      0  \n",
       "1  0.125895 -0.008983  0.014724    2.69      0  \n",
       "2 -0.139097 -0.055353 -0.059752  378.66      0  \n",
       "3 -0.221929  0.062723  0.061458  123.50      0  \n",
       "4  0.502292  0.219422  0.215153   69.99      0  \n",
       "\n",
       "[5 rows x 31 columns]"
      ]
     },
     "execution_count": 2,
     "metadata": {},
     "output_type": "execute_result"
    }
   ],
   "source": [
    "#import csv data \n",
    "df = pd.read_csv('creditcard.csv')\n",
    "df.head()"
   ]
  },
  {
   "cell_type": "markdown",
   "metadata": {},
   "source": [
    "## Data cleaning and inital EDA"
   ]
  },
  {
   "cell_type": "code",
   "execution_count": 3,
   "metadata": {},
   "outputs": [
    {
     "data": {
      "text/html": [
       "<div>\n",
       "<style scoped>\n",
       "    .dataframe tbody tr th:only-of-type {\n",
       "        vertical-align: middle;\n",
       "    }\n",
       "\n",
       "    .dataframe tbody tr th {\n",
       "        vertical-align: top;\n",
       "    }\n",
       "\n",
       "    .dataframe thead th {\n",
       "        text-align: right;\n",
       "    }\n",
       "</style>\n",
       "<table border=\"1\" class=\"dataframe\">\n",
       "  <thead>\n",
       "    <tr style=\"text-align: right;\">\n",
       "      <th></th>\n",
       "      <th>Time</th>\n",
       "      <th>V1</th>\n",
       "      <th>V2</th>\n",
       "      <th>V3</th>\n",
       "      <th>V4</th>\n",
       "      <th>V5</th>\n",
       "      <th>V6</th>\n",
       "      <th>V7</th>\n",
       "      <th>V8</th>\n",
       "      <th>V9</th>\n",
       "      <th>...</th>\n",
       "      <th>V21</th>\n",
       "      <th>V22</th>\n",
       "      <th>V23</th>\n",
       "      <th>V24</th>\n",
       "      <th>V25</th>\n",
       "      <th>V26</th>\n",
       "      <th>V27</th>\n",
       "      <th>V28</th>\n",
       "      <th>Amount</th>\n",
       "      <th>Class</th>\n",
       "    </tr>\n",
       "  </thead>\n",
       "  <tbody>\n",
       "    <tr>\n",
       "      <th>count</th>\n",
       "      <td>284807.000000</td>\n",
       "      <td>2.848070e+05</td>\n",
       "      <td>2.848070e+05</td>\n",
       "      <td>2.848070e+05</td>\n",
       "      <td>2.848070e+05</td>\n",
       "      <td>2.848070e+05</td>\n",
       "      <td>2.848070e+05</td>\n",
       "      <td>2.848070e+05</td>\n",
       "      <td>2.848070e+05</td>\n",
       "      <td>2.848070e+05</td>\n",
       "      <td>...</td>\n",
       "      <td>2.848070e+05</td>\n",
       "      <td>2.848070e+05</td>\n",
       "      <td>2.848070e+05</td>\n",
       "      <td>2.848070e+05</td>\n",
       "      <td>2.848070e+05</td>\n",
       "      <td>2.848070e+05</td>\n",
       "      <td>2.848070e+05</td>\n",
       "      <td>2.848070e+05</td>\n",
       "      <td>284807.000000</td>\n",
       "      <td>284807.000000</td>\n",
       "    </tr>\n",
       "    <tr>\n",
       "      <th>mean</th>\n",
       "      <td>94813.859575</td>\n",
       "      <td>3.919560e-15</td>\n",
       "      <td>5.688174e-16</td>\n",
       "      <td>-8.769071e-15</td>\n",
       "      <td>2.782312e-15</td>\n",
       "      <td>-1.552563e-15</td>\n",
       "      <td>2.010663e-15</td>\n",
       "      <td>-1.694249e-15</td>\n",
       "      <td>-1.927028e-16</td>\n",
       "      <td>-3.137024e-15</td>\n",
       "      <td>...</td>\n",
       "      <td>1.537294e-16</td>\n",
       "      <td>7.959909e-16</td>\n",
       "      <td>5.367590e-16</td>\n",
       "      <td>4.458112e-15</td>\n",
       "      <td>1.453003e-15</td>\n",
       "      <td>1.699104e-15</td>\n",
       "      <td>-3.660161e-16</td>\n",
       "      <td>-1.206049e-16</td>\n",
       "      <td>88.349619</td>\n",
       "      <td>0.001727</td>\n",
       "    </tr>\n",
       "    <tr>\n",
       "      <th>std</th>\n",
       "      <td>47488.145955</td>\n",
       "      <td>1.958696e+00</td>\n",
       "      <td>1.651309e+00</td>\n",
       "      <td>1.516255e+00</td>\n",
       "      <td>1.415869e+00</td>\n",
       "      <td>1.380247e+00</td>\n",
       "      <td>1.332271e+00</td>\n",
       "      <td>1.237094e+00</td>\n",
       "      <td>1.194353e+00</td>\n",
       "      <td>1.098632e+00</td>\n",
       "      <td>...</td>\n",
       "      <td>7.345240e-01</td>\n",
       "      <td>7.257016e-01</td>\n",
       "      <td>6.244603e-01</td>\n",
       "      <td>6.056471e-01</td>\n",
       "      <td>5.212781e-01</td>\n",
       "      <td>4.822270e-01</td>\n",
       "      <td>4.036325e-01</td>\n",
       "      <td>3.300833e-01</td>\n",
       "      <td>250.120109</td>\n",
       "      <td>0.041527</td>\n",
       "    </tr>\n",
       "    <tr>\n",
       "      <th>min</th>\n",
       "      <td>0.000000</td>\n",
       "      <td>-5.640751e+01</td>\n",
       "      <td>-7.271573e+01</td>\n",
       "      <td>-4.832559e+01</td>\n",
       "      <td>-5.683171e+00</td>\n",
       "      <td>-1.137433e+02</td>\n",
       "      <td>-2.616051e+01</td>\n",
       "      <td>-4.355724e+01</td>\n",
       "      <td>-7.321672e+01</td>\n",
       "      <td>-1.343407e+01</td>\n",
       "      <td>...</td>\n",
       "      <td>-3.483038e+01</td>\n",
       "      <td>-1.093314e+01</td>\n",
       "      <td>-4.480774e+01</td>\n",
       "      <td>-2.836627e+00</td>\n",
       "      <td>-1.029540e+01</td>\n",
       "      <td>-2.604551e+00</td>\n",
       "      <td>-2.256568e+01</td>\n",
       "      <td>-1.543008e+01</td>\n",
       "      <td>0.000000</td>\n",
       "      <td>0.000000</td>\n",
       "    </tr>\n",
       "    <tr>\n",
       "      <th>25%</th>\n",
       "      <td>54201.500000</td>\n",
       "      <td>-9.203734e-01</td>\n",
       "      <td>-5.985499e-01</td>\n",
       "      <td>-8.903648e-01</td>\n",
       "      <td>-8.486401e-01</td>\n",
       "      <td>-6.915971e-01</td>\n",
       "      <td>-7.682956e-01</td>\n",
       "      <td>-5.540759e-01</td>\n",
       "      <td>-2.086297e-01</td>\n",
       "      <td>-6.430976e-01</td>\n",
       "      <td>...</td>\n",
       "      <td>-2.283949e-01</td>\n",
       "      <td>-5.423504e-01</td>\n",
       "      <td>-1.618463e-01</td>\n",
       "      <td>-3.545861e-01</td>\n",
       "      <td>-3.171451e-01</td>\n",
       "      <td>-3.269839e-01</td>\n",
       "      <td>-7.083953e-02</td>\n",
       "      <td>-5.295979e-02</td>\n",
       "      <td>5.600000</td>\n",
       "      <td>0.000000</td>\n",
       "    </tr>\n",
       "    <tr>\n",
       "      <th>50%</th>\n",
       "      <td>84692.000000</td>\n",
       "      <td>1.810880e-02</td>\n",
       "      <td>6.548556e-02</td>\n",
       "      <td>1.798463e-01</td>\n",
       "      <td>-1.984653e-02</td>\n",
       "      <td>-5.433583e-02</td>\n",
       "      <td>-2.741871e-01</td>\n",
       "      <td>4.010308e-02</td>\n",
       "      <td>2.235804e-02</td>\n",
       "      <td>-5.142873e-02</td>\n",
       "      <td>...</td>\n",
       "      <td>-2.945017e-02</td>\n",
       "      <td>6.781943e-03</td>\n",
       "      <td>-1.119293e-02</td>\n",
       "      <td>4.097606e-02</td>\n",
       "      <td>1.659350e-02</td>\n",
       "      <td>-5.213911e-02</td>\n",
       "      <td>1.342146e-03</td>\n",
       "      <td>1.124383e-02</td>\n",
       "      <td>22.000000</td>\n",
       "      <td>0.000000</td>\n",
       "    </tr>\n",
       "    <tr>\n",
       "      <th>75%</th>\n",
       "      <td>139320.500000</td>\n",
       "      <td>1.315642e+00</td>\n",
       "      <td>8.037239e-01</td>\n",
       "      <td>1.027196e+00</td>\n",
       "      <td>7.433413e-01</td>\n",
       "      <td>6.119264e-01</td>\n",
       "      <td>3.985649e-01</td>\n",
       "      <td>5.704361e-01</td>\n",
       "      <td>3.273459e-01</td>\n",
       "      <td>5.971390e-01</td>\n",
       "      <td>...</td>\n",
       "      <td>1.863772e-01</td>\n",
       "      <td>5.285536e-01</td>\n",
       "      <td>1.476421e-01</td>\n",
       "      <td>4.395266e-01</td>\n",
       "      <td>3.507156e-01</td>\n",
       "      <td>2.409522e-01</td>\n",
       "      <td>9.104512e-02</td>\n",
       "      <td>7.827995e-02</td>\n",
       "      <td>77.165000</td>\n",
       "      <td>0.000000</td>\n",
       "    </tr>\n",
       "    <tr>\n",
       "      <th>max</th>\n",
       "      <td>172792.000000</td>\n",
       "      <td>2.454930e+00</td>\n",
       "      <td>2.205773e+01</td>\n",
       "      <td>9.382558e+00</td>\n",
       "      <td>1.687534e+01</td>\n",
       "      <td>3.480167e+01</td>\n",
       "      <td>7.330163e+01</td>\n",
       "      <td>1.205895e+02</td>\n",
       "      <td>2.000721e+01</td>\n",
       "      <td>1.559499e+01</td>\n",
       "      <td>...</td>\n",
       "      <td>2.720284e+01</td>\n",
       "      <td>1.050309e+01</td>\n",
       "      <td>2.252841e+01</td>\n",
       "      <td>4.584549e+00</td>\n",
       "      <td>7.519589e+00</td>\n",
       "      <td>3.517346e+00</td>\n",
       "      <td>3.161220e+01</td>\n",
       "      <td>3.384781e+01</td>\n",
       "      <td>25691.160000</td>\n",
       "      <td>1.000000</td>\n",
       "    </tr>\n",
       "  </tbody>\n",
       "</table>\n",
       "<p>8 rows × 31 columns</p>\n",
       "</div>"
      ],
      "text/plain": [
       "                Time            V1            V2            V3            V4  \\\n",
       "count  284807.000000  2.848070e+05  2.848070e+05  2.848070e+05  2.848070e+05   \n",
       "mean    94813.859575  3.919560e-15  5.688174e-16 -8.769071e-15  2.782312e-15   \n",
       "std     47488.145955  1.958696e+00  1.651309e+00  1.516255e+00  1.415869e+00   \n",
       "min         0.000000 -5.640751e+01 -7.271573e+01 -4.832559e+01 -5.683171e+00   \n",
       "25%     54201.500000 -9.203734e-01 -5.985499e-01 -8.903648e-01 -8.486401e-01   \n",
       "50%     84692.000000  1.810880e-02  6.548556e-02  1.798463e-01 -1.984653e-02   \n",
       "75%    139320.500000  1.315642e+00  8.037239e-01  1.027196e+00  7.433413e-01   \n",
       "max    172792.000000  2.454930e+00  2.205773e+01  9.382558e+00  1.687534e+01   \n",
       "\n",
       "                 V5            V6            V7            V8            V9  \\\n",
       "count  2.848070e+05  2.848070e+05  2.848070e+05  2.848070e+05  2.848070e+05   \n",
       "mean  -1.552563e-15  2.010663e-15 -1.694249e-15 -1.927028e-16 -3.137024e-15   \n",
       "std    1.380247e+00  1.332271e+00  1.237094e+00  1.194353e+00  1.098632e+00   \n",
       "min   -1.137433e+02 -2.616051e+01 -4.355724e+01 -7.321672e+01 -1.343407e+01   \n",
       "25%   -6.915971e-01 -7.682956e-01 -5.540759e-01 -2.086297e-01 -6.430976e-01   \n",
       "50%   -5.433583e-02 -2.741871e-01  4.010308e-02  2.235804e-02 -5.142873e-02   \n",
       "75%    6.119264e-01  3.985649e-01  5.704361e-01  3.273459e-01  5.971390e-01   \n",
       "max    3.480167e+01  7.330163e+01  1.205895e+02  2.000721e+01  1.559499e+01   \n",
       "\n",
       "       ...           V21           V22           V23           V24  \\\n",
       "count  ...  2.848070e+05  2.848070e+05  2.848070e+05  2.848070e+05   \n",
       "mean   ...  1.537294e-16  7.959909e-16  5.367590e-16  4.458112e-15   \n",
       "std    ...  7.345240e-01  7.257016e-01  6.244603e-01  6.056471e-01   \n",
       "min    ... -3.483038e+01 -1.093314e+01 -4.480774e+01 -2.836627e+00   \n",
       "25%    ... -2.283949e-01 -5.423504e-01 -1.618463e-01 -3.545861e-01   \n",
       "50%    ... -2.945017e-02  6.781943e-03 -1.119293e-02  4.097606e-02   \n",
       "75%    ...  1.863772e-01  5.285536e-01  1.476421e-01  4.395266e-01   \n",
       "max    ...  2.720284e+01  1.050309e+01  2.252841e+01  4.584549e+00   \n",
       "\n",
       "                V25           V26           V27           V28         Amount  \\\n",
       "count  2.848070e+05  2.848070e+05  2.848070e+05  2.848070e+05  284807.000000   \n",
       "mean   1.453003e-15  1.699104e-15 -3.660161e-16 -1.206049e-16      88.349619   \n",
       "std    5.212781e-01  4.822270e-01  4.036325e-01  3.300833e-01     250.120109   \n",
       "min   -1.029540e+01 -2.604551e+00 -2.256568e+01 -1.543008e+01       0.000000   \n",
       "25%   -3.171451e-01 -3.269839e-01 -7.083953e-02 -5.295979e-02       5.600000   \n",
       "50%    1.659350e-02 -5.213911e-02  1.342146e-03  1.124383e-02      22.000000   \n",
       "75%    3.507156e-01  2.409522e-01  9.104512e-02  7.827995e-02      77.165000   \n",
       "max    7.519589e+00  3.517346e+00  3.161220e+01  3.384781e+01   25691.160000   \n",
       "\n",
       "               Class  \n",
       "count  284807.000000  \n",
       "mean        0.001727  \n",
       "std         0.041527  \n",
       "min         0.000000  \n",
       "25%         0.000000  \n",
       "50%         0.000000  \n",
       "75%         0.000000  \n",
       "max         1.000000  \n",
       "\n",
       "[8 rows x 31 columns]"
      ]
     },
     "execution_count": 3,
     "metadata": {},
     "output_type": "execute_result"
    }
   ],
   "source": [
    "df.describe()"
   ]
  },
  {
   "cell_type": "code",
   "execution_count": 4,
   "metadata": {},
   "outputs": [],
   "source": [
    "#df.info()"
   ]
  },
  {
   "cell_type": "code",
   "execution_count": 5,
   "metadata": {},
   "outputs": [
    {
     "data": {
      "text/plain": [
       "Index(['Class', 'Amount', 'Time', 'V1', 'V2', 'V3', 'V4', 'V5', 'V6', 'V7',\n",
       "       'V8', 'V9', 'V10', 'V11', 'V12', 'V13', 'V14', 'V15', 'V16', 'V17',\n",
       "       'V18', 'V19', 'V20', 'V21', 'V22', 'V23', 'V24', 'V25', 'V26', 'V27',\n",
       "       'V28'],\n",
       "      dtype='object')"
      ]
     },
     "execution_count": 5,
     "metadata": {},
     "output_type": "execute_result"
    }
   ],
   "source": [
    "#reorder columns\n",
    "column_names = ['Class', 'Amount','Time', 'V1', 'V2', 'V3', 'V4', 'V5', 'V6', 'V7', 'V8', 'V9', 'V10',\n",
    "       'V11', 'V12', 'V13', 'V14', 'V15', 'V16', 'V17', 'V18', 'V19', 'V20',\n",
    "       'V21', 'V22', 'V23', 'V24', 'V25', 'V26', 'V27', 'V28']\n",
    "\n",
    "df = df.reindex(columns=column_names)\n",
    "df.columns"
   ]
  },
  {
   "cell_type": "code",
   "execution_count": 6,
   "metadata": {},
   "outputs": [
    {
     "data": {
      "text/plain": [
       "0    284315\n",
       "1       492\n",
       "Name: Class, dtype: int64"
      ]
     },
     "execution_count": 6,
     "metadata": {},
     "output_type": "execute_result"
    }
   ],
   "source": [
    "# number of fraud cases to equalize subsample proportions\n",
    "df[\"Class\"].value_counts()"
   ]
  },
  {
   "cell_type": "code",
   "execution_count": 7,
   "metadata": {},
   "outputs": [
    {
     "name": "stdout",
     "output_type": "stream",
     "text": [
      "Percentage of instances of normal transactions: 0.9982725143693799\n",
      "\n",
      "Percentages of instances of fraud transactions: 0.001727485630620034\n"
     ]
    }
   ],
   "source": [
    "#assess Target column's balance\n",
    "n = \"\\n\"\n",
    "normal_percent = df['Class'].value_counts()[0] / len(df)\n",
    "fraud_percent = df['Class'].value_counts()[1] / len(df)\n",
    "print(f\"Percentage of instances of normal transactions: \\\n",
    "{normal_percent}\\n{n}Percentages of instances of fraud transactions: {fraud_percent}\")"
   ]
  },
  {
   "cell_type": "code",
   "execution_count": 8,
   "metadata": {},
   "outputs": [],
   "source": [
    "#scale the last two columns that need to be modified\n",
    "std_scaler = StandardScaler()\n",
    "\n",
    "df['scaled_amount'] = std_scaler.fit_transform(df['Amount'].values.reshape(-1,1))\n",
    "df['scaled_time'] = std_scaler.fit_transform(df['Time'].values.reshape(-1,1))\n",
    "\n",
    "df.drop(['Time','Amount'], axis=1, inplace=True)"
   ]
  },
  {
   "cell_type": "code",
   "execution_count": 9,
   "metadata": {},
   "outputs": [],
   "source": [
    "#create under-sampled dataframe balanced\n",
    "df = df.sample(frac=1)\n",
    "\n",
    "fraud_under = df[df['Class'] == 1]\n",
    "nonfraud_under = df[df['Class'] == 0][:492]\n",
    "\n",
    "df_under = pd.concat([fraud_under, nonfraud_under])"
   ]
  },
  {
   "cell_type": "code",
   "execution_count": 10,
   "metadata": {
    "scrolled": true
   },
   "outputs": [
    {
     "data": {
      "image/png": "[encoded data removed]",
      "text/plain": [
       "<Figure size 432x288 with 2 Axes>"
      ]
     },
     "metadata": {
      "needs_background": "light"
     },
     "output_type": "display_data"
    }
   ],
   "source": [
    "#correlation heatmap on subsample\n",
    "df_corr = df_under.iloc[:,:20]\n",
    "under_corr = df_corr.corr()\n",
    "\n",
    "sns.heatmap(under_corr, cmap='YlGnBu')\n",
    "plt.title('SubSample Correlation Matrix \\n (features 20 to 28 removed for clarity)', fontsize=14);\n",
    "# plt.savefig('subsample_heatmap')"
   ]
  },
  {
   "cell_type": "code",
   "execution_count": 11,
   "metadata": {},
   "outputs": [],
   "source": [
    "#pairplot to see other relationships\n",
    "# sns.pairplot(df_corr, palette='YlGnBu', corner=True, diag_kind='kde', kind='reg', markers='*', \n",
    "#                  plot_kws={'line_kws':{'color':'black', 'alpha':0.5}}, height=1.5);"
   ]
  },
  {
   "cell_type": "code",
   "execution_count": 12,
   "metadata": {},
   "outputs": [],
   "source": [
    "#prep matricies of features for plotting\n",
    "\n",
    "feature_v14 = df_under['V14'].loc[df_under['Class'] == 1].values\n",
    "feature_v8 = df_under['V8'].loc[df_under['Class'] == 1].values\n",
    "feature_v20 = df_under['V20'].loc[df_under['Class'] == 1].values"
   ]
  },
  {
   "cell_type": "code",
   "execution_count": 13,
   "metadata": {},
   "outputs": [
    {
     "name": "stderr",
     "output_type": "stream",
     "text": [
      "/Users/jessicapmouras/opt/anaconda3/lib/python3.7/site-packages/scipy/stats/stats.py:1713: FutureWarning: Using a non-tuple sequence for multidimensional indexing is deprecated; use `arr[tuple(seq)]` instead of `arr[seq]`. In the future this will be interpreted as an array index, `arr[np.array(seq)]`, which will result either in an error or a different result.\n",
      "  return np.add.reduce(sorted[indexer] * weights, axis=axis) / sumval\n",
      "/Users/jessicapmouras/opt/anaconda3/lib/python3.7/site-packages/scipy/stats/stats.py:1713: FutureWarning: Using a non-tuple sequence for multidimensional indexing is deprecated; use `arr[tuple(seq)]` instead of `arr[seq]`. In the future this will be interpreted as an array index, `arr[np.array(seq)]`, which will result either in an error or a different result.\n",
      "  return np.add.reduce(sorted[indexer] * weights, axis=axis) / sumval\n",
      "/Users/jessicapmouras/opt/anaconda3/lib/python3.7/site-packages/scipy/stats/stats.py:1713: FutureWarning: Using a non-tuple sequence for multidimensional indexing is deprecated; use `arr[tuple(seq)]` instead of `arr[seq]`. In the future this will be interpreted as an array index, `arr[np.array(seq)]`, which will result either in an error or a different result.\n",
      "  return np.add.reduce(sorted[indexer] * weights, axis=axis) / sumval\n"
     ]
    },
    {
     "data": {
      "image/png": "[encoded data removed]",
      "text/plain": [
       "<Figure size 1440x432 with 3 Axes>"
      ]
     },
     "metadata": {
      "needs_background": "light"
     },
     "output_type": "display_data"
    }
   ],
   "source": [
    "# distributions of specific features\n",
    "f, (ax1, ax2, ax3) = plt.subplots(1,3, figsize=(20, 6))\n",
    "\n",
    "sns.distplot(feature_v14, ax=ax1, fit= norm, kde=False, color='mediumturquoise')\n",
    "ax1.set_title('V14 Distribution \\n (Fraud Transactions)', fontsize=14)\n",
    "\n",
    "sns.distplot(feature_v20, ax=ax2, fit= norm, kde=False, color='mediumturquoise')\n",
    "ax2.set_title('V20 Distribution \\n (Fraud Transactions)', fontsize=14)\n",
    "\n",
    "sns.distplot(feature_v8, ax=ax3, fit= norm, kde=False, color='mediumturquoise')\n",
    "ax3.set_title('V8 Distribution \\n (Fraud Transactions)', fontsize=14);"
   ]
  },
  {
   "cell_type": "code",
   "execution_count": null,
   "metadata": {},
   "outputs": [],
   "source": []
  },
  {
   "cell_type": "code",
   "execution_count": 14,
   "metadata": {},
   "outputs": [
    {
     "data": {
      "text/html": [
       "<div>\n",
       "<style scoped>\n",
       "    .dataframe tbody tr th:only-of-type {\n",
       "        vertical-align: middle;\n",
       "    }\n",
       "\n",
       "    .dataframe tbody tr th {\n",
       "        vertical-align: top;\n",
       "    }\n",
       "\n",
       "    .dataframe thead th {\n",
       "        text-align: right;\n",
       "    }\n",
       "</style>\n",
       "<table border=\"1\" class=\"dataframe\">\n",
       "  <thead>\n",
       "    <tr style=\"text-align: right;\">\n",
       "      <th></th>\n",
       "      <th>Class</th>\n",
       "      <th>V1</th>\n",
       "      <th>V2</th>\n",
       "      <th>V3</th>\n",
       "      <th>V4</th>\n",
       "      <th>V5</th>\n",
       "      <th>V6</th>\n",
       "      <th>V7</th>\n",
       "      <th>V8</th>\n",
       "      <th>V9</th>\n",
       "      <th>...</th>\n",
       "      <th>V21</th>\n",
       "      <th>V22</th>\n",
       "      <th>V23</th>\n",
       "      <th>V24</th>\n",
       "      <th>V25</th>\n",
       "      <th>V26</th>\n",
       "      <th>V27</th>\n",
       "      <th>V28</th>\n",
       "      <th>scaled_amount</th>\n",
       "      <th>scaled_time</th>\n",
       "    </tr>\n",
       "  </thead>\n",
       "  <tbody>\n",
       "    <tr>\n",
       "      <th>6472</th>\n",
       "      <td>1</td>\n",
       "      <td>1.023874</td>\n",
       "      <td>2.001485</td>\n",
       "      <td>-4.769752</td>\n",
       "      <td>3.819195</td>\n",
       "      <td>-1.271754</td>\n",
       "      <td>-1.734662</td>\n",
       "      <td>-3.059245</td>\n",
       "      <td>0.889805</td>\n",
       "      <td>0.415382</td>\n",
       "      <td>...</td>\n",
       "      <td>0.343283</td>\n",
       "      <td>-0.054196</td>\n",
       "      <td>0.709654</td>\n",
       "      <td>-0.372216</td>\n",
       "      <td>-2.032068</td>\n",
       "      <td>0.366778</td>\n",
       "      <td>0.395171</td>\n",
       "      <td>0.020206</td>\n",
       "      <td>-0.349231</td>\n",
       "      <td>-1.833595</td>\n",
       "    </tr>\n",
       "    <tr>\n",
       "      <th>106998</th>\n",
       "      <td>1</td>\n",
       "      <td>0.315642</td>\n",
       "      <td>1.636778</td>\n",
       "      <td>-1.519650</td>\n",
       "      <td>4.028571</td>\n",
       "      <td>-1.186794</td>\n",
       "      <td>-0.789813</td>\n",
       "      <td>-2.279807</td>\n",
       "      <td>0.472988</td>\n",
       "      <td>-1.657635</td>\n",
       "      <td>...</td>\n",
       "      <td>0.345921</td>\n",
       "      <td>-0.108002</td>\n",
       "      <td>-0.165442</td>\n",
       "      <td>0.279895</td>\n",
       "      <td>0.808783</td>\n",
       "      <td>0.117363</td>\n",
       "      <td>0.589595</td>\n",
       "      <td>0.309064</td>\n",
       "      <td>-0.338077</td>\n",
       "      <td>-0.517706</td>\n",
       "    </tr>\n",
       "    <tr>\n",
       "      <th>147548</th>\n",
       "      <td>1</td>\n",
       "      <td>-3.859881</td>\n",
       "      <td>2.632881</td>\n",
       "      <td>-5.264265</td>\n",
       "      <td>3.446113</td>\n",
       "      <td>-0.675231</td>\n",
       "      <td>-1.904959</td>\n",
       "      <td>-3.291041</td>\n",
       "      <td>-0.985766</td>\n",
       "      <td>-1.168114</td>\n",
       "      <td>...</td>\n",
       "      <td>1.664119</td>\n",
       "      <td>0.785075</td>\n",
       "      <td>0.068412</td>\n",
       "      <td>0.778961</td>\n",
       "      <td>-0.863166</td>\n",
       "      <td>-0.006810</td>\n",
       "      <td>-1.065734</td>\n",
       "      <td>1.773326</td>\n",
       "      <td>-0.348512</td>\n",
       "      <td>-0.129335</td>\n",
       "    </tr>\n",
       "    <tr>\n",
       "      <th>154587</th>\n",
       "      <td>1</td>\n",
       "      <td>-28.255053</td>\n",
       "      <td>21.467203</td>\n",
       "      <td>-26.871339</td>\n",
       "      <td>11.737436</td>\n",
       "      <td>-17.999630</td>\n",
       "      <td>6.065901</td>\n",
       "      <td>-41.506796</td>\n",
       "      <td>-38.987263</td>\n",
       "      <td>-13.434066</td>\n",
       "      <td>...</td>\n",
       "      <td>-21.453736</td>\n",
       "      <td>8.361985</td>\n",
       "      <td>4.909111</td>\n",
       "      <td>0.098328</td>\n",
       "      <td>-1.508739</td>\n",
       "      <td>0.008711</td>\n",
       "      <td>-5.407824</td>\n",
       "      <td>-0.183811</td>\n",
       "      <td>-0.353229</td>\n",
       "      <td>0.153726</td>\n",
       "    </tr>\n",
       "    <tr>\n",
       "      <th>150647</th>\n",
       "      <td>1</td>\n",
       "      <td>-3.632809</td>\n",
       "      <td>5.437263</td>\n",
       "      <td>-9.136521</td>\n",
       "      <td>10.307226</td>\n",
       "      <td>-5.421830</td>\n",
       "      <td>-2.864815</td>\n",
       "      <td>-10.634088</td>\n",
       "      <td>3.018127</td>\n",
       "      <td>-4.891640</td>\n",
       "      <td>...</td>\n",
       "      <td>2.309880</td>\n",
       "      <td>0.978660</td>\n",
       "      <td>-0.096130</td>\n",
       "      <td>0.432377</td>\n",
       "      <td>-0.435628</td>\n",
       "      <td>0.650893</td>\n",
       "      <td>1.693608</td>\n",
       "      <td>0.857685</td>\n",
       "      <td>-0.319086</td>\n",
       "      <td>-0.020844</td>\n",
       "    </tr>\n",
       "  </tbody>\n",
       "</table>\n",
       "<p>5 rows × 31 columns</p>\n",
       "</div>"
      ],
      "text/plain": [
       "        Class         V1         V2         V3         V4         V5  \\\n",
       "6472        1   1.023874   2.001485  -4.769752   3.819195  -1.271754   \n",
       "106998      1   0.315642   1.636778  -1.519650   4.028571  -1.186794   \n",
       "147548      1  -3.859881   2.632881  -5.264265   3.446113  -0.675231   \n",
       "154587      1 -28.255053  21.467203 -26.871339  11.737436 -17.999630   \n",
       "150647      1  -3.632809   5.437263  -9.136521  10.307226  -5.421830   \n",
       "\n",
       "              V6         V7         V8         V9  ...        V21       V22  \\\n",
       "6472   -1.734662  -3.059245   0.889805   0.415382  ...   0.343283 -0.054196   \n",
       "106998 -0.789813  -2.279807   0.472988  -1.657635  ...   0.345921 -0.108002   \n",
       "147548 -1.904959  -3.291041  -0.985766  -1.168114  ...   1.664119  0.785075   \n",
       "154587  6.065901 -41.506796 -38.987263 -13.434066  ... -21.453736  8.361985   \n",
       "150647 -2.864815 -10.634088   3.018127  -4.891640  ...   2.309880  0.978660   \n",
       "\n",
       "             V23       V24       V25       V26       V27       V28  \\\n",
       "6472    0.709654 -0.372216 -2.032068  0.366778  0.395171  0.020206   \n",
       "106998 -0.165442  0.279895  0.808783  0.117363  0.589595  0.309064   \n",
       "147548  0.068412  0.778961 -0.863166 -0.006810 -1.065734  1.773326   \n",
       "154587  4.909111  0.098328 -1.508739  0.008711 -5.407824 -0.183811   \n",
       "150647 -0.096130  0.432377 -0.435628  0.650893  1.693608  0.857685   \n",
       "\n",
       "        scaled_amount  scaled_time  \n",
       "6472        -0.349231    -1.833595  \n",
       "106998      -0.338077    -0.517706  \n",
       "147548      -0.348512    -0.129335  \n",
       "154587      -0.353229     0.153726  \n",
       "150647      -0.319086    -0.020844  \n",
       "\n",
       "[5 rows x 31 columns]"
      ]
     },
     "execution_count": 14,
     "metadata": {},
     "output_type": "execute_result"
    }
   ],
   "source": [
    "df_under.head()"
   ]
  },
  {
   "cell_type": "markdown",
   "metadata": {
    "scrolled": true
   },
   "source": [
    "## Initial training on under sampled data"
   ]
  },
  {
   "cell_type": "markdown",
   "metadata": {},
   "source": [
    "### Train on the following:\n",
    "+ Logisitic Regression\n",
    "+ K Neighbors Classifier\n",
    "+ Decision Trees Classifier\n",
    "+ Random Forest Classifier\n",
    "+ Gradient Boosting Classifier\n",
    "\n",
    "\n",
    "### using cross validation 5 folds"
   ]
  },
  {
   "cell_type": "code",
   "execution_count": 15,
   "metadata": {
    "scrolled": true
   },
   "outputs": [],
   "source": [
    "#establish X values as feature matrix and y as target array\n",
    "X = df_under.drop('Class', axis = 1).values\n",
    "y = df_under['Class'].values\n",
    "\n",
    "# test train split for undersampling. DO NOT EVER TOUCH TEST ITEMS\n",
    "X_train, X_test, y_train, y_test = train_test_split(X, y, test_size=0.2, random_state=42)"
   ]
  },
  {
   "cell_type": "code",
   "execution_count": 16,
   "metadata": {},
   "outputs": [
    {
     "data": {
      "text/plain": [
       "0.9415696574650054"
      ]
     },
     "execution_count": 16,
     "metadata": {},
     "output_type": "execute_result"
    }
   ],
   "source": [
    "lr_model = LogisticRegression().fit(X_train, y_train)\n",
    "\n",
    "lr_train_score = cross_val_score(lr_model, X_train, y_train, cv=5)\n",
    "lr_train_score.mean()"
   ]
  },
  {
   "cell_type": "code",
   "execution_count": 17,
   "metadata": {},
   "outputs": [
    {
     "data": {
      "text/plain": [
       "0.9020862405083964"
      ]
     },
     "execution_count": 17,
     "metadata": {},
     "output_type": "execute_result"
    }
   ],
   "source": [
    "dt_model = DecisionTreeClassifier().fit(X_train, y_train)\n",
    "\n",
    "dt_train_score = cross_val_score(dt_model, X_train, y_train, cv=5)\n",
    "dt_train_score.mean()\n"
   ]
  },
  {
   "cell_type": "code",
   "execution_count": 18,
   "metadata": {},
   "outputs": [
    {
     "data": {
      "text/plain": [
       "0.9364416590692493"
      ]
     },
     "execution_count": 18,
     "metadata": {},
     "output_type": "execute_result"
    }
   ],
   "source": [
    "knn_model = KNeighborsClassifier().fit(X_train, y_train)\n",
    "\n",
    "knn_train_score = cross_val_score(knn_model, X_train, y_train, cv=5)\n",
    "knn_train_score.mean()"
   ]
  },
  {
   "cell_type": "code",
   "execution_count": 19,
   "metadata": {},
   "outputs": [
    {
     "data": {
      "text/plain": [
       "0.9364902411947481"
      ]
     },
     "execution_count": 19,
     "metadata": {},
     "output_type": "execute_result"
    }
   ],
   "source": [
    "rf_model = RandomForestClassifier().fit(X_train, y_train)\n",
    "\n",
    "rf_train_score = cross_val_score(rf_model, X_train, y_train, cv=5)\n",
    "rf_train_score.mean()"
   ]
  },
  {
   "cell_type": "code",
   "execution_count": 20,
   "metadata": {},
   "outputs": [
    {
     "data": {
      "text/plain": [
       "0.9313865338617415"
      ]
     },
     "execution_count": 20,
     "metadata": {},
     "output_type": "execute_result"
    }
   ],
   "source": [
    "gb_model = GradientBoostingClassifier().fit(X_train, y_train)\n",
    "\n",
    "gb_train_score = cross_val_score(rf_model, X_train, y_train, cv=5)\n",
    "gb_train_score.mean()"
   ]
  },
  {
   "cell_type": "code",
   "execution_count": null,
   "metadata": {},
   "outputs": [],
   "source": []
  },
  {
   "cell_type": "markdown",
   "metadata": {},
   "source": [
    "### move this helper function to PY file"
   ]
  },
  {
   "cell_type": "code",
   "execution_count": 21,
   "metadata": {},
   "outputs": [],
   "source": [
    "class_models = {'gbc': GradientBoostingClassifier(),'rf': RandomForestClassifier(),'knn': KNeighborsClassifier(),\n",
    "                'dt': DecisionTreeClassifier(), 'lr': LogisticRegression()}\n",
    "\n",
    "def cross_valid_score(class_models, X_train, y_train, cv=5):\n",
    "    d = {}\n",
    "    final = []\n",
    "    for kind, model in class_models.items():\n",
    "       \n",
    "        model.fit(X_train, y_train)\n",
    "        training_score = cross_val_score(model, X_train, y_train, cv=5)\n",
    "        d[kind]= round(float(training_score.mean()),4)\n",
    "    return d\n",
    "    "
   ]
  },
  {
   "cell_type": "code",
   "execution_count": 22,
   "metadata": {
    "scrolled": true
   },
   "outputs": [
    {
     "data": {
      "text/plain": [
       "{'gbc': 0.9428, 'rf': 0.9352, 'knn': 0.9364, 'dt': 0.9072, 'lr': 0.9416}"
      ]
     },
     "execution_count": 22,
     "metadata": {},
     "output_type": "execute_result"
    }
   ],
   "source": [
    "cross_valid_score(class_models, X_train, y_train, cv=5)\n"
   ]
  },
  {
   "cell_type": "markdown",
   "metadata": {},
   "source": [
    "### Let's try gridsearching for best parameters"
   ]
  },
  {
   "cell_type": "code",
   "execution_count": 23,
   "metadata": {},
   "outputs": [],
   "source": [
    "#establish parameter dictionaries for GridSearch\n",
    "lr_params = {'C': [0.001, 0.01, 0.1, 1, 10, 100, 1000], 'max_iter': [7000]}\n",
    "\n",
    "knn_params = {\"n_neighbors\": list(range(2,6,1)),\n",
    "                 'algorithm': ['auto', 'ball_tree', 'kd_tree', 'brute']}\n",
    "\n",
    "rf_params = {'criterion': ('gini', 'entropy'), 'max_depth': [1, 2, None],\n",
    "              'max_features': [1, 'sqrt', 'log2', None]}\n",
    "\n",
    "dt_params = {'criterion': ('gini', 'entropy'), 'max_depth': [1, 2, None],\n",
    "              'max_features': [1, 'sqrt', 'log2', None]}\n",
    "\n",
    "gbc_params = {'loss': ('deviance', 'exponential'), 'learning_rate': [0.001, 0.01, 0.1, 1, 10, 100]}\n"
   ]
  },
  {
   "cell_type": "markdown",
   "metadata": {},
   "source": [
    "#### KNN evaluation undersample gridsearch"
   ]
  },
  {
   "cell_type": "code",
   "execution_count": 24,
   "metadata": {},
   "outputs": [
    {
     "data": {
      "text/plain": [
       "KNeighborsClassifier(algorithm='auto', leaf_size=30, metric='minkowski',\n",
       "           metric_params=None, n_jobs=1, n_neighbors=3, p=2,\n",
       "           weights='uniform')"
      ]
     },
     "execution_count": 24,
     "metadata": {},
     "output_type": "execute_result"
    }
   ],
   "source": [
    "#KNN scores gridsearch analysis on test data\n",
    "gridsear_knn = GridSearchCV(KNeighborsClassifier(), knn_params)\n",
    "\n",
    "gridsear_knn.fit(X_train, y_train)\n",
    "# best parameters to be used\n",
    "gridsear_knn.best_estimator_"
   ]
  },
  {
   "cell_type": "code",
   "execution_count": 25,
   "metadata": {},
   "outputs": [
    {
     "name": "stdout",
     "output_type": "stream",
     "text": [
      "KNN recall score: 0.916030534351145\n",
      "KNN precision score: 0.9917355371900827     \n",
      "KNN f1 score: 0.9523809523809524\n",
      "KNN accuracy score: 0.9542566709021602\n"
     ]
    }
   ],
   "source": [
    "\n",
    "\n",
    "knn_best = KNeighborsClassifier(algorithm='auto', leaf_size=30, metric='minkowski',\n",
    "           metric_params=None, n_jobs=1, n_neighbors=5, p=2,\n",
    "           weights='uniform')\n",
    "knn_best.fit(X_train, y_train)\n",
    "y_pred_knn = knn_best.predict(X_train)\n",
    "\n",
    "knn_recall = recall_score(y_train, y_pred_knn)\n",
    "knn_precision = precision_score(y_train, y_pred_knn)\n",
    "knn_f1 = f1_score(y_train, y_pred_knn)\n",
    "knn_accuracy = accuracy_score(y_train, y_pred_knn)\n",
    "print(f'KNN recall score: {knn_recall}\\nKNN precision score: {knn_precision} \\\n",
    "    \\nKNN f1 score: {knn_f1}\\nKNN accuracy score: {knn_accuracy}')\n",
    "\n"
   ]
  },
  {
   "cell_type": "markdown",
   "metadata": {},
   "source": [
    "#### LogisticRegression evaluation undersample gridsearch"
   ]
  },
  {
   "cell_type": "code",
   "execution_count": 26,
   "metadata": {},
   "outputs": [
    {
     "data": {
      "text/plain": [
       "LogisticRegression(C=0.1, class_weight=None, dual=False, fit_intercept=True,\n",
       "          intercept_scaling=1, max_iter=7000, multi_class='ovr', n_jobs=1,\n",
       "          penalty='l2', random_state=None, solver='liblinear', tol=0.0001,\n",
       "          verbose=0, warm_start=False)"
      ]
     },
     "execution_count": 26,
     "metadata": {},
     "output_type": "execute_result"
    }
   ],
   "source": [
    "#LR scores gridsearch analysis on test data\n",
    "gridsear_lr = GridSearchCV(LogisticRegression(), lr_params)\n",
    "\n",
    "gridsear_lr.fit(X_train, y_train)\n",
    "# best parameters to be used\n",
    "gridsear_lr.best_estimator_"
   ]
  },
  {
   "cell_type": "code",
   "execution_count": 27,
   "metadata": {},
   "outputs": [
    {
     "name": "stdout",
     "output_type": "stream",
     "text": [
      "LogisticRegression recall score: 0.926208651399491\n",
      "LogisticRegression  precision score: 0.9732620320855615     \n",
      "LogisticRegression  f1 score: 0.9491525423728814\n",
      "LogisticRegression  accuracy score: 0.9504447268106735\n"
     ]
    }
   ],
   "source": [
    "#LR scores gridsearch analysis on test data\n",
    "gridsear_lr = GridSearchCV(LogisticRegression(), lr_params)\n",
    "\n",
    "gridsear_lr.fit(X_train, y_train)\n",
    "# best parameters to be used\n",
    "gridsear_lr.best_estimator_\n",
    "lr_best = LogisticRegression(C=1, class_weight=None, dual=False, fit_intercept=True,\n",
    "          intercept_scaling=1, max_iter=7000, multi_class='ovr', n_jobs=1,\n",
    "          penalty='l2', random_state=None, solver='liblinear', tol=0.0001,\n",
    "          verbose=0, warm_start=False)\n",
    "\n",
    "lr_best.fit(X_train, y_train)\n",
    "y_pred_lr = lr_best.predict(X_train)\n",
    "\n",
    "lr_recall = recall_score(y_train, y_pred_lr)\n",
    "lr_precision = precision_score(y_train, y_pred_lr)\n",
    "lr_f1 = f1_score(y_train, y_pred_lr)\n",
    "lr_accuracy = accuracy_score(y_train, y_pred_lr)\n",
    "print(f'LogisticRegression recall score: {lr_recall}\\nLogisticRegression  precision score: {lr_precision} \\\n",
    "    \\nLogisticRegression  f1 score: {lr_f1}\\nLogisticRegression  accuracy score: {lr_accuracy}')"
   ]
  },
  {
   "cell_type": "markdown",
   "metadata": {},
   "source": [
    "#### DecisionTree evaluation undersample gridsearch"
   ]
  },
  {
   "cell_type": "code",
   "execution_count": 28,
   "metadata": {},
   "outputs": [
    {
     "data": {
      "text/plain": [
       "DecisionTreeClassifier(class_weight=None, criterion='gini', max_depth=2,\n",
       "            max_features=None, max_leaf_nodes=None,\n",
       "            min_impurity_decrease=0.0, min_impurity_split=None,\n",
       "            min_samples_leaf=1, min_samples_split=2,\n",
       "            min_weight_fraction_leaf=0.0, presort=False, random_state=None,\n",
       "            splitter='best')"
      ]
     },
     "execution_count": 28,
     "metadata": {},
     "output_type": "execute_result"
    }
   ],
   "source": [
    "#DT scores gridsearch analysis on test data\n",
    "gridsear_dt = GridSearchCV(DecisionTreeClassifier(), dt_params)\n",
    "\n",
    "gridsear_dt.fit(X_train, y_train)\n",
    "# best parameters to be used\n",
    "gridsear_dt.best_estimator_"
   ]
  },
  {
   "cell_type": "code",
   "execution_count": 29,
   "metadata": {
    "scrolled": true
   },
   "outputs": [
    {
     "name": "stdout",
     "output_type": "stream",
     "text": [
      "DecisionTree recall score: 0.9389312977099237\n",
      "DecisionTree  precision score: 0.9341772151898734     \n",
      "DecisionTree  f1 score: 0.9365482233502538\n",
      "DecisionTree  accuracy score: 0.9364675984752223\n"
     ]
    }
   ],
   "source": [
    "#DT scores gridsearch analysis on test data\n",
    "gridsear_dt = GridSearchCV(DecisionTreeClassifier(), dt_params)\n",
    "\n",
    "gridsear_dt.fit(X_train, y_train)\n",
    "# best parameters to be used\n",
    "gridsear_dt.best_estimator_\n",
    "dt_best = DecisionTreeClassifier(class_weight=None, criterion='gini', max_depth=2,\n",
    "            max_features=None, max_leaf_nodes=None,\n",
    "            min_impurity_decrease=0.0, min_impurity_split=None,\n",
    "            min_samples_leaf=1, min_samples_split=2,\n",
    "            min_weight_fraction_leaf=0.0, presort=False, random_state=None,\n",
    "            splitter='best')\n",
    "\n",
    "dt_best.fit(X_train, y_train)\n",
    "y_pred_dt = dt_best.predict(X_train)\n",
    "\n",
    "dt_recall = recall_score(y_train, y_pred_dt)\n",
    "dt_precision = precision_score(y_train, y_pred_dt)\n",
    "dt_f1 = f1_score(y_train, y_pred_dt)\n",
    "dt_accuracy = accuracy_score(y_train, y_pred_dt)\n",
    "print(f'DecisionTree recall score: {dt_recall}\\nDecisionTree  precision score: {dt_precision} \\\n",
    "    \\nDecisionTree  f1 score: {dt_f1}\\nDecisionTree  accuracy score: {dt_accuracy}')"
   ]
  },
  {
   "cell_type": "markdown",
   "metadata": {},
   "source": [
    "#### RandomForest evaluation undersample gridsearch"
   ]
  },
  {
   "cell_type": "code",
   "execution_count": 30,
   "metadata": {},
   "outputs": [
    {
     "data": {
      "text/plain": [
       "RandomForestClassifier(bootstrap=True, class_weight=None, criterion='entropy',\n",
       "            max_depth=None, max_features='log2', max_leaf_nodes=None,\n",
       "            min_impurity_decrease=0.0, min_impurity_split=None,\n",
       "            min_samples_leaf=1, min_samples_split=2,\n",
       "            min_weight_fraction_leaf=0.0, n_estimators=10, n_jobs=1,\n",
       "            oob_score=False, random_state=None, verbose=0,\n",
       "            warm_start=False)"
      ]
     },
     "execution_count": 30,
     "metadata": {},
     "output_type": "execute_result"
    }
   ],
   "source": [
    "#RF scores gridsearch analysis on test data\n",
    "gridsear_rf = GridSearchCV(RandomForestClassifier(), rf_params)\n",
    "\n",
    "gridsear_rf.fit(X_train, y_train)\n",
    "# best parameters to be used\n",
    "gridsear_rf.best_estimator_"
   ]
  },
  {
   "cell_type": "code",
   "execution_count": 31,
   "metadata": {},
   "outputs": [
    {
     "name": "stdout",
     "output_type": "stream",
     "text": [
      "RandomForest recall score: 0.9389312977099237\n",
      "RandomForest  precision score: 0.9341772151898734     \n",
      "RandomForest  f1 score: 0.9365482233502538\n",
      "RandomForest  accuracy score: 0.9364675984752223\n"
     ]
    }
   ],
   "source": [
    "#RF scores gridsearch analysis on test data\n",
    "gridsear_rf = GridSearchCV(RandomForestClassifier(), rf_params)\n",
    "\n",
    "gridsear_rf.fit(X_train, y_train)\n",
    "# best parameters to be used\n",
    "gridsear_rf.best_estimator_\n",
    "rf_best = RandomForestClassifier(bootstrap=True, class_weight=None, criterion='entropy',\n",
    "            max_depth=None, max_features='log2', max_leaf_nodes=None,\n",
    "            min_impurity_decrease=0.0, min_impurity_split=None,\n",
    "            min_samples_leaf=1, min_samples_split=2,\n",
    "            min_weight_fraction_leaf=0.0, n_estimators=10, n_jobs=1,\n",
    "            oob_score=False, random_state=None, verbose=0,\n",
    "            warm_start=False)\n",
    "\n",
    "rf_best.fit(X_train, y_train)\n",
    "y_pred_rf = rf_best.predict(X_train)\n",
    "\n",
    "rf_recall = recall_score(y_train, y_pred_rf)\n",
    "rf_precision = precision_score(y_train, y_pred_rf)\n",
    "rf_f1 = f1_score(y_train, y_pred_rf)\n",
    "rf_accuracy = accuracy_score(y_train, y_pred_rf)\n",
    "print(f'RandomForest recall score: {rf_recall}\\nRandomForest  precision score: {rf_precision} \\\n",
    "    \\nRandomForest  f1 score: {rf_f1}\\nRandomForest  accuracy score: {rf_accuracy}')"
   ]
  },
  {
   "cell_type": "markdown",
   "metadata": {},
   "source": [
    "#### GradientBoosting evaluation undersample gridsearch"
   ]
  },
  {
   "cell_type": "code",
   "execution_count": 32,
   "metadata": {},
   "outputs": [
    {
     "data": {
      "text/plain": [
       "GradientBoostingClassifier(criterion='friedman_mse', init=None,\n",
       "              learning_rate=1, loss='exponential', max_depth=3,\n",
       "              max_features=None, max_leaf_nodes=None,\n",
       "              min_impurity_decrease=0.0, min_impurity_split=None,\n",
       "              min_samples_leaf=1, min_samples_split=2,\n",
       "              min_weight_fraction_leaf=0.0, n_estimators=100,\n",
       "              presort='auto', random_state=None, subsample=1.0, verbose=0,\n",
       "              warm_start=False)"
      ]
     },
     "execution_count": 32,
     "metadata": {},
     "output_type": "execute_result"
    }
   ],
   "source": [
    "#GBC scores gridsearch analysis on test data\n",
    "gridsear_gbc = GridSearchCV(GradientBoostingClassifier(), gbc_params)\n",
    "\n",
    "gridsear_gbc.fit(X_train, y_train)\n",
    "# best parameters to be used\n",
    "gridsear_gbc.best_estimator_"
   ]
  },
  {
   "cell_type": "code",
   "execution_count": 33,
   "metadata": {
    "scrolled": true
   },
   "outputs": [
    {
     "name": "stdout",
     "output_type": "stream",
     "text": [
      "GradientBoosting  recall score: 0.9389312977099237\n",
      "GradientBoosting precision score: 0.9341772151898734     \n",
      "GradientBoosting f1 score: 0.9365482233502538\n",
      "GradientBoosting accuracy score: 0.9364675984752223\n"
     ]
    }
   ],
   "source": [
    "#GBC scores gridsearch analysis on test data\n",
    "gridsear_gbc = GridSearchCV(GradientBoostingClassifier(), gbc_params)\n",
    "\n",
    "gridsear_gbc.fit(X_train, y_train)\n",
    "# best parameters to be used\n",
    "gridsear_gbc.best_estimator_\n",
    "gbc_best = GradientBoostingClassifier(criterion='friedman_mse', init=None,\n",
    "              learning_rate=0.1, loss='exponential', max_depth=3,\n",
    "              max_features=None, max_leaf_nodes=None,\n",
    "              min_impurity_decrease=0.0, min_impurity_split=None,\n",
    "              min_samples_leaf=1, min_samples_split=2,\n",
    "              min_weight_fraction_leaf=0.0, n_estimators=100,\n",
    "              presort='auto', random_state=None, subsample=1.0, verbose=0,\n",
    "              warm_start=False)\n",
    "\n",
    "gbc_best.fit(X_train, y_train)\n",
    "y_pred_gbc = gbc_best.predict(X_train)\n",
    "\n",
    "gbc_recall = recall_score(y_train, y_pred_gbc)\n",
    "gbc_precision = precision_score(y_train, y_pred_gbc)\n",
    "gbc_f1 = f1_score(y_train, y_pred_gbc)\n",
    "gbc_accuracy = accuracy_score(y_train, y_pred_gbc)\n",
    "print(f'GradientBoosting  recall score: {gbc_recall}\\nGradientBoosting precision score: {gbc_precision} \\\n",
    "    \\nGradientBoosting f1 score: {gbc_f1}\\nGradientBoosting accuracy score: {gbc_accuracy}')"
   ]
  },
  {
   "cell_type": "code",
   "execution_count": null,
   "metadata": {},
   "outputs": [],
   "source": []
  },
  {
   "cell_type": "code",
   "execution_count": 34,
   "metadata": {},
   "outputs": [],
   "source": [
    "lr_yhat = cross_val_predict(lr_best, X_train, y_train, cv=5, method='predict_proba')\n",
    "\n",
    "knn_yhat = cross_val_predict(knn_best, X_train, y_train, cv=5, method='predict_proba')\n",
    "\n",
    "dt_yhat = cross_val_predict(dt_best, X_train, y_train, cv=5, method='predict_proba')\n",
    "\n",
    "rf_yhat = cross_val_predict(rf_best, X_train, y_train, cv=5, method='predict_proba')\n",
    "\n",
    "gbc_yhat = cross_val_predict(gbc_best, X_train, y_train, cv=5, method='predict_proba')\n",
    "\n",
    "\n",
    "# lr_yhat = lr_best.predict(X_train)\n",
    "\n",
    "# knn_yhat = knn_best.predict(X_train)\n",
    "\n",
    "# dt_yhat = dt_best.predict(X_train)\n",
    "\n",
    "# rf_yhat = rf_best.predict(X_train)\n",
    "\n",
    "# gbc_yhat = gbc_best.predict(X_train)"
   ]
  },
  {
   "cell_type": "code",
   "execution_count": 35,
   "metadata": {},
   "outputs": [],
   "source": [
    "lr_fpr, lr_tpr, lr_thresh = roc_curve(y_train, lr_yhat[:, 1])\n",
    "\n",
    "knn_fpr, knn_tpr, knn_thresh = roc_curve(y_train, knn_yhat[:, 1])\n",
    "\n",
    "dt_fpr, dt_tpr, dt_thresh = roc_curve(y_train, dt_yhat[:, 1])\n",
    "\n",
    "rf_fpr, rf_tpr, rf_thresh = roc_curve(y_train, rf_yhat[:, 1])\n",
    "\n",
    "gbc_fpr, gbc_tpr, gbc_thresh = roc_curve(y_train, gbc_yhat[:, 1])"
   ]
  },
  {
   "cell_type": "code",
   "execution_count": 36,
   "metadata": {},
   "outputs": [],
   "source": [
    "# def roc_auc_score(y_train, y_hat):\n",
    "    \n",
    "\n",
    "# roc_auc_score(y_train, lr_yhat)\n",
    "# roc_auc_score(y_train, knn_yhat)\n",
    "# roc_auc_score(y_train, dt_yhat)"
   ]
  },
  {
   "cell_type": "code",
   "execution_count": 70,
   "metadata": {},
   "outputs": [
    {
     "data": {
      "image/png": "[encoded data removed]",
      "text/plain": [
       "<Figure size 720x576 with 1 Axes>"
      ]
     },
     "metadata": {},
     "output_type": "display_data"
    }
   ],
   "source": [
    "import seaborn as sns\n",
    "sns.set('talk', 'whitegrid', 'dark', font_scale=1.5,\n",
    "        rc={\"lines.linewidth\": 2, 'grid.linestyle': '--'})\n",
    "\n",
    "\n",
    "lw = 2\n",
    "plt.figure(figsize=(10,8))\n",
    "plt.plot(dt_fpr, dt_tpr, color = 'darkgreen', label='Decision Tree Classifier Score: {:.4f}'.format(roc_auc_score(y_train, dt_yhat[:, 1])))\n",
    "plt.plot(knn_fpr, knn_tpr, color = 'teal', label='KNN Score: {:.4f}'.format(roc_auc_score(y_train, knn_yhat[:, 1])))\n",
    "plt.plot(lr_fpr, lr_tpr, color = 'navy', label='Logistic Regression Score: {:.4f}'.format(roc_auc_score(y_train, lr_yhat[:, 1])))\n",
    "plt.plot(rf_fpr, rf_tpr, color = 'blue', label='Random Forest Regression Score: {:.4f}'.format(roc_auc_score(y_train, rf_yhat[:, 1])))\n",
    "plt.plot(gbc_fpr, gbc_tpr, color = 'gray', label='GradientBoosting Classifier Score: {:.4f}'.format(roc_auc_score(y_train, gbc_yhat[:, 1])))\n",
    "\n",
    "plt.plot([0, 1], [0, 1], 'k--')\n",
    "plt.xlim([0.0, 1.0])\n",
    "plt.ylim([0.0, 1.05])\n",
    "# plt.axis([-0.01, 1, 0, 1])\n",
    "plt.xlabel('False Positive Rate', fontsize=16)\n",
    "plt.ylabel('True Positive Rate', fontsize=16)\n",
    "plt.legend(prop={'size':13},loc='lower right')\n",
    "plt.title('Undersampling Modeling ROC results on CrossValidated', fontsize=22)\n",
    "plt.show()"
   ]
  },
  {
   "cell_type": "markdown",
   "metadata": {},
   "source": [
    "# Done with undersampling - back to OG dataset"
   ]
  },
  {
   "cell_type": "code",
   "execution_count": 38,
   "metadata": {
    "scrolled": true
   },
   "outputs": [
    {
     "data": {
      "text/plain": [
       "0    284315\n",
       "1       492\n",
       "Name: Class, dtype: int64"
      ]
     },
     "execution_count": 38,
     "metadata": {},
     "output_type": "execute_result"
    }
   ],
   "source": [
    "df['Class'].value_counts()"
   ]
  },
  {
   "cell_type": "code",
   "execution_count": 40,
   "metadata": {},
   "outputs": [
    {
     "name": "stdout",
     "output_type": "stream",
     "text": [
      "No Frauds 99.83 % of the dataset\n",
      "Frauds 0.17 % of the dataset\n"
     ]
    }
   ],
   "source": [
    "\n",
    "\n",
    "print('No Frauds', round(df['Class'].value_counts()[0]/len(df) * 100,2), '% of the dataset')\n",
    "print('Frauds', round(df['Class'].value_counts()[1]/len(df) * 100,2), '% of the dataset')\n",
    "\n",
    "X = df.drop('Class', axis=1)\n",
    "y = df['Class'].values\n",
    "\n"
   ]
  },
  {
   "cell_type": "code",
   "execution_count": 160,
   "metadata": {},
   "outputs": [],
   "source": [
    "#Test train split standard 80 / 20\n",
    "Xtrainfull, Xtestfull, ytrainfull, ytestfull = train_test_split(X, y, \n",
    "                                                    test_size=0.2, random_state=11)"
   ]
  },
  {
   "cell_type": "code",
   "execution_count": 162,
   "metadata": {},
   "outputs": [
    {
     "name": "stdout",
     "output_type": "stream",
     "text": [
      "GradientBoosting  recall score: 0.61\n",
      "GradientBoosting precision score: 0.8501742160278746     \n",
      "GradientBoosting f1 score: 0.710334788937409\n",
      "GradientBoosting accuracy score: 0.999126599223156\n"
     ]
    }
   ],
   "source": [
    "#LR scores gridsearch analysis on FULL \n",
    "gridsear_lr = GridSearchCV(LogisticRegression(), lr_params)\n",
    "\n",
    "gridsear_lr.fit(Xtrainfull, ytrainfull)\n",
    "# best parameters to be used\n",
    "gridsear_lr.best_estimator_\n",
    "gbc_best = GradientBoostingClassifier(criterion='friedman_mse', init=None,\n",
    "              learning_rate=0.1, loss='exponential', max_depth=3,\n",
    "              max_features=None, max_leaf_nodes=None,\n",
    "              min_impurity_decrease=0.0, min_impurity_split=None,\n",
    "              min_samples_leaf=1, min_samples_split=2,\n",
    "              min_weight_fraction_leaf=0.0, n_estimators=100,\n",
    "              presort='auto', random_state=None, subsample=1.0, verbose=0,\n",
    "              warm_start=False)\n",
    "\n",
    "lr_best.fit(Xtrainfull, ytrainfull)\n",
    "y_pred_lr = lr_best.predict(Xtrainfull)\n",
    "\n",
    "lr_recall = recall_score(ytrainfull, y_pred_lr)\n",
    "lr_precision = precision_score(ytrainfull, y_pred_lr)\n",
    "lr_f1 = f1_score(ytrainfull, y_pred_lr)\n",
    "lr_accuracy = accuracy_score(ytrainfull, y_pred_lr)\n",
    "print(f'GradientBoosting  recall score: {lr_recall}\\nGradientBoosting precision score: {lr_precision} \\\n",
    "    \\nGradientBoosting f1 score: {lr_f1}\\nGradientBoosting accuracy score: {lr_accuracy}')"
   ]
  },
  {
   "cell_type": "markdown",
   "metadata": {},
   "source": [
    "## Isolation Forest on Original Dataset"
   ]
  },
  {
   "cell_type": "code",
   "execution_count": 41,
   "metadata": {},
   "outputs": [
    {
     "data": {
      "text/html": [
       "<div>\n",
       "<style scoped>\n",
       "    .dataframe tbody tr th:only-of-type {\n",
       "        vertical-align: middle;\n",
       "    }\n",
       "\n",
       "    .dataframe tbody tr th {\n",
       "        vertical-align: top;\n",
       "    }\n",
       "\n",
       "    .dataframe thead th {\n",
       "        text-align: right;\n",
       "    }\n",
       "</style>\n",
       "<table border=\"1\" class=\"dataframe\">\n",
       "  <thead>\n",
       "    <tr style=\"text-align: right;\">\n",
       "      <th></th>\n",
       "      <th>Class</th>\n",
       "      <th>V1</th>\n",
       "      <th>V2</th>\n",
       "      <th>V3</th>\n",
       "      <th>V4</th>\n",
       "      <th>V5</th>\n",
       "      <th>V6</th>\n",
       "      <th>V7</th>\n",
       "      <th>V8</th>\n",
       "      <th>V9</th>\n",
       "      <th>...</th>\n",
       "      <th>V21</th>\n",
       "      <th>V22</th>\n",
       "      <th>V23</th>\n",
       "      <th>V24</th>\n",
       "      <th>V25</th>\n",
       "      <th>V26</th>\n",
       "      <th>V27</th>\n",
       "      <th>V28</th>\n",
       "      <th>scaled_amount</th>\n",
       "      <th>scaled_time</th>\n",
       "    </tr>\n",
       "  </thead>\n",
       "  <tbody>\n",
       "    <tr>\n",
       "      <th>46348</th>\n",
       "      <td>0</td>\n",
       "      <td>-0.590484</td>\n",
       "      <td>0.853099</td>\n",
       "      <td>1.416504</td>\n",
       "      <td>-0.421532</td>\n",
       "      <td>0.353362</td>\n",
       "      <td>-0.683382</td>\n",
       "      <td>0.670361</td>\n",
       "      <td>0.097574</td>\n",
       "      <td>-0.284073</td>\n",
       "      <td>...</td>\n",
       "      <td>-0.172126</td>\n",
       "      <td>-0.629355</td>\n",
       "      <td>0.009888</td>\n",
       "      <td>-0.018903</td>\n",
       "      <td>-0.447087</td>\n",
       "      <td>-0.054706</td>\n",
       "      <td>0.071186</td>\n",
       "      <td>0.130037</td>\n",
       "      <td>-0.349671</td>\n",
       "      <td>-1.096420</td>\n",
       "    </tr>\n",
       "    <tr>\n",
       "      <th>64657</th>\n",
       "      <td>0</td>\n",
       "      <td>-2.511525</td>\n",
       "      <td>-0.687359</td>\n",
       "      <td>0.392609</td>\n",
       "      <td>1.429692</td>\n",
       "      <td>0.321754</td>\n",
       "      <td>1.675456</td>\n",
       "      <td>-0.199509</td>\n",
       "      <td>0.645579</td>\n",
       "      <td>0.388471</td>\n",
       "      <td>...</td>\n",
       "      <td>-0.180861</td>\n",
       "      <td>0.045716</td>\n",
       "      <td>-0.743388</td>\n",
       "      <td>-1.629411</td>\n",
       "      <td>0.052997</td>\n",
       "      <td>-0.101054</td>\n",
       "      <td>-0.177061</td>\n",
       "      <td>-0.009137</td>\n",
       "      <td>0.308454</td>\n",
       "      <td>-0.917364</td>\n",
       "    </tr>\n",
       "    <tr>\n",
       "      <th>254445</th>\n",
       "      <td>0</td>\n",
       "      <td>-2.004457</td>\n",
       "      <td>2.111164</td>\n",
       "      <td>-0.657803</td>\n",
       "      <td>-0.190310</td>\n",
       "      <td>0.850672</td>\n",
       "      <td>1.272529</td>\n",
       "      <td>-1.883259</td>\n",
       "      <td>-4.651532</td>\n",
       "      <td>-1.664312</td>\n",
       "      <td>...</td>\n",
       "      <td>-2.829566</td>\n",
       "      <td>-0.216772</td>\n",
       "      <td>-0.022004</td>\n",
       "      <td>-0.305296</td>\n",
       "      <td>0.306942</td>\n",
       "      <td>0.476588</td>\n",
       "      <td>-0.133695</td>\n",
       "      <td>-0.008876</td>\n",
       "      <td>-0.348072</td>\n",
       "      <td>1.303973</td>\n",
       "    </tr>\n",
       "  </tbody>\n",
       "</table>\n",
       "<p>3 rows × 31 columns</p>\n",
       "</div>"
      ],
      "text/plain": [
       "        Class        V1        V2        V3        V4        V5        V6  \\\n",
       "46348       0 -0.590484  0.853099  1.416504 -0.421532  0.353362 -0.683382   \n",
       "64657       0 -2.511525 -0.687359  0.392609  1.429692  0.321754  1.675456   \n",
       "254445      0 -2.004457  2.111164 -0.657803 -0.190310  0.850672  1.272529   \n",
       "\n",
       "              V7        V8        V9  ...       V21       V22       V23  \\\n",
       "46348   0.670361  0.097574 -0.284073  ... -0.172126 -0.629355  0.009888   \n",
       "64657  -0.199509  0.645579  0.388471  ... -0.180861  0.045716 -0.743388   \n",
       "254445 -1.883259 -4.651532 -1.664312  ... -2.829566 -0.216772 -0.022004   \n",
       "\n",
       "             V24       V25       V26       V27       V28  scaled_amount  \\\n",
       "46348  -0.018903 -0.447087 -0.054706  0.071186  0.130037      -0.349671   \n",
       "64657  -1.629411  0.052997 -0.101054 -0.177061 -0.009137       0.308454   \n",
       "254445 -0.305296  0.306942  0.476588 -0.133695 -0.008876      -0.348072   \n",
       "\n",
       "        scaled_time  \n",
       "46348     -1.096420  \n",
       "64657     -0.917364  \n",
       "254445     1.303973  \n",
       "\n",
       "[3 rows x 31 columns]"
      ]
     },
     "execution_count": 41,
     "metadata": {},
     "output_type": "execute_result"
    }
   ],
   "source": [
    "df.head(3)"
   ]
  },
  {
   "cell_type": "code",
   "execution_count": 42,
   "metadata": {},
   "outputs": [],
   "source": [
    "X = df.drop('Class', axis=1)\n",
    "y = df['Class']"
   ]
  },
  {
   "cell_type": "code",
   "execution_count": 43,
   "metadata": {},
   "outputs": [
    {
     "data": {
      "text/plain": [
       "0    284315\n",
       "1       492\n",
       "Name: Class, dtype: int64"
      ]
     },
     "execution_count": 43,
     "metadata": {},
     "output_type": "execute_result"
    }
   ],
   "source": [
    "y.value_counts()"
   ]
  },
  {
   "cell_type": "code",
   "execution_count": 44,
   "metadata": {},
   "outputs": [],
   "source": [
    "#Test train split standard 80 / 20\n",
    "og_Xtrain, og_Xtest, og_ytrain, og_ytest = train_test_split(X, y, \n",
    "                                                    test_size=0.2, random_state=11)"
   ]
  },
  {
   "cell_type": "code",
   "execution_count": null,
   "metadata": {},
   "outputs": [],
   "source": []
  },
  {
   "cell_type": "markdown",
   "metadata": {},
   "source": [
    "## move this to helper function file"
   ]
  },
  {
   "cell_type": "code",
   "execution_count": 90,
   "metadata": {},
   "outputs": [],
   "source": [
    "def plot_confusion_matrix(cm, title, classes=['anomaly', 'normal'],\n",
    "                          cmap=plt.cm.Greens, save=False, saveas=\"MyFigure.png\"):\n",
    "    \n",
    "    # print Confusion matrix with blue gradient colours\n",
    "    \n",
    "    cm = cm.astype('float') / cm.sum(axis=1)[:, np.newaxis]\n",
    "    \n",
    "    plt.imshow(cm, interpolation='nearest', cmap=cmap)\n",
    "    plt.title(title, fontsize= 20)\n",
    "    plt.colorbar()\n",
    "    tick_marks = np.arange(len(classes))\n",
    "    plt.xticks(tick_marks, classes, rotation=90, fontsize=10)\n",
    "    plt.yticks(tick_marks, classes, fontsize=10)\n",
    "\n",
    "    fmt = '.1%'\n",
    "    thresh = cm.max() / 2.\n",
    "    for i, j in itertools.product(range(cm.shape[0]), range(cm.shape[1])):\n",
    "        plt.text(j, i, format(cm[i, j], fmt),\n",
    "                 horizontalalignment=\"center\",\n",
    "                 color=\"white\" if cm[i, j] > thresh else \"black\")\n",
    "\n",
    "    plt.tight_layout()\n",
    "    plt.ylabel('True label', fontsize= 16)\n",
    "    plt.xlabel('Predicted label', fontsize= 16)\n",
    "    \n",
    "    if save:\n",
    "        plt.savefig(saveas, dpi=100)"
   ]
  },
  {
   "cell_type": "code",
   "execution_count": 80,
   "metadata": {},
   "outputs": [
    {
     "name": "stderr",
     "output_type": "stream",
     "text": [
      "/Users/jessicapmouras/opt/anaconda3/lib/python3.7/site-packages/scipy/stats/stats.py:1713: FutureWarning: Using a non-tuple sequence for multidimensional indexing is deprecated; use `arr[tuple(seq)]` instead of `arr[seq]`. In the future this will be interpreted as an array index, `arr[np.array(seq)]`, which will result either in an error or a different result.\n",
      "  return np.add.reduce(sorted[indexer] * weights, axis=axis) / sumval\n"
     ]
    },
    {
     "name": "stdout",
     "output_type": "stream",
     "text": [
      "0:00:33.817787\n"
     ]
    }
   ],
   "source": [
    "# Fit and train Isolation Forest on training data\n",
    "# this is pretty standard parameters\n",
    "clfIF = IsolationForest(max_samples=0.25, random_state=11, contamination=0.05, n_estimators=100, n_jobs=-1)\n",
    "\n",
    "start = datetime.datetime.now()\n",
    "clfIF.fit(og_Xtrain,og_ytrain)\n",
    "y_pred_train = clfIF.predict(og_Xtrain)\n",
    "end = datetime.datetime.now()\n",
    "print (end-start)\n",
    "\n",
    "#fix the target class coing such that classification report works\n",
    "y_pred_train[y_pred_train==1] = 0\n",
    "y_pred_train[y_pred_train==-1] = 1"
   ]
  },
  {
   "cell_type": "code",
   "execution_count": 91,
   "metadata": {},
   "outputs": [
    {
     "name": "stdout",
     "output_type": "stream",
     "text": [
      "             precision    recall  f1-score   support\n",
      "\n",
      "          0       1.00      0.95      0.97    227445\n",
      "          1       0.03      0.86      0.06       400\n",
      "\n",
      "avg / total       1.00      0.95      0.97    227845\n",
      "\n",
      "AUC:  90.6%\n"
     ]
    },
    {
     "data": {
      "image/png": "[encoded data removed]",
      "text/plain": [
       "<Figure size 432x288 with 2 Axes>"
      ]
     },
     "metadata": {},
     "output_type": "display_data"
    }
   ],
   "source": [
    "\n",
    "print(classification_report(og_ytrain, y_pred_train))\n",
    "print (\"AUC: \", \"{:.1%}\".format(roc_auc_score(og_ytrain, y_pred_train)))\n",
    "cm = confusion_matrix(og_ytrain, y_pred_train)\n",
    "plot_confusion_matrix(cm, title=\"IF Confusion Matrix\", save=False, saveas=\"IF_Confusion.png\")"
   ]
  },
  {
   "cell_type": "code",
   "execution_count": 82,
   "metadata": {},
   "outputs": [
    {
     "data": {
      "text/plain": [
       "array([[216396,  11049],\n",
       "       [    56,    344]])"
      ]
     },
     "execution_count": 82,
     "metadata": {},
     "output_type": "execute_result"
    }
   ],
   "source": [
    "cm"
   ]
  },
  {
   "cell_type": "code",
   "execution_count": 93,
   "metadata": {},
   "outputs": [
    {
     "data": {
      "image/png": "[encoded data removed]",
      "text/plain": [
       "<Figure size 432x288 with 2 Axes>"
      ]
     },
     "metadata": {},
     "output_type": "display_data"
    }
   ],
   "source": [
    "#playing with plotting, which looks better?\n",
    "import seaborn as sns\n",
    "\n",
    "cm = confusion_matrix(og_ytrain, y_pred_train)\n",
    "cm = cm.astype('float') / cm.sum(axis=1)[:, np.newaxis]\n",
    "sns.heatmap(cm, annot=True, \n",
    "            fmt='.2%', cmap='Greens');"
   ]
  },
  {
   "cell_type": "code",
   "execution_count": 48,
   "metadata": {},
   "outputs": [
    {
     "name": "stdout",
     "output_type": "stream",
     "text": [
      "0:00:32.332836\n"
     ]
    }
   ],
   "source": [
    "# this is now with lower contamination rate\n",
    "clfIF = IsolationForest(max_samples=0.25, random_state=11, contamination=0.02, n_estimators=100, n_jobs=-1)\n",
    "\n",
    "start = datetime.datetime.now()\n",
    "clfIF.fit(og_Xtrain,og_ytrain)\n",
    "y_pred_train = clfIF.predict(og_Xtrain)\n",
    "end = datetime.datetime.now()\n",
    "print (end-start)\n",
    "\n",
    "#fix the target class coing such that classification report works\n",
    "y_pred_train[y_pred_train==1] = 0\n",
    "y_pred_train[y_pred_train==-1] = 1"
   ]
  },
  {
   "cell_type": "code",
   "execution_count": 49,
   "metadata": {},
   "outputs": [
    {
     "name": "stdout",
     "output_type": "stream",
     "text": [
      "             precision    recall  f1-score   support\n",
      "\n",
      "          0       1.00      0.98      0.99    227445\n",
      "          1       0.07      0.83      0.13       400\n",
      "\n",
      "avg / total       1.00      0.98      0.99    227845\n",
      "\n",
      "AUC:  90.4%\n"
     ]
    },
    {
     "data": {
      "image/png": "[encoded data removed]",
      "text/plain": [
       "<Figure size 432x288 with 2 Axes>"
      ]
     },
     "metadata": {
      "needs_background": "light"
     },
     "output_type": "display_data"
    }
   ],
   "source": [
    "print(classification_report(og_ytrain, y_pred_train))\n",
    "print (\"AUC: \", \"{:.1%}\".format(roc_auc_score(og_ytrain, y_pred_train)))\n",
    "cm = confusion_matrix(og_ytrain, y_pred_train)\n",
    "plot_confusion_matrix(cm, title=\"IF Confusion Matrix - SA\", save=False, saveas=\"IF_SA.png\")"
   ]
  },
  {
   "cell_type": "code",
   "execution_count": 50,
   "metadata": {},
   "outputs": [
    {
     "data": {
      "text/plain": [
       "array([[     0, 227445],\n",
       "       [     1,    400]])"
      ]
     },
     "execution_count": 50,
     "metadata": {},
     "output_type": "execute_result"
    }
   ],
   "source": [
    "(unique, counts) = np.unique(og_ytrain, return_counts=True)\n",
    "frequencies = np.asarray((unique, counts)).T\n",
    "frequencies "
   ]
  },
  {
   "cell_type": "code",
   "execution_count": 51,
   "metadata": {},
   "outputs": [],
   "source": [
    "scoring = {'AUC': 'roc_auc', 'Recall': make_scorer(recall_score, pos_label=1)}"
   ]
  },
  {
   "cell_type": "code",
   "execution_count": null,
   "metadata": {},
   "outputs": [],
   "source": [
    "\n",
    "## REVIST THIS TO SEE IF IT WORKS at 4:30pm\n",
    "# gs_con = GridSearchCV(IsolationForest(random_state=11, max_samples=0.10, n_estimators=150, n_jobs=-1),\n",
    "#                   param_grid={'contamination': np.arange(0.01, 0.25, 0.05)},\n",
    "#                   scoring=scoring, refit='Recall')\n",
    "# gs_con.fit(og_Xtrain, og_ytrain)\n",
    "# results = gs_con.cv_results_"
   ]
  },
  {
   "cell_type": "markdown",
   "metadata": {},
   "source": [
    "# PCA analysis - lots of manual"
   ]
  },
  {
   "cell_type": "code",
   "execution_count": 130,
   "metadata": {},
   "outputs": [],
   "source": [
    "X_pca = df.drop('Class', axis=1).values\n",
    "y_pca = df['Class'].values"
   ]
  },
  {
   "cell_type": "code",
   "execution_count": 131,
   "metadata": {},
   "outputs": [],
   "source": [
    "from sklearn import (\n",
    "    cluster, datasets, \n",
    "    decomposition, ensemble, manifold, \n",
    "    random_projection, preprocessing)\n",
    "import numpy as np\n",
    "\n",
    "from matplotlib import cm\n",
    "import matplotlib.pyplot as plt\n",
    "%matplotlib inline"
   ]
  },
  {
   "cell_type": "code",
   "execution_count": 127,
   "metadata": {},
   "outputs": [
    {
     "data": {
      "text/plain": [
       "(284807, 30)"
      ]
     },
     "execution_count": 127,
     "metadata": {},
     "output_type": "execute_result"
    }
   ],
   "source": [
    "X_pca_scaled = StandardScaler().fit_transform(X_pca);\n",
    "X_pca_scaled.shape"
   ]
  },
  {
   "cell_type": "code",
   "execution_count": 146,
   "metadata": {},
   "outputs": [],
   "source": [
    "\n",
    "pca = decomposition.PCA(n_components=15)\n",
    "X_new = pca.fit_transform(X_pca)"
   ]
  },
  {
   "cell_type": "code",
   "execution_count": 144,
   "metadata": {},
   "outputs": [],
   "source": [
    "def scree_plot(ax, pca, n_components_to_plot=10, title=None):\n",
    "    \"\"\"Make a scree plot showing the variance explained (i.e. varaince of the projections) for the principal components in a fit sklearn PCA object.\n",
    "    \n",
    "    Parameters\n",
    "    ----------\n",
    "    ax: matplotlib.axis object\n",
    "      The axis to make the scree plot on.\n",
    "      \n",
    "    pca: sklearn.decomposition.PCA object.\n",
    "      A fit PCA object.\n",
    "      \n",
    "    n_components_to_plot: int\n",
    "      The number of principal components to display in the skree plot.\n",
    "      \n",
    "    title: str\n",
    "      A title for the skree plot.\n",
    "    \"\"\"\n",
    "    num_components = pca.n_components_\n",
    "    ind = np.arange(num_components)\n",
    "    vals = pca.explained_variance_ratio_\n",
    "    ax.plot(ind, vals, color='blue')\n",
    "    ax.scatter(ind, vals, color='blue', s=50)\n",
    "\n",
    "    for i in range(num_components):\n",
    "        ax.annotate(r\"{:2.2f}%\".format(vals[i]), \n",
    "                   (ind[i]+0.2, vals[i]+0.005), \n",
    "                   va=\"bottom\", \n",
    "                   ha=\"center\", \n",
    "                   fontsize=12)\n",
    "\n",
    "    ax.set_xticklabels(ind, fontsize=12)\n",
    "    ax.set_ylim(0, max(vals) + 0.05)\n",
    "    ax.set_xlim(0 - 0.45, n_components_to_plot + 0.45)\n",
    "    ax.set_xlabel(\"Principal Component\", fontsize=12)\n",
    "    ax.set_ylabel(\"Variance Explained (%)\", fontsize=12)\n",
    "    if title is not None:\n",
    "        ax.set_title(title, fontsize=16)"
   ]
  },
  {
   "cell_type": "code",
   "execution_count": 147,
   "metadata": {},
   "outputs": [
    {
     "data": {
      "image/png": "[encoded data removed]",
      "text/plain": [
       "<Figure size 720x432 with 1 Axes>"
      ]
     },
     "metadata": {
      "needs_background": "light"
     },
     "output_type": "display_data"
    }
   ],
   "source": [
    "fig, ax = plt.subplots(figsize=(10, 6))\n",
    "scree_plot(ax, pca, title=\"Scree Plot for Fraud Principal Components\")"
   ]
  },
  {
   "cell_type": "code",
   "execution_count": 149,
   "metadata": {},
   "outputs": [],
   "source": [
    "X_pca = df.drop('Class', axis=1)\n",
    "y_pca = df['Class']"
   ]
  },
  {
   "cell_type": "code",
   "execution_count": 150,
   "metadata": {},
   "outputs": [],
   "source": [
    "X_train, X_test, y_train, y_test = train_test_split(X_pca, y_pca, test_size=0.2, random_state=2018, stratify=y_pca)"
   ]
  },
  {
   "cell_type": "code",
   "execution_count": null,
   "metadata": {},
   "outputs": [],
   "source": [
    "def anomalyScores(originalDF, reducedDF):\n",
    "    loss = np.sum((np.array(originalDF)-np.array(reducedDF))**2, axis=1)\n",
    "    loss = pd.Series(data=loss,index=originalDF.index)\n",
    "    loss = (loss-np.min(loss))/(np.max(loss)-np.min(loss))\n",
    "    return loss"
   ]
  },
  {
   "cell_type": "code",
   "execution_count": 151,
   "metadata": {},
   "outputs": [],
   "source": [
    "def plotResults(trueLabels, anomalyScores, returnPreds = False):\n",
    "    preds = pd.concat([trueLabels, anomalyScores], axis=1)\n",
    "    preds.columns = ['trueLabel', 'anomalyScore']\n",
    "    precision, recall, thresholds = \\\n",
    "        precision_recall_curve(preds['trueLabel'],preds['anomalyScore'])\n",
    "    average_precision = \\\n",
    "        average_precision_score(preds['trueLabel'],preds['anomalyScore'])\n",
    "\n",
    "    plt.step(recall, precision, color='k', alpha=0.7, where='post')\n",
    "    plt.fill_between(recall, precision, step='post', alpha=0.3, color='k')\n",
    "\n",
    "    plt.xlabel('Recall')\n",
    "    plt.ylabel('Precision')\n",
    "    plt.ylim([0.0, 1.05])\n",
    "    plt.xlim([0.0, 1.0])\n",
    "\n",
    "    plt.title('Precision-Recall curve: Average Precision = \\\n",
    "    {0:0.2f}'.format(average_precision))\n",
    "\n",
    "    fpr, tpr, thresholds = roc_curve(preds['trueLabel'], \\\n",
    "                                     preds['anomalyScore'])\n",
    "    areaUnderROC = auc(fpr, tpr)\n",
    "\n",
    "    plt.figure()\n",
    "    plt.plot(fpr, tpr, color='r', lw=2, label='ROC curve')\n",
    "    plt.plot([0, 1], [0, 1], color='k', lw=2, linestyle='--')\n",
    "    plt.xlim([0.0, 1.0])\n",
    "    plt.ylim([0.0, 1.05])\n",
    "    plt.xlabel('False Positive Rate')\n",
    "    plt.ylabel('True Positive Rate')\n",
    "    plt.title('Receiver operating characteristic: \\\n",
    "    Area under the curve = {0:0.2f}'.format(areaUnderROC))\n",
    "    plt.legend(loc=\"lower right\")\n",
    "    plt.show()\n",
    "\n",
    "    if returnPreds==True:\n",
    "        return preds"
   ]
  },
  {
   "cell_type": "code",
   "execution_count": null,
   "metadata": {},
   "outputs": [],
   "source": [
    "def scatterPlot(xDF, yDF, algoName):\n",
    "    tempDF = pd.DataFrame(data=xDF.loc[:,0:1], index=xDF.index)\n",
    "    tempDF = pd.concat((tempDF,yDF), axis=1, join=\"inner\")\n",
    "    tempDF.columns = [\"First Vector\", \"Second Vector\", \"Label\"]\n",
    "    sns.lmplot(x=\"First Vector\", y=\"Second Vector\", hue=\"Label\", \\\n",
    "               data=tempDF, fit_reg=False)\n",
    "    ax = plt.gca()\n",
    "    ax.set_title(\"Separation of Observations using \"+algoName)"
   ]
  },
  {
   "cell_type": "code",
   "execution_count": null,
   "metadata": {},
   "outputs": [],
   "source": [
    "# 30 principal components\n",
    "from sklearn.decomposition import PCA\n",
    "\n",
    "n_components = 30\n",
    "whiten = False\n",
    "random_state = 2018\n",
    "\n",
    "pca = PCA(n_components=n_components, whiten=whiten,\n",
    "          random_state=random_state)\n",
    "\n",
    "X_train_PCA = pca.fit_transform(X_train)\n",
    "X_train_PCA = pd.DataFrame(data=X_train_PCA, index=X_train.index)\n",
    "\n",
    "X_train_PCA_inverse = pca.inverse_transform(X_train_PCA)\n",
    "X_train_PCA_inverse = pd.DataFrame(data=X_train_PCA_inverse, index=X_train.index)\n",
    "\n",
    "scatterPlot(X_train_PCA, y_train, \"PCA\")"
   ]
  },
  {
   "cell_type": "code",
   "execution_count": null,
   "metadata": {},
   "outputs": [],
   "source": [
    "anomalyScoresPCA = anomalyScores(X_train, X_train_PCA_inverse)\n",
    "preds = plotResults(y_train, anomalyScoresPCA, True)"
   ]
  },
  {
   "cell_type": "code",
   "execution_count": null,
   "metadata": {},
   "outputs": [],
   "source": [
    "preds.sort_values(by=\"anomalyScore\",ascending=False,inplace=True)\n",
    "cutoff = 350\n",
    "predsTop = preds[:cutoff]\n",
    "print(\"Precision: \",np.round(predsTop. \\\n",
    "            anomalyScore[predsTop.trueLabel==1].count()/cutoff,2))\n",
    "print(\"Recall: \",np.round(predsTop. \\\n",
    "            anomalyScore[predsTop.trueLabel==1].count()/y_train.sum(),2))"
   ]
  },
  {
   "cell_type": "code",
   "execution_count": null,
   "metadata": {},
   "outputs": [],
   "source": []
  },
  {
   "cell_type": "code",
   "execution_count": null,
   "metadata": {},
   "outputs": [],
   "source": []
  },
  {
   "cell_type": "code",
   "execution_count": null,
   "metadata": {},
   "outputs": [],
   "source": []
  },
  {
   "cell_type": "markdown",
   "metadata": {},
   "source": [
    "## manual results"
   ]
  },
  {
   "cell_type": "code",
   "execution_count": 96,
   "metadata": {},
   "outputs": [],
   "source": []
  },
  {
   "cell_type": "code",
   "execution_count": null,
   "metadata": {
    "scrolled": true
   },
   "outputs": [],
   "source": []
  },
  {
   "cell_type": "code",
   "execution_count": null,
   "metadata": {},
   "outputs": [],
   "source": []
  },
  {
   "cell_type": "code",
   "execution_count": null,
   "metadata": {},
   "outputs": [],
   "source": []
  },
  {
   "cell_type": "code",
   "execution_count": null,
   "metadata": {},
   "outputs": [],
   "source": []
  },
  {
   "cell_type": "code",
   "execution_count": null,
   "metadata": {},
   "outputs": [],
   "source": []
  },
  {
   "cell_type": "code",
   "execution_count": null,
   "metadata": {},
   "outputs": [],
   "source": []
  },
  {
   "cell_type": "code",
   "execution_count": null,
   "metadata": {},
   "outputs": [],
   "source": []
  }
 ],
 "metadata": {
  "kernelspec": {
   "display_name": "Python 3",
   "language": "python",
   "name": "python3"
  },
  "language_info": {
   "codemirror_mode": {
    "name": "ipython",
    "version": 3
   },
   "file_extension": ".py",
   "mimetype": "text/x-python",
   "name": "python",
   "nbconvert_exporter": "python",
   "pygments_lexer": "ipython3",
   "version": "3.7.4"
  },
  "toc": {
   "base_numbering": 1,
   "nav_menu": {},
   "number_sections": false,
   "sideBar": true,
   "skip_h1_title": false,
   "title_cell": "Table of Contents",
   "title_sidebar": "Contents",
   "toc_cell": false,
   "toc_position": {
    "height": "calc(100% - 180px)",
    "left": "10px",
    "top": "150px",
    "width": "304.594px"
   },
   "toc_section_display": true,
   "toc_window_display": true
  }
 },
 "nbformat": 4,
 "nbformat_minor": 4
}
