{
 "cells": [
  {
   "cell_type": "code",
   "execution_count": 1,
   "metadata": {},
   "outputs": [
    {
     "name": "stderr",
     "output_type": "stream",
     "text": [
      "/Users/jessicapmouras/opt/anaconda3/lib/python3.7/site-packages/sklearn/ensemble/weight_boosting.py:29: DeprecationWarning: numpy.core.umath_tests is an internal NumPy module and should not be imported. It will be removed in a future NumPy release.\n",
      "  from numpy.core.umath_tests import inner1d\n"
     ]
    }
   ],
   "source": [
    "import pandas as pd\n",
    "import numpy as np\n",
    "import seaborn as sns\n",
    "import scipy as stats\n",
    "from scipy.stats import norm\n",
    "import matplotlib.pyplot as plt\n",
    "\n",
    "#scaling and train-test split\n",
    "from sklearn.preprocessing import StandardScaler, RobustScaler\n",
    "from sklearn.model_selection import train_test_split, StratifiedShuffleSplit, cross_val_score, cross_val_predict, learning_curve\n",
    "\n",
    "#models to review\n",
    "from sklearn.neighbors import KNeighborsClassifier\n",
    "from sklearn.linear_model import LogisticRegression\n",
    "from sklearn.tree import DecisionTreeClassifier\n",
    "from sklearn.ensemble import RandomForestClassifier\n",
    "from sklearn.ensemble import GradientBoostingClassifier\n",
    "from sklearn.ensemble import IsolationForest\n",
    "\n",
    "#crossvalidation methods\n",
    "\n",
    "from sklearn.model_selection import KFold, StratifiedKFold, GridSearchCV\n",
    "\n",
    "#metrics to review\n",
    "from sklearn.metrics import (make_scorer, recall_score, precision_score,\n",
    "f1_score, roc_auc_score, accuracy_score, roc_curve, classification_report, confusion_matrix)\n",
    "\n",
    "#dealing with SMOTE techniques\n",
    "import imblearn\n",
    "from imblearn.pipeline import make_pipeline\n",
    "from imblearn.over_sampling import SMOTE\n",
    "from imblearn.combine import SMOTEENN\n",
    "from imblearn.under_sampling import NearMiss\n",
    "from imblearn.metrics import classification_report_imbalanced\n",
    "\n",
    "from sklearn.model_selection import train_test_split, RandomizedSearchCV\n",
    "\n",
    "#import helper file py\n",
    "import nbimporter\n",
    "from dataclean import *\n",
    "\n",
    "#autoreload python file\n",
    "%load_ext autoreload\n",
    "%autoreload 2\n",
    "%reload_ext autoreload\n",
    "#neatness\n",
    "%matplotlib inline\n",
    "\n",
    "import datetime\n",
    "import itertools"
   ]
  },
  {
   "cell_type": "code",
   "execution_count": 2,
   "metadata": {
    "scrolled": true
   },
   "outputs": [
    {
     "data": {
      "text/html": [
       "<div>\n",
       "<style scoped>\n",
       "    .dataframe tbody tr th:only-of-type {\n",
       "        vertical-align: middle;\n",
       "    }\n",
       "\n",
       "    .dataframe tbody tr th {\n",
       "        vertical-align: top;\n",
       "    }\n",
       "\n",
       "    .dataframe thead th {\n",
       "        text-align: right;\n",
       "    }\n",
       "</style>\n",
       "<table border=\"1\" class=\"dataframe\">\n",
       "  <thead>\n",
       "    <tr style=\"text-align: right;\">\n",
       "      <th></th>\n",
       "      <th>Time</th>\n",
       "      <th>V1</th>\n",
       "      <th>V2</th>\n",
       "      <th>V3</th>\n",
       "      <th>V4</th>\n",
       "      <th>V5</th>\n",
       "      <th>V6</th>\n",
       "      <th>V7</th>\n",
       "      <th>V8</th>\n",
       "      <th>V9</th>\n",
       "      <th>...</th>\n",
       "      <th>V21</th>\n",
       "      <th>V22</th>\n",
       "      <th>V23</th>\n",
       "      <th>V24</th>\n",
       "      <th>V25</th>\n",
       "      <th>V26</th>\n",
       "      <th>V27</th>\n",
       "      <th>V28</th>\n",
       "      <th>Amount</th>\n",
       "      <th>Class</th>\n",
       "    </tr>\n",
       "  </thead>\n",
       "  <tbody>\n",
       "    <tr>\n",
       "      <th>0</th>\n",
       "      <td>0.0</td>\n",
       "      <td>-1.359807</td>\n",
       "      <td>-0.072781</td>\n",
       "      <td>2.536347</td>\n",
       "      <td>1.378155</td>\n",
       "      <td>-0.338321</td>\n",
       "      <td>0.462388</td>\n",
       "      <td>0.239599</td>\n",
       "      <td>0.098698</td>\n",
       "      <td>0.363787</td>\n",
       "      <td>...</td>\n",
       "      <td>-0.018307</td>\n",
       "      <td>0.277838</td>\n",
       "      <td>-0.110474</td>\n",
       "      <td>0.066928</td>\n",
       "      <td>0.128539</td>\n",
       "      <td>-0.189115</td>\n",
       "      <td>0.133558</td>\n",
       "      <td>-0.021053</td>\n",
       "      <td>149.62</td>\n",
       "      <td>0</td>\n",
       "    </tr>\n",
       "    <tr>\n",
       "      <th>1</th>\n",
       "      <td>0.0</td>\n",
       "      <td>1.191857</td>\n",
       "      <td>0.266151</td>\n",
       "      <td>0.166480</td>\n",
       "      <td>0.448154</td>\n",
       "      <td>0.060018</td>\n",
       "      <td>-0.082361</td>\n",
       "      <td>-0.078803</td>\n",
       "      <td>0.085102</td>\n",
       "      <td>-0.255425</td>\n",
       "      <td>...</td>\n",
       "      <td>-0.225775</td>\n",
       "      <td>-0.638672</td>\n",
       "      <td>0.101288</td>\n",
       "      <td>-0.339846</td>\n",
       "      <td>0.167170</td>\n",
       "      <td>0.125895</td>\n",
       "      <td>-0.008983</td>\n",
       "      <td>0.014724</td>\n",
       "      <td>2.69</td>\n",
       "      <td>0</td>\n",
       "    </tr>\n",
       "    <tr>\n",
       "      <th>2</th>\n",
       "      <td>1.0</td>\n",
       "      <td>-1.358354</td>\n",
       "      <td>-1.340163</td>\n",
       "      <td>1.773209</td>\n",
       "      <td>0.379780</td>\n",
       "      <td>-0.503198</td>\n",
       "      <td>1.800499</td>\n",
       "      <td>0.791461</td>\n",
       "      <td>0.247676</td>\n",
       "      <td>-1.514654</td>\n",
       "      <td>...</td>\n",
       "      <td>0.247998</td>\n",
       "      <td>0.771679</td>\n",
       "      <td>0.909412</td>\n",
       "      <td>-0.689281</td>\n",
       "      <td>-0.327642</td>\n",
       "      <td>-0.139097</td>\n",
       "      <td>-0.055353</td>\n",
       "      <td>-0.059752</td>\n",
       "      <td>378.66</td>\n",
       "      <td>0</td>\n",
       "    </tr>\n",
       "    <tr>\n",
       "      <th>3</th>\n",
       "      <td>1.0</td>\n",
       "      <td>-0.966272</td>\n",
       "      <td>-0.185226</td>\n",
       "      <td>1.792993</td>\n",
       "      <td>-0.863291</td>\n",
       "      <td>-0.010309</td>\n",
       "      <td>1.247203</td>\n",
       "      <td>0.237609</td>\n",
       "      <td>0.377436</td>\n",
       "      <td>-1.387024</td>\n",
       "      <td>...</td>\n",
       "      <td>-0.108300</td>\n",
       "      <td>0.005274</td>\n",
       "      <td>-0.190321</td>\n",
       "      <td>-1.175575</td>\n",
       "      <td>0.647376</td>\n",
       "      <td>-0.221929</td>\n",
       "      <td>0.062723</td>\n",
       "      <td>0.061458</td>\n",
       "      <td>123.50</td>\n",
       "      <td>0</td>\n",
       "    </tr>\n",
       "    <tr>\n",
       "      <th>4</th>\n",
       "      <td>2.0</td>\n",
       "      <td>-1.158233</td>\n",
       "      <td>0.877737</td>\n",
       "      <td>1.548718</td>\n",
       "      <td>0.403034</td>\n",
       "      <td>-0.407193</td>\n",
       "      <td>0.095921</td>\n",
       "      <td>0.592941</td>\n",
       "      <td>-0.270533</td>\n",
       "      <td>0.817739</td>\n",
       "      <td>...</td>\n",
       "      <td>-0.009431</td>\n",
       "      <td>0.798278</td>\n",
       "      <td>-0.137458</td>\n",
       "      <td>0.141267</td>\n",
       "      <td>-0.206010</td>\n",
       "      <td>0.502292</td>\n",
       "      <td>0.219422</td>\n",
       "      <td>0.215153</td>\n",
       "      <td>69.99</td>\n",
       "      <td>0</td>\n",
       "    </tr>\n",
       "  </tbody>\n",
       "</table>\n",
       "<p>5 rows × 31 columns</p>\n",
       "</div>"
      ],
      "text/plain": [
       "   Time        V1        V2        V3        V4        V5        V6        V7  \\\n",
       "0   0.0 -1.359807 -0.072781  2.536347  1.378155 -0.338321  0.462388  0.239599   \n",
       "1   0.0  1.191857  0.266151  0.166480  0.448154  0.060018 -0.082361 -0.078803   \n",
       "2   1.0 -1.358354 -1.340163  1.773209  0.379780 -0.503198  1.800499  0.791461   \n",
       "3   1.0 -0.966272 -0.185226  1.792993 -0.863291 -0.010309  1.247203  0.237609   \n",
       "4   2.0 -1.158233  0.877737  1.548718  0.403034 -0.407193  0.095921  0.592941   \n",
       "\n",
       "         V8        V9  ...       V21       V22       V23       V24       V25  \\\n",
       "0  0.098698  0.363787  ... -0.018307  0.277838 -0.110474  0.066928  0.128539   \n",
       "1  0.085102 -0.255425  ... -0.225775 -0.638672  0.101288 -0.339846  0.167170   \n",
       "2  0.247676 -1.514654  ...  0.247998  0.771679  0.909412 -0.689281 -0.327642   \n",
       "3  0.377436 -1.387024  ... -0.108300  0.005274 -0.190321 -1.175575  0.647376   \n",
       "4 -0.270533  0.817739  ... -0.009431  0.798278 -0.137458  0.141267 -0.206010   \n",
       "\n",
       "        V26       V27       V28  Amount  Class  \n",
       "0 -0.189115  0.133558 -0.021053  149.62      0  \n",
       "1  0.125895 -0.008983  0.014724    2.69      0  \n",
       "2 -0.139097 -0.055353 -0.059752  378.66      0  \n",
       "3 -0.221929  0.062723  0.061458  123.50      0  \n",
       "4  0.502292  0.219422  0.215153   69.99      0  \n",
       "\n",
       "[5 rows x 31 columns]"
      ]
     },
     "execution_count": 2,
     "metadata": {},
     "output_type": "execute_result"
    }
   ],
   "source": [
    "#import csv data \n",
    "df = pd.read_csv('creditcard.csv')\n",
    "df.head()"
   ]
  },
  {
   "cell_type": "markdown",
   "metadata": {},
   "source": [
    "## Data cleaning and inital EDA"
   ]
  },
  {
   "cell_type": "code",
   "execution_count": 3,
   "metadata": {},
   "outputs": [
    {
     "data": {
      "text/html": [
       "<div>\n",
       "<style scoped>\n",
       "    .dataframe tbody tr th:only-of-type {\n",
       "        vertical-align: middle;\n",
       "    }\n",
       "\n",
       "    .dataframe tbody tr th {\n",
       "        vertical-align: top;\n",
       "    }\n",
       "\n",
       "    .dataframe thead th {\n",
       "        text-align: right;\n",
       "    }\n",
       "</style>\n",
       "<table border=\"1\" class=\"dataframe\">\n",
       "  <thead>\n",
       "    <tr style=\"text-align: right;\">\n",
       "      <th></th>\n",
       "      <th>Time</th>\n",
       "      <th>V1</th>\n",
       "      <th>V2</th>\n",
       "      <th>V3</th>\n",
       "      <th>V4</th>\n",
       "      <th>V5</th>\n",
       "      <th>V6</th>\n",
       "      <th>V7</th>\n",
       "      <th>V8</th>\n",
       "      <th>V9</th>\n",
       "      <th>...</th>\n",
       "      <th>V21</th>\n",
       "      <th>V22</th>\n",
       "      <th>V23</th>\n",
       "      <th>V24</th>\n",
       "      <th>V25</th>\n",
       "      <th>V26</th>\n",
       "      <th>V27</th>\n",
       "      <th>V28</th>\n",
       "      <th>Amount</th>\n",
       "      <th>Class</th>\n",
       "    </tr>\n",
       "  </thead>\n",
       "  <tbody>\n",
       "    <tr>\n",
       "      <th>count</th>\n",
       "      <td>284807.000000</td>\n",
       "      <td>2.848070e+05</td>\n",
       "      <td>2.848070e+05</td>\n",
       "      <td>2.848070e+05</td>\n",
       "      <td>2.848070e+05</td>\n",
       "      <td>2.848070e+05</td>\n",
       "      <td>2.848070e+05</td>\n",
       "      <td>2.848070e+05</td>\n",
       "      <td>2.848070e+05</td>\n",
       "      <td>2.848070e+05</td>\n",
       "      <td>...</td>\n",
       "      <td>2.848070e+05</td>\n",
       "      <td>2.848070e+05</td>\n",
       "      <td>2.848070e+05</td>\n",
       "      <td>2.848070e+05</td>\n",
       "      <td>2.848070e+05</td>\n",
       "      <td>2.848070e+05</td>\n",
       "      <td>2.848070e+05</td>\n",
       "      <td>2.848070e+05</td>\n",
       "      <td>284807.000000</td>\n",
       "      <td>284807.000000</td>\n",
       "    </tr>\n",
       "    <tr>\n",
       "      <th>mean</th>\n",
       "      <td>94813.859575</td>\n",
       "      <td>3.919560e-15</td>\n",
       "      <td>5.688174e-16</td>\n",
       "      <td>-8.769071e-15</td>\n",
       "      <td>2.782312e-15</td>\n",
       "      <td>-1.552563e-15</td>\n",
       "      <td>2.010663e-15</td>\n",
       "      <td>-1.694249e-15</td>\n",
       "      <td>-1.927028e-16</td>\n",
       "      <td>-3.137024e-15</td>\n",
       "      <td>...</td>\n",
       "      <td>1.537294e-16</td>\n",
       "      <td>7.959909e-16</td>\n",
       "      <td>5.367590e-16</td>\n",
       "      <td>4.458112e-15</td>\n",
       "      <td>1.453003e-15</td>\n",
       "      <td>1.699104e-15</td>\n",
       "      <td>-3.660161e-16</td>\n",
       "      <td>-1.206049e-16</td>\n",
       "      <td>88.349619</td>\n",
       "      <td>0.001727</td>\n",
       "    </tr>\n",
       "    <tr>\n",
       "      <th>std</th>\n",
       "      <td>47488.145955</td>\n",
       "      <td>1.958696e+00</td>\n",
       "      <td>1.651309e+00</td>\n",
       "      <td>1.516255e+00</td>\n",
       "      <td>1.415869e+00</td>\n",
       "      <td>1.380247e+00</td>\n",
       "      <td>1.332271e+00</td>\n",
       "      <td>1.237094e+00</td>\n",
       "      <td>1.194353e+00</td>\n",
       "      <td>1.098632e+00</td>\n",
       "      <td>...</td>\n",
       "      <td>7.345240e-01</td>\n",
       "      <td>7.257016e-01</td>\n",
       "      <td>6.244603e-01</td>\n",
       "      <td>6.056471e-01</td>\n",
       "      <td>5.212781e-01</td>\n",
       "      <td>4.822270e-01</td>\n",
       "      <td>4.036325e-01</td>\n",
       "      <td>3.300833e-01</td>\n",
       "      <td>250.120109</td>\n",
       "      <td>0.041527</td>\n",
       "    </tr>\n",
       "    <tr>\n",
       "      <th>min</th>\n",
       "      <td>0.000000</td>\n",
       "      <td>-5.640751e+01</td>\n",
       "      <td>-7.271573e+01</td>\n",
       "      <td>-4.832559e+01</td>\n",
       "      <td>-5.683171e+00</td>\n",
       "      <td>-1.137433e+02</td>\n",
       "      <td>-2.616051e+01</td>\n",
       "      <td>-4.355724e+01</td>\n",
       "      <td>-7.321672e+01</td>\n",
       "      <td>-1.343407e+01</td>\n",
       "      <td>...</td>\n",
       "      <td>-3.483038e+01</td>\n",
       "      <td>-1.093314e+01</td>\n",
       "      <td>-4.480774e+01</td>\n",
       "      <td>-2.836627e+00</td>\n",
       "      <td>-1.029540e+01</td>\n",
       "      <td>-2.604551e+00</td>\n",
       "      <td>-2.256568e+01</td>\n",
       "      <td>-1.543008e+01</td>\n",
       "      <td>0.000000</td>\n",
       "      <td>0.000000</td>\n",
       "    </tr>\n",
       "    <tr>\n",
       "      <th>25%</th>\n",
       "      <td>54201.500000</td>\n",
       "      <td>-9.203734e-01</td>\n",
       "      <td>-5.985499e-01</td>\n",
       "      <td>-8.903648e-01</td>\n",
       "      <td>-8.486401e-01</td>\n",
       "      <td>-6.915971e-01</td>\n",
       "      <td>-7.682956e-01</td>\n",
       "      <td>-5.540759e-01</td>\n",
       "      <td>-2.086297e-01</td>\n",
       "      <td>-6.430976e-01</td>\n",
       "      <td>...</td>\n",
       "      <td>-2.283949e-01</td>\n",
       "      <td>-5.423504e-01</td>\n",
       "      <td>-1.618463e-01</td>\n",
       "      <td>-3.545861e-01</td>\n",
       "      <td>-3.171451e-01</td>\n",
       "      <td>-3.269839e-01</td>\n",
       "      <td>-7.083953e-02</td>\n",
       "      <td>-5.295979e-02</td>\n",
       "      <td>5.600000</td>\n",
       "      <td>0.000000</td>\n",
       "    </tr>\n",
       "    <tr>\n",
       "      <th>50%</th>\n",
       "      <td>84692.000000</td>\n",
       "      <td>1.810880e-02</td>\n",
       "      <td>6.548556e-02</td>\n",
       "      <td>1.798463e-01</td>\n",
       "      <td>-1.984653e-02</td>\n",
       "      <td>-5.433583e-02</td>\n",
       "      <td>-2.741871e-01</td>\n",
       "      <td>4.010308e-02</td>\n",
       "      <td>2.235804e-02</td>\n",
       "      <td>-5.142873e-02</td>\n",
       "      <td>...</td>\n",
       "      <td>-2.945017e-02</td>\n",
       "      <td>6.781943e-03</td>\n",
       "      <td>-1.119293e-02</td>\n",
       "      <td>4.097606e-02</td>\n",
       "      <td>1.659350e-02</td>\n",
       "      <td>-5.213911e-02</td>\n",
       "      <td>1.342146e-03</td>\n",
       "      <td>1.124383e-02</td>\n",
       "      <td>22.000000</td>\n",
       "      <td>0.000000</td>\n",
       "    </tr>\n",
       "    <tr>\n",
       "      <th>75%</th>\n",
       "      <td>139320.500000</td>\n",
       "      <td>1.315642e+00</td>\n",
       "      <td>8.037239e-01</td>\n",
       "      <td>1.027196e+00</td>\n",
       "      <td>7.433413e-01</td>\n",
       "      <td>6.119264e-01</td>\n",
       "      <td>3.985649e-01</td>\n",
       "      <td>5.704361e-01</td>\n",
       "      <td>3.273459e-01</td>\n",
       "      <td>5.971390e-01</td>\n",
       "      <td>...</td>\n",
       "      <td>1.863772e-01</td>\n",
       "      <td>5.285536e-01</td>\n",
       "      <td>1.476421e-01</td>\n",
       "      <td>4.395266e-01</td>\n",
       "      <td>3.507156e-01</td>\n",
       "      <td>2.409522e-01</td>\n",
       "      <td>9.104512e-02</td>\n",
       "      <td>7.827995e-02</td>\n",
       "      <td>77.165000</td>\n",
       "      <td>0.000000</td>\n",
       "    </tr>\n",
       "    <tr>\n",
       "      <th>max</th>\n",
       "      <td>172792.000000</td>\n",
       "      <td>2.454930e+00</td>\n",
       "      <td>2.205773e+01</td>\n",
       "      <td>9.382558e+00</td>\n",
       "      <td>1.687534e+01</td>\n",
       "      <td>3.480167e+01</td>\n",
       "      <td>7.330163e+01</td>\n",
       "      <td>1.205895e+02</td>\n",
       "      <td>2.000721e+01</td>\n",
       "      <td>1.559499e+01</td>\n",
       "      <td>...</td>\n",
       "      <td>2.720284e+01</td>\n",
       "      <td>1.050309e+01</td>\n",
       "      <td>2.252841e+01</td>\n",
       "      <td>4.584549e+00</td>\n",
       "      <td>7.519589e+00</td>\n",
       "      <td>3.517346e+00</td>\n",
       "      <td>3.161220e+01</td>\n",
       "      <td>3.384781e+01</td>\n",
       "      <td>25691.160000</td>\n",
       "      <td>1.000000</td>\n",
       "    </tr>\n",
       "  </tbody>\n",
       "</table>\n",
       "<p>8 rows × 31 columns</p>\n",
       "</div>"
      ],
      "text/plain": [
       "                Time            V1            V2            V3            V4  \\\n",
       "count  284807.000000  2.848070e+05  2.848070e+05  2.848070e+05  2.848070e+05   \n",
       "mean    94813.859575  3.919560e-15  5.688174e-16 -8.769071e-15  2.782312e-15   \n",
       "std     47488.145955  1.958696e+00  1.651309e+00  1.516255e+00  1.415869e+00   \n",
       "min         0.000000 -5.640751e+01 -7.271573e+01 -4.832559e+01 -5.683171e+00   \n",
       "25%     54201.500000 -9.203734e-01 -5.985499e-01 -8.903648e-01 -8.486401e-01   \n",
       "50%     84692.000000  1.810880e-02  6.548556e-02  1.798463e-01 -1.984653e-02   \n",
       "75%    139320.500000  1.315642e+00  8.037239e-01  1.027196e+00  7.433413e-01   \n",
       "max    172792.000000  2.454930e+00  2.205773e+01  9.382558e+00  1.687534e+01   \n",
       "\n",
       "                 V5            V6            V7            V8            V9  \\\n",
       "count  2.848070e+05  2.848070e+05  2.848070e+05  2.848070e+05  2.848070e+05   \n",
       "mean  -1.552563e-15  2.010663e-15 -1.694249e-15 -1.927028e-16 -3.137024e-15   \n",
       "std    1.380247e+00  1.332271e+00  1.237094e+00  1.194353e+00  1.098632e+00   \n",
       "min   -1.137433e+02 -2.616051e+01 -4.355724e+01 -7.321672e+01 -1.343407e+01   \n",
       "25%   -6.915971e-01 -7.682956e-01 -5.540759e-01 -2.086297e-01 -6.430976e-01   \n",
       "50%   -5.433583e-02 -2.741871e-01  4.010308e-02  2.235804e-02 -5.142873e-02   \n",
       "75%    6.119264e-01  3.985649e-01  5.704361e-01  3.273459e-01  5.971390e-01   \n",
       "max    3.480167e+01  7.330163e+01  1.205895e+02  2.000721e+01  1.559499e+01   \n",
       "\n",
       "       ...           V21           V22           V23           V24  \\\n",
       "count  ...  2.848070e+05  2.848070e+05  2.848070e+05  2.848070e+05   \n",
       "mean   ...  1.537294e-16  7.959909e-16  5.367590e-16  4.458112e-15   \n",
       "std    ...  7.345240e-01  7.257016e-01  6.244603e-01  6.056471e-01   \n",
       "min    ... -3.483038e+01 -1.093314e+01 -4.480774e+01 -2.836627e+00   \n",
       "25%    ... -2.283949e-01 -5.423504e-01 -1.618463e-01 -3.545861e-01   \n",
       "50%    ... -2.945017e-02  6.781943e-03 -1.119293e-02  4.097606e-02   \n",
       "75%    ...  1.863772e-01  5.285536e-01  1.476421e-01  4.395266e-01   \n",
       "max    ...  2.720284e+01  1.050309e+01  2.252841e+01  4.584549e+00   \n",
       "\n",
       "                V25           V26           V27           V28         Amount  \\\n",
       "count  2.848070e+05  2.848070e+05  2.848070e+05  2.848070e+05  284807.000000   \n",
       "mean   1.453003e-15  1.699104e-15 -3.660161e-16 -1.206049e-16      88.349619   \n",
       "std    5.212781e-01  4.822270e-01  4.036325e-01  3.300833e-01     250.120109   \n",
       "min   -1.029540e+01 -2.604551e+00 -2.256568e+01 -1.543008e+01       0.000000   \n",
       "25%   -3.171451e-01 -3.269839e-01 -7.083953e-02 -5.295979e-02       5.600000   \n",
       "50%    1.659350e-02 -5.213911e-02  1.342146e-03  1.124383e-02      22.000000   \n",
       "75%    3.507156e-01  2.409522e-01  9.104512e-02  7.827995e-02      77.165000   \n",
       "max    7.519589e+00  3.517346e+00  3.161220e+01  3.384781e+01   25691.160000   \n",
       "\n",
       "               Class  \n",
       "count  284807.000000  \n",
       "mean        0.001727  \n",
       "std         0.041527  \n",
       "min         0.000000  \n",
       "25%         0.000000  \n",
       "50%         0.000000  \n",
       "75%         0.000000  \n",
       "max         1.000000  \n",
       "\n",
       "[8 rows x 31 columns]"
      ]
     },
     "execution_count": 3,
     "metadata": {},
     "output_type": "execute_result"
    }
   ],
   "source": [
    "df.describe()"
   ]
  },
  {
   "cell_type": "code",
   "execution_count": 4,
   "metadata": {},
   "outputs": [],
   "source": [
    "#df.info()"
   ]
  },
  {
   "cell_type": "code",
   "execution_count": 5,
   "metadata": {},
   "outputs": [
    {
     "data": {
      "text/plain": [
       "Index(['Class', 'Amount', 'Time', 'V1', 'V2', 'V3', 'V4', 'V5', 'V6', 'V7',\n",
       "       'V8', 'V9', 'V10', 'V11', 'V12', 'V13', 'V14', 'V15', 'V16', 'V17',\n",
       "       'V18', 'V19', 'V20', 'V21', 'V22', 'V23', 'V24', 'V25', 'V26', 'V27',\n",
       "       'V28'],\n",
       "      dtype='object')"
      ]
     },
     "execution_count": 5,
     "metadata": {},
     "output_type": "execute_result"
    }
   ],
   "source": [
    "#reorder columns\n",
    "column_names = ['Class', 'Amount','Time', 'V1', 'V2', 'V3', 'V4', 'V5', 'V6', 'V7', 'V8', 'V9', 'V10',\n",
    "       'V11', 'V12', 'V13', 'V14', 'V15', 'V16', 'V17', 'V18', 'V19', 'V20',\n",
    "       'V21', 'V22', 'V23', 'V24', 'V25', 'V26', 'V27', 'V28']\n",
    "\n",
    "df = df.reindex(columns=column_names)\n",
    "df.columns"
   ]
  },
  {
   "cell_type": "code",
   "execution_count": 6,
   "metadata": {},
   "outputs": [
    {
     "data": {
      "text/plain": [
       "0    284315\n",
       "1       492\n",
       "Name: Class, dtype: int64"
      ]
     },
     "execution_count": 6,
     "metadata": {},
     "output_type": "execute_result"
    }
   ],
   "source": [
    "# number of fraud cases to equalize subsample proportions\n",
    "df[\"Class\"].value_counts()"
   ]
  },
  {
   "cell_type": "code",
   "execution_count": 7,
   "metadata": {},
   "outputs": [
    {
     "name": "stdout",
     "output_type": "stream",
     "text": [
      "Percentage of instances of normal transactions: 0.9982725143693799\n",
      "\n",
      "Percentages of instances of fraud transactions: 0.001727485630620034\n"
     ]
    }
   ],
   "source": [
    "#assess Target column's balance\n",
    "n = \"\\n\"\n",
    "normal_percent = df['Class'].value_counts()[0] / len(df)\n",
    "fraud_percent = df['Class'].value_counts()[1] / len(df)\n",
    "print(f\"Percentage of instances of normal transactions: \\\n",
    "{normal_percent}\\n{n}Percentages of instances of fraud transactions: {fraud_percent}\")"
   ]
  },
  {
   "cell_type": "code",
   "execution_count": 8,
   "metadata": {},
   "outputs": [],
   "source": [
    "#scale the last two columns that need to be modified\n",
    "std_scaler = StandardScaler()\n",
    "\n",
    "df['scaled_amount'] = std_scaler.fit_transform(df['Amount'].values.reshape(-1,1))\n",
    "df['scaled_time'] = std_scaler.fit_transform(df['Time'].values.reshape(-1,1))\n",
    "\n",
    "df.drop(['Time','Amount'], axis=1, inplace=True)"
   ]
  },
  {
   "cell_type": "code",
   "execution_count": 9,
   "metadata": {},
   "outputs": [],
   "source": [
    "#create under-sampled dataframe balanced\n",
    "df = df.sample(frac=1)\n",
    "\n",
    "fraud_under = df[df['Class'] == 1]\n",
    "nonfraud_under = df[df['Class'] == 0][:492]\n",
    "\n",
    "df_under = pd.concat([fraud_under, nonfraud_under])"
   ]
  },
  {
   "cell_type": "code",
   "execution_count": 10,
   "metadata": {
    "scrolled": true
   },
   "outputs": [
    {
     "data": {
      "image/png": "[encoded data removed]",
      "text/plain": [
       "<Figure size 432x288 with 2 Axes>"
      ]
     },
     "metadata": {
      "needs_background": "light"
     },
     "output_type": "display_data"
    }
   ],
   "source": [
    "#correlation heatmap on subsample\n",
    "df_corr = df_under.iloc[:,:20]\n",
    "under_corr = df_corr.corr()\n",
    "\n",
    "sns.heatmap(under_corr, cmap='YlGnBu')\n",
    "plt.title('SubSample Correlation Matrix \\n (features 20 to 28 removed for clarity)', fontsize=14);\n",
    "# plt.savefig('subsample_heatmap')"
   ]
  },
  {
   "cell_type": "code",
   "execution_count": 11,
   "metadata": {},
   "outputs": [],
   "source": [
    "#pairplot to see other relationships\n",
    "# sns.pairplot(df_corr, palette='YlGnBu', corner=True, diag_kind='kde', kind='reg', markers='*', \n",
    "#                  plot_kws={'line_kws':{'color':'black', 'alpha':0.5}}, height=1.5);"
   ]
  },
  {
   "cell_type": "code",
   "execution_count": 12,
   "metadata": {},
   "outputs": [],
   "source": [
    "#prep matricies of features for plotting\n",
    "\n",
    "feature_v14 = df_under['V14'].loc[df_under['Class'] == 1].values\n",
    "feature_v8 = df_under['V8'].loc[df_under['Class'] == 1].values\n",
    "feature_v20 = df_under['V20'].loc[df_under['Class'] == 1].values"
   ]
  },
  {
   "cell_type": "code",
   "execution_count": 13,
   "metadata": {},
   "outputs": [
    {
     "name": "stderr",
     "output_type": "stream",
     "text": [
      "/Users/jessicapmouras/opt/anaconda3/lib/python3.7/site-packages/scipy/stats/stats.py:1713: FutureWarning: Using a non-tuple sequence for multidimensional indexing is deprecated; use `arr[tuple(seq)]` instead of `arr[seq]`. In the future this will be interpreted as an array index, `arr[np.array(seq)]`, which will result either in an error or a different result.\n",
      "  return np.add.reduce(sorted[indexer] * weights, axis=axis) / sumval\n",
      "/Users/jessicapmouras/opt/anaconda3/lib/python3.7/site-packages/scipy/stats/stats.py:1713: FutureWarning: Using a non-tuple sequence for multidimensional indexing is deprecated; use `arr[tuple(seq)]` instead of `arr[seq]`. In the future this will be interpreted as an array index, `arr[np.array(seq)]`, which will result either in an error or a different result.\n",
      "  return np.add.reduce(sorted[indexer] * weights, axis=axis) / sumval\n",
      "/Users/jessicapmouras/opt/anaconda3/lib/python3.7/site-packages/scipy/stats/stats.py:1713: FutureWarning: Using a non-tuple sequence for multidimensional indexing is deprecated; use `arr[tuple(seq)]` instead of `arr[seq]`. In the future this will be interpreted as an array index, `arr[np.array(seq)]`, which will result either in an error or a different result.\n",
      "  return np.add.reduce(sorted[indexer] * weights, axis=axis) / sumval\n"
     ]
    },
    {
     "data": {
      "image/png": "[encoded data removed]",
      "text/plain": [
       "<Figure size 1440x432 with 3 Axes>"
      ]
     },
     "metadata": {
      "needs_background": "light"
     },
     "output_type": "display_data"
    }
   ],
   "source": [
    "# distributions of specific features\n",
    "f, (ax1, ax2, ax3) = plt.subplots(1,3, figsize=(20, 6))\n",
    "\n",
    "sns.distplot(feature_v14, ax=ax1, fit= norm, kde=False, color='mediumturquoise')\n",
    "ax1.set_title('V14 Distribution \\n (Fraud Transactions)', fontsize=14)\n",
    "\n",
    "sns.distplot(feature_v20, ax=ax2, fit= norm, kde=False, color='mediumturquoise')\n",
    "ax2.set_title('V20 Distribution \\n (Fraud Transactions)', fontsize=14)\n",
    "\n",
    "sns.distplot(feature_v8, ax=ax3, fit= norm, kde=False, color='mediumturquoise')\n",
    "ax3.set_title('V8 Distribution \\n (Fraud Transactions)', fontsize=14);"
   ]
  },
  {
   "cell_type": "code",
   "execution_count": null,
   "metadata": {},
   "outputs": [],
   "source": []
  },
  {
   "cell_type": "code",
   "execution_count": 14,
   "metadata": {},
   "outputs": [
    {
     "data": {
      "text/html": [
       "<div>\n",
       "<style scoped>\n",
       "    .dataframe tbody tr th:only-of-type {\n",
       "        vertical-align: middle;\n",
       "    }\n",
       "\n",
       "    .dataframe tbody tr th {\n",
       "        vertical-align: top;\n",
       "    }\n",
       "\n",
       "    .dataframe thead th {\n",
       "        text-align: right;\n",
       "    }\n",
       "</style>\n",
       "<table border=\"1\" class=\"dataframe\">\n",
       "  <thead>\n",
       "    <tr style=\"text-align: right;\">\n",
       "      <th></th>\n",
       "      <th>Class</th>\n",
       "      <th>V1</th>\n",
       "      <th>V2</th>\n",
       "      <th>V3</th>\n",
       "      <th>V4</th>\n",
       "      <th>V5</th>\n",
       "      <th>V6</th>\n",
       "      <th>V7</th>\n",
       "      <th>V8</th>\n",
       "      <th>V9</th>\n",
       "      <th>...</th>\n",
       "      <th>V21</th>\n",
       "      <th>V22</th>\n",
       "      <th>V23</th>\n",
       "      <th>V24</th>\n",
       "      <th>V25</th>\n",
       "      <th>V26</th>\n",
       "      <th>V27</th>\n",
       "      <th>V28</th>\n",
       "      <th>scaled_amount</th>\n",
       "      <th>scaled_time</th>\n",
       "    </tr>\n",
       "  </thead>\n",
       "  <tbody>\n",
       "    <tr>\n",
       "      <th>84543</th>\n",
       "      <td>1</td>\n",
       "      <td>-3.975216</td>\n",
       "      <td>0.581573</td>\n",
       "      <td>-1.880372</td>\n",
       "      <td>4.319241</td>\n",
       "      <td>-3.024330</td>\n",
       "      <td>1.240793</td>\n",
       "      <td>-1.909559</td>\n",
       "      <td>0.660718</td>\n",
       "      <td>-2.752611</td>\n",
       "      <td>...</td>\n",
       "      <td>0.578984</td>\n",
       "      <td>1.397311</td>\n",
       "      <td>1.045322</td>\n",
       "      <td>-0.304000</td>\n",
       "      <td>0.005295</td>\n",
       "      <td>0.235435</td>\n",
       "      <td>0.962015</td>\n",
       "      <td>-0.673557</td>\n",
       "      <td>1.465180</td>\n",
       "      <td>-0.725674</td>\n",
       "    </tr>\n",
       "    <tr>\n",
       "      <th>30496</th>\n",
       "      <td>1</td>\n",
       "      <td>-4.844372</td>\n",
       "      <td>5.649439</td>\n",
       "      <td>-6.730396</td>\n",
       "      <td>5.252842</td>\n",
       "      <td>-4.409566</td>\n",
       "      <td>-1.740767</td>\n",
       "      <td>-6.311699</td>\n",
       "      <td>3.449167</td>\n",
       "      <td>-5.416284</td>\n",
       "      <td>...</td>\n",
       "      <td>1.194888</td>\n",
       "      <td>-0.845753</td>\n",
       "      <td>0.190674</td>\n",
       "      <td>-0.216443</td>\n",
       "      <td>-0.325033</td>\n",
       "      <td>-0.270328</td>\n",
       "      <td>0.210214</td>\n",
       "      <td>0.391855</td>\n",
       "      <td>0.093357</td>\n",
       "      <td>-1.239487</td>\n",
       "    </tr>\n",
       "    <tr>\n",
       "      <th>208651</th>\n",
       "      <td>1</td>\n",
       "      <td>0.630579</td>\n",
       "      <td>1.183631</td>\n",
       "      <td>-5.066283</td>\n",
       "      <td>2.179903</td>\n",
       "      <td>-0.703376</td>\n",
       "      <td>-0.103614</td>\n",
       "      <td>-3.490350</td>\n",
       "      <td>1.094734</td>\n",
       "      <td>-0.717418</td>\n",
       "      <td>...</td>\n",
       "      <td>0.621622</td>\n",
       "      <td>0.043807</td>\n",
       "      <td>0.102711</td>\n",
       "      <td>-0.601505</td>\n",
       "      <td>0.127371</td>\n",
       "      <td>-0.163009</td>\n",
       "      <td>0.853792</td>\n",
       "      <td>0.356503</td>\n",
       "      <td>-0.195505</td>\n",
       "      <td>0.892796</td>\n",
       "    </tr>\n",
       "    <tr>\n",
       "      <th>230076</th>\n",
       "      <td>1</td>\n",
       "      <td>-0.067672</td>\n",
       "      <td>4.251181</td>\n",
       "      <td>-6.540388</td>\n",
       "      <td>7.283657</td>\n",
       "      <td>0.513541</td>\n",
       "      <td>-2.635066</td>\n",
       "      <td>-1.865911</td>\n",
       "      <td>0.780272</td>\n",
       "      <td>-3.868248</td>\n",
       "      <td>...</td>\n",
       "      <td>0.415437</td>\n",
       "      <td>-0.469938</td>\n",
       "      <td>0.007128</td>\n",
       "      <td>-0.388147</td>\n",
       "      <td>-0.493398</td>\n",
       "      <td>0.466468</td>\n",
       "      <td>0.566370</td>\n",
       "      <td>0.262990</td>\n",
       "      <td>-0.350151</td>\n",
       "      <td>1.081643</td>\n",
       "    </tr>\n",
       "    <tr>\n",
       "      <th>156988</th>\n",
       "      <td>1</td>\n",
       "      <td>0.745153</td>\n",
       "      <td>2.809299</td>\n",
       "      <td>-5.825406</td>\n",
       "      <td>5.835566</td>\n",
       "      <td>0.512320</td>\n",
       "      <td>-0.615622</td>\n",
       "      <td>-2.916576</td>\n",
       "      <td>0.776710</td>\n",
       "      <td>-1.878832</td>\n",
       "      <td>...</td>\n",
       "      <td>0.284841</td>\n",
       "      <td>-0.874383</td>\n",
       "      <td>-0.083995</td>\n",
       "      <td>-0.651442</td>\n",
       "      <td>0.454594</td>\n",
       "      <td>0.050376</td>\n",
       "      <td>0.756953</td>\n",
       "      <td>0.383869</td>\n",
       "      <td>-0.353229</td>\n",
       "      <td>0.304985</td>\n",
       "    </tr>\n",
       "  </tbody>\n",
       "</table>\n",
       "<p>5 rows × 31 columns</p>\n",
       "</div>"
      ],
      "text/plain": [
       "        Class        V1        V2        V3        V4        V5        V6  \\\n",
       "84543       1 -3.975216  0.581573 -1.880372  4.319241 -3.024330  1.240793   \n",
       "30496       1 -4.844372  5.649439 -6.730396  5.252842 -4.409566 -1.740767   \n",
       "208651      1  0.630579  1.183631 -5.066283  2.179903 -0.703376 -0.103614   \n",
       "230076      1 -0.067672  4.251181 -6.540388  7.283657  0.513541 -2.635066   \n",
       "156988      1  0.745153  2.809299 -5.825406  5.835566  0.512320 -0.615622   \n",
       "\n",
       "              V7        V8        V9  ...       V21       V22       V23  \\\n",
       "84543  -1.909559  0.660718 -2.752611  ...  0.578984  1.397311  1.045322   \n",
       "30496  -6.311699  3.449167 -5.416284  ...  1.194888 -0.845753  0.190674   \n",
       "208651 -3.490350  1.094734 -0.717418  ...  0.621622  0.043807  0.102711   \n",
       "230076 -1.865911  0.780272 -3.868248  ...  0.415437 -0.469938  0.007128   \n",
       "156988 -2.916576  0.776710 -1.878832  ...  0.284841 -0.874383 -0.083995   \n",
       "\n",
       "             V24       V25       V26       V27       V28  scaled_amount  \\\n",
       "84543  -0.304000  0.005295  0.235435  0.962015 -0.673557       1.465180   \n",
       "30496  -0.216443 -0.325033 -0.270328  0.210214  0.391855       0.093357   \n",
       "208651 -0.601505  0.127371 -0.163009  0.853792  0.356503      -0.195505   \n",
       "230076 -0.388147 -0.493398  0.466468  0.566370  0.262990      -0.350151   \n",
       "156988 -0.651442  0.454594  0.050376  0.756953  0.383869      -0.353229   \n",
       "\n",
       "        scaled_time  \n",
       "84543     -0.725674  \n",
       "30496     -1.239487  \n",
       "208651     0.892796  \n",
       "230076     1.081643  \n",
       "156988     0.304985  \n",
       "\n",
       "[5 rows x 31 columns]"
      ]
     },
     "execution_count": 14,
     "metadata": {},
     "output_type": "execute_result"
    }
   ],
   "source": [
    "df_under.head()"
   ]
  },
  {
   "cell_type": "markdown",
   "metadata": {
    "scrolled": true
   },
   "source": [
    "## Initial training on under sampled data"
   ]
  },
  {
   "cell_type": "markdown",
   "metadata": {},
   "source": [
    "### Train on the following:\n",
    "+ Logisitic Regression\n",
    "+ K Neighbors Classifier\n",
    "+ Decision Trees Classifier\n",
    "+ Random Forest Classifier\n",
    "+ Gradient Boosting Classifier\n",
    "\n",
    "\n",
    "### using cross validation 5 folds"
   ]
  },
  {
   "cell_type": "code",
   "execution_count": 15,
   "metadata": {
    "scrolled": true
   },
   "outputs": [],
   "source": [
    "#establish X values as feature matrix and y as target array\n",
    "X = df_under.drop('Class', axis = 1).values\n",
    "y = df_under['Class'].values\n",
    "\n",
    "# test train split for undersampling. DO NOT EVER TOUCH TEST ITEMS\n",
    "X_train, X_test, y_train, y_test = train_test_split(X, y, test_size=0.2, random_state=42)"
   ]
  },
  {
   "cell_type": "code",
   "execution_count": 16,
   "metadata": {},
   "outputs": [
    {
     "data": {
      "text/plain": [
       "0.9441094689663585"
      ]
     },
     "execution_count": 16,
     "metadata": {},
     "output_type": "execute_result"
    }
   ],
   "source": [
    "lr_model = LogisticRegression().fit(X_train, y_train)\n",
    "\n",
    "lr_train_score = cross_val_score(lr_model, X_train, y_train, cv=5)\n",
    "lr_train_score.mean()"
   ]
  },
  {
   "cell_type": "code",
   "execution_count": 17,
   "metadata": {},
   "outputs": [
    {
     "data": {
      "text/plain": [
       "0.9186716613226329"
      ]
     },
     "execution_count": 17,
     "metadata": {},
     "output_type": "execute_result"
    }
   ],
   "source": [
    "dt_model = DecisionTreeClassifier().fit(X_train, y_train)\n",
    "\n",
    "dt_train_score = cross_val_score(dt_model, X_train, y_train, cv=5)\n",
    "dt_train_score.mean()\n"
   ]
  },
  {
   "cell_type": "code",
   "execution_count": 18,
   "metadata": {},
   "outputs": [
    {
     "data": {
      "text/plain": [
       "0.937772189110575"
      ]
     },
     "execution_count": 18,
     "metadata": {},
     "output_type": "execute_result"
    }
   ],
   "source": [
    "knn_model = KNeighborsClassifier().fit(X_train, y_train)\n",
    "\n",
    "knn_train_score = cross_val_score(knn_model, X_train, y_train, cv=5)\n",
    "knn_train_score.mean()"
   ]
  },
  {
   "cell_type": "code",
   "execution_count": 19,
   "metadata": {},
   "outputs": [
    {
     "data": {
      "text/plain": [
       "0.9313702019982758"
      ]
     },
     "execution_count": 19,
     "metadata": {},
     "output_type": "execute_result"
    }
   ],
   "source": [
    "rf_model = RandomForestClassifier().fit(X_train, y_train)\n",
    "\n",
    "rf_train_score = cross_val_score(rf_model, X_train, y_train, cv=5)\n",
    "rf_train_score.mean()"
   ]
  },
  {
   "cell_type": "code",
   "execution_count": 20,
   "metadata": {},
   "outputs": [
    {
     "data": {
      "text/plain": [
       "0.9377318762830333"
      ]
     },
     "execution_count": 20,
     "metadata": {},
     "output_type": "execute_result"
    }
   ],
   "source": [
    "gb_model = GradientBoostingClassifier().fit(X_train, y_train)\n",
    "\n",
    "gb_train_score = cross_val_score(rf_model, X_train, y_train, cv=5)\n",
    "gb_train_score.mean()"
   ]
  },
  {
   "cell_type": "code",
   "execution_count": null,
   "metadata": {},
   "outputs": [],
   "source": []
  },
  {
   "cell_type": "markdown",
   "metadata": {},
   "source": [
    "### move this helper function to PY file"
   ]
  },
  {
   "cell_type": "code",
   "execution_count": 21,
   "metadata": {},
   "outputs": [],
   "source": [
    "class_models = {'gbc': GradientBoostingClassifier(),'rf': RandomForestClassifier(),'knn': KNeighborsClassifier(),\n",
    "                'dt': DecisionTreeClassifier(), 'lr': LogisticRegression()}\n",
    "\n",
    "def cross_valid_score(class_models, X_train, y_train, cv=5):\n",
    "    d = {}\n",
    "    final = []\n",
    "    for kind, model in class_models.items():\n",
    "       \n",
    "        model.fit(X_train, y_train)\n",
    "        training_score = cross_val_score(model, X_train, y_train, cv=5)\n",
    "        d[kind]= round(float(training_score.mean()),4)\n",
    "    return d\n",
    "    "
   ]
  },
  {
   "cell_type": "code",
   "execution_count": 22,
   "metadata": {
    "scrolled": true
   },
   "outputs": [
    {
     "data": {
      "text/plain": [
       "{'gbc': 0.9492, 'rf': 0.944, 'knn': 0.9378, 'dt': 0.9148, 'lr': 0.9441}"
      ]
     },
     "execution_count": 22,
     "metadata": {},
     "output_type": "execute_result"
    }
   ],
   "source": [
    "cross_valid_score(class_models, X_train, y_train, cv=5)\n"
   ]
  },
  {
   "cell_type": "markdown",
   "metadata": {},
   "source": [
    "### Let's try gridsearching for best parameters"
   ]
  },
  {
   "cell_type": "code",
   "execution_count": 23,
   "metadata": {},
   "outputs": [],
   "source": [
    "#establish parameter dictionaries for GridSearch\n",
    "lr_params = {'C': [0.001, 0.01, 0.1, 1, 10, 100, 1000], 'max_iter': [7000]}\n",
    "\n",
    "knn_params = {\"n_neighbors\": list(range(2,6,1)),\n",
    "                 'algorithm': ['auto', 'ball_tree', 'kd_tree', 'brute']}\n",
    "\n",
    "rf_params = {'criterion': ('gini', 'entropy'), 'max_depth': [1, 2, None],\n",
    "              'max_features': [1, 'sqrt', 'log2', None]}\n",
    "\n",
    "dt_params = {'criterion': ('gini', 'entropy'), 'max_depth': [1, 2, None],\n",
    "              'max_features': [1, 'sqrt', 'log2', None]}\n",
    "\n",
    "gbc_params = {'loss': ('deviance', 'exponential'), 'learning_rate': [0.001, 0.01, 0.1, 1, 10, 100]}\n"
   ]
  },
  {
   "cell_type": "markdown",
   "metadata": {},
   "source": [
    "#### KNN evaluation undersample gridsearch"
   ]
  },
  {
   "cell_type": "code",
   "execution_count": 24,
   "metadata": {},
   "outputs": [
    {
     "data": {
      "text/plain": [
       "KNeighborsClassifier(algorithm='auto', leaf_size=30, metric='minkowski',\n",
       "           metric_params=None, n_jobs=1, n_neighbors=5, p=2,\n",
       "           weights='uniform')"
      ]
     },
     "execution_count": 24,
     "metadata": {},
     "output_type": "execute_result"
    }
   ],
   "source": [
    "#KNN scores gridsearch analysis on test data\n",
    "gridsear_knn = GridSearchCV(KNeighborsClassifier(), knn_params)\n",
    "\n",
    "gridsear_knn.fit(X_train, y_train)\n",
    "# best parameters to be used\n",
    "gridsear_knn.best_estimator_"
   ]
  },
  {
   "cell_type": "code",
   "execution_count": 25,
   "metadata": {},
   "outputs": [
    {
     "name": "stdout",
     "output_type": "stream",
     "text": [
      "KNN recall score: 0.9338422391857506\n",
      "KNN precision score: 0.9865591397849462     \n",
      "KNN f1 score: 0.9594771241830065\n",
      "KNN accuracy score: 0.9606099110546379\n"
     ]
    }
   ],
   "source": [
    "\n",
    "\n",
    "knn_best = KNeighborsClassifier(algorithm='auto', leaf_size=30, metric='minkowski',\n",
    "           metric_params=None, n_jobs=1, n_neighbors=5, p=2,\n",
    "           weights='uniform')\n",
    "knn_best.fit(X_train, y_train)\n",
    "y_pred_knn = knn_best.predict(X_train)\n",
    "\n",
    "knn_recall = recall_score(y_train, y_pred_knn)\n",
    "knn_precision = precision_score(y_train, y_pred_knn)\n",
    "knn_f1 = f1_score(y_train, y_pred_knn)\n",
    "knn_accuracy = accuracy_score(y_train, y_pred_knn)\n",
    "print(f'KNN recall score: {knn_recall}\\nKNN precision score: {knn_precision} \\\n",
    "    \\nKNN f1 score: {knn_f1}\\nKNN accuracy score: {knn_accuracy}')\n",
    "\n"
   ]
  },
  {
   "cell_type": "markdown",
   "metadata": {},
   "source": [
    "#### LogisticRegression evaluation undersample gridsearch"
   ]
  },
  {
   "cell_type": "code",
   "execution_count": 26,
   "metadata": {},
   "outputs": [
    {
     "data": {
      "text/plain": [
       "LogisticRegression(C=10, class_weight=None, dual=False, fit_intercept=True,\n",
       "          intercept_scaling=1, max_iter=7000, multi_class='ovr', n_jobs=1,\n",
       "          penalty='l2', random_state=None, solver='liblinear', tol=0.0001,\n",
       "          verbose=0, warm_start=False)"
      ]
     },
     "execution_count": 26,
     "metadata": {},
     "output_type": "execute_result"
    }
   ],
   "source": [
    "#LR scores gridsearch analysis on test data\n",
    "gridsear_lr = GridSearchCV(LogisticRegression(), lr_params)\n",
    "\n",
    "gridsear_lr.fit(X_train, y_train)\n",
    "# best parameters to be used\n",
    "gridsear_lr.best_estimator_"
   ]
  },
  {
   "cell_type": "code",
   "execution_count": 27,
   "metadata": {},
   "outputs": [
    {
     "name": "stdout",
     "output_type": "stream",
     "text": [
      "LogisticRegression recall score: 0.9363867684478372\n",
      "LogisticRegression  precision score: 0.983957219251337     \n",
      "LogisticRegression  f1 score: 0.9595827900912647\n",
      "LogisticRegression  accuracy score: 0.9606099110546379\n"
     ]
    }
   ],
   "source": [
    "#LR scores gridsearch analysis on test data\n",
    "gridsear_lr = GridSearchCV(LogisticRegression(), lr_params)\n",
    "\n",
    "gridsear_lr.fit(X_train, y_train)\n",
    "# best parameters to be used\n",
    "gridsear_lr.best_estimator_\n",
    "lr_best = LogisticRegression(C=1, class_weight=None, dual=False, fit_intercept=True,\n",
    "          intercept_scaling=1, max_iter=7000, multi_class='ovr', n_jobs=1,\n",
    "          penalty='l2', random_state=None, solver='liblinear', tol=0.0001,\n",
    "          verbose=0, warm_start=False)\n",
    "\n",
    "lr_best.fit(X_train, y_train)\n",
    "y_pred_lr = lr_best.predict(X_train)\n",
    "\n",
    "lr_recall = recall_score(y_train, y_pred_lr)\n",
    "lr_precision = precision_score(y_train, y_pred_lr)\n",
    "lr_f1 = f1_score(y_train, y_pred_lr)\n",
    "lr_accuracy = accuracy_score(y_train, y_pred_lr)\n",
    "print(f'LogisticRegression recall score: {lr_recall}\\nLogisticRegression  precision score: {lr_precision} \\\n",
    "    \\nLogisticRegression  f1 score: {lr_f1}\\nLogisticRegression  accuracy score: {lr_accuracy}')"
   ]
  },
  {
   "cell_type": "markdown",
   "metadata": {},
   "source": [
    "#### DecisionTree evaluation undersample gridsearch"
   ]
  },
  {
   "cell_type": "code",
   "execution_count": 28,
   "metadata": {},
   "outputs": [
    {
     "data": {
      "text/plain": [
       "DecisionTreeClassifier(class_weight=None, criterion='gini', max_depth=None,\n",
       "            max_features=None, max_leaf_nodes=None,\n",
       "            min_impurity_decrease=0.0, min_impurity_split=None,\n",
       "            min_samples_leaf=1, min_samples_split=2,\n",
       "            min_weight_fraction_leaf=0.0, presort=False, random_state=None,\n",
       "            splitter='best')"
      ]
     },
     "execution_count": 28,
     "metadata": {},
     "output_type": "execute_result"
    }
   ],
   "source": [
    "#DT scores gridsearch analysis on test data\n",
    "gridsear_dt = GridSearchCV(DecisionTreeClassifier(), dt_params)\n",
    "\n",
    "gridsear_dt.fit(X_train, y_train)\n",
    "# best parameters to be used\n",
    "gridsear_dt.best_estimator_"
   ]
  },
  {
   "cell_type": "code",
   "execution_count": 29,
   "metadata": {
    "scrolled": true
   },
   "outputs": [
    {
     "name": "stdout",
     "output_type": "stream",
     "text": [
      "DecisionTree recall score: 0.8956743002544529\n",
      "DecisionTree  precision score: 0.9513513513513514     \n",
      "DecisionTree  f1 score: 0.9226736566186107\n",
      "DecisionTree  accuracy score: 0.9250317662007624\n"
     ]
    }
   ],
   "source": [
    "#DT scores gridsearch analysis on test data\n",
    "gridsear_dt = GridSearchCV(DecisionTreeClassifier(), dt_params)\n",
    "\n",
    "gridsear_dt.fit(X_train, y_train)\n",
    "# best parameters to be used\n",
    "gridsear_dt.best_estimator_\n",
    "dt_best = DecisionTreeClassifier(class_weight=None, criterion='gini', max_depth=2,\n",
    "            max_features=None, max_leaf_nodes=None,\n",
    "            min_impurity_decrease=0.0, min_impurity_split=None,\n",
    "            min_samples_leaf=1, min_samples_split=2,\n",
    "            min_weight_fraction_leaf=0.0, presort=False, random_state=None,\n",
    "            splitter='best')\n",
    "\n",
    "dt_best.fit(X_train, y_train)\n",
    "y_pred_dt = dt_best.predict(X_train)\n",
    "\n",
    "dt_recall = recall_score(y_train, y_pred_dt)\n",
    "dt_precision = precision_score(y_train, y_pred_dt)\n",
    "dt_f1 = f1_score(y_train, y_pred_dt)\n",
    "dt_accuracy = accuracy_score(y_train, y_pred_dt)\n",
    "print(f'DecisionTree recall score: {dt_recall}\\nDecisionTree  precision score: {dt_precision} \\\n",
    "    \\nDecisionTree  f1 score: {dt_f1}\\nDecisionTree  accuracy score: {dt_accuracy}')"
   ]
  },
  {
   "cell_type": "markdown",
   "metadata": {},
   "source": [
    "#### RandomForest evaluation undersample gridsearch"
   ]
  },
  {
   "cell_type": "code",
   "execution_count": 30,
   "metadata": {},
   "outputs": [
    {
     "data": {
      "text/plain": [
       "RandomForestClassifier(bootstrap=True, class_weight=None, criterion='gini',\n",
       "            max_depth=None, max_features='sqrt', max_leaf_nodes=None,\n",
       "            min_impurity_decrease=0.0, min_impurity_split=None,\n",
       "            min_samples_leaf=1, min_samples_split=2,\n",
       "            min_weight_fraction_leaf=0.0, n_estimators=10, n_jobs=1,\n",
       "            oob_score=False, random_state=None, verbose=0,\n",
       "            warm_start=False)"
      ]
     },
     "execution_count": 30,
     "metadata": {},
     "output_type": "execute_result"
    }
   ],
   "source": [
    "#RF scores gridsearch analysis on test data\n",
    "gridsear_rf = GridSearchCV(RandomForestClassifier(), rf_params)\n",
    "\n",
    "gridsear_rf.fit(X_train, y_train)\n",
    "# best parameters to be used\n",
    "gridsear_rf.best_estimator_"
   ]
  },
  {
   "cell_type": "code",
   "execution_count": 31,
   "metadata": {},
   "outputs": [
    {
     "name": "stdout",
     "output_type": "stream",
     "text": [
      "RandomForest recall score: 0.8956743002544529\n",
      "RandomForest  precision score: 0.9513513513513514     \n",
      "RandomForest  f1 score: 0.9226736566186107\n",
      "RandomForest  accuracy score: 0.9250317662007624\n"
     ]
    }
   ],
   "source": [
    "#RF scores gridsearch analysis on test data\n",
    "gridsear_rf = GridSearchCV(RandomForestClassifier(), rf_params)\n",
    "\n",
    "gridsear_rf.fit(X_train, y_train)\n",
    "# best parameters to be used\n",
    "gridsear_rf.best_estimator_\n",
    "rf_best = RandomForestClassifier(bootstrap=True, class_weight=None, criterion='entropy',\n",
    "            max_depth=None, max_features='log2', max_leaf_nodes=None,\n",
    "            min_impurity_decrease=0.0, min_impurity_split=None,\n",
    "            min_samples_leaf=1, min_samples_split=2,\n",
    "            min_weight_fraction_leaf=0.0, n_estimators=10, n_jobs=1,\n",
    "            oob_score=False, random_state=None, verbose=0,\n",
    "            warm_start=False)\n",
    "\n",
    "rf_best.fit(X_train, y_train)\n",
    "y_pred_rf = rf_best.predict(X_train)\n",
    "\n",
    "rf_recall = recall_score(y_train, y_pred_dt)\n",
    "rf_precision = precision_score(y_train, y_pred_dt)\n",
    "rf_f1 = f1_score(y_train, y_pred_dt)\n",
    "rf_accuracy = accuracy_score(y_train, y_pred_dt)\n",
    "print(f'RandomForest recall score: {rf_recall}\\nRandomForest  precision score: {rf_precision} \\\n",
    "    \\nRandomForest  f1 score: {rf_f1}\\nRandomForest  accuracy score: {rf_accuracy}')"
   ]
  },
  {
   "cell_type": "markdown",
   "metadata": {},
   "source": [
    "#### GradientBoosting evaluation undersample gridsearch"
   ]
  },
  {
   "cell_type": "code",
   "execution_count": 32,
   "metadata": {},
   "outputs": [
    {
     "data": {
      "text/plain": [
       "GradientBoostingClassifier(criterion='friedman_mse', init=None,\n",
       "              learning_rate=0.1, loss='exponential', max_depth=3,\n",
       "              max_features=None, max_leaf_nodes=None,\n",
       "              min_impurity_decrease=0.0, min_impurity_split=None,\n",
       "              min_samples_leaf=1, min_samples_split=2,\n",
       "              min_weight_fraction_leaf=0.0, n_estimators=100,\n",
       "              presort='auto', random_state=None, subsample=1.0, verbose=0,\n",
       "              warm_start=False)"
      ]
     },
     "execution_count": 32,
     "metadata": {},
     "output_type": "execute_result"
    }
   ],
   "source": [
    "#GBC scores gridsearch analysis on test data\n",
    "gridsear_gbc = GridSearchCV(GradientBoostingClassifier(), gbc_params)\n",
    "\n",
    "gridsear_gbc.fit(X_train, y_train)\n",
    "# best parameters to be used\n",
    "gridsear_gbc.best_estimator_"
   ]
  },
  {
   "cell_type": "code",
   "execution_count": 33,
   "metadata": {
    "scrolled": true
   },
   "outputs": [
    {
     "name": "stdout",
     "output_type": "stream",
     "text": [
      "GradientBoosting  recall score: 0.8956743002544529\n",
      "GradientBoosting precision score: 0.9513513513513514     \n",
      "GradientBoosting f1 score: 0.9226736566186107\n",
      "GradientBoosting accuracy score: 0.9250317662007624\n"
     ]
    }
   ],
   "source": [
    "#GBC scores gridsearch analysis on test data\n",
    "gridsear_gbc = GridSearchCV(GradientBoostingClassifier(), gbc_params)\n",
    "\n",
    "gridsear_gbc.fit(X_train, y_train)\n",
    "# best parameters to be used\n",
    "gridsear_gbc.best_estimator_\n",
    "gbc_best = GradientBoostingClassifier(criterion='friedman_mse', init=None,\n",
    "              learning_rate=0.1, loss='exponential', max_depth=3,\n",
    "              max_features=None, max_leaf_nodes=None,\n",
    "              min_impurity_decrease=0.0, min_impurity_split=None,\n",
    "              min_samples_leaf=1, min_samples_split=2,\n",
    "              min_weight_fraction_leaf=0.0, n_estimators=100,\n",
    "              presort='auto', random_state=None, subsample=1.0, verbose=0,\n",
    "              warm_start=False)\n",
    "\n",
    "gbc_best.fit(X_train, y_train)\n",
    "y_pred_gbc = gbc_best.predict(X_train)\n",
    "\n",
    "gbc_recall = recall_score(y_train, y_pred_dt)\n",
    "gbc_precision = precision_score(y_train, y_pred_dt)\n",
    "gbc_f1 = f1_score(y_train, y_pred_dt)\n",
    "gbc_accuracy = accuracy_score(y_train, y_pred_dt)\n",
    "print(f'GradientBoosting  recall score: {gbc_recall}\\nGradientBoosting precision score: {gbc_precision} \\\n",
    "    \\nGradientBoosting f1 score: {gbc_f1}\\nGradientBoosting accuracy score: {gbc_accuracy}')"
   ]
  },
  {
   "cell_type": "code",
   "execution_count": null,
   "metadata": {},
   "outputs": [],
   "source": []
  },
  {
   "cell_type": "code",
   "execution_count": 34,
   "metadata": {},
   "outputs": [],
   "source": [
    "lr_yhat = cross_val_predict(lr_best, X_train, y_train, cv=5, method='predict_proba')\n",
    "\n",
    "knn_yhat = cross_val_predict(knn_best, X_train, y_train, cv=5, method='predict_proba')\n",
    "\n",
    "dt_yhat = cross_val_predict(dt_best, X_train, y_train, cv=5, method='predict_proba')\n",
    "\n",
    "rf_yhat = cross_val_predict(rf_best, X_train, y_train, cv=5, method='predict_proba')\n",
    "\n",
    "gbc_yhat = cross_val_predict(gbc_best, X_train, y_train, cv=5, method='predict_proba')\n",
    "\n",
    "\n",
    "# lr_yhat = lr_best.predict(X_train)\n",
    "\n",
    "# knn_yhat = knn_best.predict(X_train)\n",
    "\n",
    "# dt_yhat = dt_best.predict(X_train)\n",
    "\n",
    "# rf_yhat = rf_best.predict(X_train)\n",
    "\n",
    "# gbc_yhat = gbc_best.predict(X_train)"
   ]
  },
  {
   "cell_type": "code",
   "execution_count": 35,
   "metadata": {},
   "outputs": [],
   "source": [
    "lr_fpr, lr_tpr, lr_thresh = roc_curve(y_train, lr_yhat[:, 1])\n",
    "\n",
    "knn_fpr, knn_tpr, knn_thresh = roc_curve(y_train, knn_yhat[:, 1])\n",
    "\n",
    "dt_fpr, dt_tpr, dt_thresh = roc_curve(y_train, dt_yhat[:, 1])\n",
    "\n",
    "rf_fpr, rf_tpr, rf_thresh = roc_curve(y_train, rf_yhat[:, 1])\n",
    "\n",
    "gbc_fpr, gbc_tpr, gbc_thresh = roc_curve(y_train, gbc_yhat[:, 1])"
   ]
  },
  {
   "cell_type": "code",
   "execution_count": 36,
   "metadata": {},
   "outputs": [],
   "source": [
    "# def roc_auc_score(y_train, y_hat):\n",
    "    \n",
    "\n",
    "# roc_auc_score(y_train, lr_yhat)\n",
    "# roc_auc_score(y_train, knn_yhat)\n",
    "# roc_auc_score(y_train, dt_yhat)"
   ]
  },
  {
   "cell_type": "code",
   "execution_count": 37,
   "metadata": {},
   "outputs": [
    {
     "data": {
      "image/png": "[encoded data removed]",
      "text/plain": [
       "<Figure size 432x288 with 1 Axes>"
      ]
     },
     "metadata": {
      "needs_background": "light"
     },
     "output_type": "display_data"
    }
   ],
   "source": [
    "plt.plot(dt_fpr, dt_tpr, label='Decision Tree Classifier Score: {:.4f}'.format(roc_auc_score(y_train, dt_yhat[:, 1])))\n",
    "plt.plot(knn_fpr, knn_tpr, label='KNN Score: {:.4f}'.format(roc_auc_score(y_train, knn_yhat[:, 1])))\n",
    "plt.plot(lr_fpr, lr_tpr, label='Logistic Regression Score: {:.4f}'.format(roc_auc_score(y_train, lr_yhat[:, 1])))\n",
    "plt.plot(rf_fpr, rf_tpr, label='Random Forest Regression Score: {:.4f}'.format(roc_auc_score(y_train, rf_yhat[:, 1])))\n",
    "plt.plot(gbc_fpr, gbc_tpr, label='GradientBoosting Classifier Score: {:.4f}'.format(roc_auc_score(y_train, gbc_yhat[:, 1])))\n",
    "\n",
    "plt.plot([0, 1], [0, 1], 'k--')\n",
    "plt.axis([-0.01, 1, 0, 1])\n",
    "plt.xlabel('False Positive Rate', fontsize=16)\n",
    "plt.ylabel('True Positive Rate', fontsize=16)\n",
    "plt.legend(loc='lower right')\n",
    "plt.title('Undersampling Modeling results on CrossValidated')\n",
    "plt.show()"
   ]
  },
  {
   "cell_type": "markdown",
   "metadata": {},
   "source": [
    "# Done with undersampling - back to OG dataset"
   ]
  },
  {
   "cell_type": "code",
   "execution_count": 38,
   "metadata": {
    "scrolled": true
   },
   "outputs": [
    {
     "data": {
      "text/plain": [
       "0    284315\n",
       "1       492\n",
       "Name: Class, dtype: int64"
      ]
     },
     "execution_count": 38,
     "metadata": {},
     "output_type": "execute_result"
    }
   ],
   "source": [
    "df['Class'].value_counts()"
   ]
  },
  {
   "cell_type": "code",
   "execution_count": 39,
   "metadata": {},
   "outputs": [
    {
     "name": "stdout",
     "output_type": "stream",
     "text": [
      "No Frauds 99.83 % of the dataset\n",
      "Frauds 0.17 % of the dataset\n"
     ]
    }
   ],
   "source": [
    "\n",
    "\n",
    "print('No Frauds', round(df['Class'].value_counts()[0]/len(df) * 100,2), '% of the dataset')\n",
    "print('Frauds', round(df['Class'].value_counts()[1]/len(df) * 100,2), '% of the dataset')\n",
    "\n",
    "X = df.drop('Class', axis=1)\n",
    "y = df['Class']\n",
    "\n",
    "# stratkfold = StratifiedKFold(n_splits=5, random_state=None, shuffle=False)\n",
    "\n",
    "# for train_index, test_index in stratkfold.split(X, y):\n",
    "#     print(\"Train:\", train_index, \"Test:\", test_index)\n",
    "#     og_Xtrain, og_Xtest = X.iloc[train_index], X.iloc[test_index]\n",
    "#     og_ytrain, og_ytest = y.iloc[train_index], y.iloc[test_index]\n",
    "\n",
    "# # We already have X_train and y_train for undersample data thats why I am using original to distinguish and to not overwrite these variables.\n",
    "# # original_Xtrain, original_Xtest, original_ytrain, original_ytest = train_test_split(X, y, test_size=0.2, random_state=42)\n",
    "\n",
    "# # Check the Distribution of the labels\n",
    "\n",
    "\n",
    "# # Turn into an array\n",
    "# og_Xtrain = og_Xtrain.values\n",
    "# og_Xtest = og_Xtest.values\n",
    "# og_ytrain = og_ytrain.values\n",
    "# og_ytest = og_ytest.values\n",
    "\n",
    "# # See if both the train and test label distribution are similarly distributed\n",
    "# train_unique_label, train_counts_label = np.unique(og_ytrain, return_counts=True)\n",
    "# test_unique_label, test_counts_label = np.unique(og_ytest, return_counts=True)\n",
    "# print('-' * 100)\n",
    "\n",
    "# print('Label Distributions: \\n')\n",
    "# print(train_counts_label/ len(og_ytrain))\n",
    "# print(test_counts_label/ len(og_ytest))"
   ]
  },
  {
   "cell_type": "code",
   "execution_count": null,
   "metadata": {},
   "outputs": [],
   "source": []
  },
  {
   "cell_type": "markdown",
   "metadata": {},
   "source": [
    "## Isolation Forest on original data"
   ]
  },
  {
   "cell_type": "code",
   "execution_count": 40,
   "metadata": {},
   "outputs": [
    {
     "data": {
      "text/html": [
       "<div>\n",
       "<style scoped>\n",
       "    .dataframe tbody tr th:only-of-type {\n",
       "        vertical-align: middle;\n",
       "    }\n",
       "\n",
       "    .dataframe tbody tr th {\n",
       "        vertical-align: top;\n",
       "    }\n",
       "\n",
       "    .dataframe thead th {\n",
       "        text-align: right;\n",
       "    }\n",
       "</style>\n",
       "<table border=\"1\" class=\"dataframe\">\n",
       "  <thead>\n",
       "    <tr style=\"text-align: right;\">\n",
       "      <th></th>\n",
       "      <th>Class</th>\n",
       "      <th>V1</th>\n",
       "      <th>V2</th>\n",
       "      <th>V3</th>\n",
       "      <th>V4</th>\n",
       "      <th>V5</th>\n",
       "      <th>V6</th>\n",
       "      <th>V7</th>\n",
       "      <th>V8</th>\n",
       "      <th>V9</th>\n",
       "      <th>...</th>\n",
       "      <th>V21</th>\n",
       "      <th>V22</th>\n",
       "      <th>V23</th>\n",
       "      <th>V24</th>\n",
       "      <th>V25</th>\n",
       "      <th>V26</th>\n",
       "      <th>V27</th>\n",
       "      <th>V28</th>\n",
       "      <th>scaled_amount</th>\n",
       "      <th>scaled_time</th>\n",
       "    </tr>\n",
       "  </thead>\n",
       "  <tbody>\n",
       "    <tr>\n",
       "      <th>125412</th>\n",
       "      <td>0</td>\n",
       "      <td>1.099826</td>\n",
       "      <td>-0.264847</td>\n",
       "      <td>1.199766</td>\n",
       "      <td>0.831456</td>\n",
       "      <td>-0.920832</td>\n",
       "      <td>0.167996</td>\n",
       "      <td>-0.669222</td>\n",
       "      <td>0.199827</td>\n",
       "      <td>0.911298</td>\n",
       "      <td>...</td>\n",
       "      <td>-0.050938</td>\n",
       "      <td>0.042266</td>\n",
       "      <td>0.042075</td>\n",
       "      <td>0.113391</td>\n",
       "      <td>0.176915</td>\n",
       "      <td>0.344247</td>\n",
       "      <td>0.030302</td>\n",
       "      <td>0.027449</td>\n",
       "      <td>-0.238284</td>\n",
       "      <td>-0.361183</td>\n",
       "    </tr>\n",
       "    <tr>\n",
       "      <th>267989</th>\n",
       "      <td>0</td>\n",
       "      <td>-0.564243</td>\n",
       "      <td>0.827388</td>\n",
       "      <td>2.147838</td>\n",
       "      <td>-0.383031</td>\n",
       "      <td>-0.040034</td>\n",
       "      <td>-0.285873</td>\n",
       "      <td>0.590652</td>\n",
       "      <td>-0.079370</td>\n",
       "      <td>0.466774</td>\n",
       "      <td>...</td>\n",
       "      <td>-0.220626</td>\n",
       "      <td>-0.316023</td>\n",
       "      <td>-0.316506</td>\n",
       "      <td>-0.149637</td>\n",
       "      <td>0.317560</td>\n",
       "      <td>-0.661543</td>\n",
       "      <td>0.191063</td>\n",
       "      <td>-0.081844</td>\n",
       "      <td>-0.349231</td>\n",
       "      <td>1.436238</td>\n",
       "    </tr>\n",
       "    <tr>\n",
       "      <th>39205</th>\n",
       "      <td>0</td>\n",
       "      <td>1.025790</td>\n",
       "      <td>-0.821191</td>\n",
       "      <td>0.048748</td>\n",
       "      <td>-0.449214</td>\n",
       "      <td>-1.013409</td>\n",
       "      <td>-1.390927</td>\n",
       "      <td>0.209975</td>\n",
       "      <td>-0.473674</td>\n",
       "      <td>-1.308796</td>\n",
       "      <td>...</td>\n",
       "      <td>-0.048514</td>\n",
       "      <td>-0.669222</td>\n",
       "      <td>-0.019444</td>\n",
       "      <td>0.737120</td>\n",
       "      <td>0.273423</td>\n",
       "      <td>-0.575610</td>\n",
       "      <td>-0.045093</td>\n",
       "      <td>0.054790</td>\n",
       "      <td>0.486369</td>\n",
       "      <td>-1.159741</td>\n",
       "    </tr>\n",
       "    <tr>\n",
       "      <th>181385</th>\n",
       "      <td>0</td>\n",
       "      <td>1.948513</td>\n",
       "      <td>-0.386794</td>\n",
       "      <td>-0.444022</td>\n",
       "      <td>0.107875</td>\n",
       "      <td>-0.366289</td>\n",
       "      <td>0.006225</td>\n",
       "      <td>-0.578990</td>\n",
       "      <td>0.130725</td>\n",
       "      <td>0.696315</td>\n",
       "      <td>...</td>\n",
       "      <td>-0.201149</td>\n",
       "      <td>-0.542563</td>\n",
       "      <td>0.465788</td>\n",
       "      <td>0.701468</td>\n",
       "      <td>-0.668046</td>\n",
       "      <td>0.180440</td>\n",
       "      <td>-0.043878</td>\n",
       "      <td>-0.044987</td>\n",
       "      <td>-0.293658</td>\n",
       "      <td>0.634689</td>\n",
       "    </tr>\n",
       "    <tr>\n",
       "      <th>86154</th>\n",
       "      <td>0</td>\n",
       "      <td>0.064856</td>\n",
       "      <td>-0.436342</td>\n",
       "      <td>1.226060</td>\n",
       "      <td>-2.374763</td>\n",
       "      <td>-0.450284</td>\n",
       "      <td>0.735533</td>\n",
       "      <td>-0.728579</td>\n",
       "      <td>0.218193</td>\n",
       "      <td>-2.434619</td>\n",
       "      <td>...</td>\n",
       "      <td>0.096653</td>\n",
       "      <td>0.752418</td>\n",
       "      <td>-0.151940</td>\n",
       "      <td>-1.134948</td>\n",
       "      <td>-0.680870</td>\n",
       "      <td>-0.172798</td>\n",
       "      <td>0.244767</td>\n",
       "      <td>0.168402</td>\n",
       "      <td>-0.329241</td>\n",
       "      <td>-0.709775</td>\n",
       "    </tr>\n",
       "    <tr>\n",
       "      <th>...</th>\n",
       "      <td>...</td>\n",
       "      <td>...</td>\n",
       "      <td>...</td>\n",
       "      <td>...</td>\n",
       "      <td>...</td>\n",
       "      <td>...</td>\n",
       "      <td>...</td>\n",
       "      <td>...</td>\n",
       "      <td>...</td>\n",
       "      <td>...</td>\n",
       "      <td>...</td>\n",
       "      <td>...</td>\n",
       "      <td>...</td>\n",
       "      <td>...</td>\n",
       "      <td>...</td>\n",
       "      <td>...</td>\n",
       "      <td>...</td>\n",
       "      <td>...</td>\n",
       "      <td>...</td>\n",
       "      <td>...</td>\n",
       "      <td>...</td>\n",
       "    </tr>\n",
       "    <tr>\n",
       "      <th>167482</th>\n",
       "      <td>0</td>\n",
       "      <td>1.738590</td>\n",
       "      <td>0.174494</td>\n",
       "      <td>-0.882204</td>\n",
       "      <td>3.546068</td>\n",
       "      <td>1.146756</td>\n",
       "      <td>2.000623</td>\n",
       "      <td>-0.191520</td>\n",
       "      <td>0.497235</td>\n",
       "      <td>-0.844183</td>\n",
       "      <td>...</td>\n",
       "      <td>0.179829</td>\n",
       "      <td>0.716919</td>\n",
       "      <td>0.055933</td>\n",
       "      <td>-1.637093</td>\n",
       "      <td>-0.040096</td>\n",
       "      <td>0.207132</td>\n",
       "      <td>0.013466</td>\n",
       "      <td>-0.074028</td>\n",
       "      <td>-0.232047</td>\n",
       "      <td>0.503329</td>\n",
       "    </tr>\n",
       "    <tr>\n",
       "      <th>706</th>\n",
       "      <td>0</td>\n",
       "      <td>-1.233535</td>\n",
       "      <td>0.145320</td>\n",
       "      <td>-0.067227</td>\n",
       "      <td>-1.750577</td>\n",
       "      <td>-0.801069</td>\n",
       "      <td>-0.381652</td>\n",
       "      <td>1.561095</td>\n",
       "      <td>0.320172</td>\n",
       "      <td>0.231379</td>\n",
       "      <td>...</td>\n",
       "      <td>0.395250</td>\n",
       "      <td>0.868590</td>\n",
       "      <td>0.554972</td>\n",
       "      <td>0.243594</td>\n",
       "      <td>-0.034702</td>\n",
       "      <td>-0.829909</td>\n",
       "      <td>0.234285</td>\n",
       "      <td>0.190521</td>\n",
       "      <td>0.811653</td>\n",
       "      <td>-1.985359</td>\n",
       "    </tr>\n",
       "    <tr>\n",
       "      <th>76698</th>\n",
       "      <td>0</td>\n",
       "      <td>0.878507</td>\n",
       "      <td>-1.163040</td>\n",
       "      <td>0.815681</td>\n",
       "      <td>0.786529</td>\n",
       "      <td>-1.553852</td>\n",
       "      <td>-0.097477</td>\n",
       "      <td>-0.687692</td>\n",
       "      <td>0.133954</td>\n",
       "      <td>-0.222952</td>\n",
       "      <td>...</td>\n",
       "      <td>-0.104293</td>\n",
       "      <td>-0.121411</td>\n",
       "      <td>-0.120783</td>\n",
       "      <td>0.353246</td>\n",
       "      <td>0.282777</td>\n",
       "      <td>-0.226662</td>\n",
       "      <td>0.049160</td>\n",
       "      <td>0.061943</td>\n",
       "      <td>0.406407</td>\n",
       "      <td>-0.802557</td>\n",
       "    </tr>\n",
       "    <tr>\n",
       "      <th>110194</th>\n",
       "      <td>0</td>\n",
       "      <td>1.216254</td>\n",
       "      <td>0.456458</td>\n",
       "      <td>0.009609</td>\n",
       "      <td>1.163911</td>\n",
       "      <td>-0.024944</td>\n",
       "      <td>-0.972362</td>\n",
       "      <td>0.432468</td>\n",
       "      <td>-0.197390</td>\n",
       "      <td>-0.562800</td>\n",
       "      <td>...</td>\n",
       "      <td>0.062891</td>\n",
       "      <td>0.181211</td>\n",
       "      <td>-0.125627</td>\n",
       "      <td>0.532870</td>\n",
       "      <td>0.776572</td>\n",
       "      <td>-0.308872</td>\n",
       "      <td>-0.015043</td>\n",
       "      <td>0.001995</td>\n",
       "      <td>-0.349231</td>\n",
       "      <td>-0.486351</td>\n",
       "    </tr>\n",
       "    <tr>\n",
       "      <th>252217</th>\n",
       "      <td>0</td>\n",
       "      <td>2.093235</td>\n",
       "      <td>-1.295165</td>\n",
       "      <td>-0.131777</td>\n",
       "      <td>-1.261859</td>\n",
       "      <td>-1.040436</td>\n",
       "      <td>0.958532</td>\n",
       "      <td>-1.704214</td>\n",
       "      <td>0.313313</td>\n",
       "      <td>0.213996</td>\n",
       "      <td>...</td>\n",
       "      <td>-0.163087</td>\n",
       "      <td>0.152179</td>\n",
       "      <td>0.254193</td>\n",
       "      <td>-0.132545</td>\n",
       "      <td>-0.684336</td>\n",
       "      <td>1.248337</td>\n",
       "      <td>-0.018282</td>\n",
       "      <td>-0.047005</td>\n",
       "      <td>-0.264512</td>\n",
       "      <td>1.282178</td>\n",
       "    </tr>\n",
       "  </tbody>\n",
       "</table>\n",
       "<p>284807 rows × 31 columns</p>\n",
       "</div>"
      ],
      "text/plain": [
       "        Class        V1        V2        V3        V4        V5        V6  \\\n",
       "125412      0  1.099826 -0.264847  1.199766  0.831456 -0.920832  0.167996   \n",
       "267989      0 -0.564243  0.827388  2.147838 -0.383031 -0.040034 -0.285873   \n",
       "39205       0  1.025790 -0.821191  0.048748 -0.449214 -1.013409 -1.390927   \n",
       "181385      0  1.948513 -0.386794 -0.444022  0.107875 -0.366289  0.006225   \n",
       "86154       0  0.064856 -0.436342  1.226060 -2.374763 -0.450284  0.735533   \n",
       "...       ...       ...       ...       ...       ...       ...       ...   \n",
       "167482      0  1.738590  0.174494 -0.882204  3.546068  1.146756  2.000623   \n",
       "706         0 -1.233535  0.145320 -0.067227 -1.750577 -0.801069 -0.381652   \n",
       "76698       0  0.878507 -1.163040  0.815681  0.786529 -1.553852 -0.097477   \n",
       "110194      0  1.216254  0.456458  0.009609  1.163911 -0.024944 -0.972362   \n",
       "252217      0  2.093235 -1.295165 -0.131777 -1.261859 -1.040436  0.958532   \n",
       "\n",
       "              V7        V8        V9  ...       V21       V22       V23  \\\n",
       "125412 -0.669222  0.199827  0.911298  ... -0.050938  0.042266  0.042075   \n",
       "267989  0.590652 -0.079370  0.466774  ... -0.220626 -0.316023 -0.316506   \n",
       "39205   0.209975 -0.473674 -1.308796  ... -0.048514 -0.669222 -0.019444   \n",
       "181385 -0.578990  0.130725  0.696315  ... -0.201149 -0.542563  0.465788   \n",
       "86154  -0.728579  0.218193 -2.434619  ...  0.096653  0.752418 -0.151940   \n",
       "...          ...       ...       ...  ...       ...       ...       ...   \n",
       "167482 -0.191520  0.497235 -0.844183  ...  0.179829  0.716919  0.055933   \n",
       "706     1.561095  0.320172  0.231379  ...  0.395250  0.868590  0.554972   \n",
       "76698  -0.687692  0.133954 -0.222952  ... -0.104293 -0.121411 -0.120783   \n",
       "110194  0.432468 -0.197390 -0.562800  ...  0.062891  0.181211 -0.125627   \n",
       "252217 -1.704214  0.313313  0.213996  ... -0.163087  0.152179  0.254193   \n",
       "\n",
       "             V24       V25       V26       V27       V28  scaled_amount  \\\n",
       "125412  0.113391  0.176915  0.344247  0.030302  0.027449      -0.238284   \n",
       "267989 -0.149637  0.317560 -0.661543  0.191063 -0.081844      -0.349231   \n",
       "39205   0.737120  0.273423 -0.575610 -0.045093  0.054790       0.486369   \n",
       "181385  0.701468 -0.668046  0.180440 -0.043878 -0.044987      -0.293658   \n",
       "86154  -1.134948 -0.680870 -0.172798  0.244767  0.168402      -0.329241   \n",
       "...          ...       ...       ...       ...       ...            ...   \n",
       "167482 -1.637093 -0.040096  0.207132  0.013466 -0.074028      -0.232047   \n",
       "706     0.243594 -0.034702 -0.829909  0.234285  0.190521       0.811653   \n",
       "76698   0.353246  0.282777 -0.226662  0.049160  0.061943       0.406407   \n",
       "110194  0.532870  0.776572 -0.308872 -0.015043  0.001995      -0.349231   \n",
       "252217 -0.132545 -0.684336  1.248337 -0.018282 -0.047005      -0.264512   \n",
       "\n",
       "        scaled_time  \n",
       "125412    -0.361183  \n",
       "267989     1.436238  \n",
       "39205     -1.159741  \n",
       "181385     0.634689  \n",
       "86154     -0.709775  \n",
       "...             ...  \n",
       "167482     0.503329  \n",
       "706       -1.985359  \n",
       "76698     -0.802557  \n",
       "110194    -0.486351  \n",
       "252217     1.282178  \n",
       "\n",
       "[284807 rows x 31 columns]"
      ]
     },
     "execution_count": 40,
     "metadata": {},
     "output_type": "execute_result"
    }
   ],
   "source": [
    "df"
   ]
  },
  {
   "cell_type": "code",
   "execution_count": 41,
   "metadata": {},
   "outputs": [],
   "source": [
    "X = df.drop('Class', axis=1)\n",
    "y = df['Class']"
   ]
  },
  {
   "cell_type": "code",
   "execution_count": 42,
   "metadata": {},
   "outputs": [
    {
     "data": {
      "text/plain": [
       "0    284315\n",
       "1       492\n",
       "Name: Class, dtype: int64"
      ]
     },
     "execution_count": 42,
     "metadata": {},
     "output_type": "execute_result"
    }
   ],
   "source": [
    "y.value_counts()"
   ]
  },
  {
   "cell_type": "code",
   "execution_count": 43,
   "metadata": {},
   "outputs": [],
   "source": [
    "#Test train split standard 80 / 20\n",
    "og_Xtrain, og_Xtest, og_ytrain, og_ytest = train_test_split(X, y, \n",
    "                                                    test_size=0.2, random_state=11)"
   ]
  },
  {
   "cell_type": "code",
   "execution_count": null,
   "metadata": {},
   "outputs": [],
   "source": []
  },
  {
   "cell_type": "markdown",
   "metadata": {},
   "source": [
    "## move this to helper function file"
   ]
  },
  {
   "cell_type": "code",
   "execution_count": 44,
   "metadata": {},
   "outputs": [],
   "source": [
    "def plot_confusion_matrix(cm, title, classes=['1', '0'],\n",
    "                          cmap=plt.cm.Greens, save=False, saveas=\"MyFigure.png\"):\n",
    "    \n",
    "    # print Confusion matrix with blue gradient colours\n",
    "    \n",
    "    cm = cm.astype('float') / cm.sum(axis=1)[:, np.newaxis]\n",
    "    \n",
    "    plt.imshow(cm, interpolation='nearest', cmap=cmap)\n",
    "    plt.title(title)\n",
    "    plt.colorbar()\n",
    "    tick_marks = np.arange(len(classes))\n",
    "    plt.xticks(tick_marks, classes, rotation=90)\n",
    "    plt.yticks(tick_marks, classes)\n",
    "\n",
    "    fmt = '.1%'\n",
    "    thresh = cm.max() / 2.\n",
    "    for i, j in itertools.product(range(cm.shape[0]), range(cm.shape[1])):\n",
    "        plt.text(j, i, format(cm[i, j], fmt),\n",
    "                 horizontalalignment=\"center\",\n",
    "                 color=\"white\" if cm[i, j] > thresh else \"black\")\n",
    "\n",
    "    plt.tight_layout()\n",
    "    plt.ylabel('True label')\n",
    "    plt.xlabel('Predicted label')\n",
    "    \n",
    "    if save:\n",
    "        plt.savefig(saveas, dpi=100)"
   ]
  },
  {
   "cell_type": "code",
   "execution_count": 45,
   "metadata": {},
   "outputs": [
    {
     "name": "stderr",
     "output_type": "stream",
     "text": [
      "/Users/jessicapmouras/opt/anaconda3/lib/python3.7/site-packages/scipy/stats/stats.py:1713: FutureWarning: Using a non-tuple sequence for multidimensional indexing is deprecated; use `arr[tuple(seq)]` instead of `arr[seq]`. In the future this will be interpreted as an array index, `arr[np.array(seq)]`, which will result either in an error or a different result.\n",
      "  return np.add.reduce(sorted[indexer] * weights, axis=axis) / sumval\n"
     ]
    },
    {
     "name": "stdout",
     "output_type": "stream",
     "text": [
      "0:00:40.601146\n"
     ]
    }
   ],
   "source": [
    "# Fit and train Isolation Forest on training data\n",
    "# this is pretty standard parameters\n",
    "clfIF = IsolationForest(max_samples=0.25, random_state=11, contamination=0.05, n_estimators=100, n_jobs=-1)\n",
    "\n",
    "start = datetime.datetime.now()\n",
    "clfIF.fit(og_Xtrain,og_ytrain)\n",
    "y_pred_train = clfIF.predict(og_Xtrain)\n",
    "end = datetime.datetime.now()\n",
    "print (end-start)\n",
    "\n",
    "#fix the target class coing such that classification report works\n",
    "y_pred_train[y_pred_train==1] = 0\n",
    "y_pred_train[y_pred_train==-1] = 1"
   ]
  },
  {
   "cell_type": "code",
   "execution_count": 46,
   "metadata": {},
   "outputs": [
    {
     "name": "stdout",
     "output_type": "stream",
     "text": [
      "             precision    recall  f1-score   support\n",
      "\n",
      "          0       1.00      0.95      0.97    227452\n",
      "          1       0.03      0.86      0.06       393\n",
      "\n",
      "avg / total       1.00      0.95      0.97    227845\n",
      "\n",
      "AUC:  90.4%\n"
     ]
    },
    {
     "data": {
      "image/png": "[encoded data removed]",
      "text/plain": [
       "<Figure size 432x288 with 2 Axes>"
      ]
     },
     "metadata": {
      "needs_background": "light"
     },
     "output_type": "display_data"
    }
   ],
   "source": [
    "\n",
    "print(classification_report(og_ytrain, y_pred_train))\n",
    "print (\"AUC: \", \"{:.1%}\".format(roc_auc_score(og_ytrain, y_pred_train)))\n",
    "cm = confusion_matrix(og_ytrain, y_pred_train)\n",
    "plot_confusion_matrix(cm, title=\"IF Confusion Matrix - SA\", save=False, saveas=\"IF_SA.png\")"
   ]
  },
  {
   "cell_type": "code",
   "execution_count": 47,
   "metadata": {},
   "outputs": [
    {
     "name": "stdout",
     "output_type": "stream",
     "text": [
      "0:00:41.145380\n"
     ]
    }
   ],
   "source": [
    "# this is now with lower contamination rate\n",
    "clfIF = IsolationForest(max_samples=0.25, random_state=11, contamination=0.02, n_estimators=100, n_jobs=-1)\n",
    "\n",
    "start = datetime.datetime.now()\n",
    "clfIF.fit(og_Xtrain,og_ytrain)\n",
    "y_pred_train = clfIF.predict(og_Xtrain)\n",
    "end = datetime.datetime.now()\n",
    "print (end-start)\n",
    "\n",
    "#fix the target class coing such that classification report works\n",
    "y_pred_train[y_pred_train==1] = 0\n",
    "y_pred_train[y_pred_train==-1] = 1"
   ]
  },
  {
   "cell_type": "code",
   "execution_count": 48,
   "metadata": {},
   "outputs": [
    {
     "name": "stdout",
     "output_type": "stream",
     "text": [
      "             precision    recall  f1-score   support\n",
      "\n",
      "          0       1.00      0.98      0.99    227452\n",
      "          1       0.07      0.82      0.13       393\n",
      "\n",
      "avg / total       1.00      0.98      0.99    227845\n",
      "\n",
      "AUC:  89.9%\n"
     ]
    },
    {
     "data": {
      "image/png": "[encoded data removed]",
      "text/plain": [
       "<Figure size 432x288 with 2 Axes>"
      ]
     },
     "metadata": {
      "needs_background": "light"
     },
     "output_type": "display_data"
    }
   ],
   "source": [
    "print(classification_report(og_ytrain, y_pred_train))\n",
    "print (\"AUC: \", \"{:.1%}\".format(roc_auc_score(og_ytrain, y_pred_train)))\n",
    "cm = confusion_matrix(og_ytrain, y_pred_train)\n",
    "plot_confusion_matrix(cm, title=\"IF Confusion Matrix - SA\", save=False, saveas=\"IF_SA.png\")"
   ]
  },
  {
   "cell_type": "code",
   "execution_count": 49,
   "metadata": {},
   "outputs": [
    {
     "data": {
      "text/plain": [
       "array([[     0, 227452],\n",
       "       [     1,    393]])"
      ]
     },
     "execution_count": 49,
     "metadata": {},
     "output_type": "execute_result"
    }
   ],
   "source": [
    "(unique, counts) = np.unique(og_ytrain, return_counts=True)\n",
    "frequencies = np.asarray((unique, counts)).T\n",
    "frequencies "
   ]
  },
  {
   "cell_type": "code",
   "execution_count": 50,
   "metadata": {},
   "outputs": [],
   "source": [
    "scoring = {'AUC': 'roc_auc', 'Recall': make_scorer(recall_score, pos_label=1)}"
   ]
  },
  {
   "cell_type": "code",
   "execution_count": 51,
   "metadata": {},
   "outputs": [],
   "source": [
    "\n",
    "## REVIST THIS TO SEE IF IT WORKS at 4:30pm\n",
    "# gs_con = GridSearchCV(IsolationForest(random_state=11, max_samples=0.10, n_estimators=150, n_jobs=-1),\n",
    "#                   param_grid={'contamination': np.arange(0.01, 0.25, 0.05)},\n",
    "#                   scoring=scoring, refit='Recall')\n",
    "# gs_con.fit(og_Xtrain, og_ytrain)\n",
    "# results = gs_con.cv_results_"
   ]
  },
  {
   "cell_type": "code",
   "execution_count": null,
   "metadata": {},
   "outputs": [],
   "source": []
  },
  {
   "cell_type": "code",
   "execution_count": null,
   "metadata": {},
   "outputs": [],
   "source": [
    "\n"
   ]
  },
  {
   "cell_type": "code",
   "execution_count": null,
   "metadata": {},
   "outputs": [],
   "source": [
    "\n"
   ]
  },
  {
   "cell_type": "markdown",
   "metadata": {},
   "source": [
    "# SMOTE analysis - Logistic Regression for depiction only"
   ]
  },
  {
   "cell_type": "code",
   "execution_count": 52,
   "metadata": {},
   "outputs": [],
   "source": [
    "X_smote = df.drop('Class', axis=1).values\n",
    "y_smote = df['Class'].values"
   ]
  },
  {
   "cell_type": "code",
   "execution_count": 53,
   "metadata": {
    "scrolled": true
   },
   "outputs": [],
   "source": [
    "# What the model does when we don't fix the imbalance\n",
    "# Model appears to be 'really high scoring'\n",
    "# But we know that because it just predicting the majority class\n",
    "\n",
    "\n",
    "# from numpy import mean\n",
    "# # define model\n",
    "# model = LogisticRegression()\n",
    "# # evaluate pipeline\n",
    "# cross_val = StratifiedKFold(n_splits=5, random_state=1)\n",
    "# scores = cross_val_score(model, X_smote, y_smote, scoring='accuracy', cv=cross_val, n_jobs=-1)\n",
    "# print('Mean Accuracy: %.3f' % mean(scores))"
   ]
  },
  {
   "cell_type": "code",
   "execution_count": null,
   "metadata": {},
   "outputs": [],
   "source": []
  },
  {
   "cell_type": "code",
   "execution_count": null,
   "metadata": {},
   "outputs": [],
   "source": []
  },
  {
   "cell_type": "code",
   "execution_count": 54,
   "metadata": {},
   "outputs": [
    {
     "name": "stderr",
     "output_type": "stream",
     "text": [
      "/Users/jessicapmouras/opt/anaconda3/lib/python3.7/site-packages/sklearn/feature_extraction/text.py:17: DeprecationWarning: Using or importing the ABCs from 'collections' instead of from 'collections.abc' is deprecated, and in 3.8 it will stop working\n",
      "  from collections import Mapping, defaultdict\n"
     ]
    },
    {
     "ename": "NameError",
     "evalue": "name 'mean' is not defined",
     "output_type": "error",
     "traceback": [
      "\u001b[0;31m---------------------------------------------------------------------------\u001b[0m",
      "\u001b[0;31mNameError\u001b[0m                                 Traceback (most recent call last)",
      "\u001b[0;32m<ipython-input-54-fca1a5368b1f>\u001b[0m in \u001b[0;36m<module>\u001b[0;34m\u001b[0m\n\u001b[1;32m     14\u001b[0m \u001b[0mcross_val\u001b[0m \u001b[0;34m=\u001b[0m \u001b[0mRepeatedStratifiedKFold\u001b[0m\u001b[0;34m(\u001b[0m\u001b[0mn_splits\u001b[0m\u001b[0;34m=\u001b[0m\u001b[0;36m5\u001b[0m\u001b[0;34m,\u001b[0m \u001b[0mn_repeats\u001b[0m\u001b[0;34m=\u001b[0m\u001b[0;36m2\u001b[0m\u001b[0;34m,\u001b[0m \u001b[0mrandom_state\u001b[0m\u001b[0;34m=\u001b[0m\u001b[0;36m1\u001b[0m\u001b[0;34m)\u001b[0m\u001b[0;34m\u001b[0m\u001b[0;34m\u001b[0m\u001b[0m\n\u001b[1;32m     15\u001b[0m \u001b[0mscores\u001b[0m \u001b[0;34m=\u001b[0m \u001b[0mcross_val_score\u001b[0m\u001b[0;34m(\u001b[0m\u001b[0mpipeline\u001b[0m\u001b[0;34m,\u001b[0m \u001b[0mX_smote\u001b[0m\u001b[0;34m,\u001b[0m \u001b[0my_smote\u001b[0m\u001b[0;34m,\u001b[0m \u001b[0mscoring\u001b[0m\u001b[0;34m=\u001b[0m\u001b[0;34m'roc_auc'\u001b[0m\u001b[0;34m,\u001b[0m \u001b[0mcv\u001b[0m\u001b[0;34m=\u001b[0m\u001b[0mcross_val\u001b[0m\u001b[0;34m,\u001b[0m \u001b[0mn_jobs\u001b[0m\u001b[0;34m=\u001b[0m\u001b[0;34m-\u001b[0m\u001b[0;36m1\u001b[0m\u001b[0;34m)\u001b[0m\u001b[0;34m\u001b[0m\u001b[0;34m\u001b[0m\u001b[0m\n\u001b[0;32m---> 16\u001b[0;31m \u001b[0mprint\u001b[0m\u001b[0;34m(\u001b[0m\u001b[0;34m'Mean Accuracy: %.3f'\u001b[0m \u001b[0;34m%\u001b[0m \u001b[0mmean\u001b[0m\u001b[0;34m(\u001b[0m\u001b[0mscores\u001b[0m\u001b[0;34m)\u001b[0m\u001b[0;34m)\u001b[0m\u001b[0;34m\u001b[0m\u001b[0;34m\u001b[0m\u001b[0m\n\u001b[0m",
      "\u001b[0;31mNameError\u001b[0m: name 'mean' is not defined"
     ]
    }
   ],
   "source": [
    "\n",
    "# Oversample with SMOTE - ROC AUC Logistic Regression\n",
    "from collections import Counter\n",
    "from sklearn.datasets import make_classification\n",
    "from sklearn.model_selection import cross_val_score\n",
    "from sklearn.model_selection import RepeatedStratifiedKFold\n",
    "from imblearn.pipeline import Pipeline\n",
    "from imblearn.over_sampling import SMOTE\n",
    "\n",
    "\n",
    "# define pipeline\n",
    "steps = [('over', SMOTE()), ('model', LogisticRegression())]\n",
    "pipeline = Pipeline(steps=steps)\n",
    "# evaluate pipeline\n",
    "cross_val = RepeatedStratifiedKFold(n_splits=5, n_repeats=2, random_state=1)\n",
    "scores = cross_val_score(pipeline, X_smote, y_smote, scoring='roc_auc', cv=cross_val, n_jobs=-1)\n",
    "print('Mean Accuracy: %.3f' % mean(scores))"
   ]
  },
  {
   "cell_type": "code",
   "execution_count": null,
   "metadata": {},
   "outputs": [],
   "source": [
    "\n",
    "# Oversample with SMOTE - Accuracy Logistic Regression\n",
    "# from collections import Counter\n",
    "# from sklearn.datasets import make_classification\n",
    "# from sklearn.model_selection import cross_val_score\n",
    "# from sklearn.model_selection import RepeatedStratifiedKFold\n",
    "# from imblearn.pipeline import Pipeline\n",
    "# from imblearn.over_sampling import SMOTE\n",
    "\n",
    "# # define dataset\n",
    "# X_trainog, y_trainog = make_classification(n_samples=284807, n_features=2, n_redundant=0,\n",
    "#                            n_clusters_per_class=1, weights=[0.99], flip_y=0, random_state=1)\n",
    "# # define pipeline\n",
    "# steps = [('over', SMOTE()), ('model', LogisticRegression())]\n",
    "# pipeline = Pipeline(steps=steps)\n",
    "# # evaluate pipeline\n",
    "# cross_val = RepeatedStratifiedKFold(n_splits=5, n_repeats=2, random_state=1)\n",
    "# scores = cross_val_score(pipeline, X_trainog, y_trainog, scoring='accuracy', cv=cross_val, n_jobs=-1)\n",
    "# print('Mean Accuracy: %.3f' % mean(scores))"
   ]
  },
  {
   "cell_type": "code",
   "execution_count": null,
   "metadata": {},
   "outputs": [],
   "source": [
    "# # Oversample with SMOTE - Accuracy Logistic Regression\n",
    "# from collections import Counter\n",
    "# from sklearn.datasets import make_classification\n",
    "# from sklearn.model_selection import cross_val_score\n",
    "# from sklearn.model_selection import RepeatedStratifiedKFold\n",
    "# from imblearn.pipeline import Pipeline\n",
    "# from imblearn.over_sampling import SMOTE\n",
    "\n",
    "# # define dataset\n",
    "# X_trainog, y_trainog = make_classification(n_samples=284807, n_features=2, n_redundant=0,\n",
    "#                            n_clusters_per_class=1, weights=[0.99], flip_y=0, random_state=1)\n",
    "# # define pipeline\n",
    "# steps = [('over', SMOTE()), ('model', LogisticRegression())]\n",
    "# pipeline = Pipeline(steps=steps)\n",
    "# # evaluate pipeline\n",
    "# cross_val = RepeatedStratifiedKFold(n_splits=5, n_repeats=2, random_state=1)\n",
    "# scores = cross_val_score(pipeline, X_trainog, y_trainog, scoring='precision', cv=cross_val, n_jobs=-1)\n",
    "# print('Mean Precision: %.3f' % mean(scores))"
   ]
  },
  {
   "cell_type": "code",
   "execution_count": null,
   "metadata": {},
   "outputs": [],
   "source": [
    "# # Oversample with SMOTE - Accuracy Logistic Regression\n",
    "# from collections import Counter\n",
    "# from sklearn.datasets import make_classification\n",
    "# from sklearn.model_selection import cross_val_score\n",
    "# from sklearn.model_selection import RepeatedStratifiedKFold\n",
    "# from imblearn.pipeline import Pipeline\n",
    "# from imblearn.over_sampling import SMOTE\n",
    "\n",
    "# # define dataset\n",
    "# X_trainog, y_trainog = make_classification(n_samples=284807, n_features=2, n_redundant=0,\n",
    "#                            n_clusters_per_class=1, weights=[0.99], flip_y=0, random_state=1)\n",
    "# # define pipeline\n",
    "# steps = [('over', SMOTE()), ('model', LogisticRegression())]\n",
    "# pipeline = Pipeline(steps=steps)\n",
    "# # evaluate pipeline\n",
    "# cross_val = RepeatedStratifiedKFold(n_splits=5, n_repeats=2, random_state=1)\n",
    "# scores = cross_val_score(pipeline, X_trainog, y_trainog, scoring='recall', cv=cross_val, n_jobs=-1)\n",
    "# print('Mean Recall: %.3f' % mean(scores))"
   ]
  },
  {
   "cell_type": "markdown",
   "metadata": {},
   "source": [
    "## NEED TO FIX THIS SECTION WHY IS IT NOT WORKING"
   ]
  },
  {
   "cell_type": "code",
   "execution_count": null,
   "metadata": {},
   "outputs": [],
   "source": [
    "\n",
    "# grid search k value for SMOTE oversampling for imbalanced classification\n",
    "\n",
    "# from numpy import mean\n",
    "# from sklearn.datasets import make_classification\n",
    "# from sklearn.model_selection import cross_val_score\n",
    "# from sklearn.model_selection import RepeatedStratifiedKFold\n",
    "# from sklearn.tree import DecisionTreeClassifier\n",
    "# from imblearn.pipeline import Pipeline\n",
    "# from imblearn.over_sampling import SMOTE\n",
    "\n",
    "# # define dataset\n",
    "# X_trainog, y_trainog = make_classification(n_samples=10000, n_features=2, n_redundant=0,\n",
    "#                                            n_clusters_per_class=1, weights=[0.99], flip_y=0, random_state=1)\n",
    "# # values to evaluate\n",
    "# k_values = [1]\n",
    "# for k in k_values:\n",
    "# # define pipeline\n",
    "#     model = LogisticRegression()\n",
    "#     over = SMOTE(k_neighbors=k)\n",
    "#     steps = [('over', over), ('model', model)]\n",
    "#     pipeline = Pipeline(steps=steps)\n",
    "#     # evaluate pipeline\n",
    "#     cv = StratifiedKFold(n_splits=10, random_state=1)\n",
    "#     scores = cross_val_score(pipeline,X_trainog, y_trainog, scoring='roc_auc', cv=cv, n_jobs=-1)\n",
    "#     score = mean(scores)\n",
    "#     print('> k=%d, Mean ROC AUC: %.3f' % (k, score))"
   ]
  }
 ],
 "metadata": {
  "kernelspec": {
   "display_name": "Python 3",
   "language": "python",
   "name": "python3"
  },
  "language_info": {
   "codemirror_mode": {
    "name": "ipython",
    "version": 3
   },
   "file_extension": ".py",
   "mimetype": "text/x-python",
   "name": "python",
   "nbconvert_exporter": "python",
   "pygments_lexer": "ipython3",
   "version": "3.7.4"
  },
  "toc": {
   "base_numbering": 1,
   "nav_menu": {},
   "number_sections": false,
   "sideBar": true,
   "skip_h1_title": false,
   "title_cell": "Table of Contents",
   "title_sidebar": "Contents",
   "toc_cell": false,
   "toc_position": {
    "height": "calc(100% - 180px)",
    "left": "10px",
    "top": "150px",
    "width": "304.594px"
   },
   "toc_section_display": true,
   "toc_window_display": true
  }
 },
 "nbformat": 4,
 "nbformat_minor": 4
}
